{
 "cells": [
  {
   "cell_type": "markdown",
   "metadata": {},
   "source": [
    "## Code generation"
   ]
  },
  {
   "cell_type": "code",
   "execution_count": 1,
   "metadata": {},
   "outputs": [],
   "source": [
    "# import sys\n",
    "# !{sys.executable} -m pip install --upgrade pip\n",
    "# !{sys.executable} -m pip install sympy\n",
    "# !{sys.executable} -m pip install scipy\n",
    "# !{sys.executable} -m pip install matplotlib"
   ]
  },
  {
   "cell_type": "code",
   "execution_count": 2,
   "metadata": {},
   "outputs": [],
   "source": [
    "# Remove matplotlib deprecation warnings\n",
    "import warnings\n",
    "warnings.filterwarnings(\"ignore\", category=UserWarning)"
   ]
  },
  {
   "cell_type": "code",
   "execution_count": 3,
   "metadata": {},
   "outputs": [],
   "source": [
    "# initialize sympy printing (for latex output)\n",
    "from sympy import init_printing, Symbol\n",
    "init_printing()\n",
    "\n",
    "# import functions and classes for compartment models\n",
    "import sys\n",
    "sys.path.insert(0, \"./compartor\") #use local copy\n",
    "from compartor import *"
   ]
  },
  {
   "cell_type": "markdown",
   "metadata": {},
   "source": [
    "Here, we illustrate how to export the moment equations in LaTeX format or generate code for simulations.\n",
    "\n",
    "We consider again the exemplary model of the paper and derive moments equations with the automated function."
   ]
  },
  {
   "cell_type": "code",
   "execution_count": 13,
   "metadata": {},
   "outputs": [
    {
     "data": {
      "text/latex": [
       "$\\displaystyle \\begin{align} \\emptyset&\\overset{h_{I}}{\\longrightarrow}\\left[y\\right] && h_{I} = \\pi_{Poiss}(y; \\lambda) k_{I}\\\\\\left[x\\right]&\\overset{h_{E}}{\\longrightarrow}\\emptyset && h_{E} = k_{E} n{\\left(x \\right)}\\\\\\left[x\\right] + \\left[y\\right]&\\overset{h_{C}}{\\longrightarrow}\\left[x + y\\right] && h_{C} = \\frac{k_{C} \\left(n{\\left(y \\right)} - \\delta_{x y}\\right) n{\\left(x \\right)}}{\\delta_{x y} + 1}\\\\\\left[x\\right]&\\overset{h_{F}}{\\longrightarrow}\\left[x - y\\right] + \\left[y\\right] && h_{F} = \\frac{\\pi_{F(y|x)} k_{F} \\left({x}_{0} - 1\\right) n{\\left(x \\right)} {x}_{0}}{2}\\\\\\left[x\\right]&\\overset{h_{b}}{\\longrightarrow}\\left[\\left( 1,\\right) + x\\right] && h_{b} = k_{b} n{\\left(x \\right)}\\\\\\left[x\\right]&\\overset{h_{d}}{\\longrightarrow}\\left[\\left( -1,\\right) + x\\right] && h_{d} = k_{d} n{\\left(x \\right)} {x}_{0} \\end{align}$"
      ],
      "text/plain": [
       "                     EmptySet ---> [y],  h_I = \\pi_{Poiss}(y; \\lambda)*k_I    \n",
       "                               [x] ---> EmptySet,  h_E = k_E*n(x)             \n",
       "[x] + [y] ---> [x + y],  h_C = k_C*(n(y) - KroneckerDelta(x, y))*n(x)/(Kroneck\n",
       "              [x] ---> [x - y] + [y],  h_F = \\pi_F(y|x)*k_F*(x[0] - 1)*n(x)*x[\n",
       "                              [x] ---> [(1,) + x],  h_b = k_b*n(x)            \n",
       "                           [x] ---> [(-1,) + x],  h_d = k_d*n(x)*x[0]         \n",
       "\n",
       "                  \n",
       "                  \n",
       "erDelta(x, y) + 1)\n",
       "0]/2              \n",
       "                  \n",
       "                  "
      ]
     },
     "metadata": {},
     "output_type": "display_data"
    }
   ],
   "source": [
    "x = Content('x')\n",
    "y = Content('y')\n",
    "z = Content('z')\n",
    "\n",
    "from sympy import symbols, log, exp, sin, cos, tan\n",
    "kM,h = symbols('kM h') # The Michaelis-Menten constant and hill exponent\n",
    "\n",
    "# define intake distribution\n",
    "pi_I = OutcomeDistribution.Poisson(Symbol(\"\\pi_{Poiss}(y; \\lambda)\"), y[0], Symbol(\"\\lambda\"))\n",
    "# define fragmentation distribution\n",
    "pi_F = OutcomeDistribution.Uniform(Symbol(\"\\pi_F(y|x)\"), y[0], 0, x[0])\n",
    "\n",
    "Birth         = TransitionClass( [x]       -to> [x+1],       'k_b',                  name='b')\n",
    "\n",
    "Death         = TransitionClass( [x]       -to> [x-1],       'k_d', g=x[0],    name='d')\n",
    "# Death         = TransitionClass( [x]       -to> [x-2],       'k_d', g=x[0]*(x[0]-1)/2,    name='d')\n",
    "# Death         = TransitionClass( [x]       -to> [x-3],       'k_d', g=x[0]*(x[0]-1)*(x[0]-2)/6,    name='d')\n",
    "# Death         = TransitionClass( [x]       -to> [x-1],       'k_d', g=x[0]/(x[0]+kM),    name='d')\n",
    "\n",
    "Intake        = TransitionClass( {}        -to> [y],         'k_I',         pi=pi_I, name='I')\n",
    "Exit          = TransitionClass( [x]       -to> {},          'k_E',                  name='E')\n",
    "\n",
    "Coagulation   = TransitionClass( [x] + [y] -to> [x+y],       'k_C',                  name='C')\n",
    "# Coagulation   = TransitionClass( [x] + [y] -to> [x+y],       'k_C', g=x[0]+y[0],     name='C')\n",
    "# Coagulation   = TransitionClass( [x] + [y] -to> [x+y],       'k_C', g=(x[0]+y[0])**h/( (x[0]+y[0])**h + kM**h),     name='C')\n",
    "# Coagulation   = TransitionClass( [x] + [y] -to> [x+y],       'k_C', g=x[0]**2+y[0]**2,     name='C')\n",
    "# Coagulation   = TransitionClass( [x] + [y] -to> [x+y],       'k_C', g=(x[0]+y[0])**2,     name='C')\n",
    "# Coagulation   = TransitionClass( [x] + [y] -to> [x+y],       'k_C', g=log(1+x[0]+y[0]),     name='C')\n",
    "# Coagulation   = TransitionClass( [x] + [y] -to> [x+y],       'k_C', g=1+sin(x[0]+y[0]),     name='C')\n",
    "\n",
    "# Fragmentation = TransitionClass( [x]       -to> [y] + [x-y], 'k_F', g=x[0], pi=pi_F, name='F')\n",
    "# Fragmentation = TransitionClass( [x]       -to> [y] + [x-y], 'k_F', g=x[0]/(x[0]+kM), pi=pi_F, name='F')\n",
    "Fragmentation = TransitionClass( [x]       -to> [y] + [x-y], 'k_F', g=x[0]*(x[0]-1)/2, pi=pi_F, name='F')\n",
    "\n",
    "transitions = [Intake, Exit, Coagulation, Fragmentation, Birth, Death]\n",
    "display_transition_classes(transitions)"
   ]
  },
  {
   "cell_type": "code",
   "execution_count": 14,
   "metadata": {},
   "outputs": [
    {
     "data": {
      "text/latex": [
       "$\\displaystyle \\left[ M^{0}, \\  {\\left(M^{0}\\right)}^{\\mathtt{\\text{2}}}, \\  M^{1}, \\  {\\left(M^{1}\\right)}^{\\mathtt{\\text{2}}}\\right]$"
      ],
      "text/plain": [
       "⎡                 2                      2   ⎤\n",
       "⎣Moment(0), Moment (0), Moment(1), Moment (1)⎦"
      ]
     },
     "metadata": {},
     "output_type": "display_data"
    },
    {
     "data": {
      "text/markdown": [
       "Computed moment equations for desired moments $\\left< N\\right> $, $\\left< N^{2}\\right> $, $\\left< M^{1}\\right> $, and $\\left< {\\left(M^{1}\\right)}^{\\mathtt{\\text{2}}}\\right> $."
      ],
      "text/plain": [
       "<IPython.core.display.Markdown object>"
      ]
     },
     "metadata": {},
     "output_type": "display_data"
    },
    {
     "data": {
      "text/markdown": [
       "Equations were iteratively added for $\\left< N M^{1}\\right> $."
      ],
      "text/plain": [
       "<IPython.core.display.Markdown object>"
      ]
     },
     "metadata": {},
     "output_type": "display_data"
    },
    {
     "data": {
      "text/latex": [
       "$\\displaystyle \\frac{d}{d t} \\left< N\\right>  = - \\frac{k_{C} {\\left< N\\right> }^{\\mathtt{\\text{2}}}}{2} + \\frac{k_{C} \\left< N\\right> }{2} - k_{E} \\left< N\\right>  - \\frac{k_{F} \\left< M^{1}\\right> }{2} + \\frac{k_{F} {\\left< M^{1}\\right> }^{\\mathtt{\\text{2}}}}{2 \\left< N\\right> } + k_{I}$"
      ],
      "text/plain": [
       "                                      2                                       \n",
       "d                      k_C⋅Expectation (N)   k_C⋅Expectation(N)               \n",
       "──(Expectation(N)) = - ─────────────────── + ────────────────── - k_E⋅Expectat\n",
       "dt                              2                    2                        \n",
       "\n",
       "                                                     2                 \n",
       "         k_F⋅Expectation(Moment(1))   k_F⋅Expectation (Moment(1))      \n",
       "ion(N) - ────────────────────────── + ─────────────────────────── + k_I\n",
       "                     2                      2⋅Expectation(N)           "
      ]
     },
     "metadata": {},
     "output_type": "display_data"
    },
    {
     "data": {
      "text/latex": [
       "$\\displaystyle \\frac{d}{d t} \\left< N^{2}\\right>  = k_{C} {\\left< N\\right> }^{\\mathtt{\\text{3}}} + \\frac{k_{C} {\\left< N\\right> }^{\\mathtt{\\text{2}}}}{2} - 2 k_{C} \\left< N\\right>  \\left< N^{2}\\right>  - \\frac{k_{C} \\left< N\\right> }{2} + k_{C} \\left< N^{2}\\right>  + k_{E} \\left< N\\right>  - 2 k_{E} \\left< N^{2}\\right>  - k_{F} \\left< N M^{1}\\right>  - \\frac{k_{F} \\left< M^{1}\\right> }{2} + \\frac{2 k_{F} \\left< N M^{1}\\right>  \\left< M^{1}\\right> }{\\left< N\\right> } + \\frac{k_{F} {\\left< M^{1}\\right> }^{\\mathtt{\\text{2}}}}{2 \\left< N\\right> } - \\frac{k_{F} \\left< N^{2}\\right>  {\\left< M^{1}\\right> }^{\\mathtt{\\text{2}}}}{{\\left< N\\right> }^{\\mathtt{\\text{2}}}} + 2 k_{I} \\left< N\\right>  + k_{I}$"
      ],
      "text/plain": [
       "                                                           2                  \n",
       "d ⎛           ⎛ 2⎞⎞                  3      k_C⋅Expectation (N)               \n",
       "──⎝Expectation⎝N ⎠⎠ = k_C⋅Expectation (N) + ─────────────────── - 2⋅k_C⋅Expect\n",
       "dt                                                   2                        \n",
       "                                                                              \n",
       "\n",
       "                                                                              \n",
       "                    ⎛ 2⎞   k_C⋅Expectation(N)                  ⎛ 2⎞           \n",
       "ation(N)⋅Expectation⎝N ⎠ - ────────────────── + k_C⋅Expectation⎝N ⎠ + k_E⋅Expe\n",
       "                                   2                                          \n",
       "                                                                              \n",
       "\n",
       "                                                                              \n",
       "                              ⎛ 2⎞                                  k_F⋅Expect\n",
       "ctation(N) - 2⋅k_E⋅Expectation⎝N ⎠ - k_F⋅Expectation(N⋅Moment(1)) - ──────────\n",
       "                                                                              \n",
       "                                                                              \n",
       "\n",
       "                                                                              \n",
       "ation(Moment(1))   2⋅k_F⋅Expectation(N⋅Moment(1))⋅Expectation(Moment(1))   k_F\n",
       "──────────────── + ───────────────────────────────────────────────────── + ───\n",
       "  2                                    Expectation(N)                         \n",
       "                                                                              \n",
       "\n",
       "            2                             ⎛ 2⎞            2                   \n",
       "⋅Expectation (Moment(1))   k_F⋅Expectation⎝N ⎠⋅Expectation (Moment(1))        \n",
       "──────────────────────── - ─────────────────────────────────────────── + 2⋅k_I\n",
       "   2⋅Expectation(N)                                 2                         \n",
       "                                         Expectation (N)                      \n",
       "\n",
       "                     \n",
       "                     \n",
       "⋅Expectation(N) + k_I\n",
       "                     \n",
       "                     "
      ]
     },
     "metadata": {},
     "output_type": "display_data"
    },
    {
     "data": {
      "text/latex": [
       "$\\displaystyle \\frac{d}{d t} \\left< M^{1}\\right>  = \\lambda k_{I} - k_{E} \\left< M^{1}\\right>  + k_{b} \\left< N\\right>  - k_{d} \\left< M^{1}\\right> $"
      ],
      "text/plain": [
       "d                                                                             \n",
       "──(Expectation(Moment(1))) = \\lambda⋅k_I - k_E⋅Expectation(Moment(1)) + k_b⋅Ex\n",
       "dt                                                                            \n",
       "\n",
       "                                         \n",
       "pectation(N) - k_d⋅Expectation(Moment(1))\n",
       "                                         "
      ]
     },
     "metadata": {},
     "output_type": "display_data"
    },
    {
     "data": {
      "text/latex": [
       "$\\displaystyle \\frac{d}{d t} \\left< {\\left(M^{1}\\right)}^{\\mathtt{\\text{2}}}\\right>  = \\lambda^{2} k_{I} + 2 \\lambda k_{I} \\left< M^{1}\\right>  + \\lambda k_{I} - 2 k_{E} \\left< {\\left(M^{1}\\right)}^{\\mathtt{\\text{2}}}\\right>  + \\frac{k_{E} {\\left< M^{1}\\right> }^{\\mathtt{\\text{2}}}}{\\left< N\\right> } + k_{b} \\left< N\\right>  + 2 k_{b} \\left< N M^{1}\\right>  + k_{d} \\left< M^{1}\\right>  - 2 k_{d} \\left< {\\left(M^{1}\\right)}^{\\mathtt{\\text{2}}}\\right> $"
      ],
      "text/plain": [
       "                                                                              \n",
       "d ⎛           ⎛      2   ⎞⎞          2                                        \n",
       "──⎝Expectation⎝Moment (1)⎠⎠ = \\lambda ⋅k_I + 2⋅\\lambda⋅k_I⋅Expectation(Moment(\n",
       "dt                                                                            \n",
       "\n",
       "                                                                   2          \n",
       "                                     ⎛      2   ⎞   k_E⋅Expectation (Moment(1)\n",
       "1)) + \\lambda⋅k_I - 2⋅k_E⋅Expectation⎝Moment (1)⎠ + ──────────────────────────\n",
       "                                                           Expectation(N)     \n",
       "\n",
       "                                                                              \n",
       ")                                                                             \n",
       "─ + k_b⋅Expectation(N) + 2⋅k_b⋅Expectation(N⋅Moment(1)) + k_d⋅Expectation(Mome\n",
       "                                                                              \n",
       "\n",
       "                                      \n",
       "                          ⎛      2   ⎞\n",
       "nt(1)) - 2⋅k_d⋅Expectation⎝Moment (1)⎠\n",
       "                                      "
      ]
     },
     "metadata": {},
     "output_type": "display_data"
    },
    {
     "data": {
      "text/latex": [
       "$\\displaystyle \\frac{d}{d t} \\left< N M^{1}\\right>  = \\lambda k_{I} \\left< N\\right>  + \\lambda k_{I} + \\frac{k_{C} {\\left< N\\right> }^{\\mathtt{\\text{2}}} \\left< M^{1}\\right> }{2} - k_{C} \\left< N\\right>  \\left< N M^{1}\\right>  + \\frac{k_{C} \\left< N M^{1}\\right> }{2} - 2 k_{E} \\left< N M^{1}\\right>  + k_{E} \\left< M^{1}\\right>  - \\frac{k_{F} \\left< {\\left(M^{1}\\right)}^{\\mathtt{\\text{2}}}\\right> }{2} + \\frac{k_{F} \\left< M^{1}\\right>  \\left< {\\left(M^{1}\\right)}^{\\mathtt{\\text{2}}}\\right> }{\\left< N\\right> } - \\frac{k_{F} \\left< N M^{1}\\right>  {\\left< M^{1}\\right> }^{\\mathtt{\\text{2}}}}{2 {\\left< N\\right> }^{\\mathtt{\\text{2}}}} + k_{I} \\left< M^{1}\\right>  + k_{b} \\left< N^{2}\\right>  - k_{d} \\left< N M^{1}\\right> $"
      ],
      "text/plain": [
       "                                                                              \n",
       "d                                                                         k_C⋅\n",
       "──(Expectation(N⋅Moment(1))) = \\lambda⋅k_I⋅Expectation(N) + \\lambda⋅k_I + ────\n",
       "dt                                                                            \n",
       "                                                                              \n",
       "\n",
       "           2                                                                  \n",
       "Expectation (N)⋅Expectation(Moment(1))                                        \n",
       "────────────────────────────────────── - k_C⋅Expectation(N)⋅Expectation(N⋅Mome\n",
       "                2                                                             \n",
       "                                                                              \n",
       "\n",
       "                                                                              \n",
       "         k_C⋅Expectation(N⋅Moment(1))                                         \n",
       "nt(1)) + ──────────────────────────── - 2⋅k_E⋅Expectation(N⋅Moment(1)) + k_E⋅E\n",
       "                      2                                                       \n",
       "                                                                              \n",
       "\n",
       "                                       ⎛      2   ⎞                           \n",
       "                        k_F⋅Expectation⎝Moment (1)⎠   k_F⋅Expectation(Moment(1\n",
       "xpectation(Moment(1)) - ─────────────────────────── + ────────────────────────\n",
       "                                     2                                  Expect\n",
       "                                                                              \n",
       "\n",
       "              ⎛      2   ⎞                                           2        \n",
       "))⋅Expectation⎝Moment (1)⎠   k_F⋅Expectation(N⋅Moment(1))⋅Expectation (Moment(\n",
       "────────────────────────── - ─────────────────────────────────────────────────\n",
       "ation(N)                                                   2                  \n",
       "                                              2⋅Expectation (N)               \n",
       "\n",
       "                                                                              \n",
       "1))                                               ⎛ 2⎞                        \n",
       "─── + k_I⋅Expectation(Moment(1)) + k_b⋅Expectation⎝N ⎠ - k_d⋅Expectation(N⋅Mom\n",
       "                                                                              \n",
       "                                                                              \n",
       "\n",
       "       \n",
       "       \n",
       "ent(1))\n",
       "       \n",
       "       "
      ]
     },
     "metadata": {},
     "output_type": "display_data"
    }
   ],
   "source": [
    "moments = [\n",
    "    Moment(0),\n",
    "    Moment(0)**2,\n",
    "    Moment(1),\n",
    "    Moment(1)**2\n",
    "]\n",
    "display(moments)\n",
    "equations = automated_moment_equations(1, transitions, moments, clna=True)\n",
    "# equations = automated_moment_equations(1, transitions, moments, clna=False)\n",
    "display_moment_equations(equations)"
   ]
  },
  {
   "cell_type": "markdown",
   "metadata": {},
   "source": [
    "The LaTeX source of the ODE system can be found and copy-pasted by modifying the Math Render option of the jupyter notebook. This is done by right-clicking on the system and choosing Math Settings > Math Render > Plain Source .\n",
    "\n",
    "From the closed equations, we can also generate code to simulate the system. Currently, Python or Julia code can be generated.\n",
    "\n",
    "For a direct code output, the user can rely on the functions:"
   ]
  },
  {
   "cell_type": "code",
   "execution_count": 15,
   "metadata": {},
   "outputs": [
    {
     "name": "stdout",
     "output_type": "stream",
     "text": [
      "# evaluate ODEs\n",
      "def coagulation_fragmentation_ODEs(M, dM, parameters):\n",
      "  \"\"\"\n",
      "  Evaluate derivatives of expected moments\n",
      "  \n",
      "  Indices in M and dM vectors are \n",
      "    M[0] = Moment(0,)\n",
      "    M[1] = Moment(0)**2\n",
      "    M[2] = Moment(1,)\n",
      "    M[3] = Moment(1)**2\n",
      "    M[4] = Moment(0)*Moment(1)\n",
      "  \n",
      "  :param M: expected moments\n",
      "  :param dM: result, the derivative dM/dt is stored here\n",
      "  :param parameters: tuple of values for constants (\\lambda, k_C, k_E, k_F, k_I, k_b, k_d)\n",
      "  :return: dM\n",
      "  \"\"\"\n",
      "  c2 = parameters[0] # \\lambda\n",
      "  c6 = parameters[1] # k_C\n",
      "  c1 = parameters[2] # k_E\n",
      "  c5 = parameters[3] # k_F\n",
      "  c3 = parameters[4] # k_I\n",
      "  c0 = parameters[5] # k_b\n",
      "  c4 = parameters[6] # k_d\n",
      "  # Number of Compartments (N)\n",
      "  dM[0] = c3+1/2*c6*M[0]-c1*M[0]-1/2*c6*M[0]**2-1/2*c5*M[2]+1/2*c5*M[2]**2/M[0]\n",
      "  # N^2\n",
      "  dM[1] = c3+c6*M[0]**3+c6*M[1]+c1*M[0]+1/2*c6*M[0]**2-c5*M[4]-2*c1*M[1]+2*c3*M[0]-1/2*c6*M[0]-1/2*c5*M[2]+1/2*c5*M[2]**2/M[0]-2*c6*M[1]*M[0]-c5*M[2]**2*M[1]/M[0]**2+2*c5*M[4]*M[2]/M[0]\n",
      "  # Total Mass\n",
      "  dM[2] = c2*c3+c0*M[0]-c1*M[2]-c4*M[2]\n",
      "  # M^2\n",
      "  dM[3] = c2*c3+c3*c2**2+c0*M[0]+c4*M[2]-2*c1*M[3]-2*c4*M[3]+2*c0*M[4]+c1*M[2]**2/M[0]+2*c2*c3*M[2]\n",
      "  # N*M\n",
      "  dM[4] = c2*c3+c1*M[2]+c3*M[2]+c0*M[1]+1/2*c6*M[4]-c4*M[4]-2*c1*M[4]-1/2*c5*M[3]+c2*c3*M[0]+1/2*c6*M[0]**2*M[2]-c6*M[4]*M[0]+c5*M[3]*M[2]/M[0]-1/2*c5*M[2]**2*M[4]/M[0]**2\n",
      "  return dM\n",
      "\n",
      "# initialize expected moments vector\n",
      "def coagulation_fragmentation_initial(initial):\n",
      "  \"\"\"\n",
      "  Create inital expected moments vector\n",
      "  \n",
      "  :param initial: tuple of initial values for expectations of (Moment(0,), Moment(1,))\n",
      "  :return: initial expected moments vector\n",
      "  \"\"\"\n",
      "  import numpy as np\n",
      "  M = np.zeros(5)\n",
      "  # Number of Compartments (N)\n",
      "  M[0] = initial[0]\n",
      "  # N^2\n",
      "  M[1] = M[0]**2\n",
      "  # Total Mass\n",
      "  M[2] = initial[1]\n",
      "  # M^2\n",
      "  M[3] = M[2]**2\n",
      "  # N*M\n",
      "  M[4] = M[0]*M[2]\n",
      "  return M\n",
      "\n",
      "\n"
     ]
    }
   ],
   "source": [
    "python_code = generate_python_code(equations, function_name=\"coagulation_fragmentation\")\n",
    "print(python_code)\n",
    "exec(python_code) "
   ]
  },
  {
   "cell_type": "code",
   "execution_count": 16,
   "metadata": {},
   "outputs": [
    {
     "name": "stdout",
     "output_type": "stream",
     "text": [
      "# evaluate ODEs\n",
      "function IECFBDq_ODEs(dM, M, parameters, t)\n",
      "  c2 = parameters[:\\lambda] # \\lambda\n",
      "  c6 = parameters[:kC] # kC\n",
      "  c1 = parameters[:kE] # kE\n",
      "  c5 = parameters[:kF] # kF\n",
      "  c3 = parameters[:kI] # kI\n",
      "  c0 = parameters[:kb] # kb\n",
      "  c4 = parameters[:kd] # kd\n",
      "  # Number of Compartments (N)\n",
      "  dM[1] = c3+1/2*c6*M[1]-c1*M[1]-1/2*c6*M[1]^2-1/2*c5*M[3]+1/2*c5*M[3]^2/M[1]\n",
      "  # N^2\n",
      "  dM[2] = c3+c6*M[1]^3+c6*M[2]+c1*M[1]+1/2*c6*M[1]^2-c5*M[5]-2*c1*M[2]+2*c3*M[1]-1/2*c6*M[1]-1/2*c5*M[3]+1/2*c5*M[3]^2/M[1]-2*c6*M[2]*M[1]-c5*M[3]^2*M[2]/M[1]^2+2*c5*M[5]*M[3]/M[1]\n",
      "  # Total Mass\n",
      "  dM[3] = c2*c3+c0*M[1]-c1*M[3]-c4*M[3]\n",
      "  # M^2\n",
      "  dM[4] = c2*c3+c3*c2^2+c0*M[1]+c4*M[3]-2*c1*M[4]-2*c4*M[4]+2*c0*M[5]+c1*M[3]^2/M[1]+2*c2*c3*M[3]\n",
      "  # N*M\n",
      "  dM[5] = c2*c3+c1*M[3]+c3*M[3]+c0*M[2]+1/2*c6*M[5]-c4*M[5]-2*c1*M[5]-1/2*c5*M[4]+c2*c3*M[1]+1/2*c6*M[1]^2*M[3]-c6*M[5]*M[1]+c5*M[4]*M[3]/M[1]-1/2*c5*M[3]^2*M[5]/M[1]^2\n",
      "  return\n",
      "end\n",
      "\n",
      "# initialize expected moments vector\n",
      "function IECFBDq_initial(n0)\n",
      "  M = zeros(5)\n",
      "  # Number of Compartments (N)\n",
      "  M[1] = ??? # initial value for Moment(0,), please specify!\n",
      "  # N^2\n",
      "  M[2] = M[1]^2\n",
      "  # Total Mass\n",
      "  M[3] = ??? # initial value for Moment(1,), please specify!\n",
      "  # M^2\n",
      "  M[4] = M[3]^2\n",
      "  # N*M\n",
      "  M[5] = M[1]*M[3]\n",
      "  return M\n",
      "end\n",
      "\n",
      "\n"
     ]
    }
   ],
   "source": [
    "julia_code = generate_julia_code(equations, function_name=\"IECFBDq\")\n",
    "print(julia_code)"
   ]
  },
  {
   "cell_type": "markdown",
   "metadata": {},
   "source": [
    "## Solving and Plotting results\n",
    "We use the generated functions with `scipy.solve_ivp` to solve the system with the same initial condition and parameter values reported in the paper."
   ]
  },
  {
   "cell_type": "code",
   "execution_count": 8,
   "metadata": {},
   "outputs": [
    {
     "ename": "IndexError",
     "evalue": "tuple index out of range",
     "output_type": "error",
     "traceback": [
      "\u001b[0;31m---------------------------------------------------------------------------\u001b[0m",
      "\u001b[0;31mIndexError\u001b[0m                                Traceback (most recent call last)",
      "\u001b[0;32m<ipython-input-8-305891e5c6c5>\u001b[0m in \u001b[0;36m<module>\u001b[0;34m\u001b[0m\n\u001b[1;32m     28\u001b[0m \u001b[0;34m\u001b[0m\u001b[0m\n\u001b[1;32m     29\u001b[0m \u001b[0;31m# solve\u001b[0m\u001b[0;34m\u001b[0m\u001b[0;34m\u001b[0m\u001b[0;34m\u001b[0m\u001b[0m\n\u001b[0;32m---> 30\u001b[0;31m sol = solve_ivp(\n\u001b[0m\u001b[1;32m     31\u001b[0m     \u001b[0mclnaFun\u001b[0m\u001b[0;34m,\u001b[0m\u001b[0;34m\u001b[0m\u001b[0;34m\u001b[0m\u001b[0m\n\u001b[1;32m     32\u001b[0m     \u001b[0;34m(\u001b[0m\u001b[0mnp\u001b[0m\u001b[0;34m.\u001b[0m\u001b[0mmin\u001b[0m\u001b[0;34m(\u001b[0m\u001b[0mtimepoints\u001b[0m\u001b[0;34m)\u001b[0m\u001b[0;34m,\u001b[0m \u001b[0mnp\u001b[0m\u001b[0;34m.\u001b[0m\u001b[0mmax\u001b[0m\u001b[0;34m(\u001b[0m\u001b[0mtimepoints\u001b[0m\u001b[0;34m)\u001b[0m\u001b[0;34m)\u001b[0m\u001b[0;34m,\u001b[0m\u001b[0;34m\u001b[0m\u001b[0;34m\u001b[0m\u001b[0m\n",
      "\u001b[0;32m/usr/local/Cellar/jupyterlab/3.0.16_1/libexec/lib/python3.9/site-packages/scipy/integrate/_ivp/ivp.py\u001b[0m in \u001b[0;36msolve_ivp\u001b[0;34m(fun, t_span, y0, method, t_eval, dense_output, events, vectorized, args, **options)\u001b[0m\n\u001b[1;32m    540\u001b[0m         \u001b[0mmethod\u001b[0m \u001b[0;34m=\u001b[0m \u001b[0mMETHODS\u001b[0m\u001b[0;34m[\u001b[0m\u001b[0mmethod\u001b[0m\u001b[0;34m]\u001b[0m\u001b[0;34m\u001b[0m\u001b[0;34m\u001b[0m\u001b[0m\n\u001b[1;32m    541\u001b[0m \u001b[0;34m\u001b[0m\u001b[0m\n\u001b[0;32m--> 542\u001b[0;31m     \u001b[0msolver\u001b[0m \u001b[0;34m=\u001b[0m \u001b[0mmethod\u001b[0m\u001b[0;34m(\u001b[0m\u001b[0mfun\u001b[0m\u001b[0;34m,\u001b[0m \u001b[0mt0\u001b[0m\u001b[0;34m,\u001b[0m \u001b[0my0\u001b[0m\u001b[0;34m,\u001b[0m \u001b[0mtf\u001b[0m\u001b[0;34m,\u001b[0m \u001b[0mvectorized\u001b[0m\u001b[0;34m=\u001b[0m\u001b[0mvectorized\u001b[0m\u001b[0;34m,\u001b[0m \u001b[0;34m**\u001b[0m\u001b[0moptions\u001b[0m\u001b[0;34m)\u001b[0m\u001b[0;34m\u001b[0m\u001b[0;34m\u001b[0m\u001b[0m\n\u001b[0m\u001b[1;32m    543\u001b[0m \u001b[0;34m\u001b[0m\u001b[0m\n\u001b[1;32m    544\u001b[0m     \u001b[0;32mif\u001b[0m \u001b[0mt_eval\u001b[0m \u001b[0;32mis\u001b[0m \u001b[0;32mNone\u001b[0m\u001b[0;34m:\u001b[0m\u001b[0;34m\u001b[0m\u001b[0;34m\u001b[0m\u001b[0m\n",
      "\u001b[0;32m/usr/local/Cellar/jupyterlab/3.0.16_1/libexec/lib/python3.9/site-packages/scipy/integrate/_ivp/bdf.py\u001b[0m in \u001b[0;36m__init__\u001b[0;34m(self, fun, t0, y0, t_bound, max_step, rtol, atol, jac, jac_sparsity, vectorized, first_step, **extraneous)\u001b[0m\n\u001b[1;32m    190\u001b[0m         \u001b[0mself\u001b[0m\u001b[0;34m.\u001b[0m\u001b[0mmax_step\u001b[0m \u001b[0;34m=\u001b[0m \u001b[0mvalidate_max_step\u001b[0m\u001b[0;34m(\u001b[0m\u001b[0mmax_step\u001b[0m\u001b[0;34m)\u001b[0m\u001b[0;34m\u001b[0m\u001b[0;34m\u001b[0m\u001b[0m\n\u001b[1;32m    191\u001b[0m         \u001b[0mself\u001b[0m\u001b[0;34m.\u001b[0m\u001b[0mrtol\u001b[0m\u001b[0;34m,\u001b[0m \u001b[0mself\u001b[0m\u001b[0;34m.\u001b[0m\u001b[0matol\u001b[0m \u001b[0;34m=\u001b[0m \u001b[0mvalidate_tol\u001b[0m\u001b[0;34m(\u001b[0m\u001b[0mrtol\u001b[0m\u001b[0;34m,\u001b[0m \u001b[0matol\u001b[0m\u001b[0;34m,\u001b[0m \u001b[0mself\u001b[0m\u001b[0;34m.\u001b[0m\u001b[0mn\u001b[0m\u001b[0;34m)\u001b[0m\u001b[0;34m\u001b[0m\u001b[0;34m\u001b[0m\u001b[0m\n\u001b[0;32m--> 192\u001b[0;31m         \u001b[0mf\u001b[0m \u001b[0;34m=\u001b[0m \u001b[0mself\u001b[0m\u001b[0;34m.\u001b[0m\u001b[0mfun\u001b[0m\u001b[0;34m(\u001b[0m\u001b[0mself\u001b[0m\u001b[0;34m.\u001b[0m\u001b[0mt\u001b[0m\u001b[0;34m,\u001b[0m \u001b[0mself\u001b[0m\u001b[0;34m.\u001b[0m\u001b[0my\u001b[0m\u001b[0;34m)\u001b[0m\u001b[0;34m\u001b[0m\u001b[0;34m\u001b[0m\u001b[0m\n\u001b[0m\u001b[1;32m    193\u001b[0m         \u001b[0;32mif\u001b[0m \u001b[0mfirst_step\u001b[0m \u001b[0;32mis\u001b[0m \u001b[0;32mNone\u001b[0m\u001b[0;34m:\u001b[0m\u001b[0;34m\u001b[0m\u001b[0;34m\u001b[0m\u001b[0m\n\u001b[1;32m    194\u001b[0m             self.h_abs = select_initial_step(self.fun, self.t, self.y, f,\n",
      "\u001b[0;32m/usr/local/Cellar/jupyterlab/3.0.16_1/libexec/lib/python3.9/site-packages/scipy/integrate/_ivp/base.py\u001b[0m in \u001b[0;36mfun\u001b[0;34m(t, y)\u001b[0m\n\u001b[1;32m    136\u001b[0m         \u001b[0;32mdef\u001b[0m \u001b[0mfun\u001b[0m\u001b[0;34m(\u001b[0m\u001b[0mt\u001b[0m\u001b[0;34m,\u001b[0m \u001b[0my\u001b[0m\u001b[0;34m)\u001b[0m\u001b[0;34m:\u001b[0m\u001b[0;34m\u001b[0m\u001b[0;34m\u001b[0m\u001b[0m\n\u001b[1;32m    137\u001b[0m             \u001b[0mself\u001b[0m\u001b[0;34m.\u001b[0m\u001b[0mnfev\u001b[0m \u001b[0;34m+=\u001b[0m \u001b[0;36m1\u001b[0m\u001b[0;34m\u001b[0m\u001b[0;34m\u001b[0m\u001b[0m\n\u001b[0;32m--> 138\u001b[0;31m             \u001b[0;32mreturn\u001b[0m \u001b[0mself\u001b[0m\u001b[0;34m.\u001b[0m\u001b[0mfun_single\u001b[0m\u001b[0;34m(\u001b[0m\u001b[0mt\u001b[0m\u001b[0;34m,\u001b[0m \u001b[0my\u001b[0m\u001b[0;34m)\u001b[0m\u001b[0;34m\u001b[0m\u001b[0;34m\u001b[0m\u001b[0m\n\u001b[0m\u001b[1;32m    139\u001b[0m \u001b[0;34m\u001b[0m\u001b[0m\n\u001b[1;32m    140\u001b[0m         \u001b[0mself\u001b[0m\u001b[0;34m.\u001b[0m\u001b[0mfun\u001b[0m \u001b[0;34m=\u001b[0m \u001b[0mfun\u001b[0m\u001b[0;34m\u001b[0m\u001b[0;34m\u001b[0m\u001b[0m\n",
      "\u001b[0;32m/usr/local/Cellar/jupyterlab/3.0.16_1/libexec/lib/python3.9/site-packages/scipy/integrate/_ivp/base.py\u001b[0m in \u001b[0;36mfun_wrapped\u001b[0;34m(t, y)\u001b[0m\n\u001b[1;32m     18\u001b[0m \u001b[0;34m\u001b[0m\u001b[0m\n\u001b[1;32m     19\u001b[0m     \u001b[0;32mdef\u001b[0m \u001b[0mfun_wrapped\u001b[0m\u001b[0;34m(\u001b[0m\u001b[0mt\u001b[0m\u001b[0;34m,\u001b[0m \u001b[0my\u001b[0m\u001b[0;34m)\u001b[0m\u001b[0;34m:\u001b[0m\u001b[0;34m\u001b[0m\u001b[0;34m\u001b[0m\u001b[0m\n\u001b[0;32m---> 20\u001b[0;31m         \u001b[0;32mreturn\u001b[0m \u001b[0mnp\u001b[0m\u001b[0;34m.\u001b[0m\u001b[0masarray\u001b[0m\u001b[0;34m(\u001b[0m\u001b[0mfun\u001b[0m\u001b[0;34m(\u001b[0m\u001b[0mt\u001b[0m\u001b[0;34m,\u001b[0m \u001b[0my\u001b[0m\u001b[0;34m)\u001b[0m\u001b[0;34m,\u001b[0m \u001b[0mdtype\u001b[0m\u001b[0;34m=\u001b[0m\u001b[0mdtype\u001b[0m\u001b[0;34m)\u001b[0m\u001b[0;34m\u001b[0m\u001b[0;34m\u001b[0m\u001b[0m\n\u001b[0m\u001b[1;32m     21\u001b[0m \u001b[0;34m\u001b[0m\u001b[0m\n\u001b[1;32m     22\u001b[0m     \u001b[0;32mreturn\u001b[0m \u001b[0mfun_wrapped\u001b[0m\u001b[0;34m,\u001b[0m \u001b[0my0\u001b[0m\u001b[0;34m\u001b[0m\u001b[0;34m\u001b[0m\u001b[0m\n",
      "\u001b[0;32m<ipython-input-8-305891e5c6c5>\u001b[0m in \u001b[0;36m<lambda>\u001b[0;34m(t, M)\u001b[0m\n\u001b[1;32m     25\u001b[0m \u001b[0;31m# parameters = (kC,kF)\u001b[0m\u001b[0;34m\u001b[0m\u001b[0;34m\u001b[0m\u001b[0;34m\u001b[0m\u001b[0m\n\u001b[1;32m     26\u001b[0m \u001b[0;34m\u001b[0m\u001b[0m\n\u001b[0;32m---> 27\u001b[0;31m \u001b[0mclnaFun\u001b[0m \u001b[0;34m=\u001b[0m \u001b[0;32mlambda\u001b[0m \u001b[0mt\u001b[0m\u001b[0;34m,\u001b[0m \u001b[0mM\u001b[0m\u001b[0;34m:\u001b[0m \u001b[0mcoagulation_fragmentation_ODEs\u001b[0m\u001b[0;34m(\u001b[0m\u001b[0mM\u001b[0m\u001b[0;34m,\u001b[0m \u001b[0mnp\u001b[0m\u001b[0;34m.\u001b[0m\u001b[0mzeros\u001b[0m\u001b[0;34m(\u001b[0m\u001b[0mlen\u001b[0m\u001b[0;34m(\u001b[0m\u001b[0mM\u001b[0m\u001b[0;34m)\u001b[0m\u001b[0;34m)\u001b[0m\u001b[0;34m,\u001b[0m \u001b[0mparameters\u001b[0m\u001b[0;34m+\u001b[0m\u001b[0;34m(\u001b[0m\u001b[0mM\u001b[0m\u001b[0;34m[\u001b[0m\u001b[0;36m2\u001b[0m\u001b[0;34m]\u001b[0m\u001b[0;34m/\u001b[0m\u001b[0mM\u001b[0m\u001b[0;34m[\u001b[0m\u001b[0;36m0\u001b[0m\u001b[0;34m]\u001b[0m\u001b[0;34m,\u001b[0m\u001b[0;34m)\u001b[0m\u001b[0;34m)\u001b[0m\u001b[0;34m\u001b[0m\u001b[0;34m\u001b[0m\u001b[0m\n\u001b[0m\u001b[1;32m     28\u001b[0m \u001b[0;34m\u001b[0m\u001b[0m\n\u001b[1;32m     29\u001b[0m \u001b[0;31m# solve\u001b[0m\u001b[0;34m\u001b[0m\u001b[0;34m\u001b[0m\u001b[0;34m\u001b[0m\u001b[0m\n",
      "\u001b[0;32m<string>\u001b[0m in \u001b[0;36mcoagulation_fragmentation_ODEs\u001b[0;34m(M, dM, parameters)\u001b[0m\n",
      "\u001b[0;31mIndexError\u001b[0m: tuple index out of range"
     ]
    }
   ],
   "source": [
    "from scipy.integrate import solve_ivp\n",
    "import numpy as np\n",
    "\n",
    "# vector of timepoints where to solve ODE problem\n",
    "timepoints = np.linspace(0, 100, 1000+1)\n",
    "\n",
    "# initial condition\n",
    "# 100 compartments with 10 molecules each\n",
    "N0 = 10\n",
    "Mpc0=10\n",
    "M0 = coagulation_fragmentation_initial((N0, N0*Mpc0, (Mpc0**2)*N0,))\n",
    "\n",
    "# rate constants and other parameters\n",
    "kC = 0.005\n",
    "kF = 0.005\n",
    "kI = 5.0\n",
    "kE = 0.1\n",
    "kb = 10.0\n",
    "kd = 0.1\n",
    "Lambda = 50\n",
    "kM = 100\n",
    "# parameters = (Lambda, kC, kE, kF, kI)\n",
    "parameters = (Lambda, kC, kE, kF, kI, kb, kd)\n",
    "# parameters = (Lambda, kM, kC, kE, kF, kI, kb, kd)\n",
    "# parameters = (kC,kF)\n",
    "\n",
    "clnaFun = lambda t, M: coagulation_fragmentation_ODEs(M, np.zeros(len(M)), parameters+(M[2]/M[0],))\n",
    "\n",
    "# solve\n",
    "sol = solve_ivp(\n",
    "    clnaFun,\n",
    "    (np.min(timepoints), np.max(timepoints)),\n",
    "    M0,\n",
    "    method='BDF',\n",
    "    t_eval=timepoints)\n",
    "\n",
    "# print solution of N\n",
    "print(sol.y[0])"
   ]
  },
  {
   "cell_type": "code",
   "execution_count": null,
   "metadata": {},
   "outputs": [],
   "source": [
    "%matplotlib inline\n",
    "import matplotlib.pyplot as plt\n",
    "\n",
    "y = sol.y\n",
    "N = y[0]\n",
    "N2 = y[1]\n",
    "stdN = np.sqrt(N2 - N**2)\n",
    "\n",
    "# <N>\n",
    "plt.subplot(1,2, 1)\n",
    "plt.plot(timepoints, N, color=\"g\")\n",
    "plt.ylabel(r'$\\left< N \\right>$', size=12)\n",
    "plt.xlabel('time', size=12)\n",
    "plt.title(\"Expected compartment number\", size=12)\n",
    "plt.fill_between(timepoints, N-stdN, N+stdN, alpha=0.4, color=\"g\")\n",
    "# plt.ylim((50,150))\n",
    "plt.ylim(bottom=0)\n",
    "\n",
    "# CoV(N)\n",
    "plt.subplot(1,2, 2)\n",
    "CoV = stdN / N\n",
    "plt.plot(timepoints, CoV, color=\"cyan\")\n",
    "plt.ylabel(r'$CoV$', size=12)\n",
    "plt.xlabel('time', size=12)\n",
    "plt.title(\"Coefficient of Variation (compartments)\", size=12)\n",
    "# plt.ylim((50,150))\n",
    "plt.ylim(bottom=0)\n",
    "\n",
    "plt.tight_layout()\n",
    "plt.show()"
   ]
  },
  {
   "cell_type": "code",
   "execution_count": null,
   "metadata": {},
   "outputs": [],
   "source": [
    "y = sol.y\n",
    "M = y[2]\n",
    "M12 = y[3]\n",
    "stdM = np.sqrt(M12 - M**2)\n",
    "\n",
    "# <M>\n",
    "plt.subplot(1,2, 1)\n",
    "plt.plot(timepoints, M, color=\"purple\")\n",
    "plt.ylabel(r'$\\left< M \\right>$', size=12)\n",
    "plt.xlabel('time', size=12)\n",
    "plt.title(\"Expected content mass\", size=12)\n",
    "plt.fill_between(timepoints, M-stdM, M+stdM, alpha=0.4, color=\"purple\")\n",
    "# plt.ylim((50,150))\n",
    "plt.ylim(bottom=0)\n",
    "\n",
    "# CoV(M)\n",
    "plt.subplot(1,2, 2)\n",
    "CoV = stdM / M\n",
    "plt.plot(timepoints, CoV, color=\"cyan\")\n",
    "plt.ylabel(r'$CoV$', size=12)\n",
    "plt.xlabel('time', size=12)\n",
    "plt.title(\"Coefficient of Variation (content)\", size=12)\n",
    "# plt.ylim((50,150))\n",
    "plt.ylim(bottom=0)\n",
    "\n",
    "plt.tight_layout()\n",
    "plt.show()"
   ]
  },
  {
   "cell_type": "code",
   "execution_count": null,
   "metadata": {},
   "outputs": [],
   "source": []
  },
  {
   "cell_type": "code",
   "execution_count": null,
   "metadata": {},
   "outputs": [],
   "source": []
  },
  {
   "cell_type": "code",
   "execution_count": null,
   "metadata": {},
   "outputs": [],
   "source": []
  }
 ],
 "metadata": {
  "kernelspec": {
   "display_name": "Python 3",
   "language": "python",
   "name": "python3"
  },
  "language_info": {
   "codemirror_mode": {
    "name": "ipython",
    "version": 3
   },
   "file_extension": ".py",
   "mimetype": "text/x-python",
   "name": "python",
   "nbconvert_exporter": "python",
   "pygments_lexer": "ipython3",
   "version": "3.9.6"
  }
 },
 "nbformat": 4,
 "nbformat_minor": 2
}
