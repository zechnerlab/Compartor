{
 "cells": [
  {
   "cell_type": "markdown",
   "metadata": {},
   "source": [
    "## Code generation"
   ]
  },
  {
   "cell_type": "code",
   "execution_count": 1,
   "metadata": {},
   "outputs": [],
   "source": [
    "# import sys\n",
    "# !{sys.executable} -m pip install --upgrade pip\n",
    "# !{sys.executable} -m pip install sympy\n",
    "# !{sys.executable} -m pip install scipy\n",
    "# !{sys.executable} -m pip install matplotlib"
   ]
  },
  {
   "cell_type": "code",
   "execution_count": 2,
   "metadata": {},
   "outputs": [],
   "source": [
    "# Remove matplotlib deprecation warnings\n",
    "import warnings\n",
    "warnings.filterwarnings(\"ignore\", category=UserWarning)"
   ]
  },
  {
   "cell_type": "code",
   "execution_count": 3,
   "metadata": {},
   "outputs": [],
   "source": [
    "# initialize sympy printing (for latex output)\n",
    "from sympy import init_printing, Symbol\n",
    "init_printing()\n",
    "\n",
    "# import functions and classes for compartment models\n",
    "import sys\n",
    "sys.path.insert(0, \"./compartor\") #use local copy\n",
    "from compartor import *"
   ]
  },
  {
   "cell_type": "markdown",
   "metadata": {},
   "source": [
    "Here, we illustrate how to export the moment equations in LaTeX format or generate code for simulations.\n",
    "\n",
    "We consider again the exemplary model of the paper and derive moments equations with the automated function."
   ]
  },
  {
   "cell_type": "code",
   "execution_count": 4,
   "metadata": {},
   "outputs": [
    {
     "data": {
      "text/latex": [
       "$\\displaystyle \\begin{align} \\emptyset&\\overset{h_{I}}{\\longrightarrow}\\left[y\\right] && h_{I} = \\pi_{Poiss}(y; \\lambda) k_{I}\\\\\\left[x\\right]&\\overset{h_{E}}{\\longrightarrow}\\emptyset && h_{E} = k_{E} n{\\left(x \\right)}\\\\\\left[x\\right] + \\left[y\\right]&\\overset{h_{C}}{\\longrightarrow}\\left[x + y\\right] && h_{C} = \\frac{k_{C} \\left(n{\\left(y \\right)} - \\delta_{x y}\\right) n{\\left(x \\right)}}{\\delta_{x y} + 1}\\\\\\left[x\\right]&\\overset{h_{F}}{\\longrightarrow}\\left[x - y\\right] + \\left[y\\right] && h_{F} = \\frac{\\pi_{F(y|x)} k_{F} \\left({x}_{0} - 1\\right) n{\\left(x \\right)} {x}_{0}}{2}\\\\\\left[x\\right]&\\overset{h_{b}}{\\longrightarrow}\\left[\\left( 1,\\right) + x\\right] && h_{b} = k_{b} n{\\left(x \\right)}\\\\\\left[x\\right]&\\overset{h_{d}}{\\longrightarrow}\\left[\\left( -1,\\right) + x\\right] && h_{d} = k_{d} n{\\left(x \\right)} {x}_{0} \\end{align}$"
      ],
      "text/plain": [
       "                     EmptySet ---> [y],  h_I = \\pi_{Poiss}(y; \\lambda)*k_I                      \n",
       "                               [x] ---> EmptySet,  h_E = k_E*n(x)                               \n",
       "[x] + [y] ---> [x + y],  h_C = k_C*(n(y) - KroneckerDelta(x, y))*n(x)/(KroneckerDelta(x, y) + 1)\n",
       "              [x] ---> [x - y] + [y],  h_F = \\pi_F(y|x)*k_F*(x[0] - 1)*n(x)*x[0]/2              \n",
       "                              [x] ---> [(1,) + x],  h_b = k_b*n(x)                              \n",
       "                           [x] ---> [(-1,) + x],  h_d = k_d*n(x)*x[0]                           "
      ]
     },
     "metadata": {},
     "output_type": "display_data"
    }
   ],
   "source": [
    "x = Content('x')\n",
    "y = Content('y')\n",
    "z = Content('z')\n",
    "\n",
    "from sympy import symbols, log, exp, sin, cos, tan\n",
    "kM,h = symbols('kM h') # The Michaelis-Menten constant and hill exponent\n",
    "\n",
    "# define intake distribution\n",
    "pi_I = OutcomeDistribution.Poisson(Symbol(\"\\pi_{Poiss}(y; \\lambda)\"), y[0], Symbol(\"\\lambda\"))\n",
    "# define fragmentation distribution\n",
    "pi_F = OutcomeDistribution.Uniform(Symbol(\"\\pi_F(y|x)\"), y[0], 0, x[0])\n",
    "\n",
    "Birth         = TransitionClass( [x]       -to> [x+1],       'k_b',                  name='b')\n",
    "\n",
    "Death         = TransitionClass( [x]       -to> [x-1],       'k_d', g=x[0],    name='d')\n",
    "# Death         = TransitionClass( [x]       -to> [x-2],       'k_d', g=x[0]*(x[0]-1)/2,    name='d')\n",
    "# Death         = TransitionClass( [x]       -to> [x-3],       'k_d', g=x[0]*(x[0]-1)*(x[0]-2)/6,    name='d')\n",
    "# Death         = TransitionClass( [x]       -to> [x-1],       'k_d', g=x[0]/(x[0]+kM),    name='d')\n",
    "\n",
    "Intake        = TransitionClass( {}        -to> [y],         'k_I',         pi=pi_I, name='I')\n",
    "Exit          = TransitionClass( [x]       -to> {},          'k_E',                  name='E')\n",
    "\n",
    "Coagulation   = TransitionClass( [x] + [y] -to> [x+y],       'k_C',                  name='C')\n",
    "# Coagulation   = TransitionClass( [x] + [y] -to> [x+y],       'k_C', g=x[0]+y[0],     name='C')\n",
    "# Coagulation   = TransitionClass( [x] + [y] -to> [x+y],       'k_C', g=(x[0]+y[0])**h/( (x[0]+y[0])**h + kM**h),     name='C')\n",
    "# Coagulation   = TransitionClass( [x] + [y] -to> [x+y],       'k_C', g=x[0]**2+y[0]**2,     name='C')\n",
    "# Coagulation   = TransitionClass( [x] + [y] -to> [x+y],       'k_C', g=(x[0]+y[0])**2,     name='C')\n",
    "# Coagulation   = TransitionClass( [x] + [y] -to> [x+y],       'k_C', g=log(1+x[0]+y[0]),     name='C')\n",
    "# Coagulation   = TransitionClass( [x] + [y] -to> [x+y],       'k_C', g=1+sin(x[0]+y[0]),     name='C')\n",
    "\n",
    "# Fragmentation = TransitionClass( [x]       -to> [y] + [x-y], 'k_F', g=x[0], pi=pi_F, name='F')\n",
    "# Fragmentation = TransitionClass( [x]       -to> [y] + [x-y], 'k_F', g=x[0]/(x[0]+kM), pi=pi_F, name='F')\n",
    "Fragmentation = TransitionClass( [x]       -to> [y] + [x-y], 'k_F', g=x[0]*(x[0]-1)/2, pi=pi_F, name='F')\n",
    "\n",
    "transitions = [Intake, Exit, Coagulation, Fragmentation, Birth, Death]\n",
    "display_transition_classes(transitions)"
   ]
  },
  {
   "cell_type": "code",
   "execution_count": 5,
   "metadata": {},
   "outputs": [
    {
     "data": {
      "text/latex": [
       "$\\displaystyle \\left[ M^{0}, \\  {\\left(M^{0}\\right)}^{\\mathtt{\\text{2}}}, \\  M^{1}, \\  {\\left(M^{1}\\right)}^{\\mathtt{\\text{2}}}\\right]$"
      ],
      "text/plain": [
       "⎡                 2                      2   ⎤\n",
       "⎣Moment(0), Moment (0), Moment(1), Moment (1)⎦"
      ]
     },
     "metadata": {},
     "output_type": "display_data"
    },
    {
     "data": {
      "text/markdown": [
       "Computed moment equations for desired moments $\\left< N\\right> $, $\\left< N^{2}\\right> $, $\\left< M^{1}\\right> $, and $\\left< {\\left(M^{1}\\right)}^{\\mathtt{\\text{2}}}\\right> $."
      ],
      "text/plain": [
       "<IPython.core.display.Markdown object>"
      ]
     },
     "metadata": {},
     "output_type": "display_data"
    },
    {
     "data": {
      "text/markdown": [
       "Equations were iteratively added for $\\left< N M^{1}\\right> $."
      ],
      "text/plain": [
       "<IPython.core.display.Markdown object>"
      ]
     },
     "metadata": {},
     "output_type": "display_data"
    },
    {
     "data": {
      "text/latex": [
       "$\\displaystyle \\frac{d}{d t} \\left< N\\right>  = - \\frac{k_{C} {\\left< N\\right> }^{\\mathtt{\\text{2}}}}{2} + \\frac{k_{C} \\left< N\\right> }{2} - k_{E} \\left< N\\right>  - \\frac{k_{F} \\left< M^{1}\\right> }{2} + \\frac{k_{F} {\\left< M^{1}\\right> }^{\\mathtt{\\text{2}}}}{2 \\left< N\\right> } + k_{I}$"
      ],
      "text/plain": [
       "                                      2                                                                                            2                 \n",
       "d                      k_C⋅Expectation (N)   k_C⋅Expectation(N)                        k_F⋅Expectation(Moment(1))   k_F⋅Expectation (Moment(1))      \n",
       "──(Expectation(N)) = - ─────────────────── + ────────────────── - k_E⋅Expectation(N) - ────────────────────────── + ─────────────────────────── + k_I\n",
       "dt                              2                    2                                             2                      2⋅Expectation(N)           "
      ]
     },
     "metadata": {},
     "output_type": "display_data"
    },
    {
     "data": {
      "text/latex": [
       "$\\displaystyle \\frac{d}{d t} \\left< N^{2}\\right>  = k_{C} {\\left< N\\right> }^{\\mathtt{\\text{3}}} + \\frac{k_{C} {\\left< N\\right> }^{\\mathtt{\\text{2}}}}{2} - 2 k_{C} \\left< N\\right>  \\left< N^{2}\\right>  - \\frac{k_{C} \\left< N\\right> }{2} + k_{C} \\left< N^{2}\\right>  + k_{E} \\left< N\\right>  - 2 k_{E} \\left< N^{2}\\right>  - k_{F} \\left< N M^{1}\\right>  - \\frac{k_{F} \\left< M^{1}\\right> }{2} + \\frac{2 k_{F} \\left< N M^{1}\\right>  \\left< M^{1}\\right> }{\\left< N\\right> } + \\frac{k_{F} {\\left< M^{1}\\right> }^{\\mathtt{\\text{2}}}}{2 \\left< N\\right> } - \\frac{k_{F} \\left< N^{2}\\right>  {\\left< M^{1}\\right> }^{\\mathtt{\\text{2}}}}{{\\left< N\\right> }^{\\mathtt{\\text{2}}}} + 2 k_{I} \\left< N\\right>  + k_{I}$"
      ],
      "text/plain": [
       "                                                           2                                                                                                                     \n",
       "d ⎛           ⎛ 2⎞⎞                  3      k_C⋅Expectation (N)                                   ⎛ 2⎞   k_C⋅Expectation(N)                  ⎛ 2⎞                                \n",
       "──⎝Expectation⎝N ⎠⎠ = k_C⋅Expectation (N) + ─────────────────── - 2⋅k_C⋅Expectation(N)⋅Expectation⎝N ⎠ - ────────────────── + k_C⋅Expectation⎝N ⎠ + k_E⋅Expectation(N) - 2⋅k_E⋅Ex\n",
       "dt                                                   2                                                           2                                                               \n",
       "                                                                                                                                                                                 \n",
       "\n",
       "                                                                                                                                                   2                             \n",
       "         ⎛ 2⎞                                  k_F⋅Expectation(Moment(1))   2⋅k_F⋅Expectation(N⋅Moment(1))⋅Expectation(Moment(1))   k_F⋅Expectation (Moment(1))   k_F⋅Expectation\n",
       "pectation⎝N ⎠ - k_F⋅Expectation(N⋅Moment(1)) - ────────────────────────── + ───────────────────────────────────────────────────── + ─────────────────────────── - ───────────────\n",
       "                                                           2                                    Expectation(N)                            2⋅Expectation(N)                       \n",
       "                                                                                                                                                                                E\n",
       "\n",
       "⎛ 2⎞            2                                        \n",
       "⎝N ⎠⋅Expectation (Moment(1))                             \n",
       "──────────────────────────── + 2⋅k_I⋅Expectation(N) + k_I\n",
       "          2                                              \n",
       "xpectation (N)                                           "
      ]
     },
     "metadata": {},
     "output_type": "display_data"
    },
    {
     "data": {
      "text/latex": [
       "$\\displaystyle \\frac{d}{d t} \\left< M^{1}\\right>  = \\lambda k_{I} - k_{E} \\left< M^{1}\\right>  + k_{b} \\left< N\\right>  - k_{d} \\left< M^{1}\\right> $"
      ],
      "text/plain": [
       "d                                                                                                                      \n",
       "──(Expectation(Moment(1))) = \\lambda⋅k_I - k_E⋅Expectation(Moment(1)) + k_b⋅Expectation(N) - k_d⋅Expectation(Moment(1))\n",
       "dt                                                                                                                     "
      ]
     },
     "metadata": {},
     "output_type": "display_data"
    },
    {
     "data": {
      "text/latex": [
       "$\\displaystyle \\frac{d}{d t} \\left< {\\left(M^{1}\\right)}^{\\mathtt{\\text{2}}}\\right>  = \\lambda^{2} k_{I} + 2 \\lambda k_{I} \\left< M^{1}\\right>  + \\lambda k_{I} - 2 k_{E} \\left< {\\left(M^{1}\\right)}^{\\mathtt{\\text{2}}}\\right>  + \\frac{k_{E} {\\left< M^{1}\\right> }^{\\mathtt{\\text{2}}}}{\\left< N\\right> } + k_{b} \\left< N\\right>  + 2 k_{b} \\left< N M^{1}\\right>  + k_{d} \\left< M^{1}\\right>  - 2 k_{d} \\left< {\\left(M^{1}\\right)}^{\\mathtt{\\text{2}}}\\right> $"
      ],
      "text/plain": [
       "                                                                                                                                                 2                               \n",
       "d ⎛           ⎛      2   ⎞⎞          2                                                                             ⎛      2   ⎞   k_E⋅Expectation (Moment(1))                    \n",
       "──⎝Expectation⎝Moment (1)⎠⎠ = \\lambda ⋅k_I + 2⋅\\lambda⋅k_I⋅Expectation(Moment(1)) + \\lambda⋅k_I - 2⋅k_E⋅Expectation⎝Moment (1)⎠ + ─────────────────────────── + k_b⋅Expectation(N\n",
       "dt                                                                                                                                       Expectation(N)                          \n",
       "\n",
       "                                                                                               \n",
       "                                                                                   ⎛      2   ⎞\n",
       ") + 2⋅k_b⋅Expectation(N⋅Moment(1)) + k_d⋅Expectation(Moment(1)) - 2⋅k_d⋅Expectation⎝Moment (1)⎠\n",
       "                                                                                               "
      ]
     },
     "metadata": {},
     "output_type": "display_data"
    },
    {
     "data": {
      "text/latex": [
       "$\\displaystyle \\frac{d}{d t} \\left< N M^{1}\\right>  = \\lambda k_{I} \\left< N\\right>  + \\lambda k_{I} + \\frac{k_{C} {\\left< N\\right> }^{\\mathtt{\\text{2}}} \\left< M^{1}\\right> }{2} - k_{C} \\left< N\\right>  \\left< N M^{1}\\right>  + \\frac{k_{C} \\left< N M^{1}\\right> }{2} - 2 k_{E} \\left< N M^{1}\\right>  + k_{E} \\left< M^{1}\\right>  - \\frac{k_{F} \\left< {\\left(M^{1}\\right)}^{\\mathtt{\\text{2}}}\\right> }{2} + \\frac{k_{F} \\left< M^{1}\\right>  \\left< {\\left(M^{1}\\right)}^{\\mathtt{\\text{2}}}\\right> }{\\left< N\\right> } - \\frac{k_{F} \\left< N M^{1}\\right>  {\\left< M^{1}\\right> }^{\\mathtt{\\text{2}}}}{2 {\\left< N\\right> }^{\\mathtt{\\text{2}}}} + k_{I} \\left< M^{1}\\right>  + k_{b} \\left< N^{2}\\right>  - k_{d} \\left< N M^{1}\\right> $"
      ],
      "text/plain": [
       "                                                                                         2                                                                                       \n",
       "d                                                                         k_C⋅Expectation (N)⋅Expectation(Moment(1))                                                 k_C⋅Expectat\n",
       "──(Expectation(N⋅Moment(1))) = \\lambda⋅k_I⋅Expectation(N) + \\lambda⋅k_I + ────────────────────────────────────────── - k_C⋅Expectation(N)⋅Expectation(N⋅Moment(1)) + ────────────\n",
       "dt                                                                                            2                                                                                  \n",
       "                                                                                                                                                                                 \n",
       "\n",
       "                                                                                                ⎛      2   ⎞                                         ⎛      2   ⎞                \n",
       "ion(N⋅Moment(1))                                                                 k_F⋅Expectation⎝Moment (1)⎠   k_F⋅Expectation(Moment(1))⋅Expectation⎝Moment (1)⎠   k_F⋅Expectati\n",
       "──────────────── - 2⋅k_E⋅Expectation(N⋅Moment(1)) + k_E⋅Expectation(Moment(1)) - ─────────────────────────── + ────────────────────────────────────────────────── - ─────────────\n",
       " 2                                                                                            2                                  Expectation(N)                                  \n",
       "                                                                                                                                                                                 \n",
       "\n",
       "                           2                                                                                             \n",
       "on(N⋅Moment(1))⋅Expectation (Moment(1))                                               ⎛ 2⎞                               \n",
       "─────────────────────────────────────── + k_I⋅Expectation(Moment(1)) + k_b⋅Expectation⎝N ⎠ - k_d⋅Expectation(N⋅Moment(1))\n",
       "                 2                                                                                                       \n",
       "    2⋅Expectation (N)                                                                                                    "
      ]
     },
     "metadata": {},
     "output_type": "display_data"
    }
   ],
   "source": [
    "moments = [\n",
    "    Moment(0),\n",
    "    Moment(0)**2,\n",
    "    Moment(1),\n",
    "    Moment(1)**2\n",
    "]\n",
    "display(moments)\n",
    "equations = automated_moment_equations(1, transitions, moments, clna=True)\n",
    "# equations = automated_moment_equations(1, transitions, moments, clna=False)\n",
    "display_moment_equations(equations)"
   ]
  },
  {
   "cell_type": "markdown",
   "metadata": {},
   "source": [
    "The LaTeX source of the ODE system can be found and copy-pasted by modifying the Math Render option of the jupyter notebook. This is done by right-clicking on the system and choosing Math Settings > Math Render > Plain Source .\n",
    "\n",
    "From the closed equations, we can also generate code to simulate the system. Currently, Python or Julia code can be generated.\n",
    "\n",
    "For a direct code output, the user can rely on the functions:"
   ]
  },
  {
   "cell_type": "code",
   "execution_count": 6,
   "metadata": {},
   "outputs": [],
   "source": [
    "# python_code = generate_python_code(equations, function_name=\"coagulation_fragmentation\")\n",
    "# print(python_code)\n",
    "# exec(python_code) "
   ]
  },
  {
   "cell_type": "code",
   "execution_count": 7,
   "metadata": {},
   "outputs": [
    {
     "name": "stdout",
     "output_type": "stream",
     "text": [
      "# evaluate ODEs\n",
      "function IECFBDq_ODEs(dM, M, parameters, t)\n",
      "  c3 = parameters[:\\lambda] # \\lambda\n",
      "  c6 = parameters[:kC] # kC\n",
      "  c0 = parameters[:kE] # kE\n",
      "  c2 = parameters[:kF] # kF\n",
      "  c4 = parameters[:kI] # kI\n",
      "  c5 = parameters[:kb] # kb\n",
      "  c1 = parameters[:kd] # kd\n",
      "  # Number of Compartments (N)\n",
      "  dM[1] = c4+1/2*c6*M[1]-c0*M[1]-1/2*c6*M[1]^2-1/2*c2*M[3]+1/2*c2*M[3]^2/M[1]\n",
      "  # N^2\n",
      "  dM[2] = c4+c6*M[1]^3+c6*M[2]+c0*M[1]+1/2*c6*M[1]^2-c2*M[5]-2*c0*M[2]+2*c4*M[1]-1/2*c6*M[1]-1/2*c2*M[3]+1/2*c2*M[3]^2/M[1]-2*c6*M[2]*M[1]-c2*M[3]^2*M[2]/M[1]^2+2*c2*M[5]*M[3]/M[1]\n",
      "  # Total Mass\n",
      "  dM[3] = c3*c4+c5*M[1]-c0*M[3]-c1*M[3]\n",
      "  # M^2\n",
      "  dM[4] = c3*c4+c4*c3^2+c5*M[1]+c1*M[3]-2*c0*M[4]-2*c1*M[4]+2*c5*M[5]+c0*M[3]^2/M[1]+2*c3*c4*M[3]\n",
      "  # N*M\n",
      "  dM[5] = c3*c4+c0*M[3]+c4*M[3]+c5*M[2]+1/2*c6*M[5]-c1*M[5]-2*c0*M[5]-1/2*c2*M[4]+c3*c4*M[1]+1/2*c6*M[1]^2*M[3]-c6*M[5]*M[1]+c2*M[4]*M[3]/M[1]-1/2*c2*M[3]^2*M[5]/M[1]^2\n",
      "  return\n",
      "end\n",
      "\n",
      "# initialize expected moments vector\n",
      "function IECFBDq_initial(n0)\n",
      "  M = zeros(5)\n",
      "  # Number of Compartments (N)\n",
      "  M[1] = ??? # initial value for Moment(0,), please specify!\n",
      "  # N^2\n",
      "  M[2] = M[1]^2\n",
      "  # Total Mass\n",
      "  M[3] = ??? # initial value for Moment(1,), please specify!\n",
      "  # M^2\n",
      "  M[4] = M[3]^2\n",
      "  # N*M\n",
      "  M[5] = M[1]*M[3]\n",
      "  return M\n",
      "end\n",
      "\n",
      "\n"
     ]
    }
   ],
   "source": [
    "julia_code = generate_julia_code(equations, function_name=\"IECFBDq\")\n",
    "print(julia_code)"
   ]
  }
 ],
 "metadata": {
  "kernelspec": {
   "display_name": "Python 3 (ipykernel)",
   "language": "python",
   "name": "python3"
  },
  "language_info": {
   "codemirror_mode": {
    "name": "ipython",
    "version": 3
   },
   "file_extension": ".py",
   "mimetype": "text/x-python",
   "name": "python",
   "nbconvert_exporter": "python",
   "pygments_lexer": "ipython3",
   "version": "3.9.6"
  }
 },
 "nbformat": 4,
 "nbformat_minor": 2
}
