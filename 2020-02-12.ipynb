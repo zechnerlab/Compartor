{
 "cells": [
  {
   "cell_type": "code",
   "execution_count": 13,
   "metadata": {},
   "outputs": [],
   "source": [
    "from sympy import *\n",
    "init_printing()"
   ]
  },
  {
   "cell_type": "code",
   "execution_count": 14,
   "metadata": {},
   "outputs": [],
   "source": [
    "class Compartment(Function):\n",
    "    nargs = 1\n",
    "\n",
    "    def __str__(self):\n",
    "        return f'[{self.args[0]}]'\n",
    "\n",
    "    def _sympystr(self, printer=None):\n",
    "        return f'[{self.args[0]}]'\n",
    "\n",
    "    def _latex(self, printer=None):\n",
    "        return '\\\\left[' + printer.doprint(self.args[0]) + '\\\\right]'\n",
    "\n",
    "class ContentChange(Function):\n",
    "    nargs = 2\n",
    "\n",
    "    def __str__(self):\n",
    "        return f'{self.args}'\n",
    "\n",
    "    def _sympystr(self, printer=None):\n",
    "        return f'{self.args}'\n",
    "\n",
    "    def _latex(self, printer=None):\n",
    "        return printer.doprint(self.args)\n",
    "\n",
    "\n",
    "class Context:\n",
    "\n",
    "    def __init__(self, numSpecies: int):\n",
    "        self.D = numSpecies\n",
    "        self.gamma = IndexedBase('\\gamma', integer=True, shape=self.D)\n",
    "\n",
    "    def compartment(self, *args):\n",
    "        return Compartment(*args)\n",
    "\n",
    "    def change(self, *args):\n",
    "        return ContentChange(*args)\n",
    "\n",
    "    def __str__(self):\n",
    "        return f'Context({self.D})'\n",
    "\n",
    "\n",
    "    def doit(self, transition):\n",
    "        DM = Function('\\Delta\\mathcal{M}', real=True)\n",
    "        mchange = Eq(DM(self.gamma), self.deltaM(transition))\n",
    "        display(mchange)\n",
    "\n",
    "\n",
    "    def deltaM(self, transition):\n",
    "        return self.__deltaMExpr(transition.rhs) - self.__deltaMExpr(transition.lhs)\n",
    "\n",
    "\n",
    "    def __deltaMExpr(self, expr):\n",
    "        if expr.func == Compartment:\n",
    "            content = expr.args[ 0 ]\n",
    "            species = self.__getContentPerSpecies(content);\n",
    "            return self.__getGamma(species)\n",
    "        elif expr.func == EmptySet:\n",
    "            return 0\n",
    "        elif expr.func == Integer:\n",
    "            return expr\n",
    "        elif expr.func == Add:\n",
    "            return Add(*[self.__deltaMExpr(i) for i in expr.args])\n",
    "        elif expr.func == Mul:\n",
    "            return Mul(*[self.__deltaMExpr(i) for i in expr.args])\n",
    "        else:\n",
    "            raise TypeError( \"Unexpected expression \" + str(expr))\n",
    "\n",
    "\n",
    "    def __getContentPerSpecies(self, content):\n",
    "        \"\"\"Get an array of scalars representing compartment content for species 0..D\"\"\"\n",
    "\n",
    "        if content.func == Add:\n",
    "            xs = [self.__getContentPerSpecies(arg) for arg in content.args]\n",
    "            return [Add(*x) for x in zip(*xs)]\n",
    "        elif content.func == Mul:\n",
    "            xs = [self.__getContentPerSpecies(arg) for arg in content.args]\n",
    "            return [Mul(*x) for x in zip(*xs)]\n",
    "        elif content.func == IndexedBase:\n",
    "            return [content[i] for i in range(self.D)]\n",
    "        elif content.func == ContentChange:\n",
    "            return [content.args[i] for i in range(self.D)]\n",
    "        elif content.func == Integer:\n",
    "            return [content] * self.D\n",
    "        else:\n",
    "            raise TypeError( \"Unexpected expression \" + str(content))\n",
    "\n",
    "\n",
    "    def __getGamma(self, content):\n",
    "        return Mul(*[content[i] ** self.gamma[i] for i in range(self.D)])\n",
    "\n",
    "\n",
    "\n",
    "\n",
    "class Transition(Basic):\n",
    "    def __init__(self, lhs, rhs):\n",
    "        self.lhs = lhs\n",
    "        self.rhs = rhs\n",
    "\n",
    "    def __str__(self):\n",
    "        return f'{self.lhs} ---> {self.rhs})'\n",
    "\n",
    "    def _latex(self, printer=None):\n",
    "        # Always use printer.doprint() otherwise nested expressions won't\n",
    "        # work. See the example of ModOpWrong.\n",
    "        l = printer.doprint(self.lhs)\n",
    "        r = printer.doprint(self.rhs)\n",
    "        return l + '\\longrightarrow{}' + r\n"
   ]
  },
  {
   "cell_type": "code",
   "execution_count": 15,
   "metadata": {},
   "outputs": [
    {
     "data": {
      "text/latex": [
       "$$\\left[X\\right]\\longrightarrow{}\\emptyset$$"
      ],
      "text/plain": [
       "[X] ---> EmptySet())"
      ]
     },
     "metadata": {},
     "output_type": "display_data"
    },
    {
     "data": {
      "image/png": "[encoded data removed]",
      "text/latex": [
       "$$\\Delta\\mathcal{M}{\\left (\\gamma \\right )} = - {X}_{0}^{{\\gamma}_{0}} {X}_{1}^{{\\gamma}_{1}}$$"
      ],
      "text/plain": [
       "                                 \\gamma[0]     \\gamma[1]\n",
       "\\Delta\\mathcal{M}(\\gamma) = -X[0]         ⋅X[1]         "
      ]
     },
     "metadata": {},
     "output_type": "display_data"
    }
   ],
   "source": [
    "C = Context(2)\n",
    "\n",
    "X = IndexedBase('X', integer=True, shape=C.D)\n",
    "Y = IndexedBase('Y', integer=True, shape=C.D)\n",
    "Exit = Transition(C.compartment(X), EmptySet())\n",
    "display(Exit)\n",
    "C.doit(Exit)"
   ]
  },
  {
   "cell_type": "code",
   "execution_count": 16,
   "metadata": {},
   "outputs": [
    {
     "data": {
      "text/latex": [
       "$$\\left[X\\right] + \\left[Y\\right]\\longrightarrow{}\\left[X + Y\\right]$$"
      ],
      "text/plain": [
       "[X] + [Y] ---> [X + Y])"
      ]
     },
     "metadata": {},
     "output_type": "display_data"
    },
    {
     "data": {
      "image/png": "[encoded data removed]",
      "text/latex": [
       "$$\\Delta\\mathcal{M}{\\left (\\gamma \\right )} = \\left({X}_{0} + {Y}_{0}\\right)^{{\\gamma}_{0}} \\left({X}_{1} + {Y}_{1}\\right)^{{\\gamma}_{1}} - {X}_{0}^{{\\gamma}_{0}} {X}_{1}^{{\\gamma}_{1}} - {Y}_{0}^{{\\gamma}_{0}} {Y}_{1}^{{\\gamma}_{1}}$$"
      ],
      "text/plain": [
       "                                         \\gamma[0]              \\gamma[1]     \n",
       "\\Delta\\mathcal{M}(\\gamma) = (X[0] + Y[0])         ⋅(X[1] + Y[1])          - X[\n",
       "\n",
       "  \\gamma[0]     \\gamma[1]       \\gamma[0]     \\gamma[1]\n",
       "0]         ⋅X[1]          - Y[0]         ⋅Y[1]         "
      ]
     },
     "metadata": {},
     "output_type": "display_data"
    }
   ],
   "source": [
    "Coagulation = Transition(C.compartment(Y) + C.compartment(X), C.compartment(X+Y))\n",
    "display(Coagulation)\n",
    "C.doit(Coagulation)"
   ]
  },
  {
   "cell_type": "code",
   "execution_count": 17,
   "metadata": {},
   "outputs": [
    {
     "data": {
      "image/png": "[encoded data removed]",
      "text/latex": [
       "$$\\left({X}_{1} - 1\\right) {X}_{1}$$"
      ],
      "text/plain": [
       "(X[1] - 1)⋅X[1]"
      ]
     },
     "execution_count": 17,
     "metadata": {},
     "output_type": "execute_result"
    }
   ],
   "source": [
    "ff(X[1],2)"
   ]
  },
  {
   "cell_type": "code",
   "execution_count": 18,
   "metadata": {},
   "outputs": [
    {
     "data": {
      "image/png": "[encoded data removed]",
      "text/latex": [
       "$$6$$"
      ],
      "text/plain": [
       "6"
      ]
     },
     "execution_count": 18,
     "metadata": {},
     "output_type": "execute_result"
    }
   ],
   "source": [
    "factorial(3)"
   ]
  },
  {
   "cell_type": "code",
   "execution_count": null,
   "metadata": {},
   "outputs": [],
   "source": []
  }
 ],
 "metadata": {
  "kernelspec": {
   "display_name": "Python 3",
   "language": "python",
   "name": "python3"
  },
  "language_info": {
   "codemirror_mode": {
    "name": "ipython",
    "version": 3
   },
   "file_extension": ".py",
   "mimetype": "text/x-python",
   "name": "python",
   "nbconvert_exporter": "python",
   "pygments_lexer": "ipython3",
   "version": "3.7.3"
  }
 },
 "nbformat": 4,
 "nbformat_minor": 2
}
