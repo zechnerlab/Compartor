{
 "cells": [
  {
   "cell_type": "markdown",
   "metadata": {},
   "source": [
    "# Deriving expected moment dynamics\n",
    "$$\n",
    "\\def\\n{\\mathbf{n}}\n",
    "\\def\\x{\\mathbf{x}}\n",
    "\\def\\N{\\mathbb{\\mathbb{N}}}\n",
    "\\def\\X{\\mathbb{X}}\n",
    "\\def\\NX{\\mathbb{\\N_0^\\X}}\n",
    "\\def\\C{\\mathcal{C}}\n",
    "\\def\\Jc{\\mathcal{J}_c}\n",
    "\\def\\DM{\\Delta M_{c,j}}\n",
    "\\newcommand\\diff{\\mathop{}\\!\\mathrm{d}}\n",
    "\\def\\Xc{\\mathbf{X}_c}\n",
    "\\def\\Yc{\\mathbf{Y}_c}\n",
    "\\newcommand{\\muset}[1]{\\dot{\\{}#1\\dot{\\}}}\n",
    "$$"
   ]
  },
  {
   "cell_type": "code",
   "execution_count": 1,
   "metadata": {},
   "outputs": [],
   "source": [
    "# initialize sympy printing (for latex output)\n",
    "from sympy import init_printing\n",
    "init_printing()\n",
    "\n",
    "# import functions and classes for compartment models\n",
    "from compartments import *\n",
    "from compartments_display import *"
   ]
  },
  {
   "cell_type": "markdown",
   "metadata": {},
   "source": [
    "## Specifying the reaction network\n",
    "\n",
    "As in the previous HOWTO, first specify a reaction network.\n",
    "We use again the nested birth-death process example."
   ]
  },
  {
   "cell_type": "code",
   "execution_count": 2,
   "metadata": {},
   "outputs": [
    {
     "data": {
      "text/latex": [
       "$$\\emptyset\\overset{h_I}{\\longrightarrow}\\left[y\\right]$$"
      ],
      "text/plain": [
       "EmptySet() ---> [y])"
      ]
     },
     "metadata": {},
     "output_type": "display_data"
    },
    {
     "data": {
      "image/png": "[encoded data removed]",
      "text/latex": [
       "$$h_{I} = \\pi_I k_{I}$$"
      ],
      "text/plain": [
       "h_{I} = \\pi_I⋅k_I"
      ]
     },
     "metadata": {},
     "output_type": "display_data"
    },
    {
     "data": {
      "text/latex": [
       "$$\\left[x\\right]\\overset{h_E}{\\longrightarrow}\\emptyset$$"
      ],
      "text/plain": [
       "[x] ---> EmptySet())"
      ]
     },
     "metadata": {},
     "output_type": "display_data"
    },
    {
     "data": {
      "image/png": "[encoded data removed]",
      "text/latex": [
       "$$h_{E} = k_{E} n{\\left (x \\right )}$$"
      ],
      "text/plain": [
       "h_{E} = k_E⋅n(x)"
      ]
     },
     "metadata": {},
     "output_type": "display_data"
    },
    {
     "data": {
      "text/latex": [
       "$$\\left[x\\right]\\overset{h_b}{\\longrightarrow}\\left[\\left ( 1\\right ) + x\\right]$$"
      ],
      "text/plain": [
       "[x] ---> [(1,) + x])"
      ]
     },
     "metadata": {},
     "output_type": "display_data"
    },
    {
     "data": {
      "image/png": "[encoded data removed]",
      "text/latex": [
       "$$h_{b} = k_{b} n{\\left (x \\right )}$$"
      ],
      "text/plain": [
       "h_{b} = k_b⋅n(x)"
      ]
     },
     "metadata": {},
     "output_type": "display_data"
    },
    {
     "data": {
      "text/latex": [
       "$$\\left[x\\right]\\overset{h_d}{\\longrightarrow}\\left[\\left ( -1\\right ) + x\\right]$$"
      ],
      "text/plain": [
       "[x] ---> [(-1,) + x])"
      ]
     },
     "metadata": {},
     "output_type": "display_data"
    },
    {
     "data": {
      "image/png": "[encoded data removed]",
      "text/latex": [
       "$$h_{d} = k_{d} n{\\left (x \\right )} {x}_{0}$$"
      ],
      "text/plain": [
       "h_{d} = k_d⋅n(x)⋅x[0]"
      ]
     },
     "metadata": {},
     "output_type": "display_data"
    }
   ],
   "source": [
    "D = 1 # number of species\n",
    "\n",
    "y = ContentVar('y')\n",
    "x = ContentVar('x')\n",
    "\n",
    "# Intake\n",
    "transition_I = Transition(EmptySet(), Compartment(y), name='I')\n",
    "k_I = Constant('k_I')\n",
    "g_I = 1\n",
    "pi_I = pi_c_poisson(\n",
    "    Symbol(\"\\pi_I\", positive=True),\n",
    "    y[0],\n",
    "    Symbol(\"\\lambda\", positive=True))\n",
    "\n",
    "# Exit\n",
    "transition_E = Transition(Compartment(x), EmptySet(), name='E')\n",
    "k_E = Constant('k_E')\n",
    "g_E = 1\n",
    "pi_E = pi_c_identity()\n",
    "\n",
    "# birth\n",
    "transition_b = Transition(Compartment(x), Compartment(x + ContentChange(1)), name='b')\n",
    "k_b = Constant('k_b')\n",
    "g_b = 1\n",
    "pi_b = pi_c_identity()\n",
    "\n",
    "# death\n",
    "transition_d = Transition(Compartment(x), Compartment(x + ContentChange(-1)), name='d')\n",
    "k_d = Constant('k_d')\n",
    "g_d = x[0] # TODO x should be enough here, in case D=1.\n",
    "pi_d = pi_c_identity()\n",
    "\n",
    "transitions = [\n",
    "    (transition_I, k_I, g_I, pi_I),\n",
    "    (transition_E, k_E, g_E, pi_E),\n",
    "    (transition_b, k_b, g_b, pi_b),\n",
    "    (transition_d, k_d, g_d, pi_d)\n",
    "]\n",
    "\n",
    "display_transitions(transitions)"
   ]
  },
  {
   "cell_type": "markdown",
   "metadata": {},
   "source": [
    "## Deriving expected moment dynamics\n",
    "\n",
    "Next we specify the moments we want to derive, for example, $N$, $N^2$, $M^1$, and $(M^1)^2$.\n",
    "\n",
    "To denote a particular moment, use the `Moment` class. It takes as constructor arguments the integer exponents in each species."
   ]
  },
  {
   "cell_type": "code",
   "execution_count": 4,
   "metadata": {},
   "outputs": [
    {
     "data": {
      "text/latex": [
       "$$\\left\\{M^{0}, {\\left(M^{0}\\right)}^{2}, M^{1}, {\\left(M^{1}\\right)}^{2}\\right\\}$$"
      ],
      "text/plain": [
       "⎧                 2                      2   ⎫\n",
       "⎨Moment(0), Moment (0), Moment(1), Moment (1)⎬\n",
       "⎩                                            ⎭"
      ]
     },
     "metadata": {},
     "output_type": "display_data"
    }
   ],
   "source": [
    "moments = {\n",
    "    Moment(0),\n",
    "    Moment(0)**2,\n",
    "    Moment(1),\n",
    "    Moment(1)**2\n",
    "}\n",
    "display(moments)"
   ]
  },
  {
   "cell_type": "markdown",
   "metadata": {},
   "source": [
    "Then call the function `compute_moment_evolutions()`, giving the reaction network, the desired moment expressions, and the number of species."
   ]
  },
  {
   "cell_type": "code",
   "execution_count": 6,
   "metadata": {},
   "outputs": [],
   "source": [
    "(evolutions, missing) = compute_moment_evolutions(transitions, moments, D)"
   ]
  },
  {
   "cell_type": "markdown",
   "metadata": {},
   "source": [
    "The result is a pair `(evolutions, missing)`.\n",
    "\n",
    "`evolutions` are the expressions for the expectation of the desired moment expressions.\n",
    "`evolutions` is a list of pairs `(fM, dfMdt)`, where each pair consists of the desired moment expression, and the derived expression for its derivative by $t$.\n",
    "\n",
    "`missing` is a set of moment expressions that are reuired in the derivatives, but are not known yet (not listed in desired `moments`).\n",
    "\n",
    "To display the derived evolutions, use the `display_expected_moment_evolutions()` function."
   ]
  },
  {
   "cell_type": "code",
   "execution_count": 7,
   "metadata": {},
   "outputs": [
    {
     "data": {
      "text/latex": [
       "$$\\frac{d}{d t} \\left< N\\right>  = - k_{E} \\left< N\\right>  + k_{I}$$"
      ],
      "text/plain": [
       "d                                             \n",
       "──(Expectation(N)) = -k_E⋅Expectation(N) + k_I\n",
       "dt                                            "
      ]
     },
     "metadata": {},
     "output_type": "display_data"
    },
    {
     "data": {
      "text/latex": [
       "$$\\frac{d}{d t} \\left< {\\left(M^{1}\\right)}^{2}\\right>  = \\lambda^{2} k_{I} + 2 \\lambda k_{I} \\left< M^{1}\\right>  + \\lambda k_{I} - 2 k_{E} \\left< {\\left(M^{1}\\right)}^{2}\\right>  + k_{E} \\left< M^{2}\\right>  + k_{b} \\left< N\\right>  + 2 k_{b} \\left< N M^{1}\\right>  + k_{d} \\left< M^{1}\\right>  - 2 k_{d} \\left< {\\left(M^{1}\\right)}^{2}\\right> $$"
      ],
      "text/plain": [
       "d ⎛           ⎛      2   ⎞⎞          2                                        \n",
       "──⎝Expectation⎝Moment (1)⎠⎠ = \\lambda ⋅k_I + 2⋅\\lambda⋅k_I⋅Expectation(Moment(\n",
       "dt                                                                            \n",
       "\n",
       "                                     ⎛      2   ⎞                             \n",
       "1)) + \\lambda⋅k_I - 2⋅k_E⋅Expectation⎝Moment (1)⎠ + k_E⋅Expectation(Moment(2))\n",
       "                                                                              \n",
       "\n",
       "                                                                              \n",
       " + k_b⋅Expectation(N) + 2⋅k_b⋅Expectation(N⋅Moment(1)) + k_d⋅Expectation(Momen\n",
       "                                                                              \n",
       "\n",
       "                         ⎛      2   ⎞\n",
       "t(1)) - 2⋅k_d⋅Expectation⎝Moment (1)⎠\n",
       "                                     "
      ]
     },
     "metadata": {},
     "output_type": "display_data"
    },
    {
     "data": {
      "text/latex": [
       "$$\\frac{d}{d t} \\left< M^{1}\\right>  = \\lambda k_{I} - k_{E} \\left< M^{1}\\right>  + k_{b} \\left< N\\right>  - k_{d} \\left< M^{1}\\right> $$"
      ],
      "text/plain": [
       "d                                                                             \n",
       "──(Expectation(Moment(1))) = \\lambda⋅k_I - k_E⋅Expectation(Moment(1)) + k_b⋅Ex\n",
       "dt                                                                            \n",
       "\n",
       "                                         \n",
       "pectation(N) - k_d⋅Expectation(Moment(1))\n",
       "                                         "
      ]
     },
     "metadata": {},
     "output_type": "display_data"
    },
    {
     "data": {
      "text/latex": [
       "$$\\frac{d}{d t} \\left< N^{2}\\right>  = k_{E} \\left< N\\right>  - 2 k_{E} \\left< N^{2}\\right>  + 2 k_{I} \\left< N\\right>  + k_{I}$$"
      ],
      "text/plain": [
       "d ⎛           ⎛ 2⎞⎞                                         ⎛ 2⎞              \n",
       "──⎝Expectation⎝N ⎠⎠ = k_E⋅Expectation(N) - 2⋅k_E⋅Expectation⎝N ⎠ + 2⋅k_I⋅Expec\n",
       "dt                                                                            \n",
       "\n",
       "               \n",
       "tation(N) + k_I\n",
       "               "
      ]
     },
     "metadata": {},
     "output_type": "display_data"
    }
   ],
   "source": [
    "display_expected_moment_evolutions(evolutions, D)"
   ]
  },
  {
   "cell_type": "markdown",
   "metadata": {},
   "source": [
    "The missing moment expressions occuring in these equations are `missing`."
   ]
  },
  {
   "cell_type": "code",
   "execution_count": 8,
   "metadata": {},
   "outputs": [
    {
     "data": {
      "text/latex": [
       "$$\\left\\{M^{0} M^{1}, M^{2}\\right\\}$$"
      ],
      "text/plain": [
       "{Moment(0)⋅Moment(1), Moment(2)}"
      ]
     },
     "execution_count": 8,
     "metadata": {},
     "output_type": "execute_result"
    }
   ],
   "source": [
    "missing"
   ]
  },
  {
   "cell_type": "markdown",
   "metadata": {},
   "source": [
    "Now, we can iterate the process to also get these moments."
   ]
  },
  {
   "cell_type": "code",
   "execution_count": 10,
   "metadata": {},
   "outputs": [
    {
     "data": {
      "text/latex": [
       "$$\\frac{d}{d t} \\left< N M^{1}\\right>  = \\lambda k_{I} \\left< N\\right>  + \\lambda k_{I} - 2 k_{E} \\left< N M^{1}\\right>  + k_{E} \\left< M^{1}\\right>  + k_{I} \\left< M^{1}\\right>  + k_{b} \\left< N^{2}\\right>  - k_{d} \\left< N M^{1}\\right> $$"
      ],
      "text/plain": [
       "d                                                                             \n",
       "──(Expectation(N⋅Moment(1))) = \\lambda⋅k_I⋅Expectation(N) + \\lambda⋅k_I - 2⋅k_\n",
       "dt                                                                            \n",
       "\n",
       "                                                                              \n",
       "E⋅Expectation(N⋅Moment(1)) + k_E⋅Expectation(Moment(1)) + k_I⋅Expectation(Mome\n",
       "                                                                              \n",
       "\n",
       "                        ⎛ 2⎞                               \n",
       "nt(1)) + k_b⋅Expectation⎝N ⎠ - k_d⋅Expectation(N⋅Moment(1))\n",
       "                                                           "
      ]
     },
     "metadata": {},
     "output_type": "display_data"
    },
    {
     "data": {
      "text/latex": [
       "$$\\frac{d}{d t} \\left< M^{2}\\right>  = \\lambda^{2} k_{I} + \\lambda k_{I} - k_{E} \\left< M^{2}\\right>  + k_{b} \\left< N\\right>  + 2 k_{b} \\left< M^{1}\\right>  + k_{d} \\left< M^{1}\\right>  - 2 k_{d} \\left< M^{2}\\right> $$"
      ],
      "text/plain": [
       "d                                   2                                         \n",
       "──(Expectation(Moment(2))) = \\lambda ⋅k_I + \\lambda⋅k_I - k_E⋅Expectation(Mome\n",
       "dt                                                                            \n",
       "\n",
       "                                                                              \n",
       "nt(2)) + k_b⋅Expectation(N) + 2⋅k_b⋅Expectation(Moment(1)) + k_d⋅Expectation(M\n",
       "                                                                              \n",
       "\n",
       "                                        \n",
       "oment(1)) - 2⋅k_d⋅Expectation(Moment(2))\n",
       "                                        "
      ]
     },
     "metadata": {},
     "output_type": "display_data"
    }
   ],
   "source": [
    "(evolutions2, missing2) = compute_moment_evolutions(transitions, missing, D, provided=moments)\n",
    "display_expected_moment_evolutions(evolutions2, D)"
   ]
  },
  {
   "cell_type": "markdown",
   "metadata": {},
   "source": [
    "In this example, the system is closed, as there are no more missing moment expressions."
   ]
  },
  {
   "cell_type": "code",
   "execution_count": 13,
   "metadata": {},
   "outputs": [
    {
     "data": {
      "image/png": "[encoded data removed]",
      "text/latex": [
       "$$\\left\\{\\right\\}$$"
      ],
      "text/plain": [
       "set()"
      ]
     },
     "execution_count": 13,
     "metadata": {},
     "output_type": "execute_result"
    }
   ],
   "source": [
    "missing2"
   ]
  },
  {
   "cell_type": "markdown",
   "metadata": {},
   "source": [
    "Otherwise, the above process can be iterated until convergence or up to the desired order of moments (and applying a moment closure)."
   ]
  }
 ],
 "metadata": {
  "kernelspec": {
   "display_name": "Python 3",
   "language": "python",
   "name": "python3"
  },
  "language_info": {
   "codemirror_mode": {
    "name": "ipython",
    "version": 3
   },
   "file_extension": ".py",
   "mimetype": "text/x-python",
   "name": "python",
   "nbconvert_exporter": "python",
   "pygments_lexer": "ipython3",
   "version": "3.7.3"
  }
 },
 "nbformat": 4,
 "nbformat_minor": 2
}
