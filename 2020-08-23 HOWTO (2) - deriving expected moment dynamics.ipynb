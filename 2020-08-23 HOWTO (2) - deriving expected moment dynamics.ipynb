{
 "cells": [
  {
   "cell_type": "markdown",
   "metadata": {},
   "source": [
    "# Deriving expected moment dynamics\n",
    "$$\n",
    "\\def\\n{\\mathbf{n}}\n",
    "\\def\\x{\\mathbf{x}}\n",
    "\\def\\N{\\mathbb{\\mathbb{N}}}\n",
    "\\def\\X{\\mathbb{X}}\n",
    "\\def\\NX{\\mathbb{\\N_0^\\X}}\n",
    "\\def\\C{\\mathcal{C}}\n",
    "\\def\\Jc{\\mathcal{J}_c}\n",
    "\\def\\DM{\\Delta M_{c,j}}\n",
    "\\newcommand\\diff{\\mathop{}\\!\\mathrm{d}}\n",
    "\\def\\Xc{\\mathbf{X}_c}\n",
    "\\def\\Yc{\\mathbf{Y}_c}\n",
    "\\newcommand{\\muset}[1]{\\dot{\\{}#1\\dot{\\}}}\n",
    "$$"
   ]
  },
  {
   "cell_type": "code",
   "execution_count": 4,
   "metadata": {},
   "outputs": [],
   "source": [
    "# initialize sympy printing (for latex output)\n",
    "from sympy import init_printing\n",
    "init_printing()\n",
    "\n",
    "# import functions and classes for compartment models\n",
    "from compartments import *\n",
    "from compartments_display import *"
   ]
  },
  {
   "cell_type": "markdown",
   "metadata": {},
   "source": [
    "## Specifying the reaction network\n",
    "\n",
    "As in the previous HOWTO, first specify a reaction network.\n",
    "We use again the nested birth-death process example."
   ]
  },
  {
   "cell_type": "code",
   "execution_count": 7,
   "metadata": {},
   "outputs": [
    {
     "data": {
      "text/latex": [
       "$$\\emptyset\\overset{h_I}{\\longrightarrow}\\left[y\\right]$$"
      ],
      "text/plain": [
       "EmptySet() ---> [y])"
      ]
     },
     "metadata": {},
     "output_type": "display_data"
    },
    {
     "data": {
      "image/png": "[encoded data removed]",
      "text/latex": [
       "$$h_{I} = \\pi_I k_{I}$$"
      ],
      "text/plain": [
       "h_{I} = \\pi_I⋅k_I"
      ]
     },
     "metadata": {},
     "output_type": "display_data"
    },
    {
     "data": {
      "text/latex": [
       "$$\\left[x\\right]\\overset{h_E}{\\longrightarrow}\\emptyset$$"
      ],
      "text/plain": [
       "[x] ---> EmptySet())"
      ]
     },
     "metadata": {},
     "output_type": "display_data"
    },
    {
     "data": {
      "image/png": "[encoded data removed]",
      "text/latex": [
       "$$h_{E} = k_{E} n{\\left (x \\right )}$$"
      ],
      "text/plain": [
       "h_{E} = k_E⋅n(x)"
      ]
     },
     "metadata": {},
     "output_type": "display_data"
    },
    {
     "data": {
      "text/latex": [
       "$$\\left[x\\right]\\overset{h_b}{\\longrightarrow}\\left[\\left ( 1\\right ) + x\\right]$$"
      ],
      "text/plain": [
       "[x] ---> [(1,) + x])"
      ]
     },
     "metadata": {},
     "output_type": "display_data"
    },
    {
     "data": {
      "image/png": "[encoded data removed]",
      "text/latex": [
       "$$h_{b} = k_{b} n{\\left (x \\right )}$$"
      ],
      "text/plain": [
       "h_{b} = k_b⋅n(x)"
      ]
     },
     "metadata": {},
     "output_type": "display_data"
    },
    {
     "data": {
      "text/latex": [
       "$$\\left[x\\right]\\overset{h_d}{\\longrightarrow}\\left[\\left ( -1\\right ) + x\\right]$$"
      ],
      "text/plain": [
       "[x] ---> [(-1,) + x])"
      ]
     },
     "metadata": {},
     "output_type": "display_data"
    },
    {
     "data": {
      "image/png": "[encoded data removed]",
      "text/latex": [
       "$$h_{d} = k_{d} n{\\left (x \\right )} {x}_{0}$$"
      ],
      "text/plain": [
       "h_{d} = k_d⋅n(x)⋅x[0]"
      ]
     },
     "metadata": {},
     "output_type": "display_data"
    }
   ],
   "source": [
    "from nested_birth_death import D, transitions\n",
    "display_transitions(transitions)"
   ]
  },
  {
   "cell_type": "markdown",
   "metadata": {},
   "source": [
    "## Deriving expected moment dynamics\n",
    "\n",
    "Next we specify the moments we want to derive, for example, $N$, $N^2$, $M^1$, and $(M^1)^2$.\n",
    "\n",
    "To denote a particular moment, use the `Moment` class. It takes as constructor arguments the integer exponents in each species."
   ]
  },
  {
   "cell_type": "code",
   "execution_count": null,
   "metadata": {},
   "outputs": [],
   "source": [
    "moments = {\n",
    "    Moment(0),\n",
    "    Moment(0)**2,\n",
    "    Moment(1),\n",
    "    Moment(1)**2\n",
    "}\n",
    "display(moments)"
   ]
  },
  {
   "cell_type": "markdown",
   "metadata": {},
   "source": [
    "Then call the function `compute_moment_evolutions()`, giving the reaction network, the desired moment expressions, and the number of species."
   ]
  },
  {
   "cell_type": "code",
   "execution_count": null,
   "metadata": {},
   "outputs": [],
   "source": [
    "(evolutions, missing) = compute_moment_evolutions(transitions, moments, D)"
   ]
  },
  {
   "cell_type": "markdown",
   "metadata": {},
   "source": [
    "The result is a pair `(evolutions, missing)`.\n",
    "\n",
    "`evolutions` are the expressions for the expectation of the desired moment expressions.\n",
    "`evolutions` is a list of pairs `(fM, dfMdt)`, where each pair consists of the desired moment expression, and the derived expression for its derivative by $t$.\n",
    "\n",
    "`missing` is a set of moment expressions that are reuired in the derivatives, but are not known yet (not listed in desired `moments`).\n",
    "\n",
    "To display the derived evolutions, use the `display_expected_moment_evolutions()` function."
   ]
  },
  {
   "cell_type": "code",
   "execution_count": null,
   "metadata": {},
   "outputs": [],
   "source": [
    "display_expected_moment_evolutions(evolutions, D)"
   ]
  },
  {
   "cell_type": "markdown",
   "metadata": {},
   "source": [
    "The missing moment expressions occuring in these equations are `missing`."
   ]
  },
  {
   "cell_type": "code",
   "execution_count": null,
   "metadata": {},
   "outputs": [],
   "source": [
    "missing"
   ]
  },
  {
   "cell_type": "markdown",
   "metadata": {},
   "source": [
    "Now, we can iterate the process to also get these moments."
   ]
  },
  {
   "cell_type": "code",
   "execution_count": null,
   "metadata": {},
   "outputs": [],
   "source": [
    "(evolutions2, missing2) = compute_moment_evolutions(transitions, missing, D, provided=moments)\n",
    "display_expected_moment_evolutions(evolutions2, D)"
   ]
  },
  {
   "cell_type": "markdown",
   "metadata": {},
   "source": [
    "In this example, the system is closed, as there are no more missing moment expressions."
   ]
  },
  {
   "cell_type": "code",
   "execution_count": null,
   "metadata": {},
   "outputs": [],
   "source": [
    "missing2"
   ]
  },
  {
   "cell_type": "markdown",
   "metadata": {},
   "source": [
    "Otherwise, the above process can be iterated until convergence or up to the desired order of moments (and applying a moment closure)."
   ]
  }
 ],
 "metadata": {
  "kernelspec": {
   "display_name": "Python 3",
   "language": "python",
   "name": "python3"
  },
  "language_info": {
   "codemirror_mode": {
    "name": "ipython",
    "version": 3
   },
   "file_extension": ".py",
   "mimetype": "text/x-python",
   "name": "python",
   "nbconvert_exporter": "python",
   "pygments_lexer": "ipython3",
   "version": "3.7.3"
  }
 },
 "nbformat": 4,
 "nbformat_minor": 2
}
