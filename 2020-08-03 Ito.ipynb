{
 "cells": [
  {
   "cell_type": "code",
   "execution_count": 1,
   "metadata": {},
   "outputs": [],
   "source": [
    "from ito import *\n",
    "from sympy import *\n",
    "init_printing()"
   ]
  },
  {
   "cell_type": "code",
   "execution_count": 2,
   "metadata": {},
   "outputs": [],
   "source": [
    "def doit(expr):\n",
    "    display(expr)    \n",
    "    display(ito(expr))\n"
   ]
  },
  {
   "cell_type": "code",
   "execution_count": 3,
   "metadata": {},
   "outputs": [
    {
     "data": {
      "text/latex": [
       "$${\\left(M^{0}\\right)}^{3} {\\left(M^{1}\\right)}^{2}$$"
      ],
      "text/plain": [
       "      3          2   \n",
       "Moment (0)⋅Moment (1)"
      ]
     },
     "metadata": {},
     "output_type": "display_data"
    },
    {
     "data": {
      "text/latex": [
       "$${\\left(\\Delta{}M^{0}\\right)}^{3} {\\left(\\Delta{}M^{1}\\right)}^{2} + 2 {\\left(\\Delta{}M^{0}\\right)}^{3} \\Delta{}M^{1} M^{1} + {\\left(\\Delta{}M^{0}\\right)}^{3} {\\left(M^{1}\\right)}^{2} + 3 {\\left(\\Delta{}M^{0}\\right)}^{2} {\\left(\\Delta{}M^{1}\\right)}^{2} M^{0} + 6 {\\left(\\Delta{}M^{0}\\right)}^{2} \\Delta{}M^{1} M^{0} M^{1} + 3 {\\left(\\Delta{}M^{0}\\right)}^{2} M^{0} {\\left(M^{1}\\right)}^{2} + 3 \\Delta{}M^{0} {\\left(\\Delta{}M^{1}\\right)}^{2} {\\left(M^{0}\\right)}^{2} + 6 \\Delta{}M^{0} \\Delta{}M^{1} {\\left(M^{0}\\right)}^{2} M^{1} + 3 \\Delta{}M^{0} {\\left(M^{0}\\right)}^{2} {\\left(M^{1}\\right)}^{2} + {\\left(\\Delta{}M^{1}\\right)}^{2} {\\left(M^{0}\\right)}^{3} + 2 \\Delta{}M^{1} {\\left(M^{0}\\right)}^{3} M^{1}$$"
      ],
      "text/plain": [
       "      3          2              3                                3          2 \n",
       "DeltaM (0)⋅DeltaM (1) + 2⋅DeltaM (0)⋅DeltaM(1)⋅Moment(1) + DeltaM (0)⋅Moment (\n",
       "\n",
       "             2          2                        2                            \n",
       "1) + 3⋅DeltaM (0)⋅DeltaM (1)⋅Moment(0) + 6⋅DeltaM (0)⋅DeltaM(1)⋅Moment(0)⋅Mome\n",
       "\n",
       "                2                    2                        2          2    \n",
       "nt(1) + 3⋅DeltaM (0)⋅Moment(0)⋅Moment (1) + 3⋅DeltaM(0)⋅DeltaM (1)⋅Moment (0) \n",
       "\n",
       "                              2                                  2          2 \n",
       "+ 6⋅DeltaM(0)⋅DeltaM(1)⋅Moment (0)⋅Moment(1) + 3⋅DeltaM(0)⋅Moment (0)⋅Moment (\n",
       "\n",
       "           2          3                        3             \n",
       "1) + DeltaM (1)⋅Moment (0) + 2⋅DeltaM(1)⋅Moment (0)⋅Moment(1)"
      ]
     },
     "metadata": {},
     "output_type": "display_data"
    }
   ],
   "source": [
    "m0 = Moment(0)\n",
    "m1 = Moment(1)\n",
    "\n",
    "doit(m0**3*m1**2)"
   ]
  },
  {
   "cell_type": "code",
   "execution_count": 4,
   "metadata": {},
   "outputs": [
    {
     "data": {
      "text/latex": [
       "$${\\left(M^{0}\\right)}^{2}$$"
      ],
      "text/plain": [
       "      2   \n",
       "Moment (0)"
      ]
     },
     "metadata": {},
     "output_type": "display_data"
    },
    {
     "data": {
      "text/latex": [
       "$${\\left(\\Delta{}M^{0}\\right)}^{2} + 2 \\Delta{}M^{0} M^{0}$$"
      ],
      "text/plain": [
       "      2                           \n",
       "DeltaM (0) + 2⋅DeltaM(0)⋅Moment(0)"
      ]
     },
     "metadata": {},
     "output_type": "display_data"
    }
   ],
   "source": [
    "doit(m0 * m0)"
   ]
  },
  {
   "cell_type": "code",
   "execution_count": 5,
   "metadata": {},
   "outputs": [
    {
     "data": {
      "text/latex": [
       "$$M^{0} M^{1} + 2 M^{1}$$"
      ],
      "text/plain": [
       "Moment(0)⋅Moment(1) + 2⋅Moment(1)"
      ]
     },
     "metadata": {},
     "output_type": "display_data"
    },
    {
     "data": {
      "text/latex": [
       "$$\\Delta{}M^{0} \\Delta{}M^{1} + \\Delta{}M^{0} M^{1} + \\Delta{}M^{1} M^{0} + 2 \\Delta{}M^{1}$$"
      ],
      "text/plain": [
       "DeltaM(0)⋅DeltaM(1) + DeltaM(0)⋅Moment(1) + DeltaM(1)⋅Moment(0) + 2⋅DeltaM(1)"
      ]
     },
     "metadata": {},
     "output_type": "display_data"
    }
   ],
   "source": [
    "doit(m0 * m1 + 2 * m1 )"
   ]
  }
 ],
 "metadata": {
  "kernelspec": {
   "display_name": "Python 3",
   "language": "python",
   "name": "python3"
  },
  "language_info": {
   "codemirror_mode": {
    "name": "ipython",
    "version": 3
   },
   "file_extension": ".py",
   "mimetype": "text/x-python",
   "name": "python",
   "nbconvert_exporter": "python",
   "pygments_lexer": "ipython3",
   "version": "3.7.3"
  }
 },
 "nbformat": 4,
 "nbformat_minor": 2
}
