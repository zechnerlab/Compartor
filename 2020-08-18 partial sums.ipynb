{
 "cells": [
  {
   "cell_type": "code",
   "execution_count": 1,
   "metadata": {},
   "outputs": [
    {
     "data": {
      "image/png": "[encoded data removed]",
      "text/latex": [
       "$$\\sum_{{y}_{0}=0}^{{x}_{0}} {y}_{0}^{{\\gamma}_{0}}$$"
      ],
      "text/plain": [
       "  x[0]                \n",
       "  ___                 \n",
       "  ╲                   \n",
       "   ╲         \\gamma[0]\n",
       "   ╱     y[0]         \n",
       "  ╱                   \n",
       "  ‾‾‾                 \n",
       "y[0] = 0              "
      ]
     },
     "metadata": {},
     "output_type": "display_data"
    }
   ],
   "source": [
    "from sympy import *\n",
    "from compartmentsB import *\n",
    "init_printing()\n",
    "\n",
    "x = ContentVar('x')\n",
    "y = ContentVar('y')\n",
    "gamma=IndexedBase('\\gamma', integer=True, shape=1)\n",
    "exp = Sum(y[0]**gamma[0], (y[0], 0, x[0]))\n",
    "display(exp)"
   ]
  },
  {
   "cell_type": "code",
   "execution_count": 2,
   "metadata": {},
   "outputs": [
    {
     "data": {
      "image/png": "[encoded data removed]",
      "text/latex": [
       "$${x}_{0} + 1$$"
      ],
      "text/plain": [
       "x[0] + 1"
      ]
     },
     "execution_count": 2,
     "metadata": {},
     "output_type": "execute_result"
    }
   ],
   "source": [
    "exp.subs(gamma[0],0).doit()"
   ]
  }
 ],
 "metadata": {
  "kernelspec": {
   "display_name": "Python 3",
   "language": "python",
   "name": "python3"
  },
  "language_info": {
   "codemirror_mode": {
    "name": "ipython",
    "version": 3
   },
   "file_extension": ".py",
   "mimetype": "text/x-python",
   "name": "python",
   "nbconvert_exporter": "python",
   "pygments_lexer": "ipython3",
   "version": "3.7.3"
  }
 },
 "nbformat": 4,
 "nbformat_minor": 2
}
