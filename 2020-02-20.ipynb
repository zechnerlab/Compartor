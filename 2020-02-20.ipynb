{
 "cells": [
  {
   "cell_type": "code",
   "execution_count": 1,
   "metadata": {},
   "outputs": [],
   "source": [
    "from sympy import *\n",
    "import collections\n",
    "import itertools\n",
    "init_printing()"
   ]
  },
  {
   "cell_type": "code",
   "execution_count": 2,
   "metadata": {},
   "outputs": [
    {
     "data": {
      "image/png": "[encoded data removed]",
      "text/latex": [
       "$$\\delta_{a b}$$"
      ],
      "text/plain": [
       "δ   \n",
       " a,b"
      ]
     },
     "execution_count": 2,
     "metadata": {},
     "output_type": "execute_result"
    }
   ],
   "source": [
    "a,b = symbols('a b')\n",
    "KroneckerDelta(a,b)"
   ]
  },
  {
   "cell_type": "code",
   "execution_count": 3,
   "metadata": {},
   "outputs": [
    {
     "data": {
      "image/png": "[encoded data removed]",
      "text/latex": [
       "$$\\sum_{\\substack{1 \\leq a \\leq \\infty\\\\1 \\leq b \\leq \\infty}} \\delta_{a b}$$"
      ],
      "text/plain": [
       "  ∞     ∞       \n",
       " ___   ___      \n",
       " ╲     ╲        \n",
       "  ╲     ╲   δ   \n",
       "  ╱     ╱    a,b\n",
       " ╱     ╱        \n",
       " ‾‾‾   ‾‾‾      \n",
       "b = 1 a = 1     "
      ]
     },
     "execution_count": 3,
     "metadata": {},
     "output_type": "execute_result"
    }
   ],
   "source": [
    "Sum(Sum(KroneckerDelta(a,b),(a,1,oo)),(b,1,oo))"
   ]
  },
  {
   "cell_type": "code",
   "execution_count": 4,
   "metadata": {},
   "outputs": [],
   "source": [
    "class Compartment(Function):\n",
    "    nargs = 1\n",
    "\n",
    "    def __str__(self):\n",
    "        return f'[{self.args[0]}]'\n",
    "\n",
    "    def _sympystr(self, printer=None):\n",
    "        return f'[{self.args[0]}]'\n",
    "\n",
    "    def _latex(self, printer=None):\n",
    "        return '\\\\left[' + printer.doprint(self.args[0]) + '\\\\right]'\n",
    "\n",
    "\n",
    "class ContentChange(Function):\n",
    "    nargs = 2\n",
    "\n",
    "    def __str__(self):\n",
    "        return f'{self.args}'\n",
    "\n",
    "    def _sympystr(self, printer=None):\n",
    "        return f'{self.args}'\n",
    "\n",
    "    def _latex(self, printer=None):\n",
    "        return printer.doprint(self.args)\n",
    "\n",
    "\n",
    "class Context:\n",
    "\n",
    "    def __init__(self, numSpecies: int):\n",
    "        self.D = numSpecies\n",
    "        self.gamma = IndexedBase('\\gamma', integer=True, shape=self.D)\n",
    "        self.numCompartments = Function('n', integer=True)\n",
    "\n",
    "    def compartment(self, *args):\n",
    "        return Compartment(*args)\n",
    "\n",
    "    def change(self, *args):\n",
    "        return ContentChange(*args)\n",
    "\n",
    "    def n(self, content):\n",
    "        if content.func == Compartment:\n",
    "            return self.n(content.args[0])\n",
    "#         return self.numCompartments(content)\n",
    "        return self.numCompartments(*self.__getContentPerSpecies(content))\n",
    "\n",
    "    def kronecker(self, content1, content2):\n",
    "        if content1.func == Compartment:\n",
    "            return self.kronecker(content1.args[0], content2)\n",
    "        if content2.func == Compartment:\n",
    "            return self.kronecker(content1, content2.args[0])\n",
    "        return KroneckerDelta(content1, content2)\n",
    "\n",
    "    def __str__(self):\n",
    "        return f'Context({self.D})'\n",
    "\n",
    "\n",
    "    def doit(self, transition, propensity):\n",
    "        delta_m = self.deltaM(transition)\n",
    "        content_variables = self.getContentVariables(transition)\n",
    "        mass_action = self.getMassAction(transition)\n",
    "\n",
    "        print(\"deltaM:\")\n",
    "        display(delta_m)\n",
    "        print(\"content variables:\")\n",
    "        display(content_variables)\n",
    "        print(\"mass action:\")\n",
    "        display(mass_action)\n",
    "\n",
    "        (kC, gC, pC) = propensity\n",
    "        expr = kC * delta_m * gC * mass_action * pC\n",
    "        for X in content_variables:\n",
    "            for i in range(self.D):\n",
    "                expr = Sum(expr,(X[i],0,oo))\n",
    "        display(expr)\n",
    "        return expr\n",
    "\n",
    "    \n",
    "    \n",
    "    def getMoment(self, content, *gamma):\n",
    "        if len(gamma) != self.D:\n",
    "            raise RuntimeError(f'expected {self.D} arguments.')\n",
    "        expr = self.__getGamma(content).subs({self.gamma[i]:gamma[i] for i in range(self.D)})\n",
    "        expr *= self.n(content)\n",
    "        for i in range(self.D):\n",
    "            expr = Sum(expr,(content[i],0,oo))\n",
    "        return expr\n",
    "    \n",
    "\n",
    "\n",
    "\n",
    "    # We can handle [x], n*[x], and [x] + [y]\n",
    "    # where n is an integer, and x, y are compartment content variables\n",
    "    def getMassAction(self, transition):\n",
    "        expr = transition.lhs\n",
    "        if expr.func == Add:\n",
    "            summands = [*expr.args]\n",
    "        else:\n",
    "            summands = [expr]\n",
    "        # print(f'summands={summands}')\n",
    "\n",
    "        compartments = collections.defaultdict(int)\n",
    "        for expr in summands:\n",
    "            # print(f'expr = {expr}')\n",
    "            if expr.func == Mul and expr.args[ 0 ].func == Integer and expr.args[ 1 ].func == Compartment:\n",
    "                count = expr.args[0]\n",
    "                compartment = expr.args[1]\n",
    "            elif expr.func == Compartment:\n",
    "                count = 1\n",
    "                compartment = expr\n",
    "            elif expr.func == EmptySet:\n",
    "                continue\n",
    "            compartments[compartment] += count\n",
    "        # for (compartment, count) in compartments.items():\n",
    "        #     print(f'{count} * [{compartment.args[0]}]')\n",
    "\n",
    "        if len(compartments) == 0:\n",
    "            return 1\n",
    "        elif len(compartments) == 1:\n",
    "            (compartment, count) = next(iter(compartments.items()))\n",
    "            self.__checkSimpleCompartment(compartment)\n",
    "            return 1 / factorial(count) * ff(self.n(compartment), count)\n",
    "        elif len(compartments) == 2:\n",
    "            i = iter(compartments.items())\n",
    "            (compartment1, count1) = next(i)\n",
    "            (compartment2, count2) = next(i)\n",
    "            self.__checkSimpleCompartment(compartment1)\n",
    "            self.__checkSimpleCompartment(compartment2)\n",
    "            if count1 != 1 or count2 != 1:\n",
    "                raise RuntimeError(\"Higher than 2nd order transitions are not implemented yet\")\n",
    "            return self.n(compartment1) * (self.n(compartment2) - self.kronecker(compartment1, compartment2))\n",
    "        else:\n",
    "            raise RuntimeError(\"Higher than 2nd order transitions are not implemented yet\")\n",
    "\n",
    "    def __checkSimpleCompartment(self, expr):\n",
    "        \"\"\"Checks that expr is a Compartment(IndexedBase) and throws TypeError if it is not\"\"\"\n",
    "        if not (expr.func == Compartment and len(expr.args) == 1 and expr.args[0].func == IndexedBase):\n",
    "            raise TypeError(\n",
    "                \"Only compartments comprising a singe content variable are supported (not '\" + str(expr) + \"')\")\n",
    "\n",
    "\n",
    "\n",
    "    def getContentVariables(self, transition):\n",
    "        \"\"\"Get set of all content variables occuring in transition\"\"\"\n",
    "        input = [transition.lhs, transition.rhs]\n",
    "        output = []\n",
    "        while input:\n",
    "            expr = input.pop()\n",
    "            if expr.func == Compartment:\n",
    "                content = expr.args[ 0 ]\n",
    "                output += self.__getContentVariables(content)\n",
    "            elif expr.func == Add or expr.func == Mul:\n",
    "                input += expr.args\n",
    "            elif expr.func == EmptySet or expr.func == Integer:\n",
    "                continue\n",
    "            else:\n",
    "                raise TypeError( \"Unexpected expression \" + str(expr))\n",
    "        return list(set(output))\n",
    "\n",
    "    def __getContentVariables(self, content):\n",
    "        if content.func == Add or content.func == Mul:\n",
    "            xs = [self.__getContentVariables(arg) for arg in content.args]\n",
    "            return list(itertools.chain(*xs))\n",
    "        elif content.func == ContentChange or issubclass(content.func, Integer):\n",
    "            return []\n",
    "        elif content.func == IndexedBase:\n",
    "            return [content]\n",
    "        else:\n",
    "            raise TypeError( \"Unexpected expression \" + str(content))\n",
    "\n",
    "\n",
    "\n",
    "    def deltaM(self, transition):\n",
    "        \"\"\"Get $\\Delta\\mathcal{M}[\\gamma]_{transition}$\"\"\"\n",
    "        return self.__deltaMExpr(transition.rhs) - self.__deltaMExpr(transition.lhs)\n",
    "\n",
    "    def __deltaMExpr(self, expr):\n",
    "        if expr.func == Compartment:\n",
    "            content = expr.args[ 0 ]\n",
    "            species = self.__getContentPerSpecies(content);\n",
    "            return self.__getGamma(species)\n",
    "        elif expr.func == EmptySet:\n",
    "            return 0\n",
    "        elif expr.func == Integer:\n",
    "            return expr\n",
    "        elif expr.func == Add:\n",
    "            return Add(*[self.__deltaMExpr(i) for i in expr.args])\n",
    "        elif expr.func == Mul:\n",
    "            return Mul(*[self.__deltaMExpr(i) for i in expr.args])\n",
    "        else:\n",
    "            raise TypeError( \"Unexpected expression \" + str(expr))\n",
    "\n",
    "    def __getContentPerSpecies(self, content):\n",
    "        \"\"\"Get an array of scalars representing compartment content for species 0..D\"\"\"\n",
    "        if content.func == Add:\n",
    "            xs = [self.__getContentPerSpecies(arg) for arg in content.args]\n",
    "            return [Add(*x) for x in zip(*xs)]\n",
    "        elif content.func == Mul:\n",
    "            xs = [self.__getContentPerSpecies(arg) for arg in content.args]\n",
    "            return [Mul(*x) for x in zip(*xs)]\n",
    "        elif content.func == IndexedBase:\n",
    "            return [content[i] for i in range(self.D)]\n",
    "        elif content.func == ContentChange:\n",
    "            return [content.args[i] for i in range(self.D)]\n",
    "        elif issubclass(content.func, Integer):\n",
    "            return [content] * self.D\n",
    "        else:\n",
    "            raise TypeError(\"Unexpected expression \" + str(content))\n",
    "\n",
    "    def __getGamma(self, content):\n",
    "        return Mul(*[content[i] ** self.gamma[i] for i in range(self.D)])\n",
    "\n",
    "\n",
    "\n",
    "class Transition(Basic):\n",
    "    def __init__(self, lhs, rhs):\n",
    "        self.lhs = lhs\n",
    "        self.rhs = rhs\n",
    "\n",
    "    def __str__(self):\n",
    "        return f'{self.lhs} ---> {self.rhs})'\n",
    "\n",
    "    def _latex(self, printer=None):\n",
    "        # Always use printer.doprint() otherwise nested expressions won't\n",
    "        # work. See the example of ModOpWrong.\n",
    "        l = printer.doprint(self.lhs)\n",
    "        r = printer.doprint(self.rhs)\n",
    "        return l + '\\longrightarrow{}' + r"
   ]
  },
  {
   "cell_type": "code",
   "execution_count": 5,
   "metadata": {},
   "outputs": [
    {
     "name": "stdout",
     "output_type": "stream",
     "text": [
      "\n"
     ]
    },
    {
     "data": {
      "text/latex": [
       "$$\\left[\\left ( 1, \\quad 2\\right ) + 2 X\\right]\\longrightarrow{}\\emptyset$$"
      ],
      "text/plain": [
       "[(1, 2) + 2*X] ---> EmptySet())"
      ]
     },
     "metadata": {},
     "output_type": "display_data"
    }
   ],
   "source": [
    "C = Context(2)\n",
    "\n",
    "X = IndexedBase('X', integer=True, shape=C.D)\n",
    "Y = IndexedBase('Y', integer=True, shape=C.D)\n",
    "\n",
    "print()\n",
    "\n",
    "Exit = Transition(C.compartment(2*X + C.change(1,2)), EmptySet())\n",
    "display(Exit)"
   ]
  },
  {
   "cell_type": "code",
   "execution_count": 6,
   "metadata": {},
   "outputs": [
    {
     "data": {
      "text/latex": [
       "$$\\left[X\\right]\\longrightarrow{}\\emptyset$$"
      ],
      "text/plain": [
       "[X] ---> EmptySet())"
      ]
     },
     "metadata": {},
     "output_type": "display_data"
    },
    {
     "name": "stdout",
     "output_type": "stream",
     "text": [
      "deltaM:\n"
     ]
    },
    {
     "data": {
      "image/png": "[encoded data removed]",
      "text/latex": [
       "$$- {X}_{0}^{{\\gamma}_{0}} {X}_{1}^{{\\gamma}_{1}}$$"
      ],
      "text/plain": [
       "     \\gamma[0]     \\gamma[1]\n",
       "-X[0]         ⋅X[1]         "
      ]
     },
     "metadata": {},
     "output_type": "display_data"
    },
    {
     "name": "stdout",
     "output_type": "stream",
     "text": [
      "content variables:\n"
     ]
    },
    {
     "data": {
      "image/png": "[encoded data removed]",
      "text/latex": [
       "$$\\left [ X\\right ]$$"
      ],
      "text/plain": [
       "[X]"
      ]
     },
     "metadata": {},
     "output_type": "display_data"
    },
    {
     "name": "stdout",
     "output_type": "stream",
     "text": [
      "mass action:\n"
     ]
    },
    {
     "data": {
      "image/png": "[encoded data removed]",
      "text/latex": [
       "$$n{\\left ({X}_{0},{X}_{1} \\right )}$$"
      ],
      "text/plain": [
       "n(X[0], X[1])"
      ]
     },
     "metadata": {},
     "output_type": "display_data"
    },
    {
     "data": {
      "image/png": "[encoded data removed]",
      "text/latex": [
       "$$\\sum_{\\substack{0 \\leq {X}_{0} \\leq \\infty\\\\0 \\leq {X}_{1} \\leq \\infty}} - k_{Exit} n{\\left ({X}_{0},{X}_{1} \\right )} {X}_{0}^{{\\gamma}_{0}} {X}_{1}^{{\\gamma}_{1}}$$"
      ],
      "text/plain": [
       "   ∞        ∞                                                        \n",
       "  ___      ___                                                       \n",
       "  ╲        ╲                                                         \n",
       "   ╲        ╲                                 \\gamma[0]     \\gamma[1]\n",
       "   ╱        ╱     -k_{Exit}⋅n(X[0], X[1])⋅X[0]         ⋅X[1]         \n",
       "  ╱        ╱                                                         \n",
       "  ‾‾‾      ‾‾‾                                                       \n",
       "X[1] = 0 X[0] = 0                                                    "
      ]
     },
     "metadata": {},
     "output_type": "display_data"
    },
    {
     "data": {
      "image/png": "[encoded data removed]",
      "text/latex": [
       "$$- k_{Exit} \\sum_{{X}_{1}=0}^{\\infty} {X}_{1} \\sum_{{X}_{0}=0}^{\\infty} n{\\left ({X}_{0},{X}_{1} \\right )} {X}_{0}$$"
      ],
      "text/plain": [
       "             ∞                                     \n",
       "           ______                                  \n",
       "           ╲                                       \n",
       "            ╲              ∞                       \n",
       "             ╲            ___                      \n",
       "              ╲           ╲                        \n",
       "               ╲           ╲     n(X[0], X[1])⋅X[0]\n",
       "-k_{Exit}⋅     ╱   X[1]⋅   ╱                       \n",
       "              ╱           ╱                        \n",
       "             ╱            ‾‾‾                      \n",
       "            ╱           X[0] = 0                   \n",
       "           ╱                                       \n",
       "           ‾‾‾‾‾‾                                  \n",
       "          X[1] = 0                                 "
      ]
     },
     "execution_count": 6,
     "metadata": {},
     "output_type": "execute_result"
    }
   ],
   "source": [
    "Exit = Transition(C.compartment(X), EmptySet())\n",
    "kExit = symbols('k_{Exit}')\n",
    "gExit = 1\n",
    "piExit = 1\n",
    "display(Exit)\n",
    "expr = C.doit(Exit, (kExit, gExit, piExit))\n",
    "\n",
    "\n",
    "subs = expr.subs({C.gamma[0]:1, C.gamma[1]:1})\n",
    "simp = combsimp(subs)\n",
    "simp"
   ]
  },
  {
   "cell_type": "code",
   "execution_count": 20,
   "metadata": {},
   "outputs": [
    {
     "data": {
      "image/png": "[encoded data removed]",
      "text/latex": [
       "$$\\sum_{\\substack{0 \\leq {X}_{0} \\leq \\infty\\\\0 \\leq {X}_{1} \\leq \\infty}} n{\\left ({X}_{0},{X}_{1} \\right )} {X}_{1}$$"
      ],
      "text/plain": [
       "   ∞        ∞                       \n",
       "  ___      ___                      \n",
       "  ╲        ╲                        \n",
       "   ╲        ╲     n(X[0], X[1])⋅X[1]\n",
       "   ╱        ╱                       \n",
       "  ╱        ╱                        \n",
       "  ‾‾‾      ‾‾‾                      \n",
       "X[1] = 0 X[0] = 0                   "
      ]
     },
     "execution_count": 20,
     "metadata": {},
     "output_type": "execute_result"
    }
   ],
   "source": [
    "m01 = C.getMoment(X,0,1)\n",
    "m01"
   ]
  },
  {
   "cell_type": "code",
   "execution_count": 7,
   "metadata": {},
   "outputs": [
    {
     "data": {
      "image/png": "[encoded data removed]",
      "text/latex": [
       "$$\\sum_{\\substack{0 \\leq {Y}_{0} \\leq \\infty\\\\0 \\leq {Y}_{1} \\leq \\infty}} n{\\left ({Y}_{0},{Y}_{1} \\right )} {Y}_{0} {Y}_{1}$$"
      ],
      "text/plain": [
       "   ∞        ∞                            \n",
       "  ___      ___                           \n",
       "  ╲        ╲                             \n",
       "   ╲        ╲     n(Y[0], Y[1])⋅Y[0]⋅Y[1]\n",
       "   ╱        ╱                            \n",
       "  ╱        ╱                             \n",
       "  ‾‾‾      ‾‾‾                           \n",
       "Y[1] = 0 Y[0] = 0                        "
      ]
     },
     "execution_count": 7,
     "metadata": {},
     "output_type": "execute_result"
    }
   ],
   "source": [
    "m11 = C.getMoment(Y,1,1)\n",
    "m11"
   ]
  },
  {
   "cell_type": "code",
   "execution_count": 8,
   "metadata": {},
   "outputs": [
    {
     "data": {
      "image/png": "[encoded data removed]",
      "text/latex": [
       "$$- \\frac{k_{Exit} \\sum_{{X}_{1}=0}^{\\infty} {X}_{1} \\sum_{{X}_{0}=0}^{\\infty} n{\\left ({X}_{0},{X}_{1} \\right )} {X}_{0}}{\\sum_{{Y}_{1}=0}^{\\infty} {Y}_{1} \\sum_{{Y}_{0}=0}^{\\infty} n{\\left ({Y}_{0},{Y}_{1} \\right )} {Y}_{0}}$$"
      ],
      "text/plain": [
       "             ∞                                      \n",
       "           ______                                   \n",
       "           ╲                                        \n",
       "            ╲              ∞                        \n",
       "             ╲            ___                       \n",
       "              ╲           ╲                         \n",
       "               ╲           ╲     n(X[0], X[1])⋅X[0] \n",
       "-k_{Exit}⋅     ╱   X[1]⋅   ╱                        \n",
       "              ╱           ╱                         \n",
       "             ╱            ‾‾‾                       \n",
       "            ╱           X[0] = 0                    \n",
       "           ╱                                        \n",
       "           ‾‾‾‾‾‾                                   \n",
       "          X[1] = 0                                  \n",
       "────────────────────────────────────────────────────\n",
       "        ∞                                           \n",
       "      ______                                        \n",
       "      ╲                                             \n",
       "       ╲              ∞                             \n",
       "        ╲            ___                            \n",
       "         ╲           ╲                              \n",
       "          ╲           ╲     n(Y[0], Y[1])⋅Y[0]      \n",
       "          ╱   Y[1]⋅   ╱                             \n",
       "         ╱           ╱                              \n",
       "        ╱            ‾‾‾                            \n",
       "       ╱           Y[0] = 0                         \n",
       "      ╱                                             \n",
       "      ‾‾‾‾‾‾                                        \n",
       "     Y[1] = 0                                       "
      ]
     },
     "execution_count": 8,
     "metadata": {},
     "output_type": "execute_result"
    }
   ],
   "source": [
    "cancel(simp/combsimp(m11))"
   ]
  },
  {
   "cell_type": "code",
   "execution_count": null,
   "metadata": {},
   "outputs": [],
   "source": []
  }
 ],
 "metadata": {
  "kernelspec": {
   "display_name": "Python 3",
   "language": "python",
   "name": "python3"
  },
  "language_info": {
   "codemirror_mode": {
    "name": "ipython",
    "version": 3
   },
   "file_extension": ".py",
   "mimetype": "text/x-python",
   "name": "python",
   "nbconvert_exporter": "python",
   "pygments_lexer": "ipython3",
   "version": "3.7.3"
  }
 },
 "nbformat": 4,
 "nbformat_minor": 2
}
