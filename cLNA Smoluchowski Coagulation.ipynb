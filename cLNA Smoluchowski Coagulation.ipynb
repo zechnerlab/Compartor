{
 "cells": [
  {
   "cell_type": "markdown",
   "metadata": {},
   "source": [
    "## Code generation"
   ]
  },
  {
   "cell_type": "code",
   "execution_count": 1,
   "metadata": {},
   "outputs": [],
   "source": [
    "# import sys\n",
    "# !{sys.executable} -m pip install --upgrade pip\n",
    "# !{sys.executable} -m pip install sympy\n",
    "# !{sys.executable} -m pip install scipy\n",
    "# !{sys.executable} -m pip install matplotlib"
   ]
  },
  {
   "cell_type": "code",
   "execution_count": 2,
   "metadata": {},
   "outputs": [],
   "source": [
    "# Remove matplotlib deprecation warnings\n",
    "import warnings\n",
    "warnings.filterwarnings(\"ignore\", category=UserWarning)"
   ]
  },
  {
   "cell_type": "code",
   "execution_count": 3,
   "metadata": {},
   "outputs": [],
   "source": [
    "# initialize sympy printing (for latex output)\n",
    "from sympy import init_printing, Symbol\n",
    "init_printing()\n",
    "\n",
    "# import functions and classes for compartment models\n",
    "import sys\n",
    "sys.path.insert(0, \"./compartor\") #use local copy\n",
    "from compartor import *"
   ]
  },
  {
   "cell_type": "markdown",
   "metadata": {},
   "source": [
    "Here, we illustrate how to export the moment equations in LaTeX format or generate code for simulations.\n",
    "\n",
    "We consider again the exemplary model of the paper and derive moments equations with the automated function."
   ]
  },
  {
   "cell_type": "code",
   "execution_count": 4,
   "metadata": {},
   "outputs": [
    {
     "data": {
      "text/latex": [
       "$\\displaystyle \\begin{align} \\left[x\\right] + \\left[y\\right]&\\overset{h_{C}}{\\longrightarrow}\\left[x + y\\right] && h_{C} = \\frac{k_{C} \\left(n{\\left(y \\right)} - \\delta_{x y}\\right) \\left({x}_{0} + {y}_{0}\\right) n{\\left(x \\right)}}{\\delta_{x y} + 1} \\end{align}$"
      ],
      "text/plain": [
       "[x] + [y] ---> [x + y],  h_C = k_C*(n(y) - KroneckerDelta(x, y))*(x[0] + y[0])*n(x)/(KroneckerDelta(x, y) + 1)"
      ]
     },
     "metadata": {},
     "output_type": "display_data"
    }
   ],
   "source": [
    "from sympy import symbols, log, exp, sin, cos, tan, sqrt\n",
    "\n",
    "x = Content('x')\n",
    "y = Content('y')\n",
    "\n",
    "sumKernel = x[0] + y[0]\n",
    "multKernel = x[0] * y[0]\n",
    "freeMolecularKernel = (x[0]**(1/3) + y[0]**(1/3))**2 * sqrt( (1/x[0]) + (1/y[0]) )\n",
    "diffusiveMolecularKernel = (x[0]**(-1/3) + y[0]**(-1/3)) * (x[0]**(1/3) + y[0]**(1/3))\n",
    "gelationTestKernel = ( sqrt( (x[0]**2 * y[0])+(x[0] * y[0]**2) ) * ( x[0]**(1/3) + y[0]**(1/3) ) )\n",
    "\n",
    "# Coagulation   = TransitionClass( [x] + [y] -to> [x+y],       'k_C',                  name='C')\n",
    "Coagulation   = TransitionClass( [x] + [y] -to> [x+y],       'k_C', g=sumKernel,     name='C')\n",
    "# Coagulation   = TransitionClass( [x] + [y] -to> [x+y],       'k_C', g=multKernel,     name='C')\n",
    "# Coagulation   = TransitionClass( [x] + [y] -to> [x+y],       'k_C', g=freeMolecularKernel,     name='C')\n",
    "# Coagulation   = TransitionClass( [x] + [y] -to> [x+y],       'k_C', g=gelationTestKernel,     name='C')\n",
    "\n",
    "transitions = [Coagulation]\n",
    "display_transition_classes(transitions)"
   ]
  },
  {
   "cell_type": "code",
   "execution_count": 5,
   "metadata": {},
   "outputs": [
    {
     "data": {
      "text/latex": [
       "$\\displaystyle \\left[ M^{0}, \\  {\\left(M^{0}\\right)}^{\\mathtt{\\text{2}}}, \\  M^{1}, \\  {\\left(M^{1}\\right)}^{\\mathtt{\\text{2}}}, \\  M^{2}\\right]$"
      ],
      "text/plain": [
       "⎡                 2                      2              ⎤\n",
       "⎣Moment(0), Moment (0), Moment(1), Moment (1), Moment(2)⎦"
      ]
     },
     "metadata": {},
     "output_type": "display_data"
    },
    {
     "data": {
      "text/markdown": [
       "Computed moment equations for desired moments $\\left< N\\right> $, $\\left< N^{2}\\right> $, $\\left< M^{1}\\right> $, $\\left< {\\left(M^{1}\\right)}^{\\mathtt{\\text{2}}}\\right> $, and $\\left< M^{2}\\right> $."
      ],
      "text/plain": [
       "<IPython.core.display.Markdown object>"
      ]
     },
     "metadata": {},
     "output_type": "display_data"
    },
    {
     "data": {
      "text/markdown": [
       "Equations were iteratively added for $\\left< N M^{1}\\right> $."
      ],
      "text/plain": [
       "<IPython.core.display.Markdown object>"
      ]
     },
     "metadata": {},
     "output_type": "display_data"
    },
    {
     "data": {
      "text/latex": [
       "$\\displaystyle \\frac{d}{d t} \\left< N\\right>  = k_{C} \\left(1 - \\left< N\\right> \\right) \\left< M^{1}\\right> $"
      ],
      "text/plain": [
       "d                                                                   \n",
       "──(Expectation(N)) = k_C⋅(1 - Expectation(N))⋅Expectation(Moment(1))\n",
       "dt                                                                  "
      ]
     },
     "metadata": {},
     "output_type": "display_data"
    },
    {
     "data": {
      "text/latex": [
       "$\\displaystyle \\frac{d}{d t} \\left< N^{2}\\right>  = k_{C} \\left(2 {\\left< N\\right> }^{\\mathtt{\\text{2}}} \\left< M^{1}\\right>  - 2 \\left< N\\right>  \\left< N M^{1}\\right>  + \\left< N\\right>  \\left< M^{1}\\right>  - 2 \\left< N^{2}\\right>  \\left< M^{1}\\right>  + 2 \\left< N M^{1}\\right>  - \\left< M^{1}\\right> \\right)$"
      ],
      "text/plain": [
       "d ⎛           ⎛ 2⎞⎞       ⎛             2                                                                                                                              ⎛ 2⎞   \n",
       "──⎝Expectation⎝N ⎠⎠ = k_C⋅⎝2⋅Expectation (N)⋅Expectation(Moment(1)) - 2⋅Expectation(N)⋅Expectation(N⋅Moment(1)) + Expectation(N)⋅Expectation(Moment(1)) - 2⋅Expectation⎝N ⎠⋅Ex\n",
       "dt                                                                                                                                                                            \n",
       "\n",
       "                                                                          ⎞\n",
       "pectation(Moment(1)) + 2⋅Expectation(N⋅Moment(1)) - Expectation(Moment(1))⎠\n",
       "                                                                           "
      ]
     },
     "metadata": {},
     "output_type": "display_data"
    },
    {
     "data": {
      "text/latex": [
       "$\\displaystyle \\frac{d}{d t} \\left< M^{1}\\right>  = 0$"
      ],
      "text/plain": [
       "d                             \n",
       "──(Expectation(Moment(1))) = 0\n",
       "dt                            "
      ]
     },
     "metadata": {},
     "output_type": "display_data"
    },
    {
     "data": {
      "text/latex": [
       "$\\displaystyle \\frac{d}{d t} \\left< {\\left(M^{1}\\right)}^{\\mathtt{\\text{2}}}\\right>  = 0$"
      ],
      "text/plain": [
       "d ⎛           ⎛      2   ⎞⎞    \n",
       "──⎝Expectation⎝Moment (1)⎠⎠ = 0\n",
       "dt                             "
      ]
     },
     "metadata": {},
     "output_type": "display_data"
    },
    {
     "data": {
      "text/latex": [
       "$\\displaystyle \\frac{d}{d t} \\left< M^{2}\\right>  = \\frac{2 k_{C} \\left(\\left< N\\right>  - 1\\right) {\\left< M^{1}\\right> }^{\\mathtt{\\text{3}}}}{{\\left< N\\right> }^{\\mathtt{\\text{2}}}}$"
      ],
      "text/plain": [
       "                                                                   3           \n",
       "d                            2⋅k_C⋅(Expectation(N) - 1)⋅Expectation (Moment(1))\n",
       "──(Expectation(Moment(2))) = ──────────────────────────────────────────────────\n",
       "dt                                                       2                     \n",
       "                                              Expectation (N)                  "
      ]
     },
     "metadata": {},
     "output_type": "display_data"
    },
    {
     "data": {
      "text/latex": [
       "$\\displaystyle \\frac{d}{d t} \\left< N M^{1}\\right>  = k_{C} \\left(\\left< N\\right>  {\\left< M^{1}\\right> }^{\\mathtt{\\text{2}}} - \\left< N\\right>  \\left< {\\left(M^{1}\\right)}^{\\mathtt{\\text{2}}}\\right>  - \\left< N M^{1}\\right>  \\left< M^{1}\\right>  + \\left< {\\left(M^{1}\\right)}^{\\mathtt{\\text{2}}}\\right> \\right)$"
      ],
      "text/plain": [
       "d                                  ⎛                          2                                        ⎛      2   ⎞                                                           \n",
       "──(Expectation(N⋅Moment(1))) = k_C⋅⎝Expectation(N)⋅Expectation (Moment(1)) - Expectation(N)⋅Expectation⎝Moment (1)⎠ - Expectation(N⋅Moment(1))⋅Expectation(Moment(1)) + Expect\n",
       "dt                                                                                                                                                                            \n",
       "\n",
       "     ⎛      2   ⎞⎞\n",
       "ation⎝Moment (1)⎠⎠\n",
       "                  "
      ]
     },
     "metadata": {},
     "output_type": "display_data"
    }
   ],
   "source": [
    "moments = [\n",
    "    Moment(0),\n",
    "    Moment(0)**2,\n",
    "    Moment(1),\n",
    "    Moment(1)**2,\n",
    "    Moment(2),\n",
    "]\n",
    "display(moments)\n",
    "equations = automated_moment_equations(1, transitions, moments, clna=True)\n",
    "# equations = automated_moment_equations(1, transitions, moments, clna=False)\n",
    "display_moment_equations(equations)"
   ]
  },
  {
   "cell_type": "markdown",
   "metadata": {},
   "source": [
    "The LaTeX source of the ODE system can be found and copy-pasted by modifying the Math Render option of the jupyter notebook. This is done by right-clicking on the system and choosing Math Settings > Math Render > Plain Source .\n",
    "\n",
    "From the closed equations, we can also generate code to simulate the system. Currently, Python or Julia code can be generated.\n",
    "\n",
    "For a direct code output, the user can rely on the functions:"
   ]
  },
  {
   "cell_type": "code",
   "execution_count": 6,
   "metadata": {},
   "outputs": [],
   "source": [
    "# python_code = generate_python_code(equations, function_name=\"coagulation_fragmentation\")\n",
    "# print(python_code)\n",
    "# exec(python_code) "
   ]
  },
  {
   "cell_type": "code",
   "execution_count": 7,
   "metadata": {
    "scrolled": false
   },
   "outputs": [
    {
     "name": "stdout",
     "output_type": "stream",
     "text": [
      "# evaluate ODEs\n",
      "function IECFBDq_ODEs(dM, M, parameters, t)\n",
      "  c0 = parameters[:kC] # kC\n",
      "  # Number of Compartments (N)\n",
      "  dM[1] = c0*(1-M[1])*M[3]\n",
      "  # N^2\n",
      "  dM[2] = c0*(-M[3]+2*M[6]+M[1]*M[3]-2*M[2]*M[3]-2*M[6]*M[1]+2*((M[1])^(2))*M[3])\n",
      "  # Total Mass\n",
      "  dM[3] = 0\n",
      "  # M^2\n",
      "  dM[4] = 0\n",
      "  # Sum of squared content\n",
      "  dM[5] = 2*c0*((M[3])^(3))*(-1+M[1])/((M[1])^(2))\n",
      "  # N*M\n",
      "  dM[6] = c0*(((M[3])^(2))*M[1]-M[4]*M[1]-M[6]*M[3]+M[4])\n",
      "  return\n",
      "end\n",
      "\n",
      "# initialize expected moments vector\n",
      "function IECFBDq_initial(n0)\n",
      "  M = zeros(6)\n",
      "  # Number of Compartments (N)\n",
      "  M[1] = ??? # initial value for Moment(0,), please specify!\n",
      "  # N^2\n",
      "  M[2] = ((M[1])^(2))\n",
      "  # Total Mass\n",
      "  M[3] = ??? # initial value for Moment(1,), please specify!\n",
      "  # M^2\n",
      "  M[4] = ((M[3])^(2))\n",
      "  # Sum of squared content\n",
      "  M[5] = ??? # initial value for Moment(2,), please specify!\n",
      "  # N*M\n",
      "  M[6] = M[1]*M[3]\n",
      "  return M\n",
      "end\n",
      "\n",
      "\n"
     ]
    }
   ],
   "source": [
    "julia_code = generate_julia_code(equations, function_name=\"IECFBDq\")\n",
    "print(julia_code)"
   ]
  }
 ],
 "metadata": {
  "kernelspec": {
   "display_name": "Python 3 (ipykernel)",
   "language": "python",
   "name": "python3"
  },
  "language_info": {
   "codemirror_mode": {
    "name": "ipython",
    "version": 3
   },
   "file_extension": ".py",
   "mimetype": "text/x-python",
   "name": "python",
   "nbconvert_exporter": "python",
   "pygments_lexer": "ipython3",
   "version": "3.9.6"
  }
 },
 "nbformat": 4,
 "nbformat_minor": 2
}
