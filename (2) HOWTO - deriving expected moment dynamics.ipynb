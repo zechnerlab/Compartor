{
 "cells": [
  {
   "cell_type": "markdown",
   "metadata": {},
   "source": [
    "# Deriving expected moment dynamics\n",
    "$$\n",
    "\\def\\n{\\mathbf{n}}\n",
    "\\def\\x{\\mathbf{x}}\n",
    "\\def\\N{\\mathbb{\\mathbb{N}}}\n",
    "\\def\\X{\\mathbb{X}}\n",
    "\\def\\NX{\\mathbb{\\N_0^\\X}}\n",
    "\\def\\C{\\mathcal{C}}\n",
    "\\def\\Jc{\\mathcal{J}_c}\n",
    "\\def\\DM{\\Delta M_{c,j}}\n",
    "\\newcommand\\diff{\\mathop{}\\!\\mathrm{d}}\n",
    "\\def\\Xc{\\mathbf{X}_c}\n",
    "\\def\\Yc{\\mathbf{Y}_c}\n",
    "\\newcommand{\\muset}[1]{\\dot{\\{}#1\\dot{\\}}}\n",
    "$$"
   ]
  },
  {
   "cell_type": "code",
   "execution_count": 1,
   "metadata": {},
   "outputs": [],
   "source": [
    "# initialize sympy printing (for latex output)\n",
    "from sympy import init_printing\n",
    "init_printing()\n",
    "\n",
    "# import functions and classes for compartment models\n",
    "from compartor import *"
   ]
  },
  {
   "cell_type": "markdown",
   "metadata": {},
   "source": [
    "## Specifying the reaction network\n",
    "\n",
    "As in the previous HOWTO, first specify a reaction network.\n",
    "We use again the nested birth-death process example."
   ]
  },
  {
   "cell_type": "code",
   "execution_count": 2,
   "metadata": {},
   "outputs": [
    {
     "data": {
      "text/latex": [
       "$\\displaystyle \\begin{align} \\emptyset&\\overset{h_I}{\\longrightarrow}\\left[y\\right] && h_{I} = \\pi_{Poiss}(y; \\lambda) k_{I}\\\\\\left[x\\right]&\\overset{h_E}{\\longrightarrow}\\emptyset && h_{E} = k_{E} n{\\left(x \\right)}\\\\\\left[x\\right]&\\overset{h_b}{\\longrightarrow}\\left[\\left( 1\\right) + x\\right] && h_{b} = k_{b} n{\\left(x \\right)}\\\\\\left[x\\right]&\\overset{h_d}{\\longrightarrow}\\left[\\left( -1\\right) + x\\right] && h_{d} = k_{d} n{\\left(x \\right)} {x}_{0} \\end{align}$"
      ],
      "text/plain": [
       "Display.__str__: TODO"
      ]
     },
     "metadata": {},
     "output_type": "display_data"
    }
   ],
   "source": [
    "from nested_birth_death import D, transitions\n",
    "display_transition_classes(transitions)"
   ]
  },
  {
   "cell_type": "markdown",
   "metadata": {},
   "source": [
    "## Deriving expected moment dynamics\n",
    "\n",
    "Next we specify the moments we want to derive, for example, $N$, $N^2$, $M^1$, and $(M^1)^2$.\n",
    "\n",
    "To denote a particular moment, use the `Moment` class. It takes as constructor arguments the integer exponents in each species."
   ]
  },
  {
   "cell_type": "code",
   "execution_count": 3,
   "metadata": {},
   "outputs": [
    {
     "data": {
      "image/png": "[encoded data removed]",
      "text/latex": [
       "$\\displaystyle \\left\\{M^{0}, {\\left(M^{0}\\right)}^{2}, M^{1}, {\\left(M^{1}\\right)}^{2}\\right\\}$"
      ],
      "text/plain": [
       "⎧                 2                      2   ⎫\n",
       "⎨Moment(0), Moment (0), Moment(1), Moment (1)⎬\n",
       "⎩                                            ⎭"
      ]
     },
     "metadata": {},
     "output_type": "display_data"
    }
   ],
   "source": [
    "moments = {\n",
    "    Moment(0),\n",
    "    Moment(0)**2,\n",
    "    Moment(1),\n",
    "    Moment(1)**2\n",
    "}\n",
    "display(moments)"
   ]
  },
  {
   "cell_type": "markdown",
   "metadata": {},
   "source": [
    "Then call the function `compute_moment_equations()`, giving the reaction network, the desired moment expressions, and the number of species."
   ]
  },
  {
   "cell_type": "code",
   "execution_count": 4,
   "metadata": {},
   "outputs": [],
   "source": [
    "(equations, missing) = compute_moment_equations(transitions, moments, D)"
   ]
  },
  {
   "cell_type": "markdown",
   "metadata": {},
   "source": [
    "The result is a pair `(equations, missing)`.\n",
    "\n",
    "`equations` are the expressions for the expectation of the desired moment expressions.\n",
    "`equations` is a list of pairs `(fM, dfMdt)`, where each pair consists of the desired moment expression, and the derived expression for its derivative by $t$.\n",
    "\n",
    "`missing` is a set of moment expressions that are reuired in the derivatives, but are not known yet (not listed in desired `moments`).\n",
    "\n",
    "To display the derived equations, use the `display_moment_equations()` function."
   ]
  },
  {
   "cell_type": "code",
   "execution_count": 5,
   "metadata": {},
   "outputs": [
    {
     "data": {
      "image/png": "[encoded data removed]",
      "text/latex": [
       "$\\displaystyle \\frac{d}{d t} \\left< M^{1}\\right>  = \\lambda k_{I} - k_{E} \\left< M^{1}\\right>  + k_{b} \\left< N\\right>  - k_{d} \\left< M^{1}\\right> $"
      ],
      "text/plain": [
       "d                                                                             \n",
       "──(Expectation(Moment(1))) = \\lambda⋅k_I - k_E⋅Expectation(Moment(1)) + k_b⋅Ex\n",
       "dt                                                                            \n",
       "\n",
       "                                         \n",
       "pectation(N) - k_d⋅Expectation(Moment(1))\n",
       "                                         "
      ]
     },
     "metadata": {},
     "output_type": "display_data"
    },
    {
     "data": {
      "image/png": "[encoded data removed]",
      "text/latex": [
       "$\\displaystyle \\frac{d}{d t} \\left< {\\left(M^{1}\\right)}^{2}\\right>  = \\lambda^{2} k_{I} + 2 \\lambda k_{I} \\left< M^{1}\\right>  + \\lambda k_{I} - 2 k_{E} \\left< {\\left(M^{1}\\right)}^{2}\\right>  + k_{E} \\left< M^{2}\\right>  + k_{b} \\left< N\\right>  + 2 k_{b} \\left< N M^{1}\\right>  + k_{d} \\left< M^{1}\\right>  - 2 k_{d} \\left< {\\left(M^{1}\\right)}^{2}\\right> $"
      ],
      "text/plain": [
       "d ⎛           ⎛      2   ⎞⎞          2                                        \n",
       "──⎝Expectation⎝Moment (1)⎠⎠ = \\lambda ⋅k_I + 2⋅\\lambda⋅k_I⋅Expectation(Moment(\n",
       "dt                                                                            \n",
       "\n",
       "                                     ⎛      2   ⎞                             \n",
       "1)) + \\lambda⋅k_I - 2⋅k_E⋅Expectation⎝Moment (1)⎠ + k_E⋅Expectation(Moment(2))\n",
       "                                                                              \n",
       "\n",
       "                                                                              \n",
       " + k_b⋅Expectation(N) + 2⋅k_b⋅Expectation(N⋅Moment(1)) + k_d⋅Expectation(Momen\n",
       "                                                                              \n",
       "\n",
       "                         ⎛      2   ⎞\n",
       "t(1)) - 2⋅k_d⋅Expectation⎝Moment (1)⎠\n",
       "                                     "
      ]
     },
     "metadata": {},
     "output_type": "display_data"
    },
    {
     "data": {
      "image/png": "[encoded data removed]",
      "text/latex": [
       "$\\displaystyle \\frac{d}{d t} \\left< N\\right>  = - k_{E} \\left< N\\right>  + k_{I}$"
      ],
      "text/plain": [
       "d                                             \n",
       "──(Expectation(N)) = -k_E⋅Expectation(N) + k_I\n",
       "dt                                            "
      ]
     },
     "metadata": {},
     "output_type": "display_data"
    },
    {
     "data": {
      "image/png": "[encoded data removed]",
      "text/latex": [
       "$\\displaystyle \\frac{d}{d t} \\left< N^{2}\\right>  = k_{E} \\left< N\\right>  - 2 k_{E} \\left< N^{2}\\right>  + 2 k_{I} \\left< N\\right>  + k_{I}$"
      ],
      "text/plain": [
       "d ⎛           ⎛ 2⎞⎞                                         ⎛ 2⎞              \n",
       "──⎝Expectation⎝N ⎠⎠ = k_E⋅Expectation(N) - 2⋅k_E⋅Expectation⎝N ⎠ + 2⋅k_I⋅Expec\n",
       "dt                                                                            \n",
       "\n",
       "               \n",
       "tation(N) + k_I\n",
       "               "
      ]
     },
     "metadata": {},
     "output_type": "display_data"
    }
   ],
   "source": [
    "display_moment_equations(equations)"
   ]
  },
  {
   "cell_type": "markdown",
   "metadata": {},
   "source": [
    "The missing moment expressions occuring in these equations are `missing`."
   ]
  },
  {
   "cell_type": "code",
   "execution_count": 6,
   "metadata": {},
   "outputs": [
    {
     "data": {
      "image/png": "[encoded data removed]",
      "text/latex": [
       "$\\displaystyle \\left\\{M^{0} M^{1}, M^{2}\\right\\}$"
      ],
      "text/plain": [
       "{Moment(0)⋅Moment(1), Moment(2)}"
      ]
     },
     "execution_count": 6,
     "metadata": {},
     "output_type": "execute_result"
    }
   ],
   "source": [
    "missing"
   ]
  },
  {
   "cell_type": "markdown",
   "metadata": {},
   "source": [
    "Now, we can iterate the process to also get these moments."
   ]
  },
  {
   "cell_type": "code",
   "execution_count": 7,
   "metadata": {},
   "outputs": [
    {
     "data": {
      "image/png": "[encoded data removed]",
      "text/latex": [
       "$\\displaystyle \\frac{d}{d t} \\left< N M^{1}\\right>  = \\lambda k_{I} \\left< N\\right>  + \\lambda k_{I} - 2 k_{E} \\left< N M^{1}\\right>  + k_{E} \\left< M^{1}\\right>  + k_{I} \\left< M^{1}\\right>  + k_{b} \\left< N^{2}\\right>  - k_{d} \\left< N M^{1}\\right> $"
      ],
      "text/plain": [
       "d                                                                             \n",
       "──(Expectation(N⋅Moment(1))) = \\lambda⋅k_I⋅Expectation(N) + \\lambda⋅k_I - 2⋅k_\n",
       "dt                                                                            \n",
       "\n",
       "                                                                              \n",
       "E⋅Expectation(N⋅Moment(1)) + k_E⋅Expectation(Moment(1)) + k_I⋅Expectation(Mome\n",
       "                                                                              \n",
       "\n",
       "                        ⎛ 2⎞                               \n",
       "nt(1)) + k_b⋅Expectation⎝N ⎠ - k_d⋅Expectation(N⋅Moment(1))\n",
       "                                                           "
      ]
     },
     "metadata": {},
     "output_type": "display_data"
    },
    {
     "data": {
      "image/png": "[encoded data removed]",
      "text/latex": [
       "$\\displaystyle \\frac{d}{d t} \\left< M^{2}\\right>  = \\lambda^{2} k_{I} + \\lambda k_{I} - k_{E} \\left< M^{2}\\right>  + k_{b} \\left< N\\right>  + 2 k_{b} \\left< M^{1}\\right>  + k_{d} \\left< M^{1}\\right>  - 2 k_{d} \\left< M^{2}\\right> $"
      ],
      "text/plain": [
       "d                                   2                                         \n",
       "──(Expectation(Moment(2))) = \\lambda ⋅k_I + \\lambda⋅k_I - k_E⋅Expectation(Mome\n",
       "dt                                                                            \n",
       "\n",
       "                                                                              \n",
       "nt(2)) + k_b⋅Expectation(N) + 2⋅k_b⋅Expectation(Moment(1)) + k_d⋅Expectation(M\n",
       "                                                                              \n",
       "\n",
       "                                        \n",
       "oment(1)) - 2⋅k_d⋅Expectation(Moment(2))\n",
       "                                        "
      ]
     },
     "metadata": {},
     "output_type": "display_data"
    }
   ],
   "source": [
    "(equations2, missing2) = compute_moment_equations(transitions, missing, D, provided=moments)\n",
    "display_moment_equations(equations2)"
   ]
  },
  {
   "cell_type": "markdown",
   "metadata": {},
   "source": [
    "In this example, the system is closed, as there are no more missing moment expressions."
   ]
  },
  {
   "cell_type": "code",
   "execution_count": 8,
   "metadata": {},
   "outputs": [
    {
     "data": {
      "image/png": "[encoded data removed]",
      "text/latex": [
       "$\\displaystyle \\left\\{\\right\\}$"
      ],
      "text/plain": [
       "set()"
      ]
     },
     "execution_count": 8,
     "metadata": {},
     "output_type": "execute_result"
    }
   ],
   "source": [
    "missing2"
   ]
  },
  {
   "cell_type": "markdown",
   "metadata": {},
   "source": [
    "Otherwise, the above process can be iterated until convergence or up to the desired order of moments (and applying a moment closure)."
   ]
  }
 ],
 "metadata": {
  "kernelspec": {
   "display_name": "Python 3",
   "language": "python",
   "name": "python3"
  },
  "language_info": {
   "codemirror_mode": {
    "name": "ipython",
    "version": 3
   },
   "file_extension": ".py",
   "mimetype": "text/x-python",
   "name": "python",
   "nbconvert_exporter": "python",
   "pygments_lexer": "ipython3",
   "version": "3.7.3"
  }
 },
 "nbformat": 4,
 "nbformat_minor": 2
}
