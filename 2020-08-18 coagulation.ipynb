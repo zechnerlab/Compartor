{
 "cells": [
  {
   "cell_type": "code",
   "execution_count": 1,
   "metadata": {},
   "outputs": [],
   "source": [
    "from compartmentsBase import *\n",
    "from sympy import *\n",
    "init_printing()\n",
    "\n",
    "\n",
    "# temp helpers \n",
    "def display_hc(k,g,pi,name='c'):\n",
    "    lhs = symbols('k_' + name)\n",
    "    rhs = k\n",
    "    display(Eq(lhs,rhs,evaluate=False))\n",
    "\n",
    "    lhs = symbols('g_' + name)\n",
    "    rhs = g\n",
    "    display(Eq(lhs,rhs,evaluate=False))\n",
    "\n",
    "    lhs = symbols('\\pi_' + name)\n",
    "    rhs = pi\n",
    "    display(Eq(lhs,rhs,evaluate=False))\n"
   ]
  },
  {
   "cell_type": "markdown",
   "metadata": {},
   "source": [
    "$$\n",
    "\\def\\n{\\mathbf{n}}\n",
    "\\def\\x{\\mathbf{x}}\n",
    "\\def\\N{\\mathbb{\\mathbb{N}}}\n",
    "\\def\\X{\\mathbb{X}}\n",
    "\\def\\NX{\\mathbb{\\N_0^\\X}}\n",
    "\\def\\C{\\mathcal{C}}\n",
    "\\def\\Jc{\\mathcal{J}_c}\n",
    "\\def\\DM{\\Delta M_{c,j}}\n",
    "\\newcommand\\diff{\\mathop{}\\!\\mathrm{d}}\n",
    "\\def\\Xc{\\mathbf{X}_c}\n",
    "\\newcommand{\\muset}[1]{\\dot{\\{}#1\\dot{\\}}}\n",
    "$$\n",
    "\n",
    "\n",
    "For a compartment population $\\n \\in \\NX$ evcolving stochastically according to stoichiometric equations from transition classes $\\C$, we want to find an expression for\n",
    "$$\n",
    "\\frac{\\diff}{\\diff t}\\left< f(M^\\gamma, M^{\\gamma'}, \\ldots) \\right>\n",
    "$$\n",
    "in terms of expectations of population moments $M^\\alpha, M^{\\beta}, \\ldots$"
   ]
  },
  {
   "cell_type": "code",
   "execution_count": 2,
   "metadata": {},
   "outputs": [
    {
     "data": {
      "text/latex": [
       "$$\\left[x\\right] + \\left[y\\right]\\longrightarrow{}\\left[x + y\\right]$$"
      ],
      "text/plain": [
       "[x] + [y] ---> [x + y])"
      ]
     },
     "metadata": {},
     "output_type": "display_data"
    },
    {
     "data": {
      "image/png": "[encoded data removed]",
      "text/latex": [
       "$$k_{C} = k_{C}$$"
      ],
      "text/plain": [
       "k_C = k_C"
      ]
     },
     "metadata": {},
     "output_type": "display_data"
    },
    {
     "data": {
      "image/png": "[encoded data removed]",
      "text/latex": [
       "$$g_{C} = 1$$"
      ],
      "text/plain": [
       "g_C = 1"
      ]
     },
     "metadata": {},
     "output_type": "display_data"
    },
    {
     "data": {
      "image/png": "[encoded data removed]",
      "text/latex": [
       "$$\\pi_C = 1$$"
      ],
      "text/plain": [
       "\\pi_C = 1"
      ]
     },
     "metadata": {},
     "output_type": "display_data"
    }
   ],
   "source": [
    "D = 1 # number of species\n",
    "\n",
    "x = ContentVar('x')\n",
    "y = ContentVar('y')\n",
    "# Coagulation\n",
    "transition_C = Transition(Compartment(x) + Compartment(y), Compartment(x + y))\n",
    "k_C = Constant('k_C')\n",
    "g_C = 1\n",
    "pi_C = 1\n",
    "\n",
    "transitions = [(transition_C, k_C, g_C, pi_C)]\n",
    "\n",
    "display(transition_C)\n",
    "display_hc(k_C, g_C, pi_C, name='C')"
   ]
  },
  {
   "cell_type": "code",
   "execution_count": 3,
   "metadata": {},
   "outputs": [
    {
     "data": {
      "text/latex": [
       "$$\\Delta{}M^{0}$$"
      ],
      "text/plain": [
       "DeltaM(0)"
      ]
     },
     "metadata": {},
     "output_type": "display_data"
    }
   ],
   "source": [
    "from ito import *\n",
    "from compartmentsB import *\n",
    "\n",
    "dM0 = ito(Moment(0))\n",
    "display(dM0)"
   ]
  },
  {
   "cell_type": "code",
   "execution_count": 4,
   "metadata": {},
   "outputs": [
    {
     "data": {
      "text/latex": [
       "$$\\left ( \\left[x\\right] + \\left[y\\right]\\longrightarrow{}\\left[x + y\\right], \\quad k_{C}, \\quad 1, \\quad 1\\right )$$"
      ],
      "text/plain": [
       "([x] + [y] ---> [x + y]), k_C, 1, 1)"
      ]
     },
     "metadata": {},
     "output_type": "display_data"
    },
    {
     "data": {
      "text/latex": [
       "$$\\left ( 1, \\quad 1, \\quad \\Delta{}M^{0}\\right )$$"
      ],
      "text/plain": [
       "(1, 1, DeltaM(0))"
      ]
     },
     "metadata": {},
     "output_type": "display_data"
    },
    {
     "data": {
      "text/latex": [
       "$$\\left \\{ \\left[x\\right] : 1, \\quad \\left[y\\right] : 1\\right \\}$$"
      ],
      "text/plain": [
       "defaultdict(int, {Compartment(x): 1, Compartment(y): 1})"
      ]
     },
     "metadata": {},
     "output_type": "display_data"
    },
    {
     "data": {
      "text/latex": [
       "$$\\left \\{ \\left[x + y\\right] : 1\\right \\}$$"
      ],
      "text/plain": [
       "defaultdict(int, {Compartment(x + y): 1})"
      ]
     },
     "metadata": {},
     "output_type": "display_data"
    }
   ],
   "source": [
    "monomials = decomposeMomentsPolynomial(dM0)\n",
    "\n",
    "c = 0\n",
    "q = 0\n",
    "\n",
    "transition = transitions[c]\n",
    "monomial = monomials[q]\n",
    "\n",
    "display(transitions[c])\n",
    "display((monomial.k, monomial.pM, monomial.pDM))\n",
    "\n",
    "reactants = getCompartments(transition[0].lhs)\n",
    "products = getCompartments(transition[0].rhs)\n",
    "\n",
    "display(reactants)\n",
    "display(products)"
   ]
  },
  {
   "cell_type": "code",
   "execution_count": 5,
   "metadata": {},
   "outputs": [
    {
     "data": {
      "text/latex": [
       "$$\\text{DM_cj} = \\left({x}_{0} + {y}_{0}\\right)^{{\\gamma}_{0}} - {x}_{0}^{{\\gamma}_{0}} - {y}_{0}^{{\\gamma}_{0}}$$"
      ],
      "text/plain": [
       "                            \\gamma[0]       \\gamma[0]       \\gamma[0]\n",
       "\\text{DM_cj} = (x[0] + y[0])          - x[0]          - y[0]         "
      ]
     },
     "metadata": {},
     "output_type": "display_data"
    },
    {
     "data": {
      "text/latex": [
       "$$\\text{pDM} = \\Delta{}M^{0}$$"
      ],
      "text/plain": [
       "\\text{pDM} = DeltaM(0)"
      ]
     },
     "metadata": {},
     "output_type": "display_data"
    },
    {
     "data": {
      "image/png": "[encoded data removed]",
      "text/latex": [
       "$$\\text{pDMcj} = -1$$"
      ],
      "text/plain": [
       "\\text{pDMcj} = -1"
      ]
     },
     "metadata": {},
     "output_type": "display_data"
    },
    {
     "data": {
      "image/png": "[encoded data removed]",
      "text/latex": [
       "$$\\text{lnXc} = - k_{C}$$"
      ],
      "text/plain": [
       "\\text{lnXc} = -k_C"
      ]
     },
     "metadata": {},
     "output_type": "display_data"
    }
   ],
   "source": [
    "monomial = monomials[q]\n",
    "\n",
    "(transition, k_c, g_c, pi_c) = transitions[c]\n",
    "(k_q, pM, pDM) = (monomial.k, monomial.pM, monomial.pDM)\n",
    "\n",
    "reactants = getCompartments(transition.lhs)\n",
    "products = getCompartments(transition.rhs)\n",
    "\n",
    "DM_cj = deltaM(reactants, products, D)\n",
    "display(Eq(symbols('\\\\text{DM_cj}'), DM_cj))\n",
    "\n",
    "pDMcj = subsDeltaM(pDM, DM_cj)\n",
    "display(Eq(symbols('\\\\text{pDM}'), pDM))\n",
    "display(Eq(symbols('\\\\text{pDMcj}'), pDMcj))\n",
    "\n",
    "# TODO ...\n",
    "def conditional_expectation(pDMcj, pi_c):\n",
    "    return pDMcj # should be pi_c(pDMcj, ???)\n",
    "   \n",
    "cexp = conditional_expectation(pDMcj, pi_c)\n",
    "l_n_Xc = k_c * k_q * pM * g_c * cexp\n",
    "display(Eq(symbols('\\\\text{lnXc}'), l_n_Xc))"
   ]
  },
  {
   "cell_type": "code",
   "execution_count": 6,
   "metadata": {},
   "outputs": [
    {
     "data": {
      "text/latex": [
       "$$- \\frac{k_{C} {\\left(M^{0}\\right)}^{2}}{2} + \\frac{k_{C} M^{0}}{2}$$"
      ],
      "text/plain": [
       "            2                   \n",
       "  k_C⋅Moment (0)   k_C⋅Moment(0)\n",
       "- ────────────── + ─────────────\n",
       "        2                2      "
      ]
     },
     "metadata": {},
     "output_type": "display_data"
    }
   ],
   "source": [
    "dfMdt = get_dfMdt_contrib(reactants, l_n_Xc, D)\n",
    "display(dfMdt)"
   ]
  },
  {
   "cell_type": "markdown",
   "metadata": {},
   "source": [
    "### (5)\n",
    "Now let\n",
    "$$\n",
    "l(\\n; \\Xc) = k_c \\cdot k_q \\cdot \\Pi(M^{\\gamma^k}) \\cdot g_c(\\Xc) \\cdot\n",
    "        \\left<\n",
    "            \\Pi \\DM^{\\gamma^l} \\;\\big|\\; \\Xc\n",
    "        \\right>\n",
    "$$\n",
    "\n",
    "Plugging in the concrete $\\gamma^l$ and expanding, $l(\\n; \\Xc)$ is a polynomial in $\\Xc$.\n",
    "\n",
    "Monomials are of the form $k \\x^\\alpha$ or $k \\x^\\alpha \\x'^\\beta$ with $\\alpha, \\beta \\in \\N_0^D$.\n",
    "(Note that occurences of $\\Pi M^{\\gamma^k}$ are part of the constants $k$.)\n",
    "\n",
    "Consider again the different cases of reactant compartments $\\Xc$:\n",
    "\n",
    "(1) $\\Xc = \\emptyset$:\n",
    "$$\n",
    "\\frac{\\diff\\left< f(M^\\gamma, M^{\\gamma'}, \\ldots) \\right>}{\\diff t}\n",
    "    = \\left<l(\\n)\\right>\n",
    "$$\n",
    "\n",
    "(2) $\\Xc = \\muset{\\x}$:\n",
    "$$\n",
    "\\frac{\\diff\\left< f(M^\\gamma, M^{\\gamma'}, \\ldots) \\right>}{\\diff t}\n",
    "    = \\left<R(l(\\n; \\muset{\\x})\\right>\n",
    "$$\n",
    "where $R$ replaces all $k \\x^\\alpha$ by $k M^\\alpha$.\n",
    "\n",
    "(3) $\\Xc = \\muset{\\x, \\x'}$:\n",
    "$$\n",
    "\\frac{\\diff\\left< f(M^\\gamma, M^{\\gamma'}, \\ldots) \\right>}{\\diff t}\n",
    "    = \\frac{1}{2}\\left<R'(l(\\n; \\muset{\\x, \\x'})\\right>\n",
    "    \\: - \\:\n",
    "    \\frac{1}{2}\\left<R(l(\\n; \\muset{\\x, \\x})\\right>\n",
    "$$\n",
    "where $R'$ replaces all $k \\x^\\alpha \\X'^\\beta$ by $k M^\\alpha M^\\beta$,\n",
    "and again $R$ replaces all $k \\x^\\alpha$ by $k M^\\alpha$.\n",
    "\n",
    "\n"
   ]
  },
  {
   "cell_type": "markdown",
   "metadata": {},
   "source": [
    "### (6)\n",
    "Finally, sum over contributions from all $c$, $q$ for the total\n",
    "$$\n",
    "\\frac{\\diff\\left< f(M^\\gamma, M^{\\gamma'}, \\ldots) \\right>}{\\diff t}\n",
    "$$"
   ]
  },
  {
   "cell_type": "code",
   "execution_count": 7,
   "metadata": {},
   "outputs": [
    {
     "data": {
      "text/latex": [
       "$$- \\frac{k_{C} {\\left(M^{0}\\right)}^{2}}{2} + \\frac{k_{C} M^{0}}{2}$$"
      ],
      "text/plain": [
       "            2                   \n",
       "  k_C⋅Moment (0)   k_C⋅Moment(0)\n",
       "- ────────────── + ─────────────\n",
       "        2                2      "
      ]
     },
     "metadata": {},
     "output_type": "display_data"
    }
   ],
   "source": [
    "from ito import *\n",
    "\n",
    "def get_dfMdt(transitions, fM, D):\n",
    "    dfM = ito(fM)\n",
    "    monomials = decomposeMomentsPolynomial(dfM)\n",
    "    contrib = list()\n",
    "    for c, (transition, k_c, g_c, pi_c) in enumerate(transitions):\n",
    "        for q, (k_q, pM, pDM) in enumerate([(m.k, m.pM, m.pDM) for m in monomials]):\n",
    "            reactants = getCompartments(transition.lhs)\n",
    "            products = getCompartments(transition.rhs)\n",
    "            DM_cj = deltaM(reactants, products, D)\n",
    "            pDMcj = subsDeltaM(pDM, DM_cj)\n",
    "            cexp = conditional_expectation(pDMcj, pi_c)\n",
    "            l_n_Xc = k_c * k_q * pM * g_c * cexp\n",
    "            dfMdt = get_dfMdt_contrib(reactants, l_n_Xc, D)\n",
    "            contrib.append(dfMdt)\n",
    "            #print(f'c={c}, q={q}')\n",
    "            #display(Eq(symbols('\\\\text{dfMdt}'), dfMdt))\n",
    "    return Add(*contrib)\n",
    "\n",
    "display(get_dfMdt(transitions, Moment(0), D))"
   ]
  },
  {
   "cell_type": "code",
   "execution_count": null,
   "metadata": {},
   "outputs": [],
   "source": []
  }
 ],
 "metadata": {
  "kernelspec": {
   "display_name": "Python 3",
   "language": "python",
   "name": "python3"
  },
  "language_info": {
   "codemirror_mode": {
    "name": "ipython",
    "version": 3
   },
   "file_extension": ".py",
   "mimetype": "text/x-python",
   "name": "python",
   "nbconvert_exporter": "python",
   "pygments_lexer": "ipython3",
   "version": "3.7.3"
  }
 },
 "nbformat": 4,
 "nbformat_minor": 2
}
