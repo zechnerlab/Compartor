{
 "cells": [
  {
   "cell_type": "code",
   "execution_count": 1,
   "metadata": {},
   "outputs": [],
   "source": [
    "from compartmentsBase import *\n",
    "from compartmentsB import *\n",
    "from sympy import *\n",
    "init_printing()\n",
    "\n",
    "\n",
    "# temp helpers \n",
    "def display_hc(k,g,pi,name='c'):\n",
    "    lhs = symbols('k_' + name)\n",
    "    rhs = k\n",
    "    display(Eq(lhs,rhs,evaluate=False))\n",
    "\n",
    "    lhs = symbols('g_' + name)\n",
    "    rhs = g\n",
    "    display(Eq(lhs,rhs,evaluate=False))\n",
    "\n",
    "    lhs = symbols('\\pi_' + name)\n",
    "    rhs = pi\n",
    "    display(Eq(lhs,rhs,evaluate=False))\n"
   ]
  },
  {
   "cell_type": "markdown",
   "metadata": {},
   "source": [
    "$$\n",
    "\\def\\n{\\mathbf{n}}\n",
    "\\def\\x{\\mathbf{x}}\n",
    "\\def\\N{\\mathbb{\\mathbb{N}}}\n",
    "\\def\\X{\\mathbb{X}}\n",
    "\\def\\NX{\\mathbb{\\N_0^\\X}}\n",
    "\\def\\C{\\mathcal{C}}\n",
    "\\def\\Jc{\\mathcal{J}_c}\n",
    "\\def\\DM{\\Delta M_{c,j}}\n",
    "\\newcommand\\diff{\\mathop{}\\!\\mathrm{d}}\n",
    "\\def\\Xc{\\mathbf{X}_c}\n",
    "\\newcommand{\\muset}[1]{\\dot{\\{}#1\\dot{\\}}}\n",
    "$$\n",
    "\n",
    "\n",
    "For a compartment population $\\n \\in \\NX$ evcolving stochastically according to stoichiometric equations from transition classes $\\C$, we want to find an expression for\n",
    "$$\n",
    "\\frac{\\diff}{\\diff t}\\left< f(M^\\gamma, M^{\\gamma'}, \\ldots) \\right>\n",
    "$$\n",
    "in terms of expectations of population moments $M^\\alpha, M^{\\beta}, \\ldots$"
   ]
  },
  {
   "cell_type": "code",
   "execution_count": 2,
   "metadata": {},
   "outputs": [
    {
     "data": {
      "text/latex": [
       "$$\\emptyset\\longrightarrow{}\\left[y\\right]$$"
      ],
      "text/plain": [
       "EmptySet() ---> [y])"
      ]
     },
     "metadata": {},
     "output_type": "display_data"
    },
    {
     "data": {
      "image/png": "[encoded data removed]",
      "text/latex": [
       "$$k_{I} = k_{I}$$"
      ],
      "text/plain": [
       "k_I = k_I"
      ]
     },
     "metadata": {},
     "output_type": "display_data"
    },
    {
     "data": {
      "image/png": "[encoded data removed]",
      "text/latex": [
       "$$g_{I} = 1$$"
      ],
      "text/plain": [
       "g_I = 1"
      ]
     },
     "metadata": {},
     "output_type": "display_data"
    },
    {
     "data": {
      "image/png": "[encoded data removed]",
      "text/latex": [
       "$$\\pi_I = 1$$"
      ],
      "text/plain": [
       "\\pi_I = 1"
      ]
     },
     "metadata": {},
     "output_type": "display_data"
    }
   ],
   "source": [
    "D = 1 # number of species\n",
    "\n",
    "y = ContentVar('y')\n",
    "\n",
    "# Intake\n",
    "transition_I = Transition(EmptySet(), Compartment(y))\n",
    "k_I = Constant('k_I')\n",
    "g_I = 1\n",
    "pi_I = 1\n",
    "\n",
    "transitions = [(transition_I, k_I, g_I, pi_I)]\n",
    "\n",
    "display(transition_I)\n",
    "display_hc(k_I, g_I, pi_I, name='I')\n"
   ]
  },
  {
   "cell_type": "markdown",
   "metadata": {},
   "source": [
    "### (1)\n",
    "From the definition of the compartment dynamics, we have\n",
    "$$\n",
    "\\diff M^\\gamma = \\sum_{c \\in \\C} \\sum_{j \\in \\Jc} \\DM^\\gamma \\diff R_{c,j}\n",
    "$$\n",
    "We apply Ito's rule to derive\n",
    "$$\n",
    "\\diff f(M^\\gamma, M^{\\gamma'}, \\ldots) = \\sum_{c \\in \\C} \\sum_{j \\in \\Jc}\n",
    "    \\left(\n",
    "        f(M^\\gamma + \\DM^\\gamma, M^{\\gamma'} + \\DM^{\\gamma'}, \\ldots)\n",
    "        - f(M^\\gamma, M^{\\gamma'}, \\ldots)\n",
    "    \\right) \\diff R_{c,j}\n",
    "$$"
   ]
  },
  {
   "cell_type": "markdown",
   "metadata": {},
   "source": [
    "Assume, that $f(M^\\gamma, M^{\\gamma'}, \\ldots)$ is a polynomial in $M^{\\gamma^i}$ with $\\gamma^i \\in \\N_0^D$.\n",
    "\n",
    "Then $\\diff f(M^\\gamma, M^{\\gamma'}, \\ldots)$ is a polynomial in $M^{\\gamma^k}, \\DM^{\\gamma^l}$ with $\\gamma^k, \\gamma^l \\in \\N_0^D$, that is,\n",
    "$$\n",
    "\\diff f(M^\\gamma, M^{\\gamma'}, \\ldots) = \\sum_{c \\in \\C} \\sum_{j \\in \\Jc}\n",
    "    \\sum_{q=1}^{n_q} Q_q(M^{\\gamma^k}, \\DM^{\\gamma^l})\n",
    "    \\diff R_{c,j}\n",
    "$$\n",
    "where $Q_q(M^{\\gamma^k}, \\DM^{\\gamma^l})$ are monomials in $M^{\\gamma^k}, \\DM^{\\gamma^l}$."
   ]
  },
  {
   "cell_type": "code",
   "execution_count": 3,
   "metadata": {},
   "outputs": [
    {
     "data": {
      "text/latex": [
       "$${\\left(\\Delta{}M^{1}\\right)}^{2} + 2 \\Delta{}M^{1} M^{1}$$"
      ],
      "text/plain": [
       "      2                           \n",
       "DeltaM (1) + 2⋅DeltaM(1)⋅Moment(1)"
      ]
     },
     "metadata": {},
     "output_type": "display_data"
    }
   ],
   "source": [
    "from ito import *\n",
    "\n",
    "dM1M1 = ito(Moment(1)**2)\n",
    "display(dM1M1)"
   ]
  },
  {
   "cell_type": "markdown",
   "metadata": {},
   "source": [
    "### (2)\n",
    "Let's write $Q_q(M^{\\gamma^k}, \\DM^{\\gamma^l})$ as\n",
    "$$\n",
    "Q_q(M^{\\gamma^k}, \\DM^{\\gamma^l}) = k_q \\cdot \\Pi M^{\\gamma^k} \\cdot \\Pi M^{\\gamma^k}\n",
    "$$\n",
    "where $k_q$ is a constant,\n",
    "  $\\Pi M^{\\gamma^k}$ is a product of powers of $M^{\\gamma^k}$, and\n",
    "  $\\Pi \\DM^{\\gamma^l}$ is a product of powers of $\\DM^{\\gamma^l}$.\n",
    "  \n",
    "Analogous to the derivation in SI Appendix S.3, we arrive at the expected moment dynamics\n",
    "$$\n",
    "\\frac{\\diff\\left< f(M^\\gamma, M^{\\gamma'}, \\ldots) \\right>}{\\diff t} =\n",
    "    \\sum_{c \\in \\C} \\sum_{q=1}^{n_q} \\left<\n",
    "        \\sum_{j \\in \\Jc} k_q \\cdot \\Pi M^{\\gamma^k} \\cdot \\Pi \\DM^{\\gamma^k} \\cdot h_{c,j}(\\n)\n",
    "    \\right>\n",
    "$$"
   ]
  },
  {
   "cell_type": "code",
   "execution_count": 4,
   "metadata": {},
   "outputs": [
    {
     "data": {
      "text/plain": [
       "[MomentsMonomial(1, 1, DeltaM(1)**2),\n",
       " MomentsMonomial(2, Moment(1,), DeltaM(1,))]"
      ]
     },
     "execution_count": 4,
     "metadata": {},
     "output_type": "execute_result"
    }
   ],
   "source": [
    "monomials = decomposeMomentsPolynomial(dM1M1)\n",
    "monomials"
   ]
  },
  {
   "cell_type": "markdown",
   "metadata": {},
   "source": [
    "### (3)\n",
    "Analogous to SI Appendix S.4, the contribution of class $c$, monomial $q$ to the expected dynamics of $f(M^\\gamma, M^{\\gamma'}, \\ldots)$ is\n",
    "$$\n",
    "\\begin{align}\n",
    "\\frac{\\diff\\left< f(M^\\gamma, M^{\\gamma'}, \\ldots) \\right>}{\\diff t}\n",
    "    &= \\left<\n",
    "        {\\large\\sum_{j \\in \\Jc}} k_q \\cdot \\Pi M^{\\gamma^k} \\cdot \\Pi \\DM^{\\gamma^l} \\cdot h_{c,j}(\\n)\n",
    "    \\right>\n",
    "    \\\\\n",
    "    &= \\left<\n",
    "        {\\large\\sum_{\\Xc}} w(\\n; \\Xc) \\cdot k_c \\cdot k_q \\cdot \\Pi M^{\\gamma^k} \\cdot g_c(\\Xc) \\cdot\n",
    "        \\left<\n",
    "            \\Pi \\DM^{\\gamma^l} \\;\\big|\\; \\Xc\n",
    "        \\right>\n",
    "    \\right>\n",
    "\\end{align}\n",
    "$$\n"
   ]
  },
  {
   "cell_type": "code",
   "execution_count": 5,
   "metadata": {},
   "outputs": [
    {
     "data": {
      "text/latex": [
       "$$\\left ( \\emptyset\\longrightarrow{}\\left[y\\right], \\quad k_{I}, \\quad 1, \\quad 1\\right )$$"
      ],
      "text/plain": [
       "(EmptySet() ---> [y]), k_I, 1, 1)"
      ]
     },
     "metadata": {},
     "output_type": "display_data"
    },
    {
     "data": {
      "text/latex": [
       "$$\\left ( 2, \\quad M^{1}, \\quad \\Delta{}M^{1}\\right )$$"
      ],
      "text/plain": [
       "(2, Moment(1), DeltaM(1))"
      ]
     },
     "metadata": {},
     "output_type": "display_data"
    },
    {
     "data": {
      "image/png": "[encoded data removed]",
      "text/latex": [
       "$$\\left \\{ \\right \\}$$"
      ],
      "text/plain": [
       "defaultdict(int, {})"
      ]
     },
     "metadata": {},
     "output_type": "display_data"
    },
    {
     "data": {
      "text/latex": [
       "$$\\left \\{ \\left[y\\right] : 1\\right \\}$$"
      ],
      "text/plain": [
       "defaultdict(int, {Compartment(y): 1})"
      ]
     },
     "metadata": {},
     "output_type": "display_data"
    },
    {
     "data": {
      "image/png": "[encoded data removed]",
      "text/latex": [
       "$$1$$"
      ],
      "text/plain": [
       "1"
      ]
     },
     "metadata": {},
     "output_type": "display_data"
    }
   ],
   "source": [
    "c = 0\n",
    "q = 1\n",
    "\n",
    "transition = transitions[c]\n",
    "monomial = monomials[q]\n",
    "\n",
    "display(transitions[c])\n",
    "display((monomial.k, monomial.pM, monomial.pDM))\n",
    "\n",
    "\n",
    "from compartmentsB import getCompartments, getSumMassAction\n",
    "\n",
    "reactants = getCompartments(transition[0].lhs)\n",
    "products = getCompartments(transition[0].rhs)\n",
    "display(reactants)\n",
    "display(products)\n",
    "\n",
    "display(getSumMassAction(reactants))"
   ]
  },
  {
   "cell_type": "markdown",
   "metadata": {},
   "source": [
    "TODO: Form expression\n",
    "$$\n",
    "l(\\n; \\Xc) = k_c \\cdot k_q \\cdot \\Pi(M^{\\gamma^k}) \\cdot g_c(\\Xc) \\cdot\n",
    "        \\left<\n",
    "            \\Pi \\DM^{\\gamma^l} \\;\\big|\\; \\Xc\n",
    "        \\right>\n",
    "$$"
   ]
  },
  {
   "cell_type": "code",
   "execution_count": 6,
   "metadata": {},
   "outputs": [
    {
     "data": {
      "text/latex": [
       "$$\\text{DM_cj} = {y}_{0}^{{\\gamma}_{0}}$$"
      ],
      "text/plain": [
       "                   \\gamma[0]\n",
       "\\text{DM_cj} = y[0]         "
      ]
     },
     "metadata": {},
     "output_type": "display_data"
    },
    {
     "data": {
      "text/latex": [
       "$$\\text{pDM} = \\Delta{}M^{1}$$"
      ],
      "text/plain": [
       "\\text{pDM} = DeltaM(1)"
      ]
     },
     "metadata": {},
     "output_type": "display_data"
    },
    {
     "data": {
      "image/png": "[encoded data removed]",
      "text/latex": [
       "$$\\text{pDMcj} = {y}_{0}$$"
      ],
      "text/plain": [
       "\\text{pDMcj} = y[0]"
      ]
     },
     "metadata": {},
     "output_type": "display_data"
    }
   ],
   "source": [
    "monomial = monomials[q]\n",
    "\n",
    "(transition, k_c, g_c, pi_c) = transitions[c]\n",
    "(k_q, pM, pDM) = (monomial.k, monomial.pM, monomial.pDM)\n",
    "\n",
    "\n",
    "reactants = getCompartments(transition.lhs)\n",
    "products = getCompartments(transition.rhs)\n",
    "\n",
    "from compartmentsB import deltaM, subsDeltaM\n",
    "\n",
    "DM_cj = deltaM(reactants, products, D)\n",
    "display(Eq(symbols('\\\\text{DM_cj}'), DM_cj))\n",
    "\n",
    "pDMcj = subsDeltaM(pDM, DM_cj)\n",
    "display(Eq(symbols('\\\\text{pDM}'), pDM))\n",
    "display(Eq(symbols('\\\\text{pDMcj}'), pDMcj))"
   ]
  },
  {
   "cell_type": "code",
   "execution_count": 7,
   "metadata": {},
   "outputs": [
    {
     "data": {
      "image/png": "[encoded data removed]",
      "text/latex": [
       "$$\\lambda$$"
      ],
      "text/plain": [
       "λ"
      ]
     },
     "metadata": {},
     "output_type": "display_data"
    },
    {
     "data": {
      "text/latex": [
       "$$2 k_{I} \\lambda M^{1}$$"
      ],
      "text/plain": [
       "2⋅k_I⋅λ⋅Moment(1)"
      ]
     },
     "metadata": {},
     "output_type": "display_data"
    }
   ],
   "source": [
    "# TODO ...\n",
    "def conditional_expectation(pDMcj, pi_c):\n",
    "     return pi_c(pDMcj)\n",
    "#     return pDMcj # should be pi_c(pDMcj, ???)\n",
    "\n",
    "from sympy.stats import *\n",
    "\n",
    "def lala(pDMcj):\n",
    "    pi_c = Poisson\n",
    "    rate = Symbol(\"lambda\", positive=True)\n",
    "    y_poiss = Poisson('ypoiss', rate)\n",
    "    pDMcj_poiss = pDMcj.subs(y[0], y_poiss)\n",
    "    cexp = E(pDMcj_poiss)\n",
    "    return cexp\n",
    "\n",
    "pi_c = lala\n",
    "\n",
    "cexp = conditional_expectation(pDMcj, pi_c)\n",
    "display(cexp.factor().expand())\n",
    "   \n",
    "l_n_Xc = k_c * k_q * pM * g_c * cexp\n",
    "display(l_n_Xc.factor().expand())"
   ]
  },
  {
   "cell_type": "markdown",
   "metadata": {},
   "source": [
    "### (4)\n",
    "Let's consider the expression $A = \\sum_{\\Xc} w(\\n; \\Xc) \\cdot l(\\n; \\Xc)$ for the following cases of reactant compartments:\n",
    "$\\Xc = \\emptyset$,\n",
    "$\\Xc = \\muset{\\x}$, and\n",
    "$\\Xc = \\muset{\\x, \\x'}$.\n",
    "\n",
    "(1) $\\Xc = \\emptyset$:\n",
    "\n",
    "Then $w(\\n; \\Xc) = 1$, and\n",
    "$$\n",
    "    A = l(\\n)\n",
    "$$\n",
    "\n",
    "(2) $\\Xc = \\muset{\\x}$:\n",
    "\n",
    "Then $w(\\n; \\Xc) = 1$, and\n",
    "$$\n",
    "    A = \\sum_{\\x \\in \\X} \\n(\\x) \\cdot l(\\n; \\muset{\\x})\n",
    "$$\n",
    "\n",
    "(3) $\\Xc = \\muset{\\x, \\x'}$:\n",
    "\n",
    "Then\n",
    "$$\n",
    "    w(\\n; \\Xc) = \\frac{\\n(\\x)\\cdot(\\n(\\x')-\\delta_{\\x,\\x'})}\n",
    "    {1+\\delta_{\\x,\\x'}},\n",
    "$$\n",
    "and\n",
    "$$\n",
    "\\begin{align}\n",
    "    A &= \\sum_{\\x \\in \\X} \\sum_{\\x' \\in \\X}\n",
    "            \\frac{1}{2-\\delta_{\\x,\\x'}}\n",
    "            \\cdot w(\\n; \\Xc) \\cdot l(\\n; \\muset{\\x, \\x'}) \\\\\n",
    "      &= \\sum_{\\x \\in \\X} \\sum_{\\x' \\in \\X}\n",
    "            \\frac{\\n(\\x)\\cdot(\\n(\\x')-\\delta_{\\x,\\x'})}{2}\n",
    "            \\cdot l(\\n; \\muset{\\x, \\x'}) \\\\\n",
    "      &= \\sum_{\\x \\in \\X} \\sum_{\\x' \\in \\X}\n",
    "            \\n(\\x)\\cdot\\n(\\x') \\cdot \\frac{1}{2}l(\\n; \\muset{\\x, \\x'})\n",
    "         \\: - \\:\n",
    "         \\sum_{\\x \\in \\X}\n",
    "            \\n(\\x) \\cdot \\frac{1}{2}l(\\n; \\muset{\\x, \\x})\n",
    "\\end{align}\n",
    "$$"
   ]
  },
  {
   "cell_type": "markdown",
   "metadata": {},
   "source": [
    "### (5)\n",
    "Now let\n",
    "$$\n",
    "l(\\n; \\Xc) = k_c \\cdot k_q \\cdot \\Pi(M^{\\gamma^k}) \\cdot g_c(\\Xc) \\cdot\n",
    "        \\left<\n",
    "            \\Pi \\DM^{\\gamma^l} \\;\\big|\\; \\Xc\n",
    "        \\right>\n",
    "$$\n",
    "\n",
    "Plugging in the concrete $\\gamma^l$ and expanding, $l(\\n; \\Xc)$ is a polynomial in $\\Xc$.\n",
    "\n",
    "Monomials are of the form $k \\x^\\alpha$ or $k \\x^\\alpha \\x'^\\beta$ with $\\alpha, \\beta \\in \\N_0^D$.\n",
    "(Note that occurences of $\\Pi M^{\\gamma^k}$ are part of the constants $k$.)\n",
    "\n",
    "Consider again the different cases of reactant compartments $\\Xc$:\n",
    "\n",
    "(1) $\\Xc = \\emptyset$:\n",
    "$$\n",
    "\\frac{\\diff\\left< f(M^\\gamma, M^{\\gamma'}, \\ldots) \\right>}{\\diff t}\n",
    "    = \\left<l(\\n)\\right>\n",
    "$$\n",
    "\n",
    "(2) $\\Xc = \\muset{\\x}$:\n",
    "$$\n",
    "\\frac{\\diff\\left< f(M^\\gamma, M^{\\gamma'}, \\ldots) \\right>}{\\diff t}\n",
    "    = \\left<R(l(\\n; \\muset{\\x})\\right>\n",
    "$$\n",
    "where $R$ replaces all $k \\x^\\alpha$ by $k M^\\alpha$.\n",
    "\n",
    "(3) $\\Xc = \\muset{\\x, \\x'}$:\n",
    "$$\n",
    "\\frac{\\diff\\left< f(M^\\gamma, M^{\\gamma'}, \\ldots) \\right>}{\\diff t}\n",
    "    = \\frac{1}{2}\\left<R'(l(\\n; \\muset{\\x, \\x'})\\right>\n",
    "    \\: - \\:\n",
    "    \\frac{1}{2}\\left<R(l(\\n; \\muset{\\x, \\x})\\right>\n",
    "$$\n",
    "where $R'$ replaces all $k \\x^\\alpha \\X'^\\beta$ by $k M^\\alpha M^\\beta$,\n",
    "and again $R$ replaces all $k \\x^\\alpha$ by $k M^\\alpha$.\n",
    "\n",
    "\n"
   ]
  },
  {
   "cell_type": "markdown",
   "metadata": {},
   "source": [
    "TODO:\n",
    "\n",
    "Depending on $\\Xc$ case ...\n",
    "- [x] Replace every occurence of $k \\x^\\alpha$ by $k M^\\alpha$.\n",
    "- [ ] Replace every occurence of $k \\x^\\alpha \\x'^\\beta$ by $k M^\\alpha M^\\beta$\n",
    "- [ ] Make full $\\frac{1}{2}R'(l(\\n; \\muset{\\x, \\x'})-\\frac{1}{2}R(l(\\n; \\muset{\\x, \\x})$\n",
    "\n",
    "What is the $\\x$ to replace?\n",
    "- [x] for case $\\Xc = \\muset{\\x}$: only entry of `reactants`\n",
    "- [ ] later: function to replace $\\x'$ in `reactants` and `products` by $\\x$.\n",
    "  (Where, $\\x$, $\\x'$ are the two entries of `reactants`.)\n",
    "  Then again, `reactants` will only have one entry."
   ]
  },
  {
   "cell_type": "code",
   "execution_count": 8,
   "metadata": {},
   "outputs": [
    {
     "data": {
      "text/latex": [
       "$$2 k_{I} \\lambda M^{1}$$"
      ],
      "text/plain": [
       "2⋅k_I⋅λ⋅Moment(1)"
      ]
     },
     "execution_count": 8,
     "metadata": {},
     "output_type": "execute_result"
    }
   ],
   "source": [
    "from compartmentsB import get_dfMdt_contrib\n",
    "\n",
    "get_dfMdt_contrib(reactants, l_n_Xc, D)"
   ]
  },
  {
   "cell_type": "markdown",
   "metadata": {},
   "source": [
    "### (6)\n",
    "Finally, sum over contributions from all $c$, $q$ for the total\n",
    "$$\n",
    "\\frac{\\diff\\left< f(M^\\gamma, M^{\\gamma'}, \\ldots) \\right>}{\\diff t}\n",
    "$$"
   ]
  },
  {
   "cell_type": "code",
   "execution_count": null,
   "metadata": {},
   "outputs": [],
   "source": []
  }
 ],
 "metadata": {
  "kernelspec": {
   "display_name": "Python 3",
   "language": "python",
   "name": "python3"
  },
  "language_info": {
   "codemirror_mode": {
    "name": "ipython",
    "version": 3
   },
   "file_extension": ".py",
   "mimetype": "text/x-python",
   "name": "python",
   "nbconvert_exporter": "python",
   "pygments_lexer": "ipython3",
   "version": "3.7.3"
  }
 },
 "nbformat": 4,
 "nbformat_minor": 2
}
