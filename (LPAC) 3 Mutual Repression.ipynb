{
 "cells": [
  {
   "cell_type": "markdown",
   "metadata": {},
   "source": [
    "# Mutually repressing gene circuit\n",
    "This notebook generates the approximated moment equations for the _Mutually repressing gene circuit in a cell population_ case study of the LPAC paper."
   ]
  },
  {
   "cell_type": "markdown",
   "metadata": {},
   "source": [
    "The full transition network is represented by \n",
    "the following diagram:\n",
    "$$\n",
    "\\begin{align}\n",
    "\t[x] &\\xrightarrow{h_D(n; x,y)} [y] + [x-y] & \\text{(Division)} \\notag \\\\\n",
    "\t[x] + [x'] &\\xrightarrow{h_A(n; x)} [x] & \\text{(Apoptosis)} \\notag \\\\\n",
    "\t[x] &\\xrightarrow{h_{p_1}(n; x)} [x + (1,0)] & \\text{(Production 1)} \\notag \\\\\n",
    "\t[x] &\\xrightarrow{h_{d_1}(n; x)} [x - (1,0)] & \\text{(Degradation 1)} \\notag \\\\\n",
    "\t[x] &\\xrightarrow{h_{p_2}(n; x)} [x + (0,1)] & \\text{(Production 2)} \\notag \\\\\n",
    "\t[x] &\\xrightarrow{h_{d_2}(n; x)} [x - (0,1)] & \\text{(Degradation 2)} \\notag\n",
    "\\end{align}\n",
    "$$"
   ]
  },
  {
   "cell_type": "markdown",
   "metadata": {},
   "source": [
    "While the propensity functions are as follows:\n",
    "$$\n",
    "\\begin{align}\n",
    "\th_D(n; x,y) &= k_D \\, \\pi_D(y \\mid x) \\, n_x \\label{suppeq:MR:hD} \\\\\n",
    "\th_A(n; x,x') &= k_A \\, \\frac{n_x (n_{x'} - \\delta_{x,x'})}{1 + \\delta_{x,x'}} \\label{suppeq:MR:hA} \\\\\n",
    "\th_{p_1}(n; x) &= k_p \\, \\frac{k_{R_1}}{k_{R_1} + x_2} \\, n_x \\label{suppeq:MR:hp1} \\\\\n",
    "\th_{d_1}(n; x) &= k_d \\, x_1 \\, n_x \\label{suppeq:MR:hd1} \\\\\n",
    " \th_{p_2}(n; x) &= k_p \\, \\frac{k_{R_2}}{k_{R_2} + x_1} \\, n_x \\label{suppeq:MR:hp2} \\\\\n",
    "\th_{d_2}(n; x) &= k_d \\, x_2 \\, n_x \\label{suppeq:MR:hd2} \n",
    "\\end{align}\n",
    "$$"
   ]
  },
  {
   "cell_type": "code",
   "execution_count": 1,
   "metadata": {},
   "outputs": [],
   "source": [
    "# import sys\n",
    "# !{sys.executable} -m pip install --upgrade pip\n",
    "# !{sys.executable} -m pip install sympy\n",
    "# !{sys.executable} -m pip install scipy\n",
    "# !{sys.executable} -m pip install matplotlib"
   ]
  },
  {
   "cell_type": "code",
   "execution_count": 2,
   "metadata": {},
   "outputs": [],
   "source": [
    "# Remove matplotlib deprecation warnings\n",
    "import warnings\n",
    "warnings.filterwarnings(\"ignore\", category=UserWarning)"
   ]
  },
  {
   "cell_type": "code",
   "execution_count": 3,
   "metadata": {},
   "outputs": [],
   "source": [
    "# initialize sympy printing (for latex output)\n",
    "from sympy import init_printing, Symbol\n",
    "init_printing()\n",
    "\n",
    "# import functions and classes for compartment models\n",
    "import sys\n",
    "sys.path.insert(0, \"./compartor\") #use local copy\n",
    "from compartor import *\n",
    "\n",
    "# Define shorthands for Moment and Expectation\n",
    "M, E = Moment, Expectation"
   ]
  },
  {
   "cell_type": "markdown",
   "metadata": {},
   "source": [
    "Here, we illustrate how to export the moment equations in LaTeX format or generate code for simulations.\n",
    "\n",
    "We consider again the exemplary model of the paper and derive moments equations with the automated function."
   ]
  },
  {
   "cell_type": "code",
   "execution_count": 4,
   "metadata": {},
   "outputs": [
    {
     "data": {
      "text/latex": [
       "$\\displaystyle \\begin{align} \\left[x\\right] + \\left[y\\right]&\\overset{h_{E}}{\\longrightarrow}\\left[y\\right] && h_{E} = \\frac{k_{E} \\left(n{\\left(y \\right)} - \\delta_{x y}\\right) n{\\left(x \\right)}}{\\delta_{x y} + 1}\\\\\\left[x\\right]&\\overset{h_{F}}{\\longrightarrow}\\left[x - y\\right] + \\left[y\\right] && h_{F} = \\pi_{F(y|x)} k_{F} n{\\left(x \\right)}\\\\\\left[x\\right]&\\overset{h_{b_0}}{\\longrightarrow}\\left[\\left( 1, \\  0\\right) + x\\right] && h_{b_0} = \\frac{kM_{R0} k_{b} n{\\left(x \\right)}}{kM_{R0} + {x}_{1}}\\\\\\left[x\\right]&\\overset{h_{d_0}}{\\longrightarrow}\\left[\\left( -1, \\  0\\right) + x\\right] && h_{d_0} = k_{d} n{\\left(x \\right)} {x}_{0}\\\\\\left[x\\right]&\\overset{h_{b_1}}{\\longrightarrow}\\left[\\left( 0, \\  1\\right) + x\\right] && h_{b_1} = \\frac{kM_{R1} k_{b} n{\\left(x \\right)}}{kM_{R1} + {x}_{0}}\\\\\\left[x\\right]&\\overset{h_{d_1}}{\\longrightarrow}\\left[\\left( 0, \\  -1\\right) + x\\right] && h_{d_1} = k_{d} n{\\left(x \\right)} {x}_{1} \\end{align}$"
      ],
      "text/plain": [
       "[x] + [y] ---> [y],  h_E = k_E*(n(y) - KroneckerDelta(x, y))*n(x)/(KroneckerDelta(x, y) + 1)\n",
       "                     [x] ---> [x - y] + [y],  h_F = \\pi_F(y|x)*k_F*n(x)                     \n",
       "               [x] ---> [(1, 0) + x],  h_b_0 = kM_R0*k_b*n(x)/(kM_R0 + x[1])                \n",
       "                       [x] ---> [(-1, 0) + x],  h_d_0 = k_d*n(x)*x[0]                       \n",
       "               [x] ---> [(0, 1) + x],  h_b_1 = kM_R1*k_b*n(x)/(kM_R1 + x[0])                \n",
       "                       [x] ---> [(0, -1) + x],  h_d_1 = k_d*n(x)*x[1]                       "
      ]
     },
     "metadata": {},
     "output_type": "display_data"
    }
   ],
   "source": [
    "x = Content('x')\n",
    "y = Content('y')\n",
    "\n",
    "from sympy import symbols, log, exp, sin, cos, tan\n",
    "\n",
    "kM_R0, kM_R1 = symbols('kM_R0 kM_R1')\n",
    "\n",
    "def _hill(v, kM, h):\n",
    "    return v**h / ( v**h + kM**h)\n",
    "\n",
    "def _mm(x, kM):\n",
    "    return _hill(x, kM, 1)\n",
    "\n",
    "def _reprMM(x, kM):\n",
    "    return _mm(kM, x)\n",
    "\n",
    "# define fragmentation distribution\n",
    "pi_F0 = OutcomeDistribution.Uniform(Symbol(\"\\pi_{F0}(y|x)\"), y[0], 0, x[0])\n",
    "pi_F1 = OutcomeDistribution.Uniform(Symbol(\"\\pi_{F1}(y|x)\"), y[1], 0, x[1])\n",
    "pi_F = OutcomeDistribution.CombineIndependent(Symbol(\"\\pi_F(y|x)\"), pi_F0, pi_F1)\n",
    "\n",
    "Birth0         = TransitionClass( [x]       -to> [x+(1,0)],       'k_b', g=kM_R0/(kM_R0+x[1]), name='b_0')\n",
    "Death0         = TransitionClass( [x]       -to> [x+(-1,0)],       'k_d', g=x[0],    name='d_0')\n",
    "Birth1         = TransitionClass( [x]       -to> [x+(0,1)],       'k_b', g=kM_R1/(kM_R1+x[0]), name='b_1')\n",
    "Death1         = TransitionClass( [x]       -to> [x+(0,-1)],       'k_d', g=x[1],    name='d_1')\n",
    "\n",
    "Exit          = TransitionClass( [x] + [y] -to> [y], 'k_E', name='E')\n",
    "\n",
    "Division = TransitionClass( [x]       -to> [y] + [x-y], 'k_F', pi=pi_F, name='F')\n",
    "\n",
    "transitions = [Exit, Division, Birth0, Death0, Birth1, Death1]\n",
    "display_transition_classes(transitions)"
   ]
  },
  {
   "cell_type": "code",
   "execution_count": 5,
   "metadata": {},
   "outputs": [
    {
     "data": {
      "image/png": "[encoded data removed]",
      "text/latex": [
       "$\\displaystyle \\left[ M^{\\left(0, 0\\right)}, \\  {\\left(M^{\\left(0, 0\\right)}\\right)}^{\\mathtt{\\text{2}}}, \\  M^{\\left(1, 0\\right)}, \\  {\\left(M^{\\left(1, 0\\right)}\\right)}^{\\mathtt{\\text{2}}}, \\  M^{\\left(0, 1\\right)}, \\  {\\left(M^{\\left(0, 1\\right)}\\right)}^{\\mathtt{\\text{2}}}, \\  M^{\\left(1, 1\\right)}, \\  M^{\\left(2, 0\\right)}, \\  M^{\\left(0, 2\\right)}\\right]$"
      ],
      "text/plain": [
       "⎡                    2                            2                            2                                                ⎤\n",
       "⎣Moment(0, 0), Moment (0, 0), Moment(1, 0), Moment (1, 0), Moment(0, 1), Moment (0, 1), Moment(1, 1), Moment(2, 0), Moment(0, 2)⎦"
      ]
     },
     "metadata": {},
     "output_type": "display_data"
    },
    {
     "name": "stderr",
     "output_type": "stream",
     "text": [
      "> Compute Moment Equations: computing equations for 9 moments\n",
      " [0:00:08.701989]\n",
      "> Compute Moment Equations: computing equations for 8 moments\n",
      " [0:00:19.330641]\n",
      "> Compute Moment Equations: computing equations for 6 moments\n",
      " [0:00:33.163892]\n",
      "> Compute Moment Equations: computing equations for 3 moments\n",
      " [0:00:22.607518]\n",
      "> Compute Moment Equations: computing equations for 1 moments\n",
      " [0:00:07.217581]\n",
      "> Automated Moment Equations: #equations=27 [0:01:31.149525]\n"
     ]
    },
    {
     "data": {
      "text/markdown": [
       "Computed moment equations for desired moments $\\left< N\\right> $, $\\left< N^{2}\\right> $, $\\left< M^{\\left(1, 0\\right)}\\right> $, $\\left< {\\left(M^{\\left(1, 0\\right)}\\right)}^{\\mathtt{\\text{2}}}\\right> $, $\\left< M^{\\left(0, 1\\right)}\\right> $, $\\left< {\\left(M^{\\left(0, 1\\right)}\\right)}^{\\mathtt{\\text{2}}}\\right> $, $\\left< M^{\\left(1, 1\\right)}\\right> $, $\\left< M^{\\left(2, 0\\right)}\\right> $, and $\\left< M^{\\left(0, 2\\right)}\\right> $."
      ],
      "text/plain": [
       "<IPython.core.display.Markdown object>"
      ]
     },
     "metadata": {},
     "output_type": "display_data"
    },
    {
     "data": {
      "text/markdown": [
       "Equations were iteratively added for $\\left< M^{\\left(0, 1\\right)} M^{\\left(2, 0\\right)}\\right> $, $\\left< M^{\\left(0, 1\\right)} M^{\\left(1, 0\\right)}\\right> $, $\\left< N M^{\\left(1, 0\\right)}\\right> $, $\\left< N M^{\\left(0, 2\\right)}\\right> $, $\\left< M^{\\left(0, 2\\right)} M^{\\left(1, 0\\right)}\\right> $, $\\left< N M^{\\left(0, 1\\right)}\\right> $, $\\left< N M^{\\left(1, 1\\right)}\\right> $, $\\left< N M^{\\left(2, 0\\right)}\\right> $, $\\left< {\\left(M^{\\left(2, 0\\right)}\\right)}^{\\mathtt{\\text{2}}}\\right> $, $\\left< {\\left(M^{\\left(0, 2\\right)}\\right)}^{\\mathtt{\\text{2}}}\\right> $, $\\left< M^{\\left(1, 0\\right)} M^{\\left(2, 0\\right)}\\right> $, $\\left< M^{\\left(0, 1\\right)} M^{\\left(0, 2\\right)}\\right> $, $\\left< M^{\\left(1, 0\\right)} M^{\\left(1, 1\\right)}\\right> $, $\\left< M^{\\left(0, 1\\right)} M^{\\left(1, 1\\right)}\\right> $, $\\left< M^{\\left(0, 2\\right)} M^{\\left(1, 1\\right)}\\right> $, $\\left< M^{\\left(1, 1\\right)} M^{\\left(2, 0\\right)}\\right> $, $\\left< M^{\\left(0, 2\\right)} M^{\\left(2, 0\\right)}\\right> $, and $\\left< {\\left(M^{\\left(1, 1\\right)}\\right)}^{\\mathtt{\\text{2}}}\\right> $."
      ],
      "text/plain": [
       "<IPython.core.display.Markdown object>"
      ]
     },
     "metadata": {},
     "output_type": "display_data"
    }
   ],
   "source": [
    "moments = [\n",
    "    M(0,0),\n",
    "    M(0,0)**2,\n",
    "    M(1,0),\n",
    "    M(1,0)**2,\n",
    "    M(0,1),\n",
    "    M(0,1)**2,\n",
    "    M(1,1),\n",
    "    M(2,0),\n",
    "    M(0,2),\n",
    "]\n",
    "display(moments)\n",
    "equations = automated_moment_equations(2, transitions, moments, lpac=True, order=2, simplify_equations=False)\n",
    "display_moment_equations(equations)"
   ]
  },
  {
   "cell_type": "code",
   "execution_count": 6,
   "metadata": {
    "scrolled": false
   },
   "outputs": [
    {
     "name": "stderr",
     "output_type": "stream",
     "text": [
      "> Generating ODE body...\n",
      ">> (1) Generating RHS code for Moment(0, 0)...\n",
      ">>> Generating RHS code... [0:00:00.000166]\n",
      ">>> Generating RHS comments...\n",
      ">> (2) Generating RHS code for Moment(0, 0)**2...\n",
      ">>> Generating RHS code... [0:00:00.000502]\n",
      ">>> Generating RHS comments...\n",
      ">> (3) Generating RHS code for Moment(1, 0)...\n",
      ">>> Generating RHS code... [0:00:00.001439]\n",
      ">>> Generating RHS comments...\n",
      ">> (4) Generating RHS code for Moment(1, 0)**2...\n",
      ">>> Generating RHS code... [0:00:00.002798]\n",
      ">>> Generating RHS comments...\n",
      ">> (5) Generating RHS code for Moment(0, 1)...\n",
      ">>> Generating RHS code... [0:00:00.001244]\n",
      ">>> Generating RHS comments...\n",
      ">> (6) Generating RHS code for Moment(0, 1)**2...\n",
      ">>> Generating RHS code... [0:00:00.002185]\n",
      ">>> Generating RHS comments...\n",
      ">> (7) Generating RHS code for Moment(1, 1)...\n",
      ">>> Generating RHS code... [0:00:00.002374]\n",
      ">>> Generating RHS comments...\n",
      ">> (8) Generating RHS code for Moment(2, 0)...\n",
      ">>> Generating RHS code... [0:00:00.002356]\n",
      ">>> Generating RHS comments...\n",
      ">> (9) Generating RHS code for Moment(0, 2)...\n",
      ">>> Generating RHS code... [0:00:00.002450]\n",
      ">>> Generating RHS comments...\n",
      ">> (10) Generating RHS code for Moment(0, 1)*Moment(2, 0)...\n",
      ">>> Generating RHS code... [0:00:00.003844]\n",
      ">>> Generating RHS comments...\n",
      ">> (11) Generating RHS code for Moment(0, 1)*Moment(1, 0)...\n",
      ">>> Generating RHS code... [0:00:00.002366]\n",
      ">>> Generating RHS comments...\n",
      ">> (12) Generating RHS code for Moment(0, 0)*Moment(1, 0)...\n",
      ">>> Generating RHS code... [0:00:00.001362]\n",
      ">>> Generating RHS comments...\n",
      ">> (13) Generating RHS code for Moment(0, 0)*Moment(0, 2)...\n",
      ">>> Generating RHS code... [0:00:00.002660]\n",
      ">>> Generating RHS comments...\n",
      ">> (14) Generating RHS code for Moment(0, 2)*Moment(1, 0)...\n",
      ">>> Generating RHS code... [0:00:00.004105]\n",
      ">>> Generating RHS comments...\n",
      ">> (15) Generating RHS code for Moment(0, 0)*Moment(0, 1)...\n",
      ">>> Generating RHS code... [0:00:00.001438]\n",
      ">>> Generating RHS comments...\n",
      ">> (16) Generating RHS code for Moment(0, 0)*Moment(1, 1)...\n",
      ">>> Generating RHS code... [0:00:00.002508]\n",
      ">>> Generating RHS comments...\n",
      ">> (17) Generating RHS code for Moment(0, 0)*Moment(2, 0)...\n",
      ">>> Generating RHS code... [0:00:00.002477]\n",
      ">>> Generating RHS comments...\n",
      ">> (18) Generating RHS code for Moment(2, 0)**2...\n",
      ">>> Generating RHS code... [0:00:00.007445]\n",
      ">>> Generating RHS comments...\n",
      ">> (19) Generating RHS code for Moment(0, 2)**2...\n",
      ">>> Generating RHS code... [0:00:00.008078]\n",
      ">>> Generating RHS comments...\n",
      ">> (20) Generating RHS code for Moment(1, 0)*Moment(2, 0)...\n",
      ">>> Generating RHS code... [0:00:00.006540]\n",
      ">>> Generating RHS comments...\n",
      ">> (21) Generating RHS code for Moment(0, 1)*Moment(0, 2)...\n",
      ">>> Generating RHS code... [0:00:00.006622]\n",
      ">>> Generating RHS comments...\n",
      ">> (22) Generating RHS code for Moment(1, 0)*Moment(1, 1)...\n",
      ">>> Generating RHS code... [0:00:00.005279]\n",
      ">>> Generating RHS comments...\n",
      ">> (23) Generating RHS code for Moment(0, 1)*Moment(1, 1)...\n",
      ">>> Generating RHS code... [0:00:00.004740]\n",
      ">>> Generating RHS comments...\n",
      ">> (24) Generating RHS code for Moment(0, 2)*Moment(1, 1)...\n",
      ">>> Generating RHS code... [0:00:00.008800]\n",
      ">>> Generating RHS comments...\n",
      ">> (25) Generating RHS code for Moment(1, 1)*Moment(2, 0)...\n",
      ">>> Generating RHS code... [0:00:00.008366]\n",
      ">>> Generating RHS comments...\n",
      ">> (26) Generating RHS code for Moment(0, 2)*Moment(2, 0)...\n",
      ">>> Generating RHS code... [0:00:00.006864]\n",
      ">>> Generating RHS comments...\n",
      ">> (27) Generating RHS code for Moment(1, 1)**2...\n",
      ">>> Generating RHS code... [0:00:00.007052]\n",
      ">>> Generating RHS comments...\n"
     ]
    },
    {
     "name": "stdout",
     "output_type": "stream",
     "text": [
      "Code written to file: MutualRepression.jl\n"
     ]
    }
   ],
   "source": [
    "name = \"MutualRepression\"\n",
    "julia_code = generate_julia_code(equations, function_name=name)\n",
    "# print(julia_code)\n",
    "filename=name+\".jl\"\n",
    "with open(filename, 'w') as f:\n",
    "    print(julia_code, file=f)\n",
    "    print(\"Code written to file: %s\" %(filename))"
   ]
  }
 ],
 "metadata": {
  "kernelspec": {
   "display_name": "Python 3 (ipykernel)",
   "language": "python",
   "name": "python3"
  },
  "language_info": {
   "codemirror_mode": {
    "name": "ipython",
    "version": 3
   },
   "file_extension": ".py",
   "mimetype": "text/x-python",
   "name": "python",
   "nbconvert_exporter": "python",
   "pygments_lexer": "ipython3",
   "version": "3.11.2"
  }
 },
 "nbformat": 4,
 "nbformat_minor": 2
}
