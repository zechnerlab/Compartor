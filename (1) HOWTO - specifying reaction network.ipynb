{
 "cells": [
  {
   "cell_type": "markdown",
   "metadata": {},
   "source": [
    "# Specifying a reaction network\n",
    "$$\n",
    "\\def\\n{\\mathbf{n}}\n",
    "\\def\\x{\\mathbf{x}}\n",
    "\\def\\N{\\mathbb{\\mathbb{N}}}\n",
    "\\def\\X{\\mathbb{X}}\n",
    "\\def\\NX{\\mathbb{\\N_0^\\X}}\n",
    "\\def\\C{\\mathcal{C}}\n",
    "\\def\\Jc{\\mathcal{J}_c}\n",
    "\\def\\DM{\\Delta M_{c,j}}\n",
    "\\newcommand\\diff{\\mathop{}\\!\\mathrm{d}}\n",
    "\\def\\Xc{\\mathbf{X}_c}\n",
    "\\def\\Yc{\\mathbf{Y}_c}\n",
    "\\newcommand{\\muset}[1]{\\dot{\\{}#1\\dot{\\}}}\n",
    "$$"
   ]
  },
  {
   "cell_type": "code",
   "execution_count": 1,
   "metadata": {},
   "outputs": [],
   "source": [
    "# initialize sympy printing (for latex output)\n",
    "from sympy import init_printing\n",
    "init_printing()\n",
    "\n",
    "# import functions and classes for compartment models\n",
    "from compartor import *"
   ]
  },
  {
   "cell_type": "markdown",
   "metadata": {},
   "source": [
    "## Basics\n",
    "\n",
    "The left-hand-side and right-hand-site of transitions are expressions involving zero or more `Compartments`.\n",
    "\n",
    "To define a compartment $[\\x]$, first create a content variable $\\x \\in \\N_0^D$, then define a compartment $[\\x]$ with content $\\x$."
   ]
  },
  {
   "cell_type": "code",
   "execution_count": 2,
   "metadata": {},
   "outputs": [
    {
     "data": {
      "image/png": "[encoded data removed]",
      "text/latex": [
       "$\\displaystyle \\left[x\\right]$"
      ],
      "text/plain": [
       "Compartment(x)"
      ]
     },
     "execution_count": 2,
     "metadata": {},
     "output_type": "execute_result"
    }
   ],
   "source": [
    "x = Content('x')\n",
    "Compartment(x)"
   ]
  },
  {
   "cell_type": "markdown",
   "metadata": {},
   "source": [
    "Content variables are $D$-dimensional. In equations, `x[d]` can be used to denote the copy number of chemical species `d`.\n",
    "\n",
    "Next, we can build a stoichiometric equation using the `Transition` class, which takes two parameter: the reactants expression and the products expression. For empty reactants or products, use `EmptySet`.\n",
    "The following defines the \"Exit\" transition from the nested birth-death process example."
   ]
  },
  {
   "cell_type": "code",
   "execution_count": 3,
   "metadata": {},
   "outputs": [
    {
     "data": {
      "image/png": "[encoded data removed]",
      "text/latex": [
       "$\\displaystyle \\left[x\\right]\\overset{h_E}{\\longrightarrow}\\emptyset$"
      ],
      "text/plain": [
       "[x] ---> EmptySet"
      ]
     },
     "metadata": {},
     "output_type": "display_data"
    }
   ],
   "source": [
    "transition_E = Transition(Compartment(x), EmptySet, name='E')\n",
    "display(transition_E)"
   ]
  },
  {
   "cell_type": "markdown",
   "metadata": {},
   "source": [
    "`name=\"E\"` is an optional parameter, defining the subscript used for the transition class. (It is only used for displaying equations, e.g., the $h_E$ over the arrow in the above example.)\n",
    "\n",
    "To define a propensity for the transition class, we have to define a content-independent rate constant $k_c$ and a reactant tuning function $g_c$."
   ]
  },
  {
   "cell_type": "code",
   "execution_count": 4,
   "metadata": {},
   "outputs": [],
   "source": [
    "k_E = Constant('k_E')\n",
    "g_E = 1"
   ]
  },
  {
   "cell_type": "markdown",
   "metadata": {},
   "source": [
    "To specify the transition class with its propensity, use the constructor `TransitionClass(transition_c, k_c, g_c)`."
   ]
  },
  {
   "cell_type": "code",
   "execution_count": 5,
   "metadata": {},
   "outputs": [
    {
     "data": {
      "image/png": "[encoded data removed]",
      "text/latex": [
       "$\\displaystyle \\left[x\\right]\\overset{h_E}{\\longrightarrow}\\emptyset,\\:h_{E} = k_{E} n{\\left(x \\right)}$"
      ],
      "text/plain": [
       "TransitionClass(\"E\", [x] ---> EmptySet, k=k_E, g=1, pi=OutcomeDistribution(1, \n",
       "<function OutcomeDistribution.identity.<locals>.<lambda> at 0x7fa969f6db70>))"
      ]
     },
     "metadata": {},
     "output_type": "display_data"
    }
   ],
   "source": [
    "Exit = TransitionClass(transition_E, k_E, g_E)\n",
    "display(Exit)"
   ]
  },
  {
   "cell_type": "markdown",
   "metadata": {},
   "source": [
    "The optional 4th argument of `TransitionClass` specifies the outcome distribution $\\pi_c$.\n",
    "This must be defined, if content variables occur in products that do not occur in reactants.\n",
    "\n",
    "The type of $\\pi_c$ is `OutcomeDistribution`, which is a class comprising\n",
    "* an expression or symbol to use for displaying $\\pi_c$ in compound expressions\n",
    "* a function `conditional_expectation` that takes an expression over reactants $\\Xc$, and returns it's expectation over all product compartment variables.\n",
    "\n",
    "There are generators for several predefined outcome distributions. If nothing is specified, as in the above \"Exit\" transition example, `OutcomeDistribution.identity()` is used. This has symbol $1$ and `conditional_expectation` returns the expression over reactants $\\Xc$ as is. This is appropriate when $\\Yc = \\emptyset$ or, more precisely, if all content variables occurring in products already occur in reactants.\n",
    "\n",
    "The other generators are\n",
    "* `poisson()` which specifies a poisson distribution over a scalar, and\n",
    "* `uniform()` which specifies a uniform distribution over a scalar.\n",
    "\n",
    "For example, `poisson()` can be used to define an \"Intake\" transition class as follows:"
   ]
  },
  {
   "cell_type": "code",
   "execution_count": 6,
   "metadata": {},
   "outputs": [
    {
     "data": {
      "image/png": "[encoded data removed]",
      "text/latex": [
       "$\\displaystyle \\emptyset\\overset{h_I}{\\longrightarrow}\\left[y\\right],\\:h_{I} = \\pi_{Poiss}(y; \\lambda) k_{I}$"
      ],
      "text/plain": [
       "TransitionClass(\"I\", EmptySet ---> [y], k=k_I, g=1, pi=OutcomeDistribution(\\pi\n",
       "_{Poiss}(y; \\lambda), <function OutcomeDistribution.poisson.<locals>.expectati\n",
       "on at 0x7fa969f90ea0>))"
      ]
     },
     "metadata": {},
     "output_type": "display_data"
    }
   ],
   "source": [
    "from sympy import Symbol\n",
    "y = Content('y')\n",
    "transition_I = Transition(EmptySet, Compartment(y), name='I')\n",
    "k_I = Constant('k_I')\n",
    "g_I = 1\n",
    "pi_I = OutcomeDistribution.poisson(\n",
    "    Symbol(\"\\pi_{Poiss}(y; \\lambda)\"),\n",
    "    y[0],\n",
    "    Symbol(\"\\lambda\", positive=True))\n",
    "Intake = TransitionClass(transition_I, k_I, g_I, pi_I)\n",
    "display(Intake)"
   ]
  },
  {
   "cell_type": "markdown",
   "metadata": {},
   "source": [
    "When displaying a `TransitionClass`, the assembled propensity function is shown, where $w(\\n;\\Xc)$ is derived from the reactants in the stoichiometric equation.\n",
    "The function `display_propensity_details()` displays the constituent expressions $k_c$, $g_c$, and $\\pi_c$."
   ]
  },
  {
   "cell_type": "code",
   "execution_count": 7,
   "metadata": {},
   "outputs": [
    {
     "data": {
      "image/png": "[encoded data removed]",
      "text/latex": [
       "$\\displaystyle k_{E} = k_{E}$"
      ],
      "text/plain": [
       "k_{E} = k_E"
      ]
     },
     "metadata": {},
     "output_type": "display_data"
    },
    {
     "data": {
      "image/png": "[encoded data removed]",
      "text/latex": [
       "$\\displaystyle g_{E} = 1$"
      ],
      "text/plain": [
       "g_{E} = 1"
      ]
     },
     "metadata": {},
     "output_type": "display_data"
    },
    {
     "data": {
      "image/png": "[encoded data removed]",
      "text/latex": [
       "$\\displaystyle \\pi_{E} = 1$"
      ],
      "text/plain": [
       "\\pi_{E} = 1"
      ]
     },
     "metadata": {},
     "output_type": "display_data"
    }
   ],
   "source": [
    "display_propensity_details(Exit)"
   ]
  },
  {
   "cell_type": "markdown",
   "metadata": {},
   "source": [
    "To specify a reaction network, collect the transition classes in a list.\n",
    "The function `display_transition_classes()` displays the equations and propensities of the network."
   ]
  },
  {
   "cell_type": "code",
   "execution_count": 8,
   "metadata": {},
   "outputs": [
    {
     "data": {
      "text/latex": [
       "$\\displaystyle \\begin{align} \\left[x\\right]&\\overset{h_E}{\\longrightarrow}\\emptyset && h_{E} = k_{E} n{\\left(x \\right)}\\\\\\emptyset&\\overset{h_I}{\\longrightarrow}\\left[y\\right] && h_{I} = \\pi_{Poiss}(y; \\lambda) k_{I} \\end{align}$"
      ],
      "text/plain": [
       "Display.__str__: TODO"
      ]
     },
     "metadata": {},
     "output_type": "display_data"
    }
   ],
   "source": [
    "transitions = [Exit, Intake]\n",
    "display_transition_classes(transitions)"
   ]
  },
  {
   "cell_type": "markdown",
   "metadata": {},
   "source": [
    "## Chemical Events\n",
    "\n",
    "To specify chemical reactions, we need the `ContentChange()` class. It is constructed with $D$ (number of species) integer arguments, specifying the change (to a compartment variable) in each species.\n",
    "\n",
    "For example, the \"birth\" transition from the nested birth-death process example can be defined as"
   ]
  },
  {
   "cell_type": "code",
   "execution_count": 9,
   "metadata": {},
   "outputs": [
    {
     "data": {
      "image/png": "[encoded data removed]",
      "text/latex": [
       "$\\displaystyle \\left[x\\right]\\overset{h_b}{\\longrightarrow}\\left[\\left( 1\\right) + x\\right]$"
      ],
      "text/plain": [
       "[x] ---> [(1,) + x]"
      ]
     },
     "execution_count": 9,
     "metadata": {},
     "output_type": "execute_result"
    }
   ],
   "source": [
    "x = Content('x')\n",
    "Transition(Compartment(x), Compartment(x + ContentChange(1)), name='b')"
   ]
  },
  {
   "cell_type": "markdown",
   "metadata": {},
   "source": [
    "Note, that `Compartment(...)` in the product encloses `x + ContentChange(1)`, so the `+` acts on the compartment content, rather than specifying a set of compartments.\n",
    "\n",
    "Besides addition, also multiplication can be used inside compartment content equations, e.g."
   ]
  },
  {
   "cell_type": "code",
   "execution_count": 10,
   "metadata": {},
   "outputs": [
    {
     "data": {
      "image/png": "[encoded data removed]",
      "text/latex": [
       "$\\displaystyle \\left[x\\right]\\longrightarrow{}\\left[\\left( 1\\right) + 2 x\\right]$"
      ],
      "text/plain": [
       "[x] ---> [(1,) + 2*x]"
      ]
     },
     "execution_count": 10,
     "metadata": {},
     "output_type": "execute_result"
    }
   ],
   "source": [
    "Transition(Compartment(x), Compartment(2*x + ContentChange(1)))"
   ]
  },
  {
   "cell_type": "markdown",
   "metadata": {},
   "source": [
    "## Compartment Events\n",
    "\n",
    "To specify compartment events, simply construct (multi-)sets of compartments using `+`.\n",
    "\n",
    "For example, a \"Coagulation\" transition can be specified as"
   ]
  },
  {
   "cell_type": "code",
   "execution_count": 11,
   "metadata": {},
   "outputs": [
    {
     "data": {
      "image/png": "[encoded data removed]",
      "text/latex": [
       "$\\displaystyle \\left[x\\right] + \\left[y\\right]\\overset{h_C}{\\longrightarrow}\\left[x + y\\right]$"
      ],
      "text/plain": [
       "[x] + [y] ---> [x + y]"
      ]
     },
     "execution_count": 11,
     "metadata": {},
     "output_type": "execute_result"
    }
   ],
   "source": [
    "x = Content('x')\n",
    "y = Content('y')\n",
    "Transition(Compartment(x) + Compartment(y), Compartment(x + y), name='C')"
   ]
  },
  {
   "cell_type": "markdown",
   "metadata": {},
   "source": [
    "In principle, also multiplication can be used, e.g., `2*Compartment(x)` means \"two compartments of content 'x'\".\n",
    "But the moment derivation mechanics is not ready for that yet..."
   ]
  },
  {
   "cell_type": "markdown",
   "metadata": {},
   "source": [
    "## Example: nested birth-death process\n",
    "\n",
    "As a complete example, here is the definition of nested birth-death process."
   ]
  },
  {
   "cell_type": "code",
   "execution_count": 12,
   "metadata": {},
   "outputs": [
    {
     "data": {
      "text/latex": [
       "$\\displaystyle \\begin{align} \\emptyset&\\overset{h_I}{\\longrightarrow}\\left[y\\right] && h_{I} = \\pi_{Poiss}(y; \\lambda) k_{I}\\\\\\left[x\\right]&\\overset{h_E}{\\longrightarrow}\\emptyset && h_{E} = k_{E} n{\\left(x \\right)}\\\\\\left[x\\right]&\\overset{h_b}{\\longrightarrow}\\left[\\left( 1\\right) + x\\right] && h_{b} = k_{b} n{\\left(x \\right)}\\\\\\left[x\\right]&\\overset{h_d}{\\longrightarrow}\\left[\\left( -1\\right) + x\\right] && h_{d} = k_{d} n{\\left(x \\right)} {x}_{0} \\end{align}$"
      ],
      "text/plain": [
       "Display.__str__: TODO"
      ]
     },
     "metadata": {},
     "output_type": "display_data"
    }
   ],
   "source": [
    "y = Content('y')\n",
    "x = Content('x')\n",
    "\n",
    "# Intake\n",
    "transition_I = Transition(EmptySet, Compartment(y), name='I')\n",
    "k_I = Constant('k_I')\n",
    "g_I = 1\n",
    "pi_I = OutcomeDistribution.poisson(\n",
    "    Symbol(\"\\pi_{Poiss}(y; \\lambda)\", positive=True),\n",
    "    y[0],\n",
    "    Symbol(\"\\lambda\", positive=True))\n",
    "Intake = TransitionClass(transition_I, k_I, g_I, pi_I)\n",
    "\n",
    "# Exit\n",
    "transition_E = Transition(Compartment(x), EmptySet, name='E')\n",
    "k_E = Constant('k_E')\n",
    "g_E = 1\n",
    "Exit = TransitionClass(transition_E, k_E, g_E)\n",
    "\n",
    "# birth\n",
    "transition_b = Transition(Compartment(x), Compartment(x + ContentChange(1)), name='b')\n",
    "k_b = Constant('k_b')\n",
    "g_b = 1\n",
    "Birth = TransitionClass(transition_b, k_b, g_b)\n",
    "\n",
    "# death\n",
    "transition_d = Transition(Compartment(x), Compartment(x + ContentChange(-1)), name='d')\n",
    "k_d = Constant('k_d')\n",
    "g_d = x[0] # TODO x should be enough here, in case D=1.\n",
    "Death = TransitionClass(transition_d, k_d, g_d)\n",
    "\n",
    "transitions = [Intake, Exit, Birth, Death]\n",
    "display_transition_classes(transitions)"
   ]
  }
 ],
 "metadata": {
  "kernelspec": {
   "display_name": "Python 3",
   "language": "python",
   "name": "python3"
  },
  "language_info": {
   "codemirror_mode": {
    "name": "ipython",
    "version": 3
   },
   "file_extension": ".py",
   "mimetype": "text/x-python",
   "name": "python",
   "nbconvert_exporter": "python",
   "pygments_lexer": "ipython3",
   "version": "3.7.3"
  }
 },
 "nbformat": 4,
 "nbformat_minor": 2
}
