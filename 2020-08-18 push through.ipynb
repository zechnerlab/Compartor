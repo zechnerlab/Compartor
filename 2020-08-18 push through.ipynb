{
 "cells": [
  {
   "cell_type": "code",
   "execution_count": 10,
   "metadata": {},
   "outputs": [],
   "source": [
    "from compartmentsBase import *\n",
    "from sympy import *\n",
    "init_printing()\n",
    "\n",
    "\n",
    "# temp helpers \n",
    "def display_hc(k,g,pi,name='c'):\n",
    "    lhs = symbols('k_' + name)\n",
    "    rhs = k\n",
    "    display(Eq(lhs,rhs,evaluate=False))\n",
    "\n",
    "    lhs = symbols('g_' + name)\n",
    "    rhs = g\n",
    "    display(Eq(lhs,rhs,evaluate=False))\n",
    "\n",
    "    lhs = symbols('\\pi_' + name)\n",
    "    rhs = pi.expr\n",
    "    display(Eq(lhs,rhs,evaluate=False))\n"
   ]
  },
  {
   "cell_type": "markdown",
   "metadata": {},
   "source": [
    "$$\n",
    "\\def\\n{\\mathbf{n}}\n",
    "\\def\\x{\\mathbf{x}}\n",
    "\\def\\N{\\mathbb{\\mathbb{N}}}\n",
    "\\def\\X{\\mathbb{X}}\n",
    "\\def\\NX{\\mathbb{\\N_0^\\X}}\n",
    "\\def\\C{\\mathcal{C}}\n",
    "\\def\\Jc{\\mathcal{J}_c}\n",
    "\\def\\DM{\\Delta M_{c,j}}\n",
    "\\newcommand\\diff{\\mathop{}\\!\\mathrm{d}}\n",
    "\\def\\Xc{\\mathbf{X}_c}\n",
    "\\newcommand{\\muset}[1]{\\dot{\\{}#1\\dot{\\}}}\n",
    "$$\n",
    "\n",
    "\n",
    "For a compartment population $\\n \\in \\NX$ evcolving stochastically according to stoichiometric equations from transition classes $\\C$, we want to find an expression for\n",
    "$$\n",
    "\\frac{\\diff}{\\diff t}\\left< f(M^\\gamma, M^{\\gamma'}, \\ldots) \\right>\n",
    "$$\n",
    "in terms of expectations of population moments $M^\\alpha, M^{\\beta}, \\ldots$"
   ]
  },
  {
   "cell_type": "code",
   "execution_count": 11,
   "metadata": {},
   "outputs": [],
   "source": [
    "from compartmentsB import pi_c_identity, pi_c_poisson\n",
    "\n",
    "D = 1 # number of species\n",
    "\n",
    "y = ContentVar('y')\n",
    "x = ContentVar('x')\n",
    "\n",
    "# Intake\n",
    "transition_I = Transition(EmptySet(), Compartment(y))\n",
    "k_I = Constant('k_I')\n",
    "g_I = 1\n",
    "pi_I = pi_c_poisson(\n",
    "    Symbol(\"\\pi_I\", positive=True),\n",
    "    y[0],\n",
    "    Symbol(\"\\lambda\", positive=True))\n",
    "\n",
    "# Exit\n",
    "transition_E = Transition(Compartment(x), EmptySet())\n",
    "k_E = Constant('k_E')\n",
    "g_E = 1\n",
    "pi_E = pi_c_identity()\n",
    "\n",
    "# birth\n",
    "transition_b = Transition(Compartment(x), Compartment(x + ContentChange(1)))\n",
    "k_b = Constant('k_b')\n",
    "g_b = 1\n",
    "pi_b = pi_c_identity()\n",
    "\n",
    "# death\n",
    "transition_d = Transition(Compartment(x), Compartment(x + ContentChange(-1)))\n",
    "k_d = Constant('k_d')\n",
    "g_d = x[0] # TODO x should be enough here, in case D=1.\n",
    "pi_d = pi_c_identity()\n",
    "\n",
    "transitions = [\n",
    "    (transition_I, k_I, g_I, pi_I),\n",
    "    (transition_E, k_E, g_E, pi_E),\n",
    "    (transition_b, k_b, g_b, pi_b),\n",
    "    (transition_d, k_d, g_d, pi_d)\n",
    "]\n",
    "\n",
    "# display(transition_I)\n",
    "# display_hc(k_I, g_I, pi_I, name='I')\n",
    "# display(transition_E)\n",
    "# display_hc(k_E, g_E, pi_E, name='E')\n",
    "# display(transition_b)\n",
    "# display_hc(k_b, g_b, pi_b, name='b')\n",
    "# display(transition_d)\n",
    "# display_hc(k_d, g_d, pi_d, name='d')"
   ]
  },
  {
   "cell_type": "markdown",
   "metadata": {},
   "source": [
    "### (1)\n",
    "From the definition of the compartment dynamics, we have\n",
    "$$\n",
    "\\diff M^\\gamma = \\sum_{c \\in \\C} \\sum_{j \\in \\Jc} \\DM^\\gamma \\diff R_{c,j}\n",
    "$$\n",
    "We apply Ito's rule to derive\n",
    "$$\n",
    "\\diff f(M^\\gamma, M^{\\gamma'}, \\ldots) = \\sum_{c \\in \\C} \\sum_{j \\in \\Jc}\n",
    "    \\left(\n",
    "        f(M^\\gamma + \\DM^\\gamma, M^{\\gamma'} + \\DM^{\\gamma'}, \\ldots)\n",
    "        - f(M^\\gamma, M^{\\gamma'}, \\ldots)\n",
    "    \\right) \\diff R_{c,j}\n",
    "$$"
   ]
  },
  {
   "cell_type": "markdown",
   "metadata": {},
   "source": [
    "Assume, that $f(M^\\gamma, M^{\\gamma'}, \\ldots)$ is a polynomial in $M^{\\gamma^i}$ with $\\gamma^i \\in \\N_0^D$.\n",
    "\n",
    "Then $\\diff f(M^\\gamma, M^{\\gamma'}, \\ldots)$ is a polynomial in $M^{\\gamma^k}, \\DM^{\\gamma^l}$ with $\\gamma^k, \\gamma^l \\in \\N_0^D$, that is,\n",
    "$$\n",
    "\\diff f(M^\\gamma, M^{\\gamma'}, \\ldots) = \\sum_{c \\in \\C} \\sum_{j \\in \\Jc}\n",
    "    \\sum_{q=1}^{n_q} Q_q(M^{\\gamma^k}, \\DM^{\\gamma^l})\n",
    "    \\diff R_{c,j}\n",
    "$$\n",
    "where $Q_q(M^{\\gamma^k}, \\DM^{\\gamma^l})$ are monomials in $M^{\\gamma^k}, \\DM^{\\gamma^l}$."
   ]
  },
  {
   "cell_type": "markdown",
   "metadata": {},
   "source": [
    "### (2)\n",
    "Let's write $Q_q(M^{\\gamma^k}, \\DM^{\\gamma^l})$ as\n",
    "$$\n",
    "Q_q(M^{\\gamma^k}, \\DM^{\\gamma^l}) = k_q \\cdot \\Pi M^{\\gamma^k} \\cdot \\Pi M^{\\gamma^k}\n",
    "$$\n",
    "where $k_q$ is a constant,\n",
    "  $\\Pi M^{\\gamma^k}$ is a product of powers of $M^{\\gamma^k}$, and\n",
    "  $\\Pi \\DM^{\\gamma^l}$ is a product of powers of $\\DM^{\\gamma^l}$.\n",
    "  \n",
    "Analogous to the derivation in SI Appendix S.3, we arrive at the expected moment dynamics\n",
    "$$\n",
    "\\frac{\\diff\\left< f(M^\\gamma, M^{\\gamma'}, \\ldots) \\right>}{\\diff t} =\n",
    "    \\sum_{c \\in \\C} \\sum_{q=1}^{n_q} \\left<\n",
    "        \\sum_{j \\in \\Jc} k_q \\cdot \\Pi M^{\\gamma^k} \\cdot \\Pi \\DM^{\\gamma^k} \\cdot h_{c,j}(\\n)\n",
    "    \\right>\n",
    "$$"
   ]
  },
  {
   "cell_type": "markdown",
   "metadata": {},
   "source": [
    "### (3)\n",
    "Analogous to SI Appendix S.4, the contribution of class $c$, monomial $q$ to the expected dynamics of $f(M^\\gamma, M^{\\gamma'}, \\ldots)$ is\n",
    "$$\n",
    "\\begin{align}\n",
    "\\frac{\\diff\\left< f(M^\\gamma, M^{\\gamma'}, \\ldots) \\right>}{\\diff t}\n",
    "    &= \\left<\n",
    "        {\\large\\sum_{j \\in \\Jc}} k_q \\cdot \\Pi M^{\\gamma^k} \\cdot \\Pi \\DM^{\\gamma^l} \\cdot h_{c,j}(\\n)\n",
    "    \\right>\n",
    "    \\\\\n",
    "    &= \\left<\n",
    "        {\\large\\sum_{\\Xc}} w(\\n; \\Xc) \\cdot k_c \\cdot k_q \\cdot \\Pi M^{\\gamma^k} \\cdot g_c(\\Xc) \\cdot\n",
    "        \\left<\n",
    "            \\Pi \\DM^{\\gamma^l} \\;\\big|\\; \\Xc\n",
    "        \\right>\n",
    "    \\right>\n",
    "\\end{align}\n",
    "$$\n"
   ]
  },
  {
   "cell_type": "markdown",
   "metadata": {},
   "source": [
    "### (5)\n",
    "Now let\n",
    "$$\n",
    "l(\\n; \\Xc) = k_c \\cdot k_q \\cdot \\Pi(M^{\\gamma^k}) \\cdot g_c(\\Xc) \\cdot\n",
    "        \\left<\n",
    "            \\Pi \\DM^{\\gamma^l} \\;\\big|\\; \\Xc\n",
    "        \\right>\n",
    "$$\n",
    "\n",
    "Plugging in the concrete $\\gamma^l$ and expanding, $l(\\n; \\Xc)$ is a polynomial in $\\Xc$.\n",
    "\n",
    "Monomials are of the form $k \\x^\\alpha$ or $k \\x^\\alpha \\x'^\\beta$ with $\\alpha, \\beta \\in \\N_0^D$.\n",
    "(Note that occurences of $\\Pi M^{\\gamma^k}$ are part of the constants $k$.)\n",
    "\n",
    "Consider again the different cases of reactant compartments $\\Xc$:\n",
    "\n",
    "(1) $\\Xc = \\emptyset$:\n",
    "$$\n",
    "\\frac{\\diff\\left< f(M^\\gamma, M^{\\gamma'}, \\ldots) \\right>}{\\diff t}\n",
    "    = \\left<l(\\n)\\right>\n",
    "$$\n",
    "\n",
    "(2) $\\Xc = \\muset{\\x}$:\n",
    "$$\n",
    "\\frac{\\diff\\left< f(M^\\gamma, M^{\\gamma'}, \\ldots) \\right>}{\\diff t}\n",
    "    = \\left<R(l(\\n; \\muset{\\x})\\right>\n",
    "$$\n",
    "where $R$ replaces all $k \\x^\\alpha$ by $k M^\\alpha$.\n",
    "\n",
    "(3) $\\Xc = \\muset{\\x, \\x'}$:\n",
    "$$\n",
    "\\frac{\\diff\\left< f(M^\\gamma, M^{\\gamma'}, \\ldots) \\right>}{\\diff t}\n",
    "    = \\frac{1}{2}\\left<R'(l(\\n; \\muset{\\x, \\x'})\\right>\n",
    "    \\: - \\:\n",
    "    \\frac{1}{2}\\left<R(l(\\n; \\muset{\\x, \\x})\\right>\n",
    "$$\n",
    "where $R'$ replaces all $k \\x^\\alpha \\X'^\\beta$ by $k M^\\alpha M^\\beta$,\n",
    "and again $R$ replaces all $k \\x^\\alpha$ by $k M^\\alpha$.\n",
    "\n",
    "\n"
   ]
  },
  {
   "cell_type": "markdown",
   "metadata": {},
   "source": [
    "### (6)\n",
    "Finally, sum over contributions from all $c$, $q$ for the total\n",
    "$$\n",
    "\\frac{\\diff\\left< f(M^\\gamma, M^{\\gamma'}, \\ldots) \\right>}{\\diff t}\n",
    "$$"
   ]
  },
  {
   "cell_type": "code",
   "execution_count": 12,
   "metadata": {},
   "outputs": [
    {
     "data": {
      "text/latex": [
       "$$- k_{E} M^{0} + k_{I}$$"
      ],
      "text/plain": [
       "-k_E⋅Moment(0) + k_I"
      ]
     },
     "metadata": {},
     "output_type": "display_data"
    }
   ],
   "source": [
    "from ito import *\n",
    "from compartmentsB import getCompartments, deltaM, subsDeltaM, get_dfMdt_contrib\n",
    "\n",
    "def get_dfMdt(transitions, fM, D):\n",
    "    dfM = ito(fM)\n",
    "    monomials = decomposeMomentsPolynomial(dfM)\n",
    "    contrib = list()\n",
    "    for c, (transition, k_c, g_c, pi_c) in enumerate(transitions):\n",
    "        for q, (k_q, pM, pDM) in enumerate([(m.k, m.pM, m.pDM) for m in monomials]):\n",
    "            reactants = getCompartments(transition.lhs)\n",
    "            products = getCompartments(transition.rhs)\n",
    "            DM_cj = deltaM(reactants, products, D)\n",
    "            pDMcj = subsDeltaM(pDM, DM_cj)\n",
    "            cexp = pi_c.conditional_expectation(pDMcj)\n",
    "            l_n_Xc = k_c * k_q * pM * g_c * cexp\n",
    "            dfMdt = get_dfMdt_contrib(reactants, l_n_Xc, D)\n",
    "            contrib.append(dfMdt)\n",
    "            #print(f'c={c}, q={q}')\n",
    "            #display(Eq(symbols('\\\\text{dfMdt}'), dfMdt))\n",
    "    return Add(*contrib)\n",
    "\n",
    "display(get_dfMdt(transitions, Moment(0), D))"
   ]
  },
  {
   "cell_type": "code",
   "execution_count": null,
   "metadata": {},
   "outputs": [],
   "source": []
  }
 ],
 "metadata": {
  "kernelspec": {
   "display_name": "Python 3",
   "language": "python",
   "name": "python3"
  },
  "language_info": {
   "codemirror_mode": {
    "name": "ipython",
    "version": 3
   },
   "file_extension": ".py",
   "mimetype": "text/x-python",
   "name": "python",
   "nbconvert_exporter": "python",
   "pygments_lexer": "ipython3",
   "version": "3.7.3"
  }
 },
 "nbformat": 4,
 "nbformat_minor": 2
}
