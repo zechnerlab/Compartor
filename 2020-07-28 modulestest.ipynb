{
 "cells": [
  {
   "cell_type": "code",
   "execution_count": 1,
   "metadata": {},
   "outputs": [],
   "source": [
    "from compartmentsB import *\n",
    "init_printing()\n"
   ]
  },
  {
   "cell_type": "code",
   "execution_count": 2,
   "metadata": {},
   "outputs": [
    {
     "name": "stdout",
     "output_type": "stream",
     "text": [
      "Sum(Sum((n(Y) - KroneckerDelta(X, Y))*n(X)/2), (X ∈ 𝕏)), (Y ∈ 𝕏)\n"
     ]
    },
    {
     "data": {
      "text/latex": [
       "$$\\sum_{Y \\in \\mathbb{X}}\\sum_{X \\in \\mathbb{X}}\\frac{\\left(n{\\left (Y \\right )} - \\delta_{X Y}\\right) n{\\left (X \\right )}}{2}$$"
      ],
      "text/plain": [
       "Sum(Sum((n(Y) - KroneckerDelta(X, Y))*n(X)/2), (X ∈ 𝕏)), (Y ∈ 𝕏)"
      ]
     },
     "metadata": {},
     "output_type": "display_data"
    },
    {
     "name": "stdout",
     "output_type": "stream",
     "text": [
      "Sum(n(X)*Y), (X ∈ 𝕏)\n"
     ]
    },
    {
     "data": {
      "text/latex": [
       "$$\\sum_{X \\in \\mathbb{X}}n{\\left (X \\right )} Y$$"
      ],
      "text/plain": [
       "Sum(n(X)*Y), (X ∈ 𝕏)"
      ]
     },
     "metadata": {},
     "output_type": "display_data"
    }
   ],
   "source": [
    "X = ContentVar('X')\n",
    "Y = ContentVar('Y')\n",
    "\n",
    "checkSimpleCompartment(Compartment(X))\n",
    "\n",
    "w = getSumMassAction({Compartment(X):1, Compartment(Y):1}, 1)\n",
    "print(w)\n",
    "display(w)\n",
    "\n",
    "w = getSumMassAction({Compartment(X):1}, Y)\n",
    "print(w)\n",
    "display(w)\n",
    "\n"
   ]
  },
  {
   "cell_type": "code",
   "execution_count": 3,
   "metadata": {},
   "outputs": [
    {
     "data": {
      "image/png": "[encoded data removed]",
      "text/latex": [
       "$$\\gamma$$"
      ],
      "text/plain": [
       "\\gamma"
      ]
     },
     "metadata": {},
     "output_type": "display_data"
    }
   ],
   "source": [
    "gamma = IndexedBase('\\gamma', integer=True, shape=1)\n",
    "display(gamma)"
   ]
  },
  {
   "cell_type": "code",
   "execution_count": 4,
   "metadata": {},
   "outputs": [
    {
     "data": {
      "image/png": "[encoded data removed]",
      "text/latex": [
       "$$\\left ( 0, \\quad -1, \\quad 1\\right )$$"
      ],
      "text/plain": [
       "ContentChange(0, -1, 1)"
      ]
     },
     "metadata": {},
     "output_type": "display_data"
    }
   ],
   "source": [
    "chng = ContentChange(0,-1,1)\n",
    "display(chng)"
   ]
  },
  {
   "cell_type": "code",
   "execution_count": 5,
   "metadata": {},
   "outputs": [
    {
     "data": {
      "text/latex": [
       "$$\\left(\\left ( 0, \\quad -1, \\quad 1\\right ) + X\\right)^{\\gamma}$$"
      ],
      "text/plain": [
       "                             \\gamma\n",
       "(ContentChange(0, -1, 1) + X)      "
      ]
     },
     "execution_count": 5,
     "metadata": {},
     "output_type": "execute_result"
    }
   ],
   "source": [
    "(X+chng)**gamma"
   ]
  },
  {
   "cell_type": "code",
   "execution_count": 6,
   "metadata": {},
   "outputs": [
    {
     "data": {
      "text/latex": [
       "$$\\frac{d}{d t} \\left< M^{\\left(1, 0, 0\\right)}\\right> $$"
      ],
      "text/plain": [
       "d                               \n",
       "──(Expectation(Moment(1, 0, 0)))\n",
       "dt                              "
      ]
     },
     "execution_count": 6,
     "metadata": {},
     "output_type": "execute_result"
    }
   ],
   "source": [
    "lhs(1,0,0)"
   ]
  },
  {
   "cell_type": "code",
   "execution_count": 7,
   "metadata": {},
   "outputs": [],
   "source": [
    "reactants = {Compartment(X):1}\n",
    "products = {Compartment(X + ContentChange(-1)):1}\n",
    "kd = symbols('k_d')\n",
    "gd = X[0]\n",
    "pid = 1"
   ]
  },
  {
   "cell_type": "code",
   "execution_count": 8,
   "metadata": {},
   "outputs": [
    {
     "data": {
      "text/latex": [
       "$$\\frac{d}{d t} \\left< M^{1}\\right>  = k_{d} \\left< \\sum_{X \\in \\mathbb{X}}- n{\\left (X \\right )} {X}_{0}\\right> $$"
      ],
      "text/plain": [
       "d                                                                     \n",
       "──(Expectation(Moment(1))) = k_d⋅Expectation(Sum(-n(X)*X[0]), (X ∈ 𝕏))\n",
       "dt                                                                    "
      ]
     },
     "metadata": {},
     "output_type": "display_data"
    }
   ],
   "source": [
    "gamma = [1]\n",
    "lhs = lhs(*gamma)\n",
    "rhs = rhs(reactants,products, kd, gd, pid, *gamma)\n",
    "display(Eq(lhs,rhs,evaluate=False))"
   ]
  }
 ],
 "metadata": {
  "kernelspec": {
   "display_name": "Python 3",
   "language": "python",
   "name": "python3"
  },
  "language_info": {
   "codemirror_mode": {
    "name": "ipython",
    "version": 3
   },
   "file_extension": ".py",
   "mimetype": "text/x-python",
   "name": "python",
   "nbconvert_exporter": "python",
   "pygments_lexer": "ipython3",
   "version": "3.7.3"
  }
 },
 "nbformat": 4,
 "nbformat_minor": 2
}
