{
 "cells": [
  {
   "cell_type": "markdown",
   "metadata": {},
   "source": [
    "# Stochastic Coagulation-Fragmentation:\n",
    "## Full Example with Moment Closure and Code Generation\n",
    "$$\n",
    "\\def\\n{\\mathbf{n}}\n",
    "\\def\\x{\\mathbf{x}}\n",
    "\\def\\N{\\mathbb{\\mathbb{N}}}\n",
    "\\def\\X{\\mathbb{X}}\n",
    "\\def\\NX{\\mathbb{\\N_0^\\X}}\n",
    "\\def\\C{\\mathcal{C}}\n",
    "\\def\\Jc{\\mathcal{J}_c}\n",
    "\\def\\DM{\\Delta M_{c,j}}\n",
    "\\newcommand\\diff{\\mathop{}\\!\\mathrm{d}}\n",
    "\\def\\Xc{\\mathbf{X}_c}\n",
    "\\def\\Yc{\\mathbf{Y}_c}\n",
    "\\newcommand{\\muset}[1]{\\dot{\\{}#1\\dot{\\}}}\n",
    "$$"
   ]
  },
  {
   "cell_type": "code",
   "execution_count": 1,
   "metadata": {},
   "outputs": [],
   "source": [
    "# initialize sympy printing (for latex output)\n",
    "from sympy import init_printing\n",
    "init_printing()\n",
    "\n",
    "# import functions and classes for compartment models\n",
    "from compartor import *"
   ]
  },
  {
   "cell_type": "markdown",
   "metadata": {},
   "source": [
    "## Specifying the reaction network"
   ]
  },
  {
   "cell_type": "code",
   "execution_count": 2,
   "metadata": {},
   "outputs": [
    {
     "data": {
      "text/latex": [
       "$\\displaystyle \\begin{align} \\emptyset&\\overset{h_{I}}{\\longrightarrow}\\left[y\\right] && h_{I} = \\pi_{Poiss}(y; \\lambda) k_{I}\\\\\\left[x\\right]&\\overset{h_{E}}{\\longrightarrow}\\emptyset && h_{E} = k_{E} n{\\left(x \\right)}\\\\\\left[x\\right] + \\left[y\\right]&\\overset{h_{C}}{\\longrightarrow}\\left[x + y\\right] && h_{C} = \\frac{k_{C} \\left(n{\\left(y \\right)} - \\delta_{x y}\\right) n{\\left(x \\right)}}{\\delta_{x y} + 1}\\\\\\left[x\\right]&\\overset{h_{F}}{\\longrightarrow}\\left[x - y\\right] + \\left[y\\right] && h_{F} = \\pi_F(y|x) k_{F} n{\\left(x \\right)} {x}_{0} \\end{align}$"
      ],
      "text/plain": [
       "Display.__str__: TODO"
      ]
     },
     "metadata": {},
     "output_type": "display_data"
    }
   ],
   "source": [
    "from coagulation_fragmentation_short import transitions\n",
    "display_transition_classes(transitions)"
   ]
  },
  {
   "cell_type": "markdown",
   "metadata": {},
   "source": [
    "## Deriving expected moment dynamics\n",
    "\n",
    "Next we specify the moments we want to derive, for example, $N$, $N^2$, $M^1$, and $(M^1)^2$.\n",
    "\n",
    "To denote a particular moment, use the `Moment` class. It takes as constructor arguments the integer exponents in each species."
   ]
  },
  {
   "cell_type": "code",
   "execution_count": 3,
   "metadata": {},
   "outputs": [
    {
     "data": {
      "image/png": "[encoded data removed]",
      "text/latex": [
       "$\\displaystyle \\left[ M^{0}, \\  {\\left(M^{0}\\right)}^{2}, \\  M^{1}, \\  {\\left(M^{1}\\right)}^{2}\\right]$"
      ],
      "text/plain": [
       "⎡                 2                      2   ⎤\n",
       "⎣Moment(0), Moment (0), Moment(1), Moment (1)⎦"
      ]
     },
     "metadata": {},
     "output_type": "display_data"
    }
   ],
   "source": [
    "moments = [\n",
    "    Moment(0),\n",
    "    Moment(0)**2,\n",
    "    Moment(1),\n",
    "    Moment(1)**2\n",
    "]\n",
    "display(moments)"
   ]
  },
  {
   "cell_type": "markdown",
   "metadata": {},
   "source": [
    "Then call the function `automated_moment_equations()`, giving the number of species, the reaction network, and the desired moment expressions. It will try to derive the moment equations, iteratively adding more equations and/or \n",
    "substituting closures if necessary. It also displays information about what it did."
   ]
  },
  {
   "cell_type": "code",
   "execution_count": 4,
   "metadata": {},
   "outputs": [
    {
     "data": {
      "text/markdown": [
       "Computed moment equations for desired moments $N$, $N^{2}$, $M^{1}$, and ${\\left(M^{1}\\right)}^{2}$."
      ],
      "text/plain": [
       "<IPython.core.display.Markdown object>"
      ]
     },
     "metadata": {},
     "output_type": "display_data"
    },
    {
     "data": {
      "text/markdown": [
       "Equations were iteratively added for $M^{2}$ and $N M^{1}$."
      ],
      "text/plain": [
       "<IPython.core.display.Markdown object>"
      ]
     },
     "metadata": {},
     "output_type": "display_data"
    },
    {
     "data": {
      "text/markdown": [
       "Gamma closures were substituted for $N^{2} M^{1}$, $N^{3}$, and $M^{3}$."
      ],
      "text/plain": [
       "<IPython.core.display.Markdown object>"
      ]
     },
     "metadata": {},
     "output_type": "display_data"
    }
   ],
   "source": [
    "equations = automated_moment_equations(1, transitions, moments)"
   ]
  },
  {
   "cell_type": "markdown",
   "metadata": {},
   "source": [
    "The result, `equations`, is a system of ODEs describing the evolution the expectation of the desired moment expressions. `equations` is a list of pairs `(fM, dfMdt)`, where each pair consists of the desired moment expression, and the derived expression for its derivative by $t$.\n",
    "\n",
    "To display the derived equations, use the `display_moment_equations()` function."
   ]
  },
  {
   "cell_type": "code",
   "execution_count": 5,
   "metadata": {},
   "outputs": [
    {
     "data": {
      "image/png": "[encoded data removed]",
      "text/latex": [
       "$\\displaystyle \\frac{d}{d t} \\left< N\\right>  = \\frac{k_{C} \\left< N\\right> }{2} - \\frac{k_{C} \\left< N^{2}\\right> }{2} - k_{E} \\left< N\\right>  + k_{F} \\left< M^{1}\\right>  + k_{I}$"
      ],
      "text/plain": [
       "                                                         ⎛ 2⎞                 \n",
       "d                    k_C⋅Expectation(N)   k_C⋅Expectation⎝N ⎠                 \n",
       "──(Expectation(N)) = ────────────────── - ─────────────────── - k_E⋅Expectatio\n",
       "dt                           2                     2                          \n",
       "\n",
       "                                       \n",
       "                                       \n",
       "n(N) + k_F⋅Expectation(Moment(1)) + k_I\n",
       "                                       "
      ]
     },
     "metadata": {},
     "output_type": "display_data"
    },
    {
     "data": {
      "image/png": "[encoded data removed]",
      "text/latex": [
       "$\\displaystyle \\frac{d}{d t} \\left< N^{2}\\right>  = - k_{C} \\left(- \\left< N\\right>  \\left< N^{2}\\right>  + \\frac{2 {\\left< N^{2}\\right> }^{2}}{\\left< N\\right> }\\right) - \\frac{k_{C} \\left< N\\right> }{2} + \\frac{3 k_{C} \\left< N^{2}\\right> }{2} + k_{E} \\left< N\\right>  - 2 k_{E} \\left< N^{2}\\right>  + 2 k_{F} \\left< N M^{1}\\right>  + k_{F} \\left< M^{1}\\right>  + 2 k_{I} \\left< N\\right>  + k_{I}$"
      ],
      "text/plain": [
       "                            ⎛                                                2\n",
       "d ⎛           ⎛ 2⎞⎞         ⎜                            ⎛ 2⎞   2⋅Expectation \n",
       "──⎝Expectation⎝N ⎠⎠ = - k_C⋅⎜- Expectation(N)⋅Expectation⎝N ⎠ + ──────────────\n",
       "dt                          ⎝                                     Expectation(\n",
       "\n",
       "⎛ 2⎞⎞                                         ⎛ 2⎞                            \n",
       "⎝N ⎠⎟   k_C⋅Expectation(N)   3⋅k_C⋅Expectation⎝N ⎠                            \n",
       "────⎟ - ────────────────── + ───────────────────── + k_E⋅Expectation(N) - 2⋅k_\n",
       "N)  ⎠           2                      2                                      \n",
       "\n",
       "                                                                              \n",
       "             ⎛ 2⎞                                                             \n",
       "E⋅Expectation⎝N ⎠ + 2⋅k_F⋅Expectation(N⋅Moment(1)) + k_F⋅Expectation(Moment(1)\n",
       "                                                                              \n",
       "\n",
       "                              \n",
       "                              \n",
       ") + 2⋅k_I⋅Expectation(N) + k_I\n",
       "                              "
      ]
     },
     "metadata": {},
     "output_type": "display_data"
    },
    {
     "data": {
      "image/png": "[encoded data removed]",
      "text/latex": [
       "$\\displaystyle \\frac{d}{d t} \\left< M^{1}\\right>  = \\lambda k_{I} - k_{E} \\left< M^{1}\\right> $"
      ],
      "text/plain": [
       "d                                                                    \n",
       "──(Expectation(Moment(1))) = \\lambda⋅k_I - k_E⋅Expectation(Moment(1))\n",
       "dt                                                                   "
      ]
     },
     "metadata": {},
     "output_type": "display_data"
    },
    {
     "data": {
      "image/png": "[encoded data removed]",
      "text/latex": [
       "$\\displaystyle \\frac{d}{d t} \\left< {\\left(M^{1}\\right)}^{2}\\right>  = \\lambda^{2} k_{I} + 2 \\lambda k_{I} \\left< M^{1}\\right>  + \\lambda k_{I} - 2 k_{E} \\left< {\\left(M^{1}\\right)}^{2}\\right>  + k_{E} \\left< M^{2}\\right> $"
      ],
      "text/plain": [
       "d ⎛           ⎛      2   ⎞⎞          2                                        \n",
       "──⎝Expectation⎝Moment (1)⎠⎠ = \\lambda ⋅k_I + 2⋅\\lambda⋅k_I⋅Expectation(Moment(\n",
       "dt                                                                            \n",
       "\n",
       "                                     ⎛      2   ⎞                             \n",
       "1)) + \\lambda⋅k_I - 2⋅k_E⋅Expectation⎝Moment (1)⎠ + k_E⋅Expectation(Moment(2))\n",
       "                                                                              "
      ]
     },
     "metadata": {},
     "output_type": "display_data"
    },
    {
     "data": {
      "image/png": "[encoded data removed]",
      "text/latex": [
       "$\\displaystyle \\frac{d}{d t} \\left< M^{2}\\right>  = \\lambda^{2} k_{I} + \\lambda k_{I} + k_{C} \\left< {\\left(M^{1}\\right)}^{2}\\right>  - k_{C} \\left< M^{2}\\right>  - k_{E} \\left< M^{2}\\right>  - \\frac{k_{F} \\left(\\frac{2 {\\left< M^{2}\\right> }^{2}}{\\left< M^{1}\\right> } - \\frac{\\left< M^{1}\\right>  \\left< M^{2}\\right> }{\\left< N\\right> }\\right)}{3} + \\frac{k_{F} \\left< M^{2}\\right> }{3}$"
      ],
      "text/plain": [
       "                                                                              \n",
       "                                                                              \n",
       "                                                                              \n",
       "d                                   2                                    ⎛    \n",
       "──(Expectation(Moment(2))) = \\lambda ⋅k_I + \\lambda⋅k_I + k_C⋅Expectation⎝Mome\n",
       "dt                                                                            \n",
       "\n",
       "                                                                        ⎛     \n",
       "                                                                        ⎜2⋅Exp\n",
       "                                                                    k_F⋅⎜─────\n",
       "  2   ⎞                                                                 ⎝  Exp\n",
       "nt (1)⎠ - k_C⋅Expectation(Moment(2)) - k_E⋅Expectation(Moment(2)) - ──────────\n",
       "                                                                              \n",
       "\n",
       "        2                                                           ⎞         \n",
       "ectation (Moment(2))   Expectation(Moment(1))⋅Expectation(Moment(2))⎟         \n",
       "──────────────────── - ─────────────────────────────────────────────⎟         \n",
       "ectation(Moment(1))                    Expectation(N)               ⎠   k_F⋅Ex\n",
       "───────────────────────────────────────────────────────────────────── + ──────\n",
       "                             3                                                \n",
       "\n",
       "                    \n",
       "                    \n",
       "                    \n",
       "pectation(Moment(2))\n",
       "────────────────────\n",
       "      3             "
      ]
     },
     "metadata": {},
     "output_type": "display_data"
    },
    {
     "data": {
      "image/png": "[encoded data removed]",
      "text/latex": [
       "$\\displaystyle \\frac{d}{d t} \\left< N M^{1}\\right>  = \\lambda k_{I} \\left< N\\right>  + \\lambda k_{I} - \\frac{k_{C} \\left(- \\left< N^{2}\\right>  \\left< M^{1}\\right>  + \\frac{2 \\left< N^{2}\\right>  \\left< N M^{1}\\right> }{\\left< N\\right> }\\right)}{2} + \\frac{k_{C} \\left< N M^{1}\\right> }{2} - 2 k_{E} \\left< N M^{1}\\right>  + k_{E} \\left< M^{1}\\right>  + k_{F} \\left< {\\left(M^{1}\\right)}^{2}\\right>  + k_{I} \\left< M^{1}\\right> $"
      ],
      "text/plain": [
       "                                                                              \n",
       "                                                                              \n",
       "                                                                          k_C⋅\n",
       "d                                                                             \n",
       "──(Expectation(N⋅Moment(1))) = \\lambda⋅k_I⋅Expectation(N) + \\lambda⋅k_I - ────\n",
       "dt                                                                            \n",
       "\n",
       "⎛                                                        ⎛ 2⎞                 \n",
       "⎜             ⎛ 2⎞                          2⋅Expectation⎝N ⎠⋅Expectation(N⋅Mo\n",
       "⎜- Expectation⎝N ⎠⋅Expectation(Moment(1)) + ──────────────────────────────────\n",
       "⎝                                                         Expectation(N)      \n",
       "──────────────────────────────────────────────────────────────────────────────\n",
       "                                         2                                    \n",
       "\n",
       "        ⎞                                                                     \n",
       "ment(1))⎟                                                                     \n",
       "────────⎟                                                                     \n",
       "        ⎠   k_C⋅Expectation(N⋅Moment(1))                                      \n",
       "───────── + ──────────────────────────── - 2⋅k_E⋅Expectation(N⋅Moment(1)) + k_\n",
       "                         2                                                    \n",
       "\n",
       "                                                                              \n",
       "                                                                              \n",
       "                                                                              \n",
       "                                          ⎛      2   ⎞                        \n",
       "E⋅Expectation(Moment(1)) + k_F⋅Expectation⎝Moment (1)⎠ + k_I⋅Expectation(Momen\n",
       "                                                                              \n",
       "\n",
       "     \n",
       "     \n",
       "     \n",
       "     \n",
       "t(1))\n",
       "     "
      ]
     },
     "metadata": {},
     "output_type": "display_data"
    }
   ],
   "source": [
    "display_moment_equations(equations)"
   ]
  },
  {
   "cell_type": "markdown",
   "metadata": {},
   "source": [
    "## Code generation\n",
    "From the closed equations, we can generate code for simulating the system.\n",
    "Currently, Python or Julia code can be generated.\n",
    "Both derive from a common `AbstractCodeGenerator` class, and it should be relatively straightforward to tweak the code generation for other languages/solvers.\n",
    "\n",
    "Here, we use the Python generator."
   ]
  },
  {
   "cell_type": "code",
   "execution_count": 6,
   "metadata": {},
   "outputs": [],
   "source": [
    "generator = GeneratePython()\n",
    "code = generator.generate(equations, function_name=\"coagulation_fragmentation\")\n",
    "#print(code)\n",
    "exec(code) # execute generated code"
   ]
  },
  {
   "cell_type": "markdown",
   "metadata": {},
   "source": [
    "This creates code for two functions, `coagulation_fragmentation_ODEs` and `coagulation_fragmentation_initial`.\n",
    "The arguments to the functions are listed in the doc strings:"
   ]
  },
  {
   "cell_type": "code",
   "execution_count": 7,
   "metadata": {},
   "outputs": [
    {
     "name": "stdout",
     "output_type": "stream",
     "text": [
      "Help on function coagulation_fragmentation_initial in module __main__:\n",
      "\n",
      "coagulation_fragmentation_initial(initial)\n",
      "    Create inital expected moments vector\n",
      "    \n",
      "    :param initial: tuple of initial values for expectations of (Moment(0,), Moment(1,), Moment(2,))\n",
      "    :return: initial expected moments vector\n",
      "\n",
      "Help on function coagulation_fragmentation_ODEs in module __main__:\n",
      "\n",
      "coagulation_fragmentation_ODEs(M, dM, parameters)\n",
      "    Evaluate derivatives of expected moments\n",
      "    \n",
      "    Indices in M and dM vectors are \n",
      "      M[0] = Moment(0,)\n",
      "      M[1] = Moment(0)**2\n",
      "      M[2] = Moment(1,)\n",
      "      M[3] = Moment(1)**2\n",
      "      M[4] = Moment(2,)\n",
      "      M[5] = Moment(0)*Moment(1)\n",
      "    \n",
      "    :param M: expected moments\n",
      "    :param dM: result, the derivative dM/dt is stored here\n",
      "    :param parameters: tuple of values for constants (\\lambda, k_C, k_E, k_F, k_I)\n",
      "    :return: dM\n",
      "\n"
     ]
    }
   ],
   "source": [
    "help(coagulation_fragmentation_initial)\n",
    "help(coagulation_fragmentation_ODEs)"
   ]
  },
  {
   "cell_type": "markdown",
   "metadata": {},
   "source": [
    "## Solving and plotting results\n",
    "We use the generated functions with `scipy.solve_ivp` to solve the system."
   ]
  },
  {
   "cell_type": "code",
   "execution_count": 8,
   "metadata": {},
   "outputs": [
    {
     "name": "stdout",
     "output_type": "stream",
     "text": [
      "[100.          98.09964031  96.31871186 ... 100.04489169 100.04479285\n",
      " 100.04470542]\n"
     ]
    }
   ],
   "source": [
    "from scipy.integrate import solve_ivp\n",
    "import numpy as np\n",
    "\n",
    "# vector of timepoints where to solve ODE problem\n",
    "timepoints = np.linspace(0, 100, 1001)\n",
    "\n",
    "# initial condition\n",
    "# 100 compartments with 10 molecules each\n",
    "M0 = coagulation_fragmentation_initial((100, 1000, 10000))\n",
    "\n",
    "# rate constants and other parameters\n",
    "kC = 0.005\n",
    "kF = 0.005\n",
    "kI = 10.0\n",
    "kE = 0.1\n",
    "Lambda = 50\n",
    "parameters = (Lambda, kC, kE, kF, kI)\n",
    "\n",
    "# solve\n",
    "sol = solve_ivp(\n",
    "    lambda t, M: coagulation_fragmentation_ODEs(M, np.zeros(6), parameters),\n",
    "    (np.min(timepoints), np.max(timepoints)),\n",
    "    M0,\n",
    "    method='BDF',\n",
    "    t_eval=timepoints)\n",
    "\n",
    "# print solution of N\n",
    "print(sol.y[0])"
   ]
  },
  {
   "cell_type": "markdown",
   "metadata": {},
   "source": [
    "Finally, we use `matplotlib` to plot the solution for mean and standard deviation of $N$."
   ]
  },
  {
   "cell_type": "code",
   "execution_count": 9,
   "metadata": {},
   "outputs": [
    {
     "data": {
      "image/png": "[encoded data removed]",
      "text/latex": [
       "$\\displaystyle \\left( 50, \\  150\\right)$"
      ],
      "text/plain": [
       "(50, 150)"
      ]
     },
     "execution_count": 9,
     "metadata": {},
     "output_type": "execute_result"
    },
    {
     "data": {
      "image/png": "[encoded data removed]",
      "text/plain": [
       "<Figure size 432x288 with 1 Axes>"
      ]
     },
     "metadata": {
      "needs_background": "light"
     },
     "output_type": "display_data"
    }
   ],
   "source": [
    "%matplotlib inline\n",
    "import matplotlib.pyplot as plt\n",
    "\n",
    "y = sol.y\n",
    "N = y[0]\n",
    "stdN = np.sqrt(y[1] - N**2)\n",
    "plt.plot(timepoints, y[0], color=\"g\")\n",
    "plt.ylabel(r'$\\left< N \\right>$', size=12)\n",
    "plt.xlabel('time', size=12)\n",
    "plt.title(\"Expected compartment number\", size=12)\n",
    "plt.fill_between(timepoints, N-stdN, N+stdN, alpha=0.4, color=\"g\")\n",
    "plt.ylim((50,150))"
   ]
  }
 ],
 "metadata": {
  "kernelspec": {
   "display_name": "Python 3",
   "language": "python",
   "name": "python3"
  },
  "language_info": {
   "codemirror_mode": {
    "name": "ipython",
    "version": 3
   },
   "file_extension": ".py",
   "mimetype": "text/x-python",
   "name": "python",
   "nbconvert_exporter": "python",
   "pygments_lexer": "ipython3",
   "version": "3.7.3"
  }
 },
 "nbformat": 4,
 "nbformat_minor": 2
}
