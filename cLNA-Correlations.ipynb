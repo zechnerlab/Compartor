{
 "cells": [
  {
   "cell_type": "markdown",
   "metadata": {},
   "source": [
    "## Code generation"
   ]
  },
  {
   "cell_type": "code",
   "execution_count": 1,
   "metadata": {},
   "outputs": [],
   "source": [
    "# import sys\n",
    "# !{sys.executable} -m pip install --upgrade pip\n",
    "# !{sys.executable} -m pip install sympy\n",
    "# !{sys.executable} -m pip install scipy\n",
    "# !{sys.executable} -m pip install matplotlib"
   ]
  },
  {
   "cell_type": "code",
   "execution_count": 2,
   "metadata": {},
   "outputs": [],
   "source": [
    "# Remove matplotlib deprecation warnings\n",
    "import warnings\n",
    "warnings.filterwarnings(\"ignore\", category=UserWarning)"
   ]
  },
  {
   "cell_type": "code",
   "execution_count": 3,
   "metadata": {},
   "outputs": [],
   "source": [
    "# initialize sympy printing (for latex output)\n",
    "from sympy import init_printing, Symbol\n",
    "init_printing()\n",
    "\n",
    "# import functions and classes for compartment models\n",
    "import sys\n",
    "sys.path.insert(0, \"./compartor\") #use local copy\n",
    "from compartor import *"
   ]
  },
  {
   "cell_type": "markdown",
   "metadata": {},
   "source": [
    "Here, we illustrate how to export the moment equations in LaTeX format or generate code for simulations.\n",
    "\n",
    "We consider again the exemplary model of the paper and derive moments equations with the automated function."
   ]
  },
  {
   "cell_type": "code",
   "execution_count": 4,
   "metadata": {},
   "outputs": [
    {
     "data": {
      "text/latex": [
       "$\\displaystyle \\begin{align} \\emptyset&\\overset{h_{I}}{\\longrightarrow}\\left[y\\right] && h_{I} = \\pi_{Poiss}(y; \\lambda) k_{I}\\\\\\left[x\\right]&\\overset{h_{E}}{\\longrightarrow}\\emptyset && h_{E} = k_{E} n{\\left(x \\right)}\\\\\\left[x\\right]&\\overset{h_{b_0}}{\\longrightarrow}\\left[\\left( 1, \\  0\\right) + x\\right] && h_{b_0} = k_{b} n{\\left(x \\right)}\\\\\\left[x\\right]&\\overset{h_{d_0}}{\\longrightarrow}\\left[\\left( -1, \\  0\\right) + x\\right] && h_{d_0} = k_{d} n{\\left(x \\right)} {x}_{0}\\\\\\left[x\\right]&\\overset{h_{b_1}}{\\longrightarrow}\\left[\\left( 0, \\  1\\right) + x\\right] && h_{b_1} = k_{b} n{\\left(x \\right)}\\\\\\left[x\\right]&\\overset{h_{d_1}}{\\longrightarrow}\\left[\\left( 0, \\  -1\\right) + x\\right] && h_{d_1} = k_{d} n{\\left(x \\right)} {x}_{1} \\end{align}$"
      ],
      "text/plain": [
       "EmptySet ---> [y],  h_I = \\pi_{Poiss}(y; \\lambda)*k_I\n",
       "          [x] ---> EmptySet,  h_E = k_E*n(x)         \n",
       "       [x] ---> [(1, 0) + x],  h_b_0 = k_b*n(x)      \n",
       "    [x] ---> [(-1, 0) + x],  h_d_0 = k_d*n(x)*x[0]   \n",
       "       [x] ---> [(0, 1) + x],  h_b_1 = k_b*n(x)      \n",
       "    [x] ---> [(0, -1) + x],  h_d_1 = k_d*n(x)*x[1]   "
      ]
     },
     "metadata": {},
     "output_type": "display_data"
    }
   ],
   "source": [
    "x = Content('x')\n",
    "y = Content('y')\n",
    "z = Content('z')\n",
    "\n",
    "from sympy import symbols, log, exp, sin, cos, tan\n",
    "kM,h = symbols('kM h') # The Michaelis-Menten constant and hill exponent\n",
    "\n",
    "# define intake distribution\n",
    "pi_I0 = OutcomeDistribution.Poisson(Symbol(\"\\pi_{Poiss0}(y; \\lambda)\"), y[0], Symbol(\"\\lambda\"))\n",
    "pi_I1 = OutcomeDistribution.Poisson(Symbol(\"\\pi_{Poiss1}(y; \\lambda)\"), y[1], Symbol(\"\\lambda\"))\n",
    "pi_I = OutcomeDistribution.CombineIndependent(Symbol(\"\\pi_{Poiss}(y; \\lambda)\"), pi_I0, pi_I1)\n",
    "\n",
    "Birth0         = TransitionClass( [x]       -to> [x+(1,0)],       'k_b',            name='b_0')\n",
    "Death0         = TransitionClass( [x]       -to> [x+(-1,0)],      'k_d', g=x[0],    name='d_0')\n",
    "Birth1         = TransitionClass( [x]       -to> [x+(0,1)],       'k_b',            name='b_1')\n",
    "Death1         = TransitionClass( [x]       -to> [x+(0,-1)],      'k_d', g=x[1],    name='d_1')\n",
    "\n",
    "Intake        = TransitionClass( {}        -to> [y],         'k_I',         pi=pi_I, name='I')\n",
    "Exit          = TransitionClass( [x]       -to> {},          'k_E',                  name='E')\n",
    "\n",
    "transitions = [Intake, Exit, Birth0, Death0, Birth1, Death1]\n",
    "display_transition_classes(transitions)"
   ]
  },
  {
   "cell_type": "code",
   "execution_count": 5,
   "metadata": {},
   "outputs": [
    {
     "data": {
      "text/latex": [
       "$\\displaystyle \\left[ M^{\\left(0, 0\\right)}, \\  {\\left(M^{\\left(0, 0\\right)}\\right)}^{\\mathtt{\\text{2}}}, \\  M^{\\left(1, 0\\right)}, \\  {\\left(M^{\\left(1, 0\\right)}\\right)}^{\\mathtt{\\text{2}}}, \\  M^{\\left(0, 1\\right)}, \\  {\\left(M^{\\left(0, 1\\right)}\\right)}^{\\mathtt{\\text{2}}}, \\  M^{\\left(1, 1\\right)}\\right]$"
      ],
      "text/plain": [
       "⎡                    2                            2                            2                    ⎤\n",
       "⎣Moment(0, 0), Moment (0, 0), Moment(1, 0), Moment (1, 0), Moment(0, 1), Moment (0, 1), Moment(1, 1)⎦"
      ]
     },
     "metadata": {},
     "output_type": "display_data"
    },
    {
     "name": "stderr",
     "output_type": "stream",
     "text": [
      "(0) fM: Moment(0, 0)\tpM: 1\tpDM: DeltaM(0, 0)\n",
      "(1) fM: Moment(0, 0)\tpM: 1\tpDM: DeltaM(0, 0)\n",
      "(2) fM: Moment(0, 0)\tpM: 1\tpDM: DeltaM(0, 0)\n",
      "(3) fM: Moment(0, 0)\tpM: 1\tpDM: DeltaM(0, 0)\n",
      "(4) fM: Moment(0, 0)\tpM: 1\tpDM: DeltaM(0, 0)\n",
      "(5) fM: Moment(0, 0)\tpM: 1\tpDM: DeltaM(0, 0)\n",
      "(0) fM: Moment(0, 0)**2\tpM: 1\tpDM: DeltaM(0, 0)**2\n",
      "(0) fM: Moment(0, 0)**2\tpM: Moment(0, 0)\tpDM: DeltaM(0, 0)\n",
      "(1) fM: Moment(0, 0)**2\tpM: 1\tpDM: DeltaM(0, 0)**2\n",
      "(1) fM: Moment(0, 0)**2\tpM: Moment(0, 0)\tpDM: DeltaM(0, 0)\n",
      "(2) fM: Moment(0, 0)**2\tpM: 1\tpDM: DeltaM(0, 0)**2\n",
      "(2) fM: Moment(0, 0)**2\tpM: Moment(0, 0)\tpDM: DeltaM(0, 0)\n",
      "(3) fM: Moment(0, 0)**2\tpM: 1\tpDM: DeltaM(0, 0)**2\n",
      "(3) fM: Moment(0, 0)**2\tpM: Moment(0, 0)\tpDM: DeltaM(0, 0)\n",
      "(4) fM: Moment(0, 0)**2\tpM: 1\tpDM: DeltaM(0, 0)**2\n",
      "(4) fM: Moment(0, 0)**2\tpM: Moment(0, 0)\tpDM: DeltaM(0, 0)\n",
      "(5) fM: Moment(0, 0)**2\tpM: 1\tpDM: DeltaM(0, 0)**2\n",
      "(5) fM: Moment(0, 0)**2\tpM: Moment(0, 0)\tpDM: DeltaM(0, 0)\n",
      "(0) fM: Moment(1, 0)\tpM: 1\tpDM: DeltaM(1, 0)\n",
      "(1) fM: Moment(1, 0)\tpM: 1\tpDM: DeltaM(1, 0)\n",
      "(2) fM: Moment(1, 0)\tpM: 1\tpDM: DeltaM(1, 0)\n",
      "(3) fM: Moment(1, 0)\tpM: 1\tpDM: DeltaM(1, 0)\n",
      "(4) fM: Moment(1, 0)\tpM: 1\tpDM: DeltaM(1, 0)\n",
      "(5) fM: Moment(1, 0)\tpM: 1\tpDM: DeltaM(1, 0)\n",
      "(0) fM: Moment(1, 0)**2\tpM: 1\tpDM: DeltaM(1, 0)**2\n",
      "(0) fM: Moment(1, 0)**2\tpM: Moment(1, 0)\tpDM: DeltaM(1, 0)\n",
      "(1) fM: Moment(1, 0)**2\tpM: 1\tpDM: DeltaM(1, 0)**2\n",
      "(1) fM: Moment(1, 0)**2\tpM: Moment(1, 0)\tpDM: DeltaM(1, 0)\n",
      "(2) fM: Moment(1, 0)**2\tpM: 1\tpDM: DeltaM(1, 0)**2\n",
      "(2) fM: Moment(1, 0)**2\tpM: Moment(1, 0)\tpDM: DeltaM(1, 0)\n",
      "(3) fM: Moment(1, 0)**2\tpM: 1\tpDM: DeltaM(1, 0)**2\n",
      "(3) fM: Moment(1, 0)**2\tpM: Moment(1, 0)\tpDM: DeltaM(1, 0)\n",
      "(4) fM: Moment(1, 0)**2\tpM: 1\tpDM: DeltaM(1, 0)**2\n",
      "(4) fM: Moment(1, 0)**2\tpM: Moment(1, 0)\tpDM: DeltaM(1, 0)\n",
      "(5) fM: Moment(1, 0)**2\tpM: 1\tpDM: DeltaM(1, 0)**2\n",
      "(5) fM: Moment(1, 0)**2\tpM: Moment(1, 0)\tpDM: DeltaM(1, 0)\n",
      "(0) fM: Moment(0, 1)\tpM: 1\tpDM: DeltaM(0, 1)\n",
      "(1) fM: Moment(0, 1)\tpM: 1\tpDM: DeltaM(0, 1)\n",
      "(2) fM: Moment(0, 1)\tpM: 1\tpDM: DeltaM(0, 1)\n",
      "(3) fM: Moment(0, 1)\tpM: 1\tpDM: DeltaM(0, 1)\n",
      "(4) fM: Moment(0, 1)\tpM: 1\tpDM: DeltaM(0, 1)\n",
      "(5) fM: Moment(0, 1)\tpM: 1\tpDM: DeltaM(0, 1)\n",
      "(0) fM: Moment(0, 1)**2\tpM: 1\tpDM: DeltaM(0, 1)**2\n",
      "(0) fM: Moment(0, 1)**2\tpM: Moment(0, 1)\tpDM: DeltaM(0, 1)\n",
      "(1) fM: Moment(0, 1)**2\tpM: 1\tpDM: DeltaM(0, 1)**2\n",
      "(1) fM: Moment(0, 1)**2\tpM: Moment(0, 1)\tpDM: DeltaM(0, 1)\n",
      "(2) fM: Moment(0, 1)**2\tpM: 1\tpDM: DeltaM(0, 1)**2\n",
      "(2) fM: Moment(0, 1)**2\tpM: Moment(0, 1)\tpDM: DeltaM(0, 1)\n",
      "(3) fM: Moment(0, 1)**2\tpM: 1\tpDM: DeltaM(0, 1)**2\n",
      "(3) fM: Moment(0, 1)**2\tpM: Moment(0, 1)\tpDM: DeltaM(0, 1)\n",
      "(4) fM: Moment(0, 1)**2\tpM: 1\tpDM: DeltaM(0, 1)**2\n",
      "(4) fM: Moment(0, 1)**2\tpM: Moment(0, 1)\tpDM: DeltaM(0, 1)\n",
      "(5) fM: Moment(0, 1)**2\tpM: 1\tpDM: DeltaM(0, 1)**2\n",
      "(5) fM: Moment(0, 1)**2\tpM: Moment(0, 1)\tpDM: DeltaM(0, 1)\n",
      "(0) fM: Moment(1, 1)\tpM: 1\tpDM: DeltaM(1, 1)\n",
      "(1) fM: Moment(1, 1)\tpM: 1\tpDM: DeltaM(1, 1)\n",
      "(2) fM: Moment(1, 1)\tpM: 1\tpDM: DeltaM(1, 1)\n",
      "(3) fM: Moment(1, 1)\tpM: 1\tpDM: DeltaM(1, 1)\n",
      "(4) fM: Moment(1, 1)\tpM: 1\tpDM: DeltaM(1, 1)\n",
      "(5) fM: Moment(1, 1)\tpM: 1\tpDM: DeltaM(1, 1)\n",
      "(0) fM: Moment(0, 0)\tpM: 1\tpDM: DeltaM(0, 0)\n",
      "(1) fM: Moment(0, 0)\tpM: 1\tpDM: DeltaM(0, 0)\n",
      "(2) fM: Moment(0, 0)\tpM: 1\tpDM: DeltaM(0, 0)\n",
      "(3) fM: Moment(0, 0)\tpM: 1\tpDM: DeltaM(0, 0)\n",
      "(4) fM: Moment(0, 0)\tpM: 1\tpDM: DeltaM(0, 0)\n",
      "(5) fM: Moment(0, 0)\tpM: 1\tpDM: DeltaM(0, 0)\n",
      "(0) fM: Moment(0, 0)**2\tpM: 1\tpDM: DeltaM(0, 0)**2\n",
      "(0) fM: Moment(0, 0)**2\tpM: Moment(0, 0)\tpDM: DeltaM(0, 0)\n",
      "(1) fM: Moment(0, 0)**2\tpM: 1\tpDM: DeltaM(0, 0)**2\n",
      "(1) fM: Moment(0, 0)**2\tpM: Moment(0, 0)\tpDM: DeltaM(0, 0)\n",
      "(2) fM: Moment(0, 0)**2\tpM: 1\tpDM: DeltaM(0, 0)**2\n",
      "(2) fM: Moment(0, 0)**2\tpM: Moment(0, 0)\tpDM: DeltaM(0, 0)\n",
      "(3) fM: Moment(0, 0)**2\tpM: 1\tpDM: DeltaM(0, 0)**2\n",
      "(3) fM: Moment(0, 0)**2\tpM: Moment(0, 0)\tpDM: DeltaM(0, 0)\n",
      "(4) fM: Moment(0, 0)**2\tpM: 1\tpDM: DeltaM(0, 0)**2\n",
      "(4) fM: Moment(0, 0)**2\tpM: Moment(0, 0)\tpDM: DeltaM(0, 0)\n",
      "(5) fM: Moment(0, 0)**2\tpM: 1\tpDM: DeltaM(0, 0)**2\n",
      "(5) fM: Moment(0, 0)**2\tpM: Moment(0, 0)\tpDM: DeltaM(0, 0)\n",
      "(0) fM: Moment(1, 0)\tpM: 1\tpDM: DeltaM(1, 0)\n",
      "(1) fM: Moment(1, 0)\tpM: 1\tpDM: DeltaM(1, 0)\n",
      "(2) fM: Moment(1, 0)\tpM: 1\tpDM: DeltaM(1, 0)\n",
      "(3) fM: Moment(1, 0)\tpM: 1\tpDM: DeltaM(1, 0)\n",
      "(4) fM: Moment(1, 0)\tpM: 1\tpDM: DeltaM(1, 0)\n",
      "(5) fM: Moment(1, 0)\tpM: 1\tpDM: DeltaM(1, 0)\n",
      "(0) fM: Moment(1, 0)**2\tpM: 1\tpDM: DeltaM(1, 0)**2\n",
      "(0) fM: Moment(1, 0)**2\tpM: Moment(1, 0)\tpDM: DeltaM(1, 0)\n",
      "(1) fM: Moment(1, 0)**2\tpM: 1\tpDM: DeltaM(1, 0)**2\n",
      "(1) fM: Moment(1, 0)**2\tpM: Moment(1, 0)\tpDM: DeltaM(1, 0)\n",
      "(2) fM: Moment(1, 0)**2\tpM: 1\tpDM: DeltaM(1, 0)**2\n",
      "(2) fM: Moment(1, 0)**2\tpM: Moment(1, 0)\tpDM: DeltaM(1, 0)\n",
      "(3) fM: Moment(1, 0)**2\tpM: 1\tpDM: DeltaM(1, 0)**2\n",
      "(3) fM: Moment(1, 0)**2\tpM: Moment(1, 0)\tpDM: DeltaM(1, 0)\n",
      "(4) fM: Moment(1, 0)**2\tpM: 1\tpDM: DeltaM(1, 0)**2\n",
      "(4) fM: Moment(1, 0)**2\tpM: Moment(1, 0)\tpDM: DeltaM(1, 0)\n",
      "(5) fM: Moment(1, 0)**2\tpM: 1\tpDM: DeltaM(1, 0)**2\n",
      "(5) fM: Moment(1, 0)**2\tpM: Moment(1, 0)\tpDM: DeltaM(1, 0)\n",
      "(0) fM: Moment(0, 1)\tpM: 1\tpDM: DeltaM(0, 1)\n",
      "(1) fM: Moment(0, 1)\tpM: 1\tpDM: DeltaM(0, 1)\n",
      "(2) fM: Moment(0, 1)\tpM: 1\tpDM: DeltaM(0, 1)\n",
      "(3) fM: Moment(0, 1)\tpM: 1\tpDM: DeltaM(0, 1)\n",
      "(4) fM: Moment(0, 1)\tpM: 1\tpDM: DeltaM(0, 1)\n",
      "(5) fM: Moment(0, 1)\tpM: 1\tpDM: DeltaM(0, 1)\n",
      "(0) fM: Moment(0, 1)**2\tpM: 1\tpDM: DeltaM(0, 1)**2\n",
      "(0) fM: Moment(0, 1)**2\tpM: Moment(0, 1)\tpDM: DeltaM(0, 1)\n",
      "(1) fM: Moment(0, 1)**2\tpM: 1\tpDM: DeltaM(0, 1)**2\n",
      "(1) fM: Moment(0, 1)**2\tpM: Moment(0, 1)\tpDM: DeltaM(0, 1)\n",
      "(2) fM: Moment(0, 1)**2\tpM: 1\tpDM: DeltaM(0, 1)**2\n",
      "(2) fM: Moment(0, 1)**2\tpM: Moment(0, 1)\tpDM: DeltaM(0, 1)\n",
      "(3) fM: Moment(0, 1)**2\tpM: 1\tpDM: DeltaM(0, 1)**2\n",
      "(3) fM: Moment(0, 1)**2\tpM: Moment(0, 1)\tpDM: DeltaM(0, 1)\n",
      "(4) fM: Moment(0, 1)**2\tpM: 1\tpDM: DeltaM(0, 1)**2\n",
      "(4) fM: Moment(0, 1)**2\tpM: Moment(0, 1)\tpDM: DeltaM(0, 1)\n",
      "(5) fM: Moment(0, 1)**2\tpM: 1\tpDM: DeltaM(0, 1)**2\n",
      "(5) fM: Moment(0, 1)**2\tpM: Moment(0, 1)\tpDM: DeltaM(0, 1)\n",
      "(0) fM: Moment(1, 1)\tpM: 1\tpDM: DeltaM(1, 1)\n",
      "(1) fM: Moment(1, 1)\tpM: 1\tpDM: DeltaM(1, 1)\n",
      "(2) fM: Moment(1, 1)\tpM: 1\tpDM: DeltaM(1, 1)\n",
      "(3) fM: Moment(1, 1)\tpM: 1\tpDM: DeltaM(1, 1)\n",
      "(4) fM: Moment(1, 1)\tpM: 1\tpDM: DeltaM(1, 1)\n",
      "(5) fM: Moment(1, 1)\tpM: 1\tpDM: DeltaM(1, 1)\n",
      "(0) fM: Moment(0, 0)*Moment(1, 0)\tpM: 1\tpDM: DeltaM(0, 0)*DeltaM(1, 0)\n",
      "(0) fM: Moment(0, 0)*Moment(1, 0)\tpM: Moment(1, 0)\tpDM: DeltaM(0, 0)\n",
      "(0) fM: Moment(0, 0)*Moment(1, 0)\tpM: Moment(0, 0)\tpDM: DeltaM(1, 0)\n",
      "(1) fM: Moment(0, 0)*Moment(1, 0)\tpM: 1\tpDM: DeltaM(0, 0)*DeltaM(1, 0)\n",
      "(1) fM: Moment(0, 0)*Moment(1, 0)\tpM: Moment(1, 0)\tpDM: DeltaM(0, 0)\n",
      "(1) fM: Moment(0, 0)*Moment(1, 0)\tpM: Moment(0, 0)\tpDM: DeltaM(1, 0)\n",
      "(2) fM: Moment(0, 0)*Moment(1, 0)\tpM: 1\tpDM: DeltaM(0, 0)*DeltaM(1, 0)\n",
      "(2) fM: Moment(0, 0)*Moment(1, 0)\tpM: Moment(1, 0)\tpDM: DeltaM(0, 0)\n",
      "(2) fM: Moment(0, 0)*Moment(1, 0)\tpM: Moment(0, 0)\tpDM: DeltaM(1, 0)\n",
      "(3) fM: Moment(0, 0)*Moment(1, 0)\tpM: 1\tpDM: DeltaM(0, 0)*DeltaM(1, 0)\n",
      "(3) fM: Moment(0, 0)*Moment(1, 0)\tpM: Moment(1, 0)\tpDM: DeltaM(0, 0)\n",
      "(3) fM: Moment(0, 0)*Moment(1, 0)\tpM: Moment(0, 0)\tpDM: DeltaM(1, 0)\n",
      "(4) fM: Moment(0, 0)*Moment(1, 0)\tpM: 1\tpDM: DeltaM(0, 0)*DeltaM(1, 0)\n",
      "(4) fM: Moment(0, 0)*Moment(1, 0)\tpM: Moment(1, 0)\tpDM: DeltaM(0, 0)\n",
      "(4) fM: Moment(0, 0)*Moment(1, 0)\tpM: Moment(0, 0)\tpDM: DeltaM(1, 0)\n",
      "(5) fM: Moment(0, 0)*Moment(1, 0)\tpM: 1\tpDM: DeltaM(0, 0)*DeltaM(1, 0)\n",
      "(5) fM: Moment(0, 0)*Moment(1, 0)\tpM: Moment(1, 0)\tpDM: DeltaM(0, 0)\n",
      "(5) fM: Moment(0, 0)*Moment(1, 0)\tpM: Moment(0, 0)\tpDM: DeltaM(1, 0)\n",
      "(0) fM: Moment(0, 0)*Moment(0, 1)\tpM: 1\tpDM: DeltaM(0, 0)*DeltaM(0, 1)\n",
      "(0) fM: Moment(0, 0)*Moment(0, 1)\tpM: Moment(0, 1)\tpDM: DeltaM(0, 0)\n",
      "(0) fM: Moment(0, 0)*Moment(0, 1)\tpM: Moment(0, 0)\tpDM: DeltaM(0, 1)\n",
      "(1) fM: Moment(0, 0)*Moment(0, 1)\tpM: 1\tpDM: DeltaM(0, 0)*DeltaM(0, 1)\n",
      "(1) fM: Moment(0, 0)*Moment(0, 1)\tpM: Moment(0, 1)\tpDM: DeltaM(0, 0)\n",
      "(1) fM: Moment(0, 0)*Moment(0, 1)\tpM: Moment(0, 0)\tpDM: DeltaM(0, 1)\n",
      "(2) fM: Moment(0, 0)*Moment(0, 1)\tpM: 1\tpDM: DeltaM(0, 0)*DeltaM(0, 1)\n",
      "(2) fM: Moment(0, 0)*Moment(0, 1)\tpM: Moment(0, 1)\tpDM: DeltaM(0, 0)\n",
      "(2) fM: Moment(0, 0)*Moment(0, 1)\tpM: Moment(0, 0)\tpDM: DeltaM(0, 1)\n",
      "(3) fM: Moment(0, 0)*Moment(0, 1)\tpM: 1\tpDM: DeltaM(0, 0)*DeltaM(0, 1)\n",
      "(3) fM: Moment(0, 0)*Moment(0, 1)\tpM: Moment(0, 1)\tpDM: DeltaM(0, 0)\n",
      "(3) fM: Moment(0, 0)*Moment(0, 1)\tpM: Moment(0, 0)\tpDM: DeltaM(0, 1)\n",
      "(4) fM: Moment(0, 0)*Moment(0, 1)\tpM: 1\tpDM: DeltaM(0, 0)*DeltaM(0, 1)\n",
      "(4) fM: Moment(0, 0)*Moment(0, 1)\tpM: Moment(0, 1)\tpDM: DeltaM(0, 0)\n",
      "(4) fM: Moment(0, 0)*Moment(0, 1)\tpM: Moment(0, 0)\tpDM: DeltaM(0, 1)\n",
      "(5) fM: Moment(0, 0)*Moment(0, 1)\tpM: 1\tpDM: DeltaM(0, 0)*DeltaM(0, 1)\n",
      "(5) fM: Moment(0, 0)*Moment(0, 1)\tpM: Moment(0, 1)\tpDM: DeltaM(0, 0)\n",
      "(5) fM: Moment(0, 0)*Moment(0, 1)\tpM: Moment(0, 0)\tpDM: DeltaM(0, 1)\n"
     ]
    },
    {
     "data": {
      "text/markdown": [
       "Computed moment equations for desired moments $\\left< N\\right> $, $\\left< N^{2}\\right> $, $\\left< M^{\\left(1, 0\\right)}\\right> $, $\\left< {\\left(M^{\\left(1, 0\\right)}\\right)}^{\\mathtt{\\text{2}}}\\right> $, $\\left< M^{\\left(0, 1\\right)}\\right> $, $\\left< {\\left(M^{\\left(0, 1\\right)}\\right)}^{\\mathtt{\\text{2}}}\\right> $, and $\\left< M^{\\left(1, 1\\right)}\\right> $."
      ],
      "text/plain": [
       "<IPython.core.display.Markdown object>"
      ]
     },
     "metadata": {},
     "output_type": "display_data"
    },
    {
     "data": {
      "text/markdown": [
       "Equations were iteratively added for $\\left< N M^{\\left(1, 0\\right)}\\right> $ and $\\left< N M^{\\left(0, 1\\right)}\\right> $."
      ],
      "text/plain": [
       "<IPython.core.display.Markdown object>"
      ]
     },
     "metadata": {},
     "output_type": "display_data"
    },
    {
     "data": {
      "text/latex": [
       "$\\displaystyle \\frac{d}{d t} \\left< N\\right>  = - k_{E} \\left< N\\right>  + k_{I}$"
      ],
      "text/plain": [
       "d                                             \n",
       "──(Expectation(N)) = -k_E⋅Expectation(N) + k_I\n",
       "dt                                            "
      ]
     },
     "metadata": {},
     "output_type": "display_data"
    },
    {
     "data": {
      "text/latex": [
       "$\\displaystyle \\frac{d}{d t} \\left< N^{2}\\right>  = k_{E} \\left< N\\right>  - 2 k_{E} \\left< N^{2}\\right>  + 2 k_{I} \\left< N\\right>  + k_{I}$"
      ],
      "text/plain": [
       "d ⎛           ⎛ 2⎞⎞                                         ⎛ 2⎞                             \n",
       "──⎝Expectation⎝N ⎠⎠ = k_E⋅Expectation(N) - 2⋅k_E⋅Expectation⎝N ⎠ + 2⋅k_I⋅Expectation(N) + k_I\n",
       "dt                                                                                           "
      ]
     },
     "metadata": {},
     "output_type": "display_data"
    },
    {
     "data": {
      "text/latex": [
       "$\\displaystyle \\frac{d}{d t} \\left< M^{\\left(1, 0\\right)}\\right>  = \\lambda k_{I} - k_{E} \\left< M^{\\left(1, 0\\right)}\\right>  + k_{b} \\left< N\\right>  - k_{d} \\left< M^{\\left(1, 0\\right)}\\right> $"
      ],
      "text/plain": [
       "d                                                                                                                               \n",
       "──(Expectation(Moment(1, 0))) = \\lambda⋅k_I - k_E⋅Expectation(Moment(1, 0)) + k_b⋅Expectation(N) - k_d⋅Expectation(Moment(1, 0))\n",
       "dt                                                                                                                              "
      ]
     },
     "metadata": {},
     "output_type": "display_data"
    },
    {
     "data": {
      "text/latex": [
       "$\\displaystyle \\frac{d}{d t} \\left< {\\left(M^{\\left(1, 0\\right)}\\right)}^{\\mathtt{\\text{2}}}\\right>  = \\lambda^{2} k_{I} + 2 \\lambda k_{I} \\left< M^{\\left(1, 0\\right)}\\right>  + \\lambda k_{I} - 2 k_{E} \\left< {\\left(M^{\\left(1, 0\\right)}\\right)}^{\\mathtt{\\text{2}}}\\right>  + \\frac{k_{E} {\\left< M^{\\left(1, 0\\right)}\\right> }^{\\mathtt{\\text{2}}}}{\\left< N\\right> } + k_{b} \\left< N\\right>  + 2 k_{b} \\left< N M^{\\left(1, 0\\right)}\\right>  + k_{d} \\left< M^{\\left(1, 0\\right)}\\right>  - 2 k_{d} \\left< {\\left(M^{\\left(1, 0\\right)}\\right)}^{\\mathtt{\\text{2}}}\\right> $"
      ],
      "text/plain": [
       "                                                                                                                                                          2                   \n",
       "d ⎛           ⎛      2      ⎞⎞          2                                                                                ⎛      2      ⎞   k_E⋅Expectation (Moment(1, 0))     \n",
       "──⎝Expectation⎝Moment (1, 0)⎠⎠ = \\lambda ⋅k_I + 2⋅\\lambda⋅k_I⋅Expectation(Moment(1, 0)) + \\lambda⋅k_I - 2⋅k_E⋅Expectation⎝Moment (1, 0)⎠ + ────────────────────────────── + k_\n",
       "dt                                                                                                                                                 Expectation(N)             \n",
       "\n",
       "                                                                                                                       \n",
       "                                                                                                        ⎛      2      ⎞\n",
       "b⋅Expectation(N) + 2⋅k_b⋅Expectation(N⋅Moment(1, 0)) + k_d⋅Expectation(Moment(1, 0)) - 2⋅k_d⋅Expectation⎝Moment (1, 0)⎠\n",
       "                                                                                                                       "
      ]
     },
     "metadata": {},
     "output_type": "display_data"
    },
    {
     "data": {
      "text/latex": [
       "$\\displaystyle \\frac{d}{d t} \\left< M^{\\left(0, 1\\right)}\\right>  = \\lambda k_{I} - k_{E} \\left< M^{\\left(0, 1\\right)}\\right>  + k_{b} \\left< N\\right>  - k_{d} \\left< M^{\\left(0, 1\\right)}\\right> $"
      ],
      "text/plain": [
       "d                                                                                                                               \n",
       "──(Expectation(Moment(0, 1))) = \\lambda⋅k_I - k_E⋅Expectation(Moment(0, 1)) + k_b⋅Expectation(N) - k_d⋅Expectation(Moment(0, 1))\n",
       "dt                                                                                                                              "
      ]
     },
     "metadata": {},
     "output_type": "display_data"
    },
    {
     "data": {
      "text/latex": [
       "$\\displaystyle \\frac{d}{d t} \\left< {\\left(M^{\\left(0, 1\\right)}\\right)}^{\\mathtt{\\text{2}}}\\right>  = \\lambda^{2} k_{I} + 2 \\lambda k_{I} \\left< M^{\\left(0, 1\\right)}\\right>  + \\lambda k_{I} - 2 k_{E} \\left< {\\left(M^{\\left(0, 1\\right)}\\right)}^{\\mathtt{\\text{2}}}\\right>  + \\frac{k_{E} {\\left< M^{\\left(0, 1\\right)}\\right> }^{\\mathtt{\\text{2}}}}{\\left< N\\right> } + k_{b} \\left< N\\right>  + 2 k_{b} \\left< N M^{\\left(0, 1\\right)}\\right>  + k_{d} \\left< M^{\\left(0, 1\\right)}\\right>  - 2 k_{d} \\left< {\\left(M^{\\left(0, 1\\right)}\\right)}^{\\mathtt{\\text{2}}}\\right> $"
      ],
      "text/plain": [
       "                                                                                                                                                          2                   \n",
       "d ⎛           ⎛      2      ⎞⎞          2                                                                                ⎛      2      ⎞   k_E⋅Expectation (Moment(0, 1))     \n",
       "──⎝Expectation⎝Moment (0, 1)⎠⎠ = \\lambda ⋅k_I + 2⋅\\lambda⋅k_I⋅Expectation(Moment(0, 1)) + \\lambda⋅k_I - 2⋅k_E⋅Expectation⎝Moment (0, 1)⎠ + ────────────────────────────── + k_\n",
       "dt                                                                                                                                                 Expectation(N)             \n",
       "\n",
       "                                                                                                                       \n",
       "                                                                                                        ⎛      2      ⎞\n",
       "b⋅Expectation(N) + 2⋅k_b⋅Expectation(N⋅Moment(0, 1)) + k_d⋅Expectation(Moment(0, 1)) - 2⋅k_d⋅Expectation⎝Moment (0, 1)⎠\n",
       "                                                                                                                       "
      ]
     },
     "metadata": {},
     "output_type": "display_data"
    },
    {
     "data": {
      "text/latex": [
       "$\\displaystyle \\frac{d}{d t} \\left< M^{\\left(1, 1\\right)}\\right>  = \\frac{- k_{E} \\left< M^{\\left(0, 1\\right)}\\right>  \\left< M^{\\left(1, 0\\right)}\\right>  - 2 k_{d} \\left< M^{\\left(0, 1\\right)}\\right>  \\left< M^{\\left(1, 0\\right)}\\right>  + \\left(\\lambda^{2} k_{I} + k_{b} \\left< M^{\\left(0, 1\\right)}\\right>  + k_{b} \\left< M^{\\left(1, 0\\right)}\\right> \\right) \\left< N\\right> }{\\left< N\\right> }$"
      ],
      "text/plain": [
       "                                                                                                                                                       ⎛       2              \n",
       "d                               -k_E⋅Expectation(Moment(0, 1))⋅Expectation(Moment(1, 0)) - 2⋅k_d⋅Expectation(Moment(0, 1))⋅Expectation(Moment(1, 0)) + ⎝\\lambda ⋅k_I + k_b⋅Exp\n",
       "──(Expectation(Moment(1, 1))) = ──────────────────────────────────────────────────────────────────────────────────────────────────────────────────────────────────────────────\n",
       "dt                                                                                                                                 Expectation(N)                             \n",
       "\n",
       "                                                      ⎞               \n",
       "ectation(Moment(0, 1)) + k_b⋅Expectation(Moment(1, 0))⎠⋅Expectation(N)\n",
       "──────────────────────────────────────────────────────────────────────\n",
       "                                                                      "
      ]
     },
     "metadata": {},
     "output_type": "display_data"
    },
    {
     "data": {
      "text/latex": [
       "$\\displaystyle \\frac{d}{d t} \\left< N M^{\\left(1, 0\\right)}\\right>  = \\lambda k_{I} \\left< N\\right>  + \\lambda k_{I} - 2 k_{E} \\left< N M^{\\left(1, 0\\right)}\\right>  + k_{E} \\left< M^{\\left(1, 0\\right)}\\right>  + k_{I} \\left< M^{\\left(1, 0\\right)}\\right>  + k_{b} \\left< N^{2}\\right>  - k_{d} \\left< N M^{\\left(1, 0\\right)}\\right> $"
      ],
      "text/plain": [
       "d                                                                                                                                                                             \n",
       "──(Expectation(N⋅Moment(1, 0))) = \\lambda⋅k_I⋅Expectation(N) + \\lambda⋅k_I - 2⋅k_E⋅Expectation(N⋅Moment(1, 0)) + k_E⋅Expectation(Moment(1, 0)) + k_I⋅Expectation(Moment(1, 0))\n",
       "dt                                                                                                                                                                            \n",
       "\n",
       "                  ⎛ 2⎞                                  \n",
       " + k_b⋅Expectation⎝N ⎠ - k_d⋅Expectation(N⋅Moment(1, 0))\n",
       "                                                        "
      ]
     },
     "metadata": {},
     "output_type": "display_data"
    },
    {
     "data": {
      "text/latex": [
       "$\\displaystyle \\frac{d}{d t} \\left< N M^{\\left(0, 1\\right)}\\right>  = \\lambda k_{I} \\left< N\\right>  + \\lambda k_{I} - 2 k_{E} \\left< N M^{\\left(0, 1\\right)}\\right>  + k_{E} \\left< M^{\\left(0, 1\\right)}\\right>  + k_{I} \\left< M^{\\left(0, 1\\right)}\\right>  + k_{b} \\left< N^{2}\\right>  - k_{d} \\left< N M^{\\left(0, 1\\right)}\\right> $"
      ],
      "text/plain": [
       "d                                                                                                                                                                             \n",
       "──(Expectation(N⋅Moment(0, 1))) = \\lambda⋅k_I⋅Expectation(N) + \\lambda⋅k_I - 2⋅k_E⋅Expectation(N⋅Moment(0, 1)) + k_E⋅Expectation(Moment(0, 1)) + k_I⋅Expectation(Moment(0, 1))\n",
       "dt                                                                                                                                                                            \n",
       "\n",
       "                  ⎛ 2⎞                                  \n",
       " + k_b⋅Expectation⎝N ⎠ - k_d⋅Expectation(N⋅Moment(0, 1))\n",
       "                                                        "
      ]
     },
     "metadata": {},
     "output_type": "display_data"
    }
   ],
   "source": [
    "M = Moment\n",
    "moments = [\n",
    "    M(0,0),\n",
    "    M(0,0)**2,\n",
    "    M(1,0),\n",
    "    M(1,0)**2,\n",
    "    M(0,1),\n",
    "    M(0,1)**2,\n",
    "    M(1,1),\n",
    "]\n",
    "display(moments)\n",
    "equations = automated_moment_equations(2, transitions, moments, clna=True)\n",
    "display_moment_equations(equations)"
   ]
  },
  {
   "cell_type": "markdown",
   "metadata": {},
   "source": [
    "The LaTeX source of the ODE system can be found and copy-pasted by modifying the Math Render option of the jupyter notebook. This is done by right-clicking on the system and choosing Math Settings > Math Render > Plain Source .\n",
    "\n",
    "From the closed equations, we can also generate code to simulate the system. Currently, Python or Julia code can be generated.\n",
    "\n",
    "For a direct code output, the user can rely on the functions:"
   ]
  },
  {
   "cell_type": "code",
   "execution_count": 6,
   "metadata": {},
   "outputs": [
    {
     "name": "stdout",
     "output_type": "stream",
     "text": [
      "# evaluate ODEs\n",
      "function IEBDBD_ODEs(dM, M, parameters, t)\n",
      "  c2 = parameters[:\\lambda] # \\lambda\n",
      "  c1 = parameters[:kE] # kE\n",
      "  c4 = parameters[:kI] # kI\n",
      "  c0 = parameters[:kb] # kb\n",
      "  c3 = parameters[:kd] # kd\n",
      "  # Number of Compartments (N)\n",
      "  dM[1] = c4-c1*M[1]\n",
      "  # N^2\n",
      "  dM[2] = c4+c1*M[1]-2*c1*M[2]+2*c4*M[1]\n",
      "  # Total Mass of species 1\n",
      "  dM[3] = c2*c4+c0*M[1]-c1*M[3]-c3*M[3]\n",
      "  # M1^2\n",
      "  dM[4] = c2*c4+c4*((c2)^(2))+c0*M[1]+c3*M[3]-2*c1*M[4]-2*c3*M[4]+2*c0*M[8]+c1*((M[3])^(2))/M[1]+2*c2*c4*M[3]\n",
      "  # Total Mass of species 2\n",
      "  dM[5] = c2*c4+c0*M[1]-c1*M[5]-c3*M[5]\n",
      "  # M2^2\n",
      "  dM[6] = c2*c4+c4*((c2)^(2))+c0*M[1]+c3*M[5]-2*c1*M[6]-2*c3*M[6]+2*c0*M[9]+c1*((M[5])^(2))/M[1]+2*c2*c4*M[5]\n",
      "  # Sum of squared content of species 1\n",
      "  dM[7] = ((c4*((c2)^(2))+c0*M[5]+c0*M[3])*M[1]-c1*M[5]*M[3]-2*c3*M[5]*M[3])/M[1]\n",
      "  # N*M1\n",
      "  dM[8] = c2*c4+c1*M[3]+c4*M[3]+c0*M[2]-c3*M[8]-2*c1*M[8]+c2*c4*M[1]\n",
      "  # N*M2\n",
      "  dM[9] = c2*c4+c1*M[5]+c4*M[5]+c0*M[2]-c3*M[9]-2*c1*M[9]+c2*c4*M[1]\n",
      "  return\n",
      "end\n",
      "\n",
      "# initialize expected moments vector\n",
      "function IEBDBD_initial(n0)\n",
      "  M = zeros(9)\n",
      "  # Number of Compartments (N)\n",
      "  M[1] = ??? # initial value for Moment(0, 0), please specify!\n",
      "  # N^2\n",
      "  M[2] = ((M[1])^(2))\n",
      "  # Total Mass of species 1\n",
      "  M[3] = ??? # initial value for Moment(1, 0), please specify!\n",
      "  # M1^2\n",
      "  M[4] = ((M[3])^(2))\n",
      "  # Total Mass of species 2\n",
      "  M[5] = ??? # initial value for Moment(0, 1), please specify!\n",
      "  # M2^2\n",
      "  M[6] = ((M[5])^(2))\n",
      "  # Sum of squared content of species 1\n",
      "  M[7] = ??? # initial value for Moment(1, 1), please specify!\n",
      "  # N*M1\n",
      "  M[8] = M[1]*M[3]\n",
      "  # N*M2\n",
      "  M[9] = M[1]*M[5]\n",
      "  return M\n",
      "end\n",
      "\n",
      "\n"
     ]
    }
   ],
   "source": [
    "julia_code = generate_julia_code(equations, function_name=\"IEBDBD\")\n",
    "print(julia_code)"
   ]
  }
 ],
 "metadata": {
  "kernelspec": {
   "display_name": "Python 3 (ipykernel)",
   "language": "python",
   "name": "python3"
  },
  "language_info": {
   "codemirror_mode": {
    "name": "ipython",
    "version": 3
   },
   "file_extension": ".py",
   "mimetype": "text/x-python",
   "name": "python",
   "nbconvert_exporter": "python",
   "pygments_lexer": "ipython3",
   "version": "3.9.6"
  }
 },
 "nbformat": 4,
 "nbformat_minor": 2
}
