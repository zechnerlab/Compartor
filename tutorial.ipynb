{
 "cells": [
  {
   "cell_type": "code",
   "execution_count": 76,
   "metadata": {},
   "outputs": [],
   "source": [
    "from sympy import *\n",
    "# init_printing(use_latex='mathjax')\n",
    "# init_printing(use_latex=False)\n",
    "def poff():\n",
    "    init_printing(pretty_print=False)\n",
    "def pon():\n",
    "    init_printing()\n",
    "pon()"
   ]
  },
  {
   "cell_type": "code",
   "execution_count": 77,
   "metadata": {},
   "outputs": [],
   "source": [
    "x, y = symbols('x y')"
   ]
  },
  {
   "cell_type": "code",
   "execution_count": 78,
   "metadata": {},
   "outputs": [
    {
     "name": "stdout",
     "output_type": "stream",
     "text": [
      "Sum(x**y, (x, 1, 10))\n"
     ]
    }
   ],
   "source": [
    "expr = Sum(x**y, (x,1,10))\n",
    "print(expr)"
   ]
  },
  {
   "cell_type": "code",
   "execution_count": 79,
   "metadata": {},
   "outputs": [
    {
     "data": {
      "image/png": "[encoded data removed]",
      "text/latex": [
       "$$\\sum_{x=1}^{10} x^{y}$$"
      ],
      "text/plain": [
       "  10    \n",
       " ___    \n",
       " ╲      \n",
       "  ╲    y\n",
       "  ╱   x \n",
       " ╱      \n",
       " ‾‾‾    \n",
       "x = 1   "
      ]
     },
     "execution_count": 79,
     "metadata": {},
     "output_type": "execute_result"
    }
   ],
   "source": [
    "expr"
   ]
  },
  {
   "cell_type": "code",
   "execution_count": 80,
   "metadata": {},
   "outputs": [
    {
     "data": {
      "text/plain": [
       "\"Sum(Pow(Symbol('x'), Symbol('y')), Tuple(Symbol('x'), Integer(1), Integer(10)))\""
      ]
     },
     "execution_count": 80,
     "metadata": {},
     "output_type": "execute_result"
    }
   ],
   "source": [
    "srepr(expr)"
   ]
  },
  {
   "cell_type": "code",
   "execution_count": 81,
   "metadata": {},
   "outputs": [
    {
     "data": {
      "image/png": "[encoded data removed]",
      "text/latex": [
       "$$\\sum_{x=1}^{10} x^{y}$$"
      ],
      "text/plain": [
       "  10    \n",
       " ___    \n",
       " ╲      \n",
       "  ╲    y\n",
       "  ╱   x \n",
       " ╱      \n",
       " ‾‾‾    \n",
       "x = 1   "
      ]
     },
     "execution_count": 81,
     "metadata": {},
     "output_type": "execute_result"
    }
   ],
   "source": [
    "expand(expr)"
   ]
  },
  {
   "cell_type": "code",
   "execution_count": 82,
   "metadata": {},
   "outputs": [],
   "source": [
    "%pdoc Function"
   ]
  },
  {
   "cell_type": "code",
   "execution_count": 83,
   "metadata": {},
   "outputs": [
    {
     "data": {
      "image/png": "[encoded data removed]",
      "text/latex": [
       "$$\\mathrm{True}$$"
      ],
      "text/plain": [
       "True"
      ]
     },
     "metadata": {},
     "output_type": "display_data"
    },
    {
     "data": {
      "image/png": "[encoded data removed]",
      "text/latex": [
       "$$\\frac{d}{d x} x^{4} = 4 x^{3}$$"
      ],
      "text/plain": [
       "d ⎛ 4⎞      3\n",
       "──⎝x ⎠ = 4⋅x \n",
       "dx           "
      ]
     },
     "metadata": {},
     "output_type": "display_data"
    },
    {
     "data": {
      "image/png": "[encoded data removed]",
      "text/latex": [
       "$$\\frac{d^{2}}{d x^{2}} x^{4} = 12 x^{2}$$"
      ],
      "text/plain": [
       "  2            \n",
       " d ⎛ 4⎞       2\n",
       "───⎝x ⎠ = 12⋅x \n",
       "  2            \n",
       "dx             "
      ]
     },
     "metadata": {},
     "output_type": "display_data"
    },
    {
     "data": {
      "image/png": "[encoded data removed]",
      "text/latex": [
       "$$\\frac{d^{3}}{d x^{3}} x^{4} = 24 x$$"
      ],
      "text/plain": [
       "  3           \n",
       " d ⎛ 4⎞       \n",
       "───⎝x ⎠ = 24⋅x\n",
       "  3           \n",
       "dx            "
      ]
     },
     "metadata": {},
     "output_type": "display_data"
    }
   ],
   "source": [
    "for i in range(4):\n",
    "    display(Eq(Derivative(x**4,x,i), diff(x**4,x,i)))"
   ]
  },
  {
   "cell_type": "code",
   "execution_count": 84,
   "metadata": {},
   "outputs": [
    {
     "data": {
      "image/png": "[encoded data removed]",
      "text/latex": [
       "$$\\frac{d}{d x} f{\\left (x \\right )}$$"
      ],
      "text/plain": [
       "d       \n",
       "──(f(x))\n",
       "dx      "
      ]
     },
     "execution_count": 84,
     "metadata": {},
     "output_type": "execute_result"
    }
   ],
   "source": [
    "f, g = symbols('f g', cls=Function)\n",
    "f(x).diff(x)"
   ]
  },
  {
   "cell_type": "code",
   "execution_count": 85,
   "metadata": {},
   "outputs": [
    {
     "data": {
      "image/png": "[encoded data removed]",
      "text/latex": [
       "$$x_{i}$$"
      ],
      "text/plain": [
       "xᵢ"
      ]
     },
     "execution_count": 85,
     "metadata": {},
     "output_type": "execute_result"
    }
   ],
   "source": [
    "xi = symbols('x_i')\n",
    "xi"
   ]
  },
  {
   "cell_type": "code",
   "execution_count": 86,
   "metadata": {},
   "outputs": [
    {
     "data": {
      "image/png": "[encoded data removed]",
      "text/latex": [
       "$$\\left ( x_{5}, \\quad x_{6}, \\quad x_{7}, \\quad x_{8}, \\quad x_{9}\\right )$$"
      ],
      "text/plain": [
       "(x₅, x₆, x₇, x₈, x₉)"
      ]
     },
     "execution_count": 86,
     "metadata": {},
     "output_type": "execute_result"
    }
   ],
   "source": [
    "xs = symbols('x_5:10')\n",
    "xs"
   ]
  },
  {
   "cell_type": "code",
   "execution_count": 87,
   "metadata": {},
   "outputs": [
    {
     "data": {
      "image/png": "[encoded data removed]",
      "text/latex": [
       "$$x \\left(x - 1\\right)$$"
      ],
      "text/plain": [
       "x⋅(x - 1)"
      ]
     },
     "execution_count": 87,
     "metadata": {},
     "output_type": "execute_result"
    }
   ],
   "source": [
    "ff(x,2)"
   ]
  },
  {
   "cell_type": "code",
   "execution_count": 88,
   "metadata": {},
   "outputs": [
    {
     "data": {
      "image/png": "[encoded data removed]",
      "text/latex": [
       "$${x}_{3}$$"
      ],
      "text/plain": [
       "x[3]"
      ]
     },
     "execution_count": 88,
     "metadata": {},
     "output_type": "execute_result"
    }
   ],
   "source": [
    "x = IndexedBase('x', integer=True)\n",
    "y = IndexedBase('y', integer=True)\n",
    "i, j = symbols('i, j', cls=Idx)\n",
    "x[3]\n"
   ]
  },
  {
   "cell_type": "code",
   "execution_count": 89,
   "metadata": {},
   "outputs": [
    {
     "data": {
      "image/png": "[encoded data removed]",
      "text/latex": [
       "$$\\sum_{i=1}^{\\infty} 3 {x}_{i}$$"
      ],
      "text/plain": [
       "  ∞         \n",
       " ___        \n",
       " ╲          \n",
       "  ╲   3⋅x[i]\n",
       "  ╱         \n",
       " ╱          \n",
       " ‾‾‾        \n",
       "i = 1       "
      ]
     },
     "execution_count": 89,
     "metadata": {},
     "output_type": "execute_result"
    }
   ],
   "source": [
    "expr = Sum(3*x[i],(i,1,oo))\n",
    "expr"
   ]
  },
  {
   "cell_type": "code",
   "execution_count": 90,
   "metadata": {},
   "outputs": [
    {
     "data": {
      "image/png": "[encoded data removed]",
      "text/latex": [
       "$$3 \\sum_{i=1}^{\\infty} {x}_{i}$$"
      ],
      "text/plain": [
       "    ∞       \n",
       "   ___      \n",
       "   ╲        \n",
       "    ╲   x[i]\n",
       "3⋅  ╱       \n",
       "   ╱        \n",
       "   ‾‾‾      \n",
       "  i = 1     "
      ]
     },
     "execution_count": 90,
     "metadata": {},
     "output_type": "execute_result"
    }
   ],
   "source": [
    "simplify(expr)"
   ]
  },
  {
   "cell_type": "code",
   "execution_count": 91,
   "metadata": {},
   "outputs": [
    {
     "data": {
      "image/png": "[encoded data removed]",
      "text/latex": [
       "$$3 \\sum_{i=1}^{\\infty} {x}_{i}$$"
      ],
      "text/plain": [
       "    ∞       \n",
       "   ___      \n",
       "   ╲        \n",
       "    ╲   x[i]\n",
       "3⋅  ╱       \n",
       "   ╱        \n",
       "   ‾‾‾      \n",
       "  i = 1     "
      ]
     },
     "execution_count": 91,
     "metadata": {},
     "output_type": "execute_result"
    }
   ],
   "source": [
    "expr.combsimp()"
   ]
  },
  {
   "cell_type": "code",
   "execution_count": 92,
   "metadata": {},
   "outputs": [
    {
     "data": {
      "image/png": "[encoded data removed]",
      "text/latex": [
       "$$\\sum_{j=1}^{\\infty} 3 \\sum_{i=1}^{\\infty} {x}_{i} {y}_{j}$$"
      ],
      "text/plain": [
       "  ∞                     \n",
       "______                  \n",
       "╲                       \n",
       " ╲         ∞            \n",
       "  ╲       ___           \n",
       "   ╲      ╲             \n",
       "    ╲      ╲   x[i]⋅y[j]\n",
       "    ╱  3⋅  ╱            \n",
       "   ╱      ╱             \n",
       "  ╱       ‾‾‾           \n",
       " ╱       i = 1          \n",
       "╱                       \n",
       "‾‾‾‾‾‾                  \n",
       "j = 1                   "
      ]
     },
     "execution_count": 92,
     "metadata": {},
     "output_type": "execute_result"
    }
   ],
   "source": [
    "expr = Sum(3*Sum(x[i]*y[j],(i,1,oo)),(j,1,oo))\n",
    "expr"
   ]
  },
  {
   "cell_type": "code",
   "execution_count": 93,
   "metadata": {},
   "outputs": [
    {
     "data": {
      "image/png": "[encoded data removed]",
      "text/latex": [
       "$$3 \\left(\\sum_{i=1}^{\\infty} {x}_{i}\\right) \\sum_{j=1}^{\\infty} {y}_{j}$$"
      ],
      "text/plain": [
       "  ⎛  ∞       ⎞   ∞       \n",
       "  ⎜ ___      ⎟  ___      \n",
       "  ⎜ ╲        ⎟  ╲        \n",
       "  ⎜  ╲   x[i]⎟   ╲   y[j]\n",
       "3⋅⎜  ╱       ⎟⋅  ╱       \n",
       "  ⎜ ╱        ⎟  ╱        \n",
       "  ⎜ ‾‾‾      ⎟  ‾‾‾      \n",
       "  ⎝i = 1     ⎠ j = 1     "
      ]
     },
     "execution_count": 93,
     "metadata": {},
     "output_type": "execute_result"
    }
   ],
   "source": [
    "expr.combsimp()"
   ]
  },
  {
   "cell_type": "code",
   "execution_count": 94,
   "metadata": {},
   "outputs": [],
   "source": [
    "e2 = expr.combsimp()/Sum(x[i],(i,1,oo))"
   ]
  },
  {
   "cell_type": "code",
   "execution_count": 99,
   "metadata": {},
   "outputs": [
    {
     "data": {
      "image/png": "[encoded data removed]",
      "text/latex": [
       "$$3 \\sum_{j=1}^{\\infty} {y}_{j}$$"
      ],
      "text/plain": [
       "    ∞       \n",
       "   ___      \n",
       "   ╲        \n",
       "    ╲   y[j]\n",
       "3⋅  ╱       \n",
       "   ╱        \n",
       "   ‾‾‾      \n",
       "  j = 1     "
      ]
     },
     "execution_count": 99,
     "metadata": {},
     "output_type": "execute_result"
    }
   ],
   "source": [
    "e2.cancel()\n",
    "\n"
   ]
  },
  {
   "cell_type": "code",
   "execution_count": 101,
   "metadata": {},
   "outputs": [
    {
     "data": {
      "image/png": "[encoded data removed]",
      "text/latex": [
       "$$\\Gamma\\mathcal{M}{\\left (i \\right )}$$"
      ],
      "text/plain": [
       "\\Gamma\\mathcal{M}(i)"
      ]
     },
     "execution_count": 101,
     "metadata": {},
     "output_type": "execute_result"
    }
   ],
   "source": [
    "DM = Function('\\Delta\\mathcal{M}', real=True)\n",
    "DM(i)"
   ]
  },
  {
   "cell_type": "code",
   "execution_count": 63,
   "metadata": {},
   "outputs": [
    {
     "name": "stdout",
     "output_type": "stream",
     "text": [
      "Context(2)\n"
     ]
    },
    {
     "data": {
      "image/png": "[encoded data removed]",
      "text/latex": [
       "$$C{\\left (x,y \\right )}\\longrightarrow{}C{\\left (x - 2,y + 1 \\right )}$$"
      ],
      "text/plain": [
       "C(x, y) ---> C(x - 2, y + 1))"
      ]
     },
     "metadata": {},
     "output_type": "display_data"
    }
   ],
   "source": [
    "class Context:\n",
    "    def __init__(self, numSpecies):\n",
    "        self.D = numSpecies\n",
    "\n",
    "    def compartment(self, *args):\n",
    "        return Function(\"C\")(*args)\n",
    "\n",
    "    def __str__(self):\n",
    "        return f'Context({self.D})'\n",
    "\n",
    "class Transition(Basic):\n",
    "    def __init__(self, lhs, rhs):\n",
    "        self.lhs = lhs\n",
    "        self.rhs = rhs\n",
    "\n",
    "    def __str__(self):\n",
    "        return f'{self.lhs} ---> {self.rhs})'\n",
    "\n",
    "#     def _pretty(self, printer=None):\n",
    "#         print(\"PRETTY!\")\n",
    "\n",
    "    def _latex(self, printer=None):\n",
    "        # Always use printer.doprint() otherwise nested expressions won't\n",
    "        # work. See the example of ModOpWrong.\n",
    "        l = printer.doprint(self.lhs)\n",
    "        r = printer.doprint(self.rhs)\n",
    "        return l + '\\longrightarrow{}' + r\n",
    "\n",
    "c = Context(2)\n",
    "print(c)\n",
    "\n",
    "x,y,z=symbols('x y z')\n",
    "compartment = c.compartment(x, y)\n",
    "\n",
    "init_printing(use_latex=True)\n",
    "\n",
    "display(Transition(\n",
    "    c.compartment(x, y),\n",
    "    c.compartment(x - 2, y + 1)))\n",
    "\n"
   ]
  },
  {
   "cell_type": "code",
   "execution_count": 103,
   "metadata": {},
   "outputs": [
    {
     "data": {
      "text/plain": [
       "F\\Delta"
      ]
     },
     "metadata": {},
     "output_type": "display_data"
    }
   ],
   "source": [
    "f = Function(\"F\\Delta\")\n",
    "init_printing(use_latex=True)\n",
    "display(f)"
   ]
  },
  {
   "cell_type": "code",
   "execution_count": 104,
   "metadata": {},
   "outputs": [
    {
     "data": {
      "text/plain": [
       "F\\Delta"
      ]
     },
     "execution_count": 104,
     "metadata": {},
     "output_type": "execute_result"
    }
   ],
   "source": [
    "f"
   ]
  },
  {
   "cell_type": "code",
   "execution_count": 105,
   "metadata": {},
   "outputs": [],
   "source": [
    "G = Function('\\Gamma', integer=true)"
   ]
  },
  {
   "cell_type": "code",
   "execution_count": 109,
   "metadata": {},
   "outputs": [
    {
     "data": {
      "text/plain": [
       "\\Gamma"
      ]
     },
     "metadata": {},
     "output_type": "display_data"
    }
   ],
   "source": [
    "display(G)"
   ]
  },
  {
   "cell_type": "code",
   "execution_count": 110,
   "metadata": {},
   "outputs": [
    {
     "data": {
      "image/png": "[encoded data removed]",
      "text/latex": [
       "$$\\Gamma{\\left (i \\right )}$$"
      ],
      "text/plain": [
       "\\Gamma(i)"
      ]
     },
     "metadata": {},
     "output_type": "display_data"
    }
   ],
   "source": [
    "display(G(i))"
   ]
  },
  {
   "cell_type": "code",
   "execution_count": null,
   "metadata": {},
   "outputs": [],
   "source": []
  },
  {
   "cell_type": "code",
   "execution_count": null,
   "metadata": {},
   "outputs": [],
   "source": []
  }
 ],
 "metadata": {
  "kernelspec": {
   "display_name": "Python 3",
   "language": "python",
   "name": "python3"
  },
  "language_info": {
   "codemirror_mode": {
    "name": "ipython",
    "version": 3
   },
   "file_extension": ".py",
   "mimetype": "text/x-python",
   "name": "python",
   "nbconvert_exporter": "python",
   "pygments_lexer": "ipython3",
   "version": "3.7.3"
  }
 },
 "nbformat": 4,
 "nbformat_minor": 2
}
