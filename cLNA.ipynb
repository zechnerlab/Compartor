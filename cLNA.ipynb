{
 "cells": [
  {
   "cell_type": "markdown",
   "metadata": {},
   "source": [
    "## Code generation"
   ]
  },
  {
   "cell_type": "code",
   "execution_count": 1,
   "metadata": {},
   "outputs": [],
   "source": [
    "# import sys\n",
    "# !{sys.executable} -m pip install --upgrade pip\n",
    "# !{sys.executable} -m pip install sympy\n",
    "# !{sys.executable} -m pip install scipy\n",
    "# !{sys.executable} -m pip install matplotlib"
   ]
  },
  {
   "cell_type": "code",
   "execution_count": 2,
   "metadata": {},
   "outputs": [],
   "source": [
    "# Remove matplotlib deprecation warnings\n",
    "import warnings\n",
    "warnings.filterwarnings(\"ignore\", category=UserWarning)"
   ]
  },
  {
   "cell_type": "code",
   "execution_count": 3,
   "metadata": {},
   "outputs": [],
   "source": [
    "# initialize sympy printing (for latex output)\n",
    "from sympy import init_printing, Symbol\n",
    "init_printing()\n",
    "\n",
    "# import functions and classes for compartment models\n",
    "import sys\n",
    "sys.path.insert(0, \"./compartor\") #use local copy\n",
    "from compartor import *"
   ]
  },
  {
   "cell_type": "markdown",
   "metadata": {},
   "source": [
    "Here, we illustrate how to export the moment equations in LaTeX format or generate code for simulations.\n",
    "\n",
    "We consider again the exemplary model of the paper and derive moments equations with the automated function."
   ]
  },
  {
   "cell_type": "code",
   "execution_count": 15,
   "metadata": {},
   "outputs": [
    {
     "data": {
      "text/latex": [
       "$\\displaystyle \\begin{align} \\emptyset&\\overset{h_{I}}{\\longrightarrow}\\left[y\\right] && h_{I} = \\pi_{Poiss}(y; \\lambda) k_{I}\\\\\\left[x\\right]&\\overset{h_{E}}{\\longrightarrow}\\emptyset && h_{E} = k_{E} n{\\left(x \\right)}\\\\\\left[x\\right] + \\left[y\\right]&\\overset{h_{C}}{\\longrightarrow}\\left[x + y\\right] && h_{C} = \\frac{k_{C} \\left(n{\\left(y \\right)} - \\delta_{x y}\\right) n{\\left(x \\right)}}{\\delta_{x y} + 1}\\\\\\left[x\\right]&\\overset{h_{F}}{\\longrightarrow}\\left[x - y\\right] + \\left[y\\right] && h_{F} = \\pi_{F(y|x)} k_{F} n{\\left(x \\right)} {x}_{0}\\\\\\left[x\\right]&\\overset{h_{b}}{\\longrightarrow}\\left[\\left( 1,\\right) + x\\right] && h_{b} = k_{b} n{\\left(x \\right)}\\\\\\left[x\\right]&\\overset{h_{d}}{\\longrightarrow}\\left[\\left( -2,\\right) + x\\right] && h_{d} = \\frac{k_{d} \\left({x}_{0} - 1\\right) n{\\left(x \\right)} {x}_{0}}{2} \\end{align}$"
      ],
      "text/plain": [
       "                     EmptySet ---> [y],  h_I = \\pi_{Poiss}(y; \\lambda)*k_I    \n",
       "                               [x] ---> EmptySet,  h_E = k_E*n(x)             \n",
       "[x] + [y] ---> [x + y],  h_C = k_C*(n(y) - KroneckerDelta(x, y))*n(x)/(Kroneck\n",
       "                    [x] ---> [x - y] + [y],  h_F = \\pi_F(y|x)*k_F*n(x)*x[0]   \n",
       "                              [x] ---> [(1,) + x],  h_b = k_b*n(x)            \n",
       "                    [x] ---> [(-2,) + x],  h_d = k_d*(x[0] - 1)*n(x)*x[0]/2   \n",
       "\n",
       "                  \n",
       "                  \n",
       "erDelta(x, y) + 1)\n",
       "                  \n",
       "                  \n",
       "                  "
      ]
     },
     "metadata": {},
     "output_type": "display_data"
    }
   ],
   "source": [
    "x = Content('x')\n",
    "y = Content('y')\n",
    "z = Content('z')\n",
    "\n",
    "from sympy import log, symbols\n",
    "kM = symbols('kM') # The Michaelis-Menten constant\n",
    "\n",
    "# define intake distribution\n",
    "pi_I = OutcomeDistribution.Poisson(Symbol(\"\\pi_{Poiss}(y; \\lambda)\"), y[0], Symbol(\"\\lambda\"))\n",
    "# define fragmentation distribution\n",
    "pi_F = OutcomeDistribution.Uniform(Symbol(\"\\pi_F(y|x)\"), y[0], 0, x[0])\n",
    "\n",
    "Intake        = TransitionClass( {}        -to> [y],         'k_I',         pi=pi_I, name='I')\n",
    "Exit          = TransitionClass( [x]       -to> {},          'k_E',                  name='E')\n",
    "Coagulation   = TransitionClass( [x] + [y] -to> [x+y],       'k_C',                  name='C')\n",
    "# Coagulation   = TransitionClass( [x] + [y] -to> [x+y],       'k_C', g=log(x[0])*log(y[0]),     name='C')\n",
    "Fragmentation = TransitionClass( [x]       -to> [y] + [x-y], 'k_F', g=x[0], pi=pi_F, name='F')\n",
    "Birth         = TransitionClass( [x]       -to> [x+1],       'k_b',                  name='b')\n",
    "# Death         = TransitionClass( [x]       -to> [x-2],       'k_d', g=x[0],    name='d')\n",
    "Death         = TransitionClass( [x]       -to> [x-2],       'k_d', g=x[0]*(x[0]-1)/2,    name='d')\n",
    "# Death         = TransitionClass( [x]       -to> [x-2],       'k_d', g=x[0]/(x[0]+kM),    name='d')\n",
    "\n",
    "# transitions = [Intake, Exit, Coagulation, Fragmentation]\n",
    "transitions = [Intake, Exit, Coagulation, Fragmentation, Birth, Death]\n",
    "# transitions = [Coagulation, Death]\n",
    "display_transition_classes(transitions)"
   ]
  },
  {
   "cell_type": "code",
   "execution_count": 16,
   "metadata": {},
   "outputs": [
    {
     "data": {
      "text/latex": [
       "$\\displaystyle \\left[ M^{0}, \\  {\\left(M^{0}\\right)}^{\\mathtt{\\text{2}}}, \\  M^{1}, \\  {\\left(M^{1}\\right)}^{\\mathtt{\\text{2}}}\\right]$"
      ],
      "text/plain": [
       "⎡                 2                      2   ⎤\n",
       "⎣Moment(0), Moment (0), Moment(1), Moment (1)⎦"
      ]
     },
     "metadata": {},
     "output_type": "display_data"
    },
    {
     "data": {
      "text/markdown": [
       "Computed moment equations for desired moments $\\left< N\\right> $, $\\left< N^{2}\\right> $, $\\left< M^{1}\\right> $, and $\\left< {\\left(M^{1}\\right)}^{\\mathtt{\\text{2}}}\\right> $."
      ],
      "text/plain": [
       "<IPython.core.display.Markdown object>"
      ]
     },
     "metadata": {},
     "output_type": "display_data"
    },
    {
     "data": {
      "text/markdown": [
       "Equations were iteratively added for $\\left< N M^{1}\\right> $."
      ],
      "text/plain": [
       "<IPython.core.display.Markdown object>"
      ]
     },
     "metadata": {},
     "output_type": "display_data"
    },
    {
     "data": {
      "text/latex": [
       "$\\displaystyle \\frac{d}{d t} \\left< N\\right>  = - \\frac{k_{C} {\\left< N\\right> }^{\\mathtt{\\text{2}}}}{2} + \\frac{k_{C} \\left< N\\right> }{2} - k_{E} \\left< N\\right>  + k_{F} \\left< M^{1}\\right>  + k_{I}$"
      ],
      "text/plain": [
       "                                      2                                       \n",
       "d                      k_C⋅Expectation (N)   k_C⋅Expectation(N)               \n",
       "──(Expectation(N)) = - ─────────────────── + ────────────────── - k_E⋅Expectat\n",
       "dt                              2                    2                        \n",
       "\n",
       "                                         \n",
       "                                         \n",
       "ion(N) + k_F⋅Expectation(Moment(1)) + k_I\n",
       "                                         "
      ]
     },
     "metadata": {},
     "output_type": "display_data"
    },
    {
     "data": {
      "text/latex": [
       "$\\displaystyle \\frac{d}{d t} \\left< N^{2}\\right>  = k_{C} {\\left< N\\right> }^{\\mathtt{\\text{3}}} + \\frac{k_{C} {\\left< N\\right> }^{\\mathtt{\\text{2}}}}{2} - 2 k_{C} \\left< N\\right>  \\left< N^{2}\\right>  - \\frac{k_{C} \\left< N\\right> }{2} + k_{C} \\left< N^{2}\\right>  + k_{E} \\left< N\\right>  - 2 k_{E} \\left< N^{2}\\right>  + 2 k_{F} \\left< N M^{1}\\right>  + k_{F} \\left< M^{1}\\right>  + 2 k_{I} \\left< N\\right>  + k_{I}$"
      ],
      "text/plain": [
       "                                                           2                  \n",
       "d ⎛           ⎛ 2⎞⎞                  3      k_C⋅Expectation (N)               \n",
       "──⎝Expectation⎝N ⎠⎠ = k_C⋅Expectation (N) + ─────────────────── - 2⋅k_C⋅Expect\n",
       "dt                                                   2                        \n",
       "\n",
       "                                                                              \n",
       "                    ⎛ 2⎞   k_C⋅Expectation(N)                  ⎛ 2⎞           \n",
       "ation(N)⋅Expectation⎝N ⎠ - ────────────────── + k_C⋅Expectation⎝N ⎠ + k_E⋅Expe\n",
       "                                   2                                          \n",
       "\n",
       "                                                                              \n",
       "                              ⎛ 2⎞                                            \n",
       "ctation(N) - 2⋅k_E⋅Expectation⎝N ⎠ + 2⋅k_F⋅Expectation(N⋅Moment(1)) + k_F⋅Expe\n",
       "                                                                              \n",
       "\n",
       "                                               \n",
       "                                               \n",
       "ctation(Moment(1)) + 2⋅k_I⋅Expectation(N) + k_I\n",
       "                                               "
      ]
     },
     "metadata": {},
     "output_type": "display_data"
    },
    {
     "data": {
      "text/latex": [
       "$\\displaystyle \\frac{d}{d t} \\left< M^{1}\\right>  = \\lambda k_{I} - k_{E} \\left< M^{1}\\right>  + k_{b} \\left< N\\right>  + k_{d} \\left< M^{1}\\right>  - \\frac{k_{d} {\\left< M^{1}\\right> }^{\\mathtt{\\text{2}}}}{\\left< N\\right> }$"
      ],
      "text/plain": [
       "                                                                              \n",
       "d                                                                             \n",
       "──(Expectation(Moment(1))) = \\lambda⋅k_I - k_E⋅Expectation(Moment(1)) + k_b⋅Ex\n",
       "dt                                                                            \n",
       "\n",
       "                                                           2           \n",
       "                                            k_d⋅Expectation (Moment(1))\n",
       "pectation(N) + k_d⋅Expectation(Moment(1)) - ───────────────────────────\n",
       "                                                   Expectation(N)      "
      ]
     },
     "metadata": {},
     "output_type": "display_data"
    },
    {
     "data": {
      "text/latex": [
       "$\\displaystyle \\frac{d}{d t} \\left< {\\left(M^{1}\\right)}^{\\mathtt{\\text{2}}}\\right>  = \\lambda^{2} k_{I} + 2 \\lambda k_{I} \\left< M^{1}\\right>  + \\lambda k_{I} - 2 k_{E} \\left< {\\left(M^{1}\\right)}^{\\mathtt{\\text{2}}}\\right>  + \\frac{k_{E} {\\left< M^{1}\\right> }^{\\mathtt{\\text{2}}}}{\\left< N\\right> } + k_{b} \\left< N\\right>  + 2 k_{b} \\left< N M^{1}\\right>  - 2 k_{d} \\left< M^{1}\\right>  + 2 k_{d} \\left< {\\left(M^{1}\\right)}^{\\mathtt{\\text{2}}}\\right>  + \\frac{2 k_{d} {\\left< M^{1}\\right> }^{\\mathtt{\\text{2}}}}{\\left< N\\right> } - \\frac{4 k_{d} \\left< M^{1}\\right>  \\left< {\\left(M^{1}\\right)}^{\\mathtt{\\text{2}}}\\right> }{\\left< N\\right> } + \\frac{2 k_{d} \\left< N M^{1}\\right>  {\\left< M^{1}\\right> }^{\\mathtt{\\text{2}}}}{{\\left< N\\right> }^{\\mathtt{\\text{2}}}}$"
      ],
      "text/plain": [
       "                                                                              \n",
       "d ⎛           ⎛      2   ⎞⎞          2                                        \n",
       "──⎝Expectation⎝Moment (1)⎠⎠ = \\lambda ⋅k_I + 2⋅\\lambda⋅k_I⋅Expectation(Moment(\n",
       "dt                                                                            \n",
       "                                                                              \n",
       "\n",
       "                                                                   2          \n",
       "                                     ⎛      2   ⎞   k_E⋅Expectation (Moment(1)\n",
       "1)) + \\lambda⋅k_I - 2⋅k_E⋅Expectation⎝Moment (1)⎠ + ──────────────────────────\n",
       "                                                           Expectation(N)     \n",
       "                                                                              \n",
       "\n",
       "                                                                              \n",
       ")                                                                             \n",
       "─ + k_b⋅Expectation(N) + 2⋅k_b⋅Expectation(N⋅Moment(1)) - 2⋅k_d⋅Expectation(Mo\n",
       "                                                                              \n",
       "                                                                              \n",
       "\n",
       "                                                            2                 \n",
       "                            ⎛      2   ⎞   2⋅k_d⋅Expectation (Moment(1))   4⋅k\n",
       "ment(1)) + 2⋅k_d⋅Expectation⎝Moment (1)⎠ + ───────────────────────────── - ───\n",
       "                                                   Expectation(N)             \n",
       "                                                                              \n",
       "\n",
       "                                     ⎛      2   ⎞                             \n",
       "_d⋅Expectation(Moment(1))⋅Expectation⎝Moment (1)⎠   2⋅k_d⋅Expectation(N⋅Moment\n",
       "───────────────────────────────────────────────── + ──────────────────────────\n",
       "                Expectation(N)                                                \n",
       "                                                                       Expecta\n",
       "\n",
       "                2           \n",
       "(1))⋅Expectation (Moment(1))\n",
       "────────────────────────────\n",
       "    2                       \n",
       "tion (N)                    "
      ]
     },
     "metadata": {},
     "output_type": "display_data"
    },
    {
     "data": {
      "text/latex": [
       "$\\displaystyle \\frac{d}{d t} \\left< N M^{1}\\right>  = \\lambda k_{I} \\left< N\\right>  + \\lambda k_{I} + \\frac{k_{C} {\\left< N\\right> }^{\\mathtt{\\text{2}}} \\left< M^{1}\\right> }{2} - k_{C} \\left< N\\right>  \\left< N M^{1}\\right>  + \\frac{k_{C} \\left< N M^{1}\\right> }{2} - 2 k_{E} \\left< N M^{1}\\right>  + k_{E} \\left< M^{1}\\right>  + k_{F} \\left< {\\left(M^{1}\\right)}^{\\mathtt{\\text{2}}}\\right>  + k_{I} \\left< M^{1}\\right>  + k_{b} \\left< N^{2}\\right>  + k_{d} \\left< N M^{1}\\right>  - \\frac{2 k_{d} \\left< N M^{1}\\right>  \\left< M^{1}\\right> }{\\left< N\\right> } + \\frac{k_{d} \\left< N^{2}\\right>  {\\left< M^{1}\\right> }^{\\mathtt{\\text{2}}}}{{\\left< N\\right> }^{\\mathtt{\\text{2}}}}$"
      ],
      "text/plain": [
       "                                                                              \n",
       "d                                                                         k_C⋅\n",
       "──(Expectation(N⋅Moment(1))) = \\lambda⋅k_I⋅Expectation(N) + \\lambda⋅k_I + ────\n",
       "dt                                                                            \n",
       "                                                                              \n",
       "\n",
       "           2                                                                  \n",
       "Expectation (N)⋅Expectation(Moment(1))                                        \n",
       "────────────────────────────────────── - k_C⋅Expectation(N)⋅Expectation(N⋅Mome\n",
       "                2                                                             \n",
       "                                                                              \n",
       "\n",
       "                                                                              \n",
       "         k_C⋅Expectation(N⋅Moment(1))                                         \n",
       "nt(1)) + ──────────────────────────── - 2⋅k_E⋅Expectation(N⋅Moment(1)) + k_E⋅E\n",
       "                      2                                                       \n",
       "                                                                              \n",
       "\n",
       "                                                                              \n",
       "                                       ⎛      2   ⎞                           \n",
       "xpectation(Moment(1)) + k_F⋅Expectation⎝Moment (1)⎠ + k_I⋅Expectation(Moment(1\n",
       "                                                                              \n",
       "                                                                              \n",
       "\n",
       "                                                                              \n",
       "                    ⎛ 2⎞                                  2⋅k_d⋅Expectation(N⋅\n",
       ")) + k_b⋅Expectation⎝N ⎠ + k_d⋅Expectation(N⋅Moment(1)) - ────────────────────\n",
       "                                                                              \n",
       "                                                                              \n",
       "\n",
       "                                                   ⎛ 2⎞            2          \n",
       "Moment(1))⋅Expectation(Moment(1))   k_d⋅Expectation⎝N ⎠⋅Expectation (Moment(1)\n",
       "───────────────────────────────── + ──────────────────────────────────────────\n",
       "Expectation(N)                                               2                \n",
       "                                                  Expectation (N)             \n",
       "\n",
       " \n",
       ")\n",
       "─\n",
       " \n",
       " "
      ]
     },
     "metadata": {},
     "output_type": "display_data"
    }
   ],
   "source": [
    "moments = [\n",
    "    Moment(0),\n",
    "    Moment(0)**2,\n",
    "    Moment(1),\n",
    "    Moment(1)**2\n",
    "]\n",
    "display(moments)\n",
    "equations = automated_moment_equations(1, transitions, moments, clna=True)\n",
    "# equations = automated_moment_equations(1, transitions, moments, clna=False)\n",
    "display_moment_equations(equations)"
   ]
  },
  {
   "cell_type": "markdown",
   "metadata": {},
   "source": [
    "The LaTeX source of the ODE system can be found and copy-pasted by modifying the Math Render option of the jupyter notebook. This is done by right-clicking on the system and choosing Math Settings > Math Render > Plain Source .\n",
    "\n",
    "From the closed equations, we can also generate code to simulate the system. Currently, Python or Julia code can be generated.\n",
    "\n",
    "For a direct code output, the user can rely on the functions:"
   ]
  },
  {
   "cell_type": "code",
   "execution_count": 13,
   "metadata": {},
   "outputs": [
    {
     "name": "stdout",
     "output_type": "stream",
     "text": [
      "# evaluate ODEs\n",
      "def coagulation_fragmentation_ODEs(M, dM, parameters):\n",
      "  \"\"\"\n",
      "  Evaluate derivatives of expected moments\n",
      "  \n",
      "  Indices in M and dM vectors are \n",
      "    M[0] = Moment(0,)\n",
      "    M[1] = Moment(0)**2\n",
      "    M[2] = Moment(1,)\n",
      "    M[3] = Moment(1)**2\n",
      "    M[4] = Moment(0)*Moment(1)\n",
      "  \n",
      "  :param M: expected moments\n",
      "  :param dM: result, the derivative dM/dt is stored here\n",
      "  :param parameters: tuple of values for constants (\\lambda, k_C, k_E, k_F, k_I, k_b, k_d)\n",
      "  :return: dM\n",
      "  \"\"\"\n",
      "  c1 = parameters[0] # \\lambda\n",
      "  c3 = parameters[1] # k_C\n",
      "  c0 = parameters[2] # k_E\n",
      "  c5 = parameters[3] # k_F\n",
      "  c6 = parameters[4] # k_I\n",
      "  c2 = parameters[5] # k_b\n",
      "  c4 = parameters[6] # k_d\n",
      "  # Number of Compartments (N)\n",
      "  dM[0] = c6+c5*M[2]+1/2*c3*M[0]-c0*M[0]-1/2*c3*M[0]**2\n",
      "  # N^2\n",
      "  dM[1] = c6+c3*M[0]**3+c3*M[1]+c0*M[0]+c5*M[2]+1/2*c3*M[0]**2-2*c0*M[1]+2*c5*M[4]+2*c6*M[0]-1/2*c3*M[0]-2*c3*M[1]*M[0]\n",
      "  # Total Mass\n",
      "  dM[2] = c1*c6+c2*M[0]-c0*M[2]-2*c4*M[2]\n",
      "  # M^2\n",
      "  dM[3] = c1*c6+c6*c1**2+c2*M[0]-4*c4*M[3]-2*c0*M[3]+2*c2*M[4]+4*c4*M[2]+c0*M[2]**2/M[0]+2*c1*c6*M[2]\n",
      "  # N*M\n",
      "  dM[4] = c1*c6+c0*M[2]+c5*M[3]+c6*M[2]+c2*M[1]+1/2*c3*M[4]-2*c0*M[4]-2*c4*M[4]+c1*c6*M[0]+1/2*c3*M[0]**2*M[2]-c3*M[4]*M[0]\n",
      "  return dM\n",
      "\n",
      "# initialize expected moments vector\n",
      "def coagulation_fragmentation_initial(initial):\n",
      "  \"\"\"\n",
      "  Create inital expected moments vector\n",
      "  \n",
      "  :param initial: tuple of initial values for expectations of (Moment(0,), Moment(1,))\n",
      "  :return: initial expected moments vector\n",
      "  \"\"\"\n",
      "  import numpy as np\n",
      "  M = np.zeros(5)\n",
      "  # Number of Compartments (N)\n",
      "  M[0] = initial[0]\n",
      "  # N^2\n",
      "  M[1] = M[0]**2\n",
      "  # Total Mass\n",
      "  M[2] = initial[1]\n",
      "  # M^2\n",
      "  M[3] = M[2]**2\n",
      "  # N*M\n",
      "  M[4] = M[0]*M[2]\n",
      "  return M\n",
      "\n",
      "\n"
     ]
    }
   ],
   "source": [
    "python_code = generate_python_code(equations, function_name=\"coagulation_fragmentation\")\n",
    "print(python_code)\n",
    "exec(python_code) "
   ]
  },
  {
   "cell_type": "code",
   "execution_count": 14,
   "metadata": {},
   "outputs": [
    {
     "name": "stdout",
     "output_type": "stream",
     "text": [
      "# evaluate ODEs\n",
      "function IECFBDq_ODEs(dM, M, parameters, t)\n",
      "  c0 = ??? # k_E, please specify!\n",
      "  c1 = ??? # \\lambda, please specify!\n",
      "  c2 = ??? # k_b, please specify!\n",
      "  c3 = ??? # k_C, please specify!\n",
      "  c4 = ??? # k_d, please specify!\n",
      "  c5 = ??? # k_F, please specify!\n",
      "  c6 = ??? # k_I, please specify!\n",
      "  # Number of Compartments (N)\n",
      "  dM[1] = c6+c5*M[3]+1/2*c3*M[1]-c0*M[1]-1/2*c3*M[1]^2\n",
      "  # N^2\n",
      "  dM[2] = c6+c3*M[1]^3+c3*M[2]+c0*M[1]+c5*M[3]+1/2*c3*M[1]^2-2*c0*M[2]+2*c5*M[5]+2*c6*M[1]-1/2*c3*M[1]-2*c3*M[2]*M[1]\n",
      "  # Total Mass\n",
      "  dM[3] = c1*c6+c2*M[1]-c0*M[3]-2*c4*M[3]\n",
      "  # M^2\n",
      "  dM[4] = c1*c6+c6*c1^2+c2*M[1]-4*c4*M[4]-2*c0*M[4]+2*c2*M[5]+4*c4*M[3]+c0*M[3]^2/M[1]+2*c1*c6*M[3]\n",
      "  # N*M\n",
      "  dM[5] = c1*c6+c0*M[3]+c5*M[4]+c6*M[3]+c2*M[2]+1/2*c3*M[5]-2*c0*M[5]-2*c4*M[5]+c1*c6*M[1]+1/2*c3*M[1]^2*M[3]-c3*M[5]*M[1]\n",
      "  return\n",
      "end\n",
      "\n",
      "# initialize expected moments vector\n",
      "function IECFBDq_initial(n0)\n",
      "  M=zeros[5]\n",
      "  # Number of Compartments (N)\n",
      "  M[1] = ??? # initial value for Moment(0,), please specify!\n",
      "  # N^2\n",
      "  M[2] = M[1]^2\n",
      "  # Total Mass\n",
      "  M[3] = ??? # initial value for Moment(1,), please specify!\n",
      "  # M^2\n",
      "  M[4] = M[3]^2\n",
      "  # N*M\n",
      "  M[5] = M[1]*M[3]\n",
      "  return M\n",
      "end\n",
      "\n",
      "\n"
     ]
    }
   ],
   "source": [
    "julia_code = generate_julia_code(equations, function_name=\"IECFBDq\")\n",
    "print(julia_code)"
   ]
  },
  {
   "cell_type": "markdown",
   "metadata": {},
   "source": [
    "## Solving and Plotting results\n",
    "We use the generated functions with `scipy.solve_ivp` to solve the system with the same initial condition and parameter values reported in the paper."
   ]
  },
  {
   "cell_type": "code",
   "execution_count": 8,
   "metadata": {},
   "outputs": [
    {
     "name": "stdout",
     "output_type": "stream",
     "text": [
      "[10.         10.43030197 10.86442095 ... 38.55367312 38.55367616\n",
      " 38.5536792 ]\n"
     ]
    }
   ],
   "source": [
    "from scipy.integrate import solve_ivp\n",
    "import numpy as np\n",
    "\n",
    "# vector of timepoints where to solve ODE problem\n",
    "timepoints = np.linspace(0, 100, 1000+1)\n",
    "\n",
    "# initial condition\n",
    "# 100 compartments with 10 molecules each\n",
    "N0 = 10\n",
    "Mpc0=10\n",
    "M0 = coagulation_fragmentation_initial((N0, N0*Mpc0, (Mpc0**2)*N0,))\n",
    "\n",
    "# rate constants and other parameters\n",
    "kC = 0.005\n",
    "kF = 0.005\n",
    "kI = 5.0\n",
    "kE = 0.1\n",
    "kb = 10.0\n",
    "kd = 0.1\n",
    "Lambda = 50\n",
    "kM = 100\n",
    "# parameters = (Lambda, kC, kE, kF, kI)\n",
    "parameters = (Lambda, kC, kE, kF, kI, kb, kd)\n",
    "# parameters = (Lambda, kM, kC, kE, kF, kI, kb, kd)\n",
    "# parameters = (kC,kF)\n",
    "\n",
    "clnaFun = lambda t, M: coagulation_fragmentation_ODEs(M, np.zeros(len(M)), parameters+(M[2]/M[0],))\n",
    "\n",
    "# solve\n",
    "sol = solve_ivp(\n",
    "    clnaFun,\n",
    "    (np.min(timepoints), np.max(timepoints)),\n",
    "    M0,\n",
    "    method='BDF',\n",
    "    t_eval=timepoints)\n",
    "\n",
    "# print solution of N\n",
    "print(sol.y[0])"
   ]
  },
  {
   "cell_type": "code",
   "execution_count": 9,
   "metadata": {},
   "outputs": [
    {
     "data": {
      "image/png": "[encoded data removed]",
      "text/plain": [
       "<Figure size 432x288 with 2 Axes>"
      ]
     },
     "metadata": {
      "needs_background": "light"
     },
     "output_type": "display_data"
    }
   ],
   "source": [
    "%matplotlib inline\n",
    "import matplotlib.pyplot as plt\n",
    "\n",
    "y = sol.y\n",
    "N = y[0]\n",
    "N2 = y[1]\n",
    "stdN = np.sqrt(N2 - N**2)\n",
    "\n",
    "# <N>\n",
    "plt.subplot(1,2, 1)\n",
    "plt.plot(timepoints, N, color=\"g\")\n",
    "plt.ylabel(r'$\\left< N \\right>$', size=12)\n",
    "plt.xlabel('time', size=12)\n",
    "plt.title(\"Expected compartment number\", size=12)\n",
    "plt.fill_between(timepoints, N-stdN, N+stdN, alpha=0.4, color=\"g\")\n",
    "# plt.ylim((50,150))\n",
    "plt.ylim(bottom=0)\n",
    "\n",
    "# CoV(N)\n",
    "plt.subplot(1,2, 2)\n",
    "CoV = stdN / N\n",
    "plt.plot(timepoints, CoV, color=\"cyan\")\n",
    "plt.ylabel(r'$CoV$', size=12)\n",
    "plt.xlabel('time', size=12)\n",
    "plt.title(\"Coefficient of Variation (compartments)\", size=12)\n",
    "# plt.ylim((50,150))\n",
    "plt.ylim(bottom=0)\n",
    "\n",
    "plt.tight_layout()\n",
    "plt.show()"
   ]
  },
  {
   "cell_type": "code",
   "execution_count": 10,
   "metadata": {},
   "outputs": [
    {
     "data": {
      "image/png": "[encoded data removed]",
      "text/plain": [
       "<Figure size 432x288 with 2 Axes>"
      ]
     },
     "metadata": {
      "needs_background": "light"
     },
     "output_type": "display_data"
    }
   ],
   "source": [
    "y = sol.y\n",
    "M = y[2]\n",
    "M12 = y[3]\n",
    "stdM = np.sqrt(M12 - M**2)\n",
    "\n",
    "# <M>\n",
    "plt.subplot(1,2, 1)\n",
    "plt.plot(timepoints, M, color=\"purple\")\n",
    "plt.ylabel(r'$\\left< M \\right>$', size=12)\n",
    "plt.xlabel('time', size=12)\n",
    "plt.title(\"Expected content mass\", size=12)\n",
    "plt.fill_between(timepoints, M-stdM, M+stdM, alpha=0.4, color=\"purple\")\n",
    "# plt.ylim((50,150))\n",
    "plt.ylim(bottom=0)\n",
    "\n",
    "# CoV(M)\n",
    "plt.subplot(1,2, 2)\n",
    "CoV = stdM / M\n",
    "plt.plot(timepoints, CoV, color=\"cyan\")\n",
    "plt.ylabel(r'$CoV$', size=12)\n",
    "plt.xlabel('time', size=12)\n",
    "plt.title(\"Coefficient of Variation (content)\", size=12)\n",
    "# plt.ylim((50,150))\n",
    "plt.ylim(bottom=0)\n",
    "\n",
    "plt.tight_layout()\n",
    "plt.show()"
   ]
  },
  {
   "cell_type": "code",
   "execution_count": null,
   "metadata": {},
   "outputs": [],
   "source": []
  },
  {
   "cell_type": "code",
   "execution_count": null,
   "metadata": {},
   "outputs": [],
   "source": []
  }
 ],
 "metadata": {
  "kernelspec": {
   "display_name": "Python 3",
   "language": "python",
   "name": "python3"
  },
  "language_info": {
   "codemirror_mode": {
    "name": "ipython",
    "version": 3
   },
   "file_extension": ".py",
   "mimetype": "text/x-python",
   "name": "python",
   "nbconvert_exporter": "python",
   "pygments_lexer": "ipython3",
   "version": "3.9.5"
  }
 },
 "nbformat": 4,
 "nbformat_minor": 2
}
