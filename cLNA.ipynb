{
 "cells": [
  {
   "cell_type": "markdown",
   "metadata": {},
   "source": [
    "## Code generation"
   ]
  },
  {
   "cell_type": "code",
   "execution_count": 1,
   "metadata": {},
   "outputs": [],
   "source": [
    "# import sys\n",
    "# !{sys.executable} -m pip install --upgrade pip\n",
    "# !{sys.executable} -m pip install sympy\n",
    "# !{sys.executable} -m pip install scipy\n",
    "# !{sys.executable} -m pip install matplotlib"
   ]
  },
  {
   "cell_type": "code",
   "execution_count": 2,
   "metadata": {},
   "outputs": [],
   "source": [
    "# Remove matplotlib deprecation warnings\n",
    "import warnings\n",
    "warnings.filterwarnings(\"ignore\", category=UserWarning)"
   ]
  },
  {
   "cell_type": "code",
   "execution_count": 3,
   "metadata": {},
   "outputs": [],
   "source": [
    "# initialize sympy printing (for latex output)\n",
    "from sympy import init_printing, Symbol\n",
    "init_printing()\n",
    "\n",
    "# import functions and classes for compartment models\n",
    "import sys\n",
    "sys.path.insert(0, \"./compartor\") #use local copy\n",
    "from compartor import *"
   ]
  },
  {
   "cell_type": "markdown",
   "metadata": {},
   "source": [
    "Here, we illustrate how to export the moment equations in LaTeX format or generate code for simulations.\n",
    "\n",
    "We consider again the exemplary model of the paper and derive moments equations with the automated function."
   ]
  },
  {
   "cell_type": "code",
   "execution_count": 4,
   "metadata": {},
   "outputs": [
    {
     "data": {
      "text/latex": [
       "$\\displaystyle \\begin{align} \\emptyset&\\overset{h_{I}}{\\longrightarrow}\\left[y\\right] && h_{I} = \\pi_{Poiss}(y; \\lambda) k_{I}\\\\\\left[x\\right]&\\overset{h_{E}}{\\longrightarrow}\\emptyset && h_{E} = k_{E} n{\\left(x \\right)}\\\\\\left[x\\right] + \\left[y\\right]&\\overset{h_{C}}{\\longrightarrow}\\left[x + y\\right] && h_{C} = \\frac{k_{C} \\left(n{\\left(y \\right)} - \\delta_{x y}\\right) n{\\left(x \\right)}}{\\delta_{x y} + 1}\\\\\\left[x\\right]&\\overset{h_{F}}{\\longrightarrow}\\left[x - y\\right] + \\left[y\\right] && h_{F} = \\pi_{F(y|x)} k_{F} n{\\left(x \\right)} {x}_{0} {x}_{1}\\\\\\left[x\\right]&\\overset{h_{b_0}}{\\longrightarrow}\\left[\\left( 1, \\  0\\right) + x\\right] && h_{b_0} = k_{b} n{\\left(x \\right)}\\\\\\left[x\\right]&\\overset{h_{d_0}}{\\longrightarrow}\\left[\\left( -1, \\  0\\right) + x\\right] && h_{d_0} = k_{d} n{\\left(x \\right)} {x}_{0}\\\\\\left[x\\right]&\\overset{h_{b_1}}{\\longrightarrow}\\left[\\left( 0, \\  1\\right) + x\\right] && h_{b_1} = k_{b} n{\\left(x \\right)}\\\\\\left[x\\right]&\\overset{h_{d_1}}{\\longrightarrow}\\left[\\left( 0, \\  -1\\right) + x\\right] && h_{d_1} = k_{d} n{\\left(x \\right)} {x}_{1} \\end{align}$"
      ],
      "text/plain": [
       "                     EmptySet ---> [y],  h_I = \\pi_{Poiss}(y; \\lambda)*k_I                      \n",
       "                               [x] ---> EmptySet,  h_E = k_E*n(x)                               \n",
       "[x] + [y] ---> [x + y],  h_C = k_C*(n(y) - KroneckerDelta(x, y))*n(x)/(KroneckerDelta(x, y) + 1)\n",
       "                  [x] ---> [x - y] + [y],  h_F = \\pi_F(y|x)*k_F*n(x)*x[0]*x[1]                  \n",
       "                            [x] ---> [(1, 0) + x],  h_b_0 = k_b*n(x)                            \n",
       "                         [x] ---> [(-1, 0) + x],  h_d_0 = k_d*n(x)*x[0]                         \n",
       "                            [x] ---> [(0, 1) + x],  h_b_1 = k_b*n(x)                            \n",
       "                         [x] ---> [(0, -1) + x],  h_d_1 = k_d*n(x)*x[1]                         "
      ]
     },
     "metadata": {},
     "output_type": "display_data"
    }
   ],
   "source": [
    "x = Content('x')\n",
    "y = Content('y')\n",
    "z = Content('z')\n",
    "\n",
    "from sympy import symbols, log, exp, sin, cos, tan\n",
    "kM,h = symbols('kM h') # The Michaelis-Menten constant and hill exponent\n",
    "\n",
    "# define intake distribution\n",
    "pi_I0 = OutcomeDistribution.Poisson(Symbol(\"\\pi_{Poiss0}(y; \\lambda)\"), y[0], Symbol(\"\\lambda\"))\n",
    "pi_I1 = OutcomeDistribution.Poisson(Symbol(\"\\pi_{Poiss1}(y; \\lambda)\"), y[1], Symbol(\"\\lambda\"))\n",
    "pi_I = OutcomeDistribution.CombineIndependent(Symbol(\"\\pi_{Poiss}(y; \\lambda)\"), pi_I0, pi_I1)\n",
    "# define fragmentation distribution\n",
    "pi_F0 = OutcomeDistribution.Uniform(Symbol(\"\\pi_{F0}(y|x)\"), y[0], 0, x[0])\n",
    "pi_F1 = OutcomeDistribution.Uniform(Symbol(\"\\pi_{F1}(y|x)\"), y[1], 0, x[1])\n",
    "pi_F = OutcomeDistribution.CombineIndependent(Symbol(\"\\pi_F(y|x)\"), pi_F0, pi_F1)\n",
    "\n",
    "Birth0         = TransitionClass( [x]       -to> [x+(1,0)],       'k_b',                  name='b_0')\n",
    "Death0         = TransitionClass( [x]       -to> [x+(-1,0)],       'k_d', g=x[0],    name='d_0')\n",
    "Birth1         = TransitionClass( [x]       -to> [x+(0,1)],       'k_b',                  name='b_1')\n",
    "Death1         = TransitionClass( [x]       -to> [x+(0,-1)],       'k_d', g=x[1],    name='d_1')\n",
    "\n",
    "Intake        = TransitionClass( {}        -to> [y],         'k_I',         pi=pi_I, name='I')\n",
    "Exit          = TransitionClass( [x]       -to> {},          'k_E',                  name='E')\n",
    "\n",
    "Coagulation   = TransitionClass( [x] + [y] -to> [x+y],       'k_C', name='C')\n",
    "Fragmentation = TransitionClass( [x]       -to> [y] + [x-y], 'k_F', g=x[0]*x[1], pi=pi_F, name='F')\n",
    "\n",
    "transitions = [Intake, Exit, Coagulation, Fragmentation, Birth0, Death0, Birth1, Death1]\n",
    "# transitions = [Fragmentation]\n",
    "display_transition_classes(transitions)"
   ]
  },
  {
   "cell_type": "code",
   "execution_count": 5,
   "metadata": {},
   "outputs": [
    {
     "data": {
      "text/latex": [
       "$\\displaystyle \\left[ M^{\\left(0, 0\\right)}, \\  {\\left(M^{\\left(0, 0\\right)}\\right)}^{\\mathtt{\\text{2}}}, \\  M^{\\left(1, 0\\right)}, \\  {\\left(M^{\\left(1, 0\\right)}\\right)}^{\\mathtt{\\text{2}}}, \\  M^{\\left(0, 1\\right)}, \\  {\\left(M^{\\left(0, 1\\right)}\\right)}^{\\mathtt{\\text{2}}}, \\  M^{\\left(1, 1\\right)}\\right]$"
      ],
      "text/plain": [
       "⎡                    2                            2                            2                    ⎤\n",
       "⎣Moment(0, 0), Moment (0, 0), Moment(1, 0), Moment (1, 0), Moment(0, 1), Moment (0, 1), Moment(1, 1)⎦"
      ]
     },
     "metadata": {},
     "output_type": "display_data"
    },
    {
     "data": {
      "text/markdown": [
       "Computed moment equations for desired moments $\\left< N\\right> $, $\\left< N^{2}\\right> $, $\\left< M^{\\left(1, 0\\right)}\\right> $, $\\left< {\\left(M^{\\left(1, 0\\right)}\\right)}^{\\mathtt{\\text{2}}}\\right> $, $\\left< M^{\\left(0, 1\\right)}\\right> $, $\\left< {\\left(M^{\\left(0, 1\\right)}\\right)}^{\\mathtt{\\text{2}}}\\right> $, and $\\left< M^{\\left(1, 1\\right)}\\right> $."
      ],
      "text/plain": [
       "<IPython.core.display.Markdown object>"
      ]
     },
     "metadata": {},
     "output_type": "display_data"
    },
    {
     "data": {
      "text/markdown": [
       "Equations were iteratively added for $\\left< N M^{\\left(1, 0\\right)}\\right> $, $\\left< N M^{\\left(0, 1\\right)}\\right> $, and $\\left< M^{\\left(0, 1\\right)} M^{\\left(1, 0\\right)}\\right> $."
      ],
      "text/plain": [
       "<IPython.core.display.Markdown object>"
      ]
     },
     "metadata": {},
     "output_type": "display_data"
    },
    {
     "data": {
      "text/latex": [
       "$\\displaystyle \\frac{d}{d t} \\left< N\\right>  = - \\frac{k_{C} {\\left< N\\right> }^{\\mathtt{\\text{2}}}}{2} + \\frac{k_{C} \\left< N\\right> }{2} - k_{E} \\left< N\\right>  + \\frac{k_{F} \\left< M^{\\left(0, 1\\right)}\\right>  \\left< M^{\\left(1, 0\\right)}\\right> }{\\left< N\\right> } + k_{I}$"
      ],
      "text/plain": [
       "                                      2                                                                                                             \n",
       "d                      k_C⋅Expectation (N)   k_C⋅Expectation(N)                        k_F⋅Expectation(Moment(0, 1))⋅Expectation(Moment(1, 0))      \n",
       "──(Expectation(N)) = - ─────────────────── + ────────────────── - k_E⋅Expectation(N) + ─────────────────────────────────────────────────────── + k_I\n",
       "dt                              2                    2                                                      Expectation(N)                          "
      ]
     },
     "metadata": {},
     "output_type": "display_data"
    },
    {
     "data": {
      "text/latex": [
       "$\\displaystyle \\frac{d}{d t} \\left< N^{2}\\right>  = \\frac{k_{F} \\left(2 \\left< N M^{\\left(0, 1\\right)}\\right>  \\left< M^{\\left(1, 0\\right)}\\right>  + 2 \\left< N M^{\\left(1, 0\\right)}\\right>  \\left< M^{\\left(0, 1\\right)}\\right>  + \\left< M^{\\left(0, 1\\right)}\\right>  \\left< M^{\\left(1, 0\\right)}\\right> \\right) \\left< N\\right>  - 2 k_{F} \\left< N^{2}\\right>  \\left< M^{\\left(0, 1\\right)}\\right>  \\left< M^{\\left(1, 0\\right)}\\right>  + \\frac{\\left(2 k_{C} {\\left< N\\right> }^{\\mathtt{\\text{3}}} + k_{C} {\\left< N\\right> }^{\\mathtt{\\text{2}}} - 4 k_{C} \\left< N\\right>  \\left< N^{2}\\right>  - k_{C} \\left< N\\right>  + 2 k_{C} \\left< N^{2}\\right>  + 2 k_{E} \\left< N\\right>  - 4 k_{E} \\left< N^{2}\\right>  + 4 k_{I} \\left< N\\right>  + 2 k_{I}\\right) {\\left< N\\right> }^{\\mathtt{\\text{2}}}}{2}}{{\\left< N\\right> }^{\\mathtt{\\text{2}}}}$"
      ],
      "text/plain": [
       "                                                                                                                                                             \n",
       "                                                                                                                                                             \n",
       "                      k_F⋅(2⋅Expectation(N⋅Moment(0, 1))⋅Expectation(Moment(1, 0)) + 2⋅Expectation(N⋅Moment(1, 0))⋅Expectation(Moment(0, 1)) + Expectation(Mo\n",
       "d ⎛           ⎛ 2⎞⎞                                                                                                                                          \n",
       "──⎝Expectation⎝N ⎠⎠ = ───────────────────────────────────────────────────────────────────────────────────────────────────────────────────────────────────────\n",
       "dt                                                                                                                                                           \n",
       "                                                                                                                                                             \n",
       "\n",
       "                                                                                                                                    ⎛                 3      \n",
       "                                                                         ⎛ 2⎞                                                       ⎝2⋅k_C⋅Expectation (N) + \n",
       "ment(0, 1))⋅Expectation(Moment(1, 0)))⋅Expectation(N) - 2⋅k_F⋅Expectation⎝N ⎠⋅Expectation(Moment(0, 1))⋅Expectation(Moment(1, 0)) + ─────────────────────────\n",
       "                                                                                                                                                             \n",
       "─────────────────────────────────────────────────────────────────────────────────────────────────────────────────────────────────────────────────────────────\n",
       "                                                                                                                 2                                           \n",
       "                                                                                                      Expectation (N)                                        \n",
       "\n",
       "               2                                      ⎛ 2⎞                                         ⎛ 2⎞                                           ⎛ 2⎞       \n",
       "k_C⋅Expectation (N) - 4⋅k_C⋅Expectation(N)⋅Expectation⎝N ⎠ - k_C⋅Expectation(N) + 2⋅k_C⋅Expectation⎝N ⎠ + 2⋅k_E⋅Expectation(N) - 4⋅k_E⋅Expectation⎝N ⎠ + 4⋅k_\n",
       "─────────────────────────────────────────────────────────────────────────────────────────────────────────────────────────────────────────────────────────────\n",
       "                                                                                      2                                                                      \n",
       "─────────────────────────────────────────────────────────────────────────────────────────────────────────────────────────────────────────────────────────────\n",
       "                                                                                                                                                             \n",
       "                                                                                                                                                             \n",
       "\n",
       "                        ⎞            2   \n",
       "I⋅Expectation(N) + 2⋅k_I⎠⋅Expectation (N)\n",
       "─────────────────────────────────────────\n",
       "                                         \n",
       "─────────────────────────────────────────\n",
       "                                         \n",
       "                                         "
      ]
     },
     "metadata": {},
     "output_type": "display_data"
    },
    {
     "data": {
      "text/latex": [
       "$\\displaystyle \\frac{d}{d t} \\left< M^{\\left(1, 0\\right)}\\right>  = \\lambda k_{I} - k_{E} \\left< M^{\\left(1, 0\\right)}\\right>  + k_{b} \\left< N\\right>  - k_{d} \\left< M^{\\left(1, 0\\right)}\\right> $"
      ],
      "text/plain": [
       "d                                                                                                                               \n",
       "──(Expectation(Moment(1, 0))) = \\lambda⋅k_I - k_E⋅Expectation(Moment(1, 0)) + k_b⋅Expectation(N) - k_d⋅Expectation(Moment(1, 0))\n",
       "dt                                                                                                                              "
      ]
     },
     "metadata": {},
     "output_type": "display_data"
    },
    {
     "data": {
      "text/latex": [
       "$\\displaystyle \\frac{d}{d t} \\left< {\\left(M^{\\left(1, 0\\right)}\\right)}^{\\mathtt{\\text{2}}}\\right>  = \\lambda^{2} k_{I} + 2 \\lambda k_{I} \\left< M^{\\left(1, 0\\right)}\\right>  + \\lambda k_{I} - 2 k_{E} \\left< {\\left(M^{\\left(1, 0\\right)}\\right)}^{\\mathtt{\\text{2}}}\\right>  + \\frac{k_{E} {\\left< M^{\\left(1, 0\\right)}\\right> }^{\\mathtt{\\text{2}}}}{\\left< N\\right> } + k_{b} \\left< N\\right>  + 2 k_{b} \\left< N M^{\\left(1, 0\\right)}\\right>  + k_{d} \\left< M^{\\left(1, 0\\right)}\\right>  - 2 k_{d} \\left< {\\left(M^{\\left(1, 0\\right)}\\right)}^{\\mathtt{\\text{2}}}\\right> $"
      ],
      "text/plain": [
       "                                                                                                                                                          2  \n",
       "d ⎛           ⎛      2      ⎞⎞          2                                                                                ⎛      2      ⎞   k_E⋅Expectation (M\n",
       "──⎝Expectation⎝Moment (1, 0)⎠⎠ = \\lambda ⋅k_I + 2⋅\\lambda⋅k_I⋅Expectation(Moment(1, 0)) + \\lambda⋅k_I - 2⋅k_E⋅Expectation⎝Moment (1, 0)⎠ + ──────────────────\n",
       "dt                                                                                                                                                 Expectatio\n",
       "\n",
       "                                                                                                                                        \n",
       "oment(1, 0))                                                                                                             ⎛      2      ⎞\n",
       "──────────── + k_b⋅Expectation(N) + 2⋅k_b⋅Expectation(N⋅Moment(1, 0)) + k_d⋅Expectation(Moment(1, 0)) - 2⋅k_d⋅Expectation⎝Moment (1, 0)⎠\n",
       "n(N)                                                                                                                                    "
      ]
     },
     "metadata": {},
     "output_type": "display_data"
    },
    {
     "data": {
      "text/latex": [
       "$\\displaystyle \\frac{d}{d t} \\left< M^{\\left(0, 1\\right)}\\right>  = \\lambda k_{I} - k_{E} \\left< M^{\\left(0, 1\\right)}\\right>  + k_{b} \\left< N\\right>  - k_{d} \\left< M^{\\left(0, 1\\right)}\\right> $"
      ],
      "text/plain": [
       "d                                                                                                                               \n",
       "──(Expectation(Moment(0, 1))) = \\lambda⋅k_I - k_E⋅Expectation(Moment(0, 1)) + k_b⋅Expectation(N) - k_d⋅Expectation(Moment(0, 1))\n",
       "dt                                                                                                                              "
      ]
     },
     "metadata": {},
     "output_type": "display_data"
    },
    {
     "data": {
      "text/latex": [
       "$\\displaystyle \\frac{d}{d t} \\left< {\\left(M^{\\left(0, 1\\right)}\\right)}^{\\mathtt{\\text{2}}}\\right>  = \\lambda^{2} k_{I} + 2 \\lambda k_{I} \\left< M^{\\left(0, 1\\right)}\\right>  + \\lambda k_{I} - 2 k_{E} \\left< {\\left(M^{\\left(0, 1\\right)}\\right)}^{\\mathtt{\\text{2}}}\\right>  + \\frac{k_{E} {\\left< M^{\\left(0, 1\\right)}\\right> }^{\\mathtt{\\text{2}}}}{\\left< N\\right> } + k_{b} \\left< N\\right>  + 2 k_{b} \\left< N M^{\\left(0, 1\\right)}\\right>  + k_{d} \\left< M^{\\left(0, 1\\right)}\\right>  - 2 k_{d} \\left< {\\left(M^{\\left(0, 1\\right)}\\right)}^{\\mathtt{\\text{2}}}\\right> $"
      ],
      "text/plain": [
       "                                                                                                                                                          2  \n",
       "d ⎛           ⎛      2      ⎞⎞          2                                                                                ⎛      2      ⎞   k_E⋅Expectation (M\n",
       "──⎝Expectation⎝Moment (0, 1)⎠⎠ = \\lambda ⋅k_I + 2⋅\\lambda⋅k_I⋅Expectation(Moment(0, 1)) + \\lambda⋅k_I - 2⋅k_E⋅Expectation⎝Moment (0, 1)⎠ + ──────────────────\n",
       "dt                                                                                                                                                 Expectatio\n",
       "\n",
       "                                                                                                                                        \n",
       "oment(0, 1))                                                                                                             ⎛      2      ⎞\n",
       "──────────── + k_b⋅Expectation(N) + 2⋅k_b⋅Expectation(N⋅Moment(0, 1)) + k_d⋅Expectation(Moment(0, 1)) - 2⋅k_d⋅Expectation⎝Moment (0, 1)⎠\n",
       "n(N)                                                                                                                                    "
      ]
     },
     "metadata": {},
     "output_type": "display_data"
    },
    {
     "data": {
      "text/latex": [
       "$\\displaystyle \\frac{d}{d t} \\left< M^{\\left(1, 1\\right)}\\right>  = \\frac{- k_{F} {\\left< M^{\\left(0, 1\\right)}\\right> }^{\\mathtt{\\text{2}}} {\\left< M^{\\left(1, 0\\right)}\\right> }^{\\mathtt{\\text{2}}} - 2 \\left(k_{C} + k_{E} + 2 k_{d}\\right) {\\left< N\\right> }^{\\mathtt{\\text{2}}} \\left< M^{\\left(0, 1\\right)}\\right>  \\left< M^{\\left(1, 0\\right)}\\right>  + 2 \\left(\\lambda^{2} k_{I} + k_{C} \\left< M^{\\left(0, 1\\right)}\\right>  \\left< M^{\\left(1, 0\\right)}\\right>  + k_{b} \\left< M^{\\left(0, 1\\right)}\\right>  + k_{b} \\left< M^{\\left(1, 0\\right)}\\right> \\right) {\\left< N\\right> }^{\\mathtt{\\text{3}}}}{2 {\\left< N\\right> }^{\\mathtt{\\text{3}}}}$"
      ],
      "text/plain": [
       "                                                 2                          2                                                  2                             \n",
       "d                               - k_F⋅Expectation (Moment(0, 1))⋅Expectation (Moment(1, 0)) - 2⋅(k_C + k_E + 2⋅k_d)⋅Expectation (N)⋅Expectation(Moment(0, 1))\n",
       "──(Expectation(Moment(1, 1))) = ─────────────────────────────────────────────────────────────────────────────────────────────────────────────────────────────\n",
       "dt                                                                                                                                                           \n",
       "                                                                                                                                                             \n",
       "\n",
       "                               ⎛       2                                                                                                                     \n",
       "⋅Expectation(Moment(1, 0)) + 2⋅⎝\\lambda ⋅k_I + k_C⋅Expectation(Moment(0, 1))⋅Expectation(Moment(1, 0)) + k_b⋅Expectation(Moment(0, 1)) + k_b⋅Expectation(Mome\n",
       "─────────────────────────────────────────────────────────────────────────────────────────────────────────────────────────────────────────────────────────────\n",
       "                                 3                                                                                                                           \n",
       "                    2⋅Expectation (N)                                                                                                                        \n",
       "\n",
       "         ⎞            3   \n",
       "nt(1, 0))⎠⋅Expectation (N)\n",
       "──────────────────────────\n",
       "                          \n",
       "                          "
      ]
     },
     "metadata": {},
     "output_type": "display_data"
    },
    {
     "data": {
      "text/latex": [
       "$\\displaystyle \\frac{d}{d t} \\left< N M^{\\left(1, 0\\right)}\\right>  = \\lambda k_{I} \\left< N\\right>  + \\lambda k_{I} + \\frac{k_{C} {\\left< N\\right> }^{\\mathtt{\\text{2}}} \\left< M^{\\left(1, 0\\right)}\\right> }{2} - k_{C} \\left< N\\right>  \\left< N M^{\\left(1, 0\\right)}\\right>  + \\frac{k_{C} \\left< N M^{\\left(1, 0\\right)}\\right> }{2} - 2 k_{E} \\left< N M^{\\left(1, 0\\right)}\\right>  + k_{E} \\left< M^{\\left(1, 0\\right)}\\right>  + \\frac{k_{F} \\left< M^{\\left(0, 1\\right)} M^{\\left(1, 0\\right)}\\right>  \\left< M^{\\left(1, 0\\right)}\\right> }{\\left< N\\right> } + \\frac{k_{F} \\left< M^{\\left(0, 1\\right)}\\right>  \\left< {\\left(M^{\\left(1, 0\\right)}\\right)}^{\\mathtt{\\text{2}}}\\right> }{\\left< N\\right> } - \\frac{k_{F} \\left< N M^{\\left(1, 0\\right)}\\right>  \\left< M^{\\left(0, 1\\right)}\\right>  \\left< M^{\\left(1, 0\\right)}\\right> }{{\\left< N\\right> }^{\\mathtt{\\text{2}}}} + k_{I} \\left< M^{\\left(1, 0\\right)}\\right>  + k_{b} \\left< N^{2}\\right>  - k_{d} \\left< N M^{\\left(1, 0\\right)}\\right> $"
      ],
      "text/plain": [
       "                                                                                            2                                                                \n",
       "d                                                                            k_C⋅Expectation (N)⋅Expectation(Moment(1, 0))                                   \n",
       "──(Expectation(N⋅Moment(1, 0))) = \\lambda⋅k_I⋅Expectation(N) + \\lambda⋅k_I + ───────────────────────────────────────────── - k_C⋅Expectation(N)⋅Expectation(N\n",
       "dt                                                                                                 2                                                         \n",
       "                                                                                                                                                             \n",
       "\n",
       "                                                                                                                                                             \n",
       "                 k_C⋅Expectation(N⋅Moment(1, 0))                                                                       k_F⋅Expectation(Moment(0, 1)⋅Moment(1,\n",
       "⋅Moment(1, 0)) + ─────────────────────────────── - 2⋅k_E⋅Expectation(N⋅Moment(1, 0)) + k_E⋅Expectation(Moment(1, 0)) + ──────────────────────────────────────\n",
       "                                2                                                                                                                 Expectation\n",
       "                                                                                                                                                             \n",
       "\n",
       "                                                                          ⎛      2      ⎞                                                                    \n",
       " 0))⋅Expectation(Moment(1, 0))   k_F⋅Expectation(Moment(0, 1))⋅Expectation⎝Moment (1, 0)⎠   k_F⋅Expectation(N⋅Moment(1, 0))⋅Expectation(Moment(0, 1))⋅Expecta\n",
       "────────────────────────────── + ──────────────────────────────────────────────────────── - ─────────────────────────────────────────────────────────────────\n",
       "(N)                                                   Expectation(N)                                                                     2                   \n",
       "                                                                                                                              Expectation (N)                \n",
       "\n",
       "                                                                                                          \n",
       "tion(Moment(1, 0))                                                  ⎛ 2⎞                                  \n",
       "────────────────── + k_I⋅Expectation(Moment(1, 0)) + k_b⋅Expectation⎝N ⎠ - k_d⋅Expectation(N⋅Moment(1, 0))\n",
       "                                                                                                          \n",
       "                                                                                                          "
      ]
     },
     "metadata": {},
     "output_type": "display_data"
    },
    {
     "data": {
      "text/latex": [
       "$\\displaystyle \\frac{d}{d t} \\left< N M^{\\left(0, 1\\right)}\\right>  = \\lambda k_{I} \\left< N\\right>  + \\lambda k_{I} + \\frac{k_{C} {\\left< N\\right> }^{\\mathtt{\\text{2}}} \\left< M^{\\left(0, 1\\right)}\\right> }{2} - k_{C} \\left< N\\right>  \\left< N M^{\\left(0, 1\\right)}\\right>  + \\frac{k_{C} \\left< N M^{\\left(0, 1\\right)}\\right> }{2} - 2 k_{E} \\left< N M^{\\left(0, 1\\right)}\\right>  + k_{E} \\left< M^{\\left(0, 1\\right)}\\right>  + \\frac{k_{F} \\left< M^{\\left(0, 1\\right)} M^{\\left(1, 0\\right)}\\right>  \\left< M^{\\left(0, 1\\right)}\\right> }{\\left< N\\right> } + \\frac{k_{F} \\left< {\\left(M^{\\left(0, 1\\right)}\\right)}^{\\mathtt{\\text{2}}}\\right>  \\left< M^{\\left(1, 0\\right)}\\right> }{\\left< N\\right> } - \\frac{k_{F} \\left< N M^{\\left(0, 1\\right)}\\right>  \\left< M^{\\left(0, 1\\right)}\\right>  \\left< M^{\\left(1, 0\\right)}\\right> }{{\\left< N\\right> }^{\\mathtt{\\text{2}}}} + k_{I} \\left< M^{\\left(0, 1\\right)}\\right>  + k_{b} \\left< N^{2}\\right>  - k_{d} \\left< N M^{\\left(0, 1\\right)}\\right> $"
      ],
      "text/plain": [
       "                                                                                            2                                                                \n",
       "d                                                                            k_C⋅Expectation (N)⋅Expectation(Moment(0, 1))                                   \n",
       "──(Expectation(N⋅Moment(0, 1))) = \\lambda⋅k_I⋅Expectation(N) + \\lambda⋅k_I + ───────────────────────────────────────────── - k_C⋅Expectation(N)⋅Expectation(N\n",
       "dt                                                                                                 2                                                         \n",
       "                                                                                                                                                             \n",
       "\n",
       "                                                                                                                                                             \n",
       "                 k_C⋅Expectation(N⋅Moment(0, 1))                                                                       k_F⋅Expectation(Moment(0, 1)⋅Moment(1,\n",
       "⋅Moment(0, 1)) + ─────────────────────────────── - 2⋅k_E⋅Expectation(N⋅Moment(0, 1)) + k_E⋅Expectation(Moment(0, 1)) + ──────────────────────────────────────\n",
       "                                2                                                                                                                 Expectation\n",
       "                                                                                                                                                             \n",
       "\n",
       "                                                ⎛      2      ⎞                                                                                              \n",
       " 0))⋅Expectation(Moment(0, 1))   k_F⋅Expectation⎝Moment (0, 1)⎠⋅Expectation(Moment(1, 0))   k_F⋅Expectation(N⋅Moment(0, 1))⋅Expectation(Moment(0, 1))⋅Expecta\n",
       "────────────────────────────── + ──────────────────────────────────────────────────────── - ─────────────────────────────────────────────────────────────────\n",
       "(N)                                                   Expectation(N)                                                                     2                   \n",
       "                                                                                                                              Expectation (N)                \n",
       "\n",
       "                                                                                                          \n",
       "tion(Moment(1, 0))                                                  ⎛ 2⎞                                  \n",
       "────────────────── + k_I⋅Expectation(Moment(0, 1)) + k_b⋅Expectation⎝N ⎠ - k_d⋅Expectation(N⋅Moment(0, 1))\n",
       "                                                                                                          \n",
       "                                                                                                          "
      ]
     },
     "metadata": {},
     "output_type": "display_data"
    },
    {
     "data": {
      "text/latex": [
       "$\\displaystyle \\frac{d}{d t} \\left< M^{\\left(0, 1\\right)} M^{\\left(1, 0\\right)}\\right>  = \\lambda^{2} k_{I} + \\lambda k_{I} \\left< M^{\\left(0, 1\\right)}\\right>  + \\lambda k_{I} \\left< M^{\\left(1, 0\\right)}\\right>  - 2 k_{E} \\left< M^{\\left(0, 1\\right)} M^{\\left(1, 0\\right)}\\right>  + \\frac{k_{E} \\left< M^{\\left(0, 1\\right)}\\right>  \\left< M^{\\left(1, 0\\right)}\\right> }{\\left< N\\right> } + k_{b} \\left< N M^{\\left(0, 1\\right)}\\right>  + k_{b} \\left< N M^{\\left(1, 0\\right)}\\right>  - 2 k_{d} \\left< M^{\\left(0, 1\\right)} M^{\\left(1, 0\\right)}\\right> $"
      ],
      "text/plain": [
       "d                                                   2                                                                                                        \n",
       "──(Expectation(Moment(0, 1)⋅Moment(1, 0))) = \\lambda ⋅k_I + \\lambda⋅k_I⋅Expectation(Moment(0, 1)) + \\lambda⋅k_I⋅Expectation(Moment(1, 0)) - 2⋅k_E⋅Expectation\n",
       "dt                                                                                                                                                           \n",
       "\n",
       "                              k_E⋅Expectation(Moment(0, 1))⋅Expectation(Moment(1, 0))                                                                        \n",
       "(Moment(0, 1)⋅Moment(1, 0)) + ─────────────────────────────────────────────────────── + k_b⋅Expectation(N⋅Moment(0, 1)) + k_b⋅Expectation(N⋅Moment(1, 0)) - 2\n",
       "                                                   Expectation(N)                                                                                            \n",
       "\n",
       "                                           \n",
       "⋅k_d⋅Expectation(Moment(0, 1)⋅Moment(1, 0))\n",
       "                                           "
      ]
     },
     "metadata": {},
     "output_type": "display_data"
    }
   ],
   "source": [
    "M = Moment\n",
    "moments = [\n",
    "    M(0,0),\n",
    "    M(0,0)**2,\n",
    "    M(1,0),\n",
    "    M(1,0)**2,\n",
    "    M(0,1),\n",
    "    M(0,1)**2,\n",
    "    M(1,1),\n",
    "]\n",
    "display(moments)\n",
    "equations = automated_moment_equations(2, transitions, moments, clna=True)\n",
    "display_moment_equations(equations)"
   ]
  },
  {
   "cell_type": "markdown",
   "metadata": {},
   "source": [
    "The LaTeX source of the ODE system can be found and copy-pasted by modifying the Math Render option of the jupyter notebook. This is done by right-clicking on the system and choosing Math Settings > Math Render > Plain Source .\n",
    "\n",
    "From the closed equations, we can also generate code to simulate the system. Currently, Python or Julia code can be generated.\n",
    "\n",
    "For a direct code output, the user can rely on the functions:"
   ]
  },
  {
   "cell_type": "code",
   "execution_count": 6,
   "metadata": {},
   "outputs": [
    {
     "name": "stdout",
     "output_type": "stream",
     "text": [
      "# evaluate ODEs\n",
      "function IECF2BD_tris_ODEs(dM, M, parameters, t)\n",
      "  c3 = parameters[:\\lambda] # \\lambda\n",
      "  c5 = parameters[:kC] # kC\n",
      "  c2 = parameters[:kE] # kE\n",
      "  c6 = parameters[:kF] # kF\n",
      "  c1 = parameters[:kI] # kI\n",
      "  c4 = parameters[:kb] # kb\n",
      "  c0 = parameters[:kd] # kd\n",
      "  # Number of Compartments (N)\n",
      "  dM[1] = c1+1/2*c5*M[1]-c2*M[1]-1/2*c5*((M[1])^(2))+c6*M[5]*M[3]/M[1]\n",
      "  # N^2\n",
      "  dM[2] = (1/2*((M[1])^(2))*(2*c1+c5*((M[1])^(2))-c5*M[1]-4*c2*M[2]+2*c5*((M[1])^(3))+2*c5*M[2]+2*c2*M[1]+4*c1*M[1]-4*c5*M[2]*M[1])+c6*(M[5]*M[3]+2*M[9]*M[3]+2*M[8]*M[5])*M[1]-2*c6*M[2]*M[5]*M[3])/((M[1])^(2))\n",
      "  # Total Mass of species 1\n",
      "  dM[3] = c3*c1+c4*M[1]-c2*M[3]-c0*M[3]\n",
      "  # M1^2\n",
      "  dM[4] = c3*c1+c1*((c3)^(2))+c4*M[1]+c0*M[3]-2*c2*M[4]-2*c0*M[4]+2*c4*M[8]+c2*((M[3])^(2))/M[1]+2*c3*c1*M[3]\n",
      "  # Total Mass of species 2\n",
      "  dM[5] = c3*c1+c4*M[1]-c2*M[5]-c0*M[5]\n",
      "  # M2^2\n",
      "  dM[6] = c3*c1+c1*((c3)^(2))+c4*M[1]+c0*M[5]-2*c2*M[6]-2*c0*M[6]+2*c4*M[9]+c2*((M[5])^(2))/M[1]+2*c3*c1*M[5]\n",
      "  # Sum of squared content of species 1\n",
      "  dM[7] = 1/2*(2*((M[1])^(3))*(c1*((c3)^(2))+c4*M[5]+c4*M[3]+c5*M[5]*M[3])-c6*((M[5])^(2))*((M[3])^(2))-2*((M[1])^(2))*(c5+c2+2*c0)*M[5]*M[3])/((M[1])^(3))\n",
      "  # N*M1\n",
      "  dM[8] = c3*c1+c2*M[3]+c1*M[3]+c4*M[2]+1/2*c5*M[8]-c0*M[8]-2*c2*M[8]+c3*c1*M[1]+1/2*c5*((M[1])^(2))*M[3]-c5*M[8]*M[1]+c6*M[4]*M[5]/M[1]+c6*M[10]*M[3]/M[1]-c6*M[8]*M[5]*M[3]/((M[1])^(2))\n",
      "  # N*M2\n",
      "  dM[9] = c3*c1+c2*M[5]+c1*M[5]+c4*M[2]+1/2*c5*M[9]-c0*M[9]-2*c2*M[9]+c3*c1*M[1]+1/2*c5*((M[1])^(2))*M[5]-c5*M[9]*M[1]+c6*M[6]*M[3]/M[1]+c6*M[10]*M[5]/M[1]-c6*M[9]*M[5]*M[3]/((M[1])^(2))\n",
      "  # M2*M1\n",
      "  dM[10] = c1*((c3)^(2))+c4*M[9]+c4*M[8]-2*c2*M[10]-2*c0*M[10]+c3*c1*M[5]+c3*c1*M[3]+c2*M[5]*M[3]/M[1]\n",
      "  return\n",
      "end\n",
      "\n",
      "# initialize expected moments vector\n",
      "function IECF2BD_tris_initial(n0)\n",
      "  M = zeros(10)\n",
      "  # Number of Compartments (N)\n",
      "  M[1] = ??? # initial value for Moment(0, 0), please specify!\n",
      "  # N^2\n",
      "  M[2] = ((M[1])^(2))\n",
      "  # Total Mass of species 1\n",
      "  M[3] = ??? # initial value for Moment(1, 0), please specify!\n",
      "  # M1^2\n",
      "  M[4] = ((M[3])^(2))\n",
      "  # Total Mass of species 2\n",
      "  M[5] = ??? # initial value for Moment(0, 1), please specify!\n",
      "  # M2^2\n",
      "  M[6] = ((M[5])^(2))\n",
      "  # Sum of squared content of species 1\n",
      "  M[7] = ??? # initial value for Moment(1, 1), please specify!\n",
      "  # N*M1\n",
      "  M[8] = M[1]*M[3]\n",
      "  # N*M2\n",
      "  M[9] = M[1]*M[5]\n",
      "  # M2*M1\n",
      "  M[10] = M[5]*M[3]\n",
      "  return M\n",
      "end\n",
      "\n",
      "\n"
     ]
    }
   ],
   "source": [
    "julia_code = generate_julia_code(equations, function_name=\"IECF2BD_tris\")\n",
    "print(julia_code)"
   ]
  },
  {
   "cell_type": "code",
   "execution_count": null,
   "metadata": {},
   "outputs": [],
   "source": []
  }
 ],
 "metadata": {
  "kernelspec": {
   "display_name": "Python 3 (ipykernel)",
   "language": "python",
   "name": "python3"
  },
  "language_info": {
   "codemirror_mode": {
    "name": "ipython",
    "version": 3
   },
   "file_extension": ".py",
   "mimetype": "text/x-python",
   "name": "python",
   "nbconvert_exporter": "python",
   "pygments_lexer": "ipython3",
   "version": "3.9.6"
  }
 },
 "nbformat": 4,
 "nbformat_minor": 2
}
