{
 "cells": [
  {
   "cell_type": "markdown",
   "metadata": {},
   "source": [
    "# How to define a compartment population model in Compartor  \n",
    "$$\n",
    "\\def\\n{\\mathbf{n}}\n",
    "\\def\\x{\\mathbf{x}}\n",
    "\\def\\N{\\mathbb{\\mathbb{N}}}\n",
    "\\def\\X{\\mathbb{X}}\n",
    "\\def\\NX{\\mathbb{\\N_0^\\X}}\n",
    "\\def\\C{\\mathcal{C}}\n",
    "\\def\\Jc{\\mathcal{J}_c}\n",
    "\\def\\DM{\\Delta M_{c,j}}\n",
    "\\newcommand\\diff{\\mathop{}\\!\\mathrm{d}}\n",
    "\\def\\Xc{\\mathbf{X}_c}\n",
    "\\def\\Yc{\\mathbf{Y}_c}\n",
    "\\newcommand{\\muset}[1]{\\dot{\\{}#1\\dot{\\}}}\n",
    "$$"
   ]
  },
  {
   "cell_type": "markdown",
   "metadata": {},
   "source": [
    "Whenever using Compartor in a Jupyter notebook, run the following commands:"
   ]
  },
  {
   "cell_type": "code",
   "execution_count": 1,
   "metadata": {},
   "outputs": [],
   "source": [
    "# initialize sympy printing (for latex output)\n",
    "from sympy import init_printing, Symbol\n",
    "init_printing()\n",
    "\n",
    "# import functions and classes for compartment models\n",
    "from compartor import *"
   ]
  },
  {
   "cell_type": "markdown",
   "metadata": {},
   "source": [
    "## Usage of the constructor TransitionClass\n",
    "\n",
    "The population dynamics are specified in Compartor through a set of transition classes. These are stoichiometric-like equations whose left-hand and right-hand sides specify how some `Compartments` are modified by the occurrence of a transition.\n",
    "\n",
    "To define a compartment $[\\x]$, it is first necessary to define some `Content` variables $\\x \\in \\N_0^D$ that Compartor can interpret as symbols on which to perform symbolic computation. For instance,"
   ]
  },
  {
   "cell_type": "code",
   "execution_count": 2,
   "metadata": {},
   "outputs": [
    {
     "data": {
      "image/png": "[encoded data removed]",
      "text/latex": [
       "$\\displaystyle \\left[x\\right]$"
      ],
      "text/plain": [
       "Compartment(x)"
      ]
     },
     "execution_count": 2,
     "metadata": {},
     "output_type": "execute_result"
    }
   ],
   "source": [
    "x = Content('x')\n",
    "y = Content('y')\n",
    "Compartment(x)"
   ]
  },
  {
   "cell_type": "markdown",
   "metadata": {},
   "source": [
    "Content variables are $D$-dimensional, with `x[d]` denoting the copy number of chemical species `d`, for $d=0,1,...,D-1$ .\n",
    "\n",
    "Once some content variables have been defined, the fastest way to define a transition class is the constructor `TransitionClass`. For instance,\n"
   ]
  },
  {
   "cell_type": "code",
   "execution_count": 3,
   "metadata": {},
   "outputs": [
    {
     "data": {
      "image/png": "[encoded data removed]",
      "text/latex": [
       "$\\displaystyle \\left[x\\right]\\overset{h_{E}}{\\longrightarrow}\\emptyset,\\:h_{E} = k_{E} n{\\left(x \\right)}$"
      ],
      "text/plain": [
       "TransitionClass(\"E\", [x] ---> EmptySet, k=k_E, g=1, pi=OutcomeDistribution(1, \n",
       "<function OutcomeDistribution.Identity.<locals>.<lambda> at 0x7fe99952b620>))"
      ]
     },
     "metadata": {},
     "output_type": "display_data"
    }
   ],
   "source": [
    "Exit = TransitionClass( [x] -to> {}, 'k_E', name='E')\n",
    "display(Exit)"
   ]
  },
  {
   "cell_type": "markdown",
   "metadata": {},
   "source": [
    "defines a transition class that randomly removes one compartment from the population with rate $k_E$. In particular:\n",
    "\n",
    "* The first argument of `TransitionClass` is the compartment stoichiometry, where lelf-hand side and right-hand side are separated by the keyword `-to>`. The notation `[x]` denotes a compartment of content `x`, while `{}` denotes the empty set.\n",
    "* The second argument assignes a name to the rate constant \n",
    "* The optional parameter `name` defines the subscript of the transition propensity"
   ]
  },
  {
   "cell_type": "markdown",
   "metadata": {},
   "source": [
    "Similarly, we can define a transition class that randomly fuses two compartments as follows"
   ]
  },
  {
   "cell_type": "code",
   "execution_count": 4,
   "metadata": {},
   "outputs": [
    {
     "data": {
      "image/png": "[encoded data removed]",
      "text/latex": [
       "$\\displaystyle \\left[x\\right] + \\left[y\\right]\\overset{h_{F}}{\\longrightarrow}\\left[x + y\\right],\\:h_{F} = \\frac{k_{F} \\left(n{\\left(y \\right)} - \\delta_{x y}\\right) n{\\left(x \\right)}}{\\delta_{x y} + 1}$"
      ],
      "text/plain": [
       "TransitionClass(\"F\", [x] + [y] ---> [x + y], k=k_F, g=1, pi=OutcomeDistributio\n",
       "n(1, <function OutcomeDistribution.Identity.<locals>.<lambda> at 0x7fe99952b62\n",
       "0>))"
      ]
     },
     "metadata": {},
     "output_type": "display_data"
    }
   ],
   "source": [
    "Fusion  = TransitionClass( [x] + [y] -to> [x+y], 'k_F', name='F')\n",
    "display(Fusion)"
   ]
  },
  {
   "cell_type": "markdown",
   "metadata": {},
   "source": [
    "Note that the population dependency of the propensity `h` is automatically inferred with the law of mass action. "
   ]
  },
  {
   "cell_type": "markdown",
   "metadata": {},
   "source": [
    "Note that in the compartment notation we can use compound expressions inside compartment brackets. In the above example, we have used `x+y` to denote the content formed by adding content vectors `x` and `y`.\n",
    "Content vectors can be also notated explicitly as $D$-tuples, listing the copy number of each chemical species $d=0,1,...,D-1$.\n",
    "For example, in the expression `[x + (-1, 0)]`, the tuple `(-1, 0)` denotes a change by $-1$ in chemical species $d=0$ (in a model with $D=2$ species). The expression could be equivalently written as `[(x[0]-1,x[1])]`. We will see more examples of this notation below."
   ]
  },
  {
   "cell_type": "markdown",
   "metadata": {},
   "source": [
    "### Propensities with content dependency\n",
    "It is possible to tune the propensity as a function of the compartment contents by providing a third argument to `TransitionClass`, such as for the following chemical events given in the example of the paper:"
   ]
  },
  {
   "cell_type": "code",
   "execution_count": 5,
   "metadata": {},
   "outputs": [
    {
     "data": {
      "image/png": "[encoded data removed]",
      "text/latex": [
       "$\\displaystyle \\left[x\\right]\\overset{h_{c}}{\\longrightarrow}\\left[\\left( -1, \\  1\\right) + x\\right],\\:h_{c} = k_{c} n{\\left(x \\right)} {x}_{0}$"
      ],
      "text/plain": [
       "TransitionClass(\"c\", [x] ---> [(-1, 1) + x], k=k_c, g=x[0], pi=OutcomeDistribu\n",
       "tion(1, <function OutcomeDistribution.Identity.<locals>.<lambda> at 0x7fe99952\n",
       "b620>))"
      ]
     },
     "metadata": {},
     "output_type": "display_data"
    },
    {
     "data": {
      "image/png": "[encoded data removed]",
      "text/latex": [
       "$\\displaystyle \\left[x\\right]\\overset{h_{d}}{\\longrightarrow}\\left[\\left( 0, \\  -1\\right) + x\\right],\\:h_{d} = k_{d} n{\\left(x \\right)} {x}_{1}$"
      ],
      "text/plain": [
       "TransitionClass(\"d\", [x] ---> [(0, -1) + x], k=k_d, g=x[1], pi=OutcomeDistribu\n",
       "tion(1, <function OutcomeDistribution.Identity.<locals>.<lambda> at 0x7fe99952\n",
       "b620>))"
      ]
     },
     "metadata": {},
     "output_type": "display_data"
    }
   ],
   "source": [
    "Conversion  = TransitionClass( [x] -to> [x + (-1,1)], 'k_c', x[0], name='c')\n",
    "Degradation = TransitionClass( [x] -to> [x + (0,-1)], 'k_d', x[1], name='d')\n",
    "display(Conversion, Degradation)"
   ]
  },
  {
   "cell_type": "markdown",
   "metadata": {},
   "source": [
    "The Conversion class transforms the first chemical species (indexed by `0`) to the second type with propensity $k_cx_0$ in any compartment across the population. The Degradation class, instead, removes one molecule of the second chemical species with rate $k_dx_1$, for a given compartment."
   ]
  },
  {
   "cell_type": "markdown",
   "metadata": {},
   "source": [
    "Some transition classes involve compartments on the product side (i.e. right-hand side) whose content is drawn in probabilistic fashion with respect to the reactant compartments. In such cases, a conditional distribution can be passed as optional argument `pi` in `TransitionClass`. \n",
    "\n",
    "The type of $\\pi$ is `OutcomeDistribution`, which is a class comprising\n",
    "* an expression or symbol to use for displaying $\\pi$ in compound expressions\n",
    "* a function `expectation` that takes an expression over reactant contents, and returns its expectation over all product compartment variables.\n",
    "\n",
    "There are generators for several predefined outcome distributions. If nothing is specified, as in the above \"Exit\" transition example, `OutcomeDistribution.Identity()` is used by default. Instead, when the content of product compartments follows a distribution, other generators can be used or created.\n",
    "\n",
    "Compartor currently includes the following `OutcomeDistribution` generators\n",
    "* `Poisson()` \n",
    "* `NegativeBinomial()` \n",
    "* `Uniform()` \n",
    "* `Binomial()`\n",
    "\n",
    "For example, the model in the paper has an \"Intake\" transition class where new compartments are created with Poisson-distributed content"
   ]
  },
  {
   "cell_type": "code",
   "execution_count": 6,
   "metadata": {},
   "outputs": [
    {
     "data": {
      "image/png": "[encoded data removed]",
      "text/latex": [
       "$\\displaystyle \\emptyset\\overset{h_{I}}{\\longrightarrow}\\left[\\left( {y}_{0}, \\  0\\right)\\right],\\:h_{I} = \\pi_{I}(y; \\lambda) k_{I}$"
      ],
      "text/plain": [
       "TransitionClass(\"I\", EmptySet ---> [(y[0], 0)], k=k_I, g=1, pi=OutcomeDistribu\n",
       "tion(\\pi_{I}(y; \\lambda), <function OutcomeDistribution.Poisson.<locals>.expec\n",
       "tation at 0x7fe9806f3400>))"
      ]
     },
     "metadata": {},
     "output_type": "display_data"
    }
   ],
   "source": [
    "from sympy import Symbol\n",
    "pi_I = OutcomeDistribution.Poisson(Symbol('\\pi_{I}(y; \\lambda)'),y[0],Symbol('\\lambda'))\n",
    "\n",
    "Intake = TransitionClass( {} -to> [(y[0],0)], 'k_I', pi=pi_I, name='I')\n",
    "display(Intake)"
   ]
  },
  {
   "cell_type": "markdown",
   "metadata": {},
   "source": [
    "## Model definition\n",
    "The declaration of a model consists in defining a list of transition classes. We provide some examples of model declaration here below."
   ]
  },
  {
   "cell_type": "markdown",
   "metadata": {},
   "source": [
    "### Example: case study shown in the paper"
   ]
  },
  {
   "cell_type": "code",
   "execution_count": 7,
   "metadata": {},
   "outputs": [],
   "source": [
    "x = Content('x')\n",
    "y = Content('y')\n",
    "\n",
    "# Intake Distribution\n",
    "pi_I = OutcomeDistribution.Poisson(Symbol('\\pi_{I}(y; \\lambda)'),y[0],Symbol('\\lambda'))\n",
    "\n",
    "\n",
    "Intake      = TransitionClass( {}        -to> [(y[0],0)],   'k_I', pi=pi_I, name='I')\n",
    "Fusion      = TransitionClass( [x] + [y] -to> [x+y],        'k_F',          name='F')\n",
    "Conversion  = TransitionClass( [x]       -to> [x + (-1,1)], 'k_c', x[0],    name='c')\n",
    "Degradation = TransitionClass( [x]       -to> [x + (0,-1)], 'k_d', x[1],    name='d')\n",
    "\n",
    "transitions = [ Intake, Fusion, Conversion, Degradation]"
   ]
  },
  {
   "cell_type": "markdown",
   "metadata": {},
   "source": [
    "The transition classes stored into the variable `transitions` can be displayed with the function `display_transition_classes()` as follows"
   ]
  },
  {
   "cell_type": "code",
   "execution_count": 8,
   "metadata": {},
   "outputs": [
    {
     "data": {
      "text/latex": [
       "$\\displaystyle \\begin{align} \\emptyset&\\overset{h_{I}}{\\longrightarrow}\\left[\\left( {y}_{0}, \\  0\\right)\\right] && h_{I} = \\pi_{I}(y; \\lambda) k_{I}\\\\\\left[x\\right] + \\left[y\\right]&\\overset{h_{F}}{\\longrightarrow}\\left[x + y\\right] && h_{F} = \\frac{k_{F} \\left(n{\\left(y \\right)} - \\delta_{x y}\\right) n{\\left(x \\right)}}{\\delta_{x y} + 1}\\\\\\left[x\\right]&\\overset{h_{c}}{\\longrightarrow}\\left[\\left( -1, \\  1\\right) + x\\right] && h_{c} = k_{c} n{\\left(x \\right)} {x}_{0}\\\\\\left[x\\right]&\\overset{h_{d}}{\\longrightarrow}\\left[\\left( 0, \\  -1\\right) + x\\right] && h_{d} = k_{d} n{\\left(x \\right)} {x}_{1} \\end{align}$"
      ],
      "text/plain": [
       "Display.__str__: TODO"
      ]
     },
     "metadata": {},
     "output_type": "display_data"
    }
   ],
   "source": [
    "display_transition_classes(transitions)"
   ]
  },
  {
   "cell_type": "markdown",
   "metadata": {},
   "source": [
    "### Example: nested birth-death process"
   ]
  },
  {
   "cell_type": "code",
   "execution_count": 9,
   "metadata": {},
   "outputs": [
    {
     "data": {
      "text/latex": [
       "$\\displaystyle \\begin{align} \\emptyset&\\overset{h_{I}}{\\longrightarrow}\\left[y\\right] && h_{I} = \\pi_{NB}(y; \\lambda) k_{I}\\\\\\left[x\\right]&\\overset{h_{E}}{\\longrightarrow}\\emptyset && h_{E} = k_{E} n{\\left(x \\right)}\\\\\\left[x\\right]&\\overset{h_{b}}{\\longrightarrow}\\left[\\left( 1\\right) + x\\right] && h_{b} = k_{b} n{\\left(x \\right)}\\\\\\left[x\\right]&\\overset{h_{d}}{\\longrightarrow}\\left[\\left( -1\\right) + x\\right] && h_{d} = k_{d} n{\\left(x \\right)} {x}_{0} \\end{align}$"
      ],
      "text/plain": [
       "Display.__str__: TODO"
      ]
     },
     "metadata": {},
     "output_type": "display_data"
    }
   ],
   "source": [
    "x = Content('x')\n",
    "y = Content('y')\n",
    "\n",
    "# Intake\n",
    "pi_I = OutcomeDistribution.NegativeBinomial(Symbol('\\pi_{NB}(y; \\lambda)'), y[0],Symbol('r'),Symbol('p'))\n",
    "\n",
    "Intake = TransitionClass( {}  -to> [y],   'k_I', pi=pi_I, name='I')\n",
    "Exit   = TransitionClass( [x] -to> {},    'k_E',          name='E')\n",
    "Birth  = TransitionClass( [x] -to> [x+1], 'k_b',          name='b')\n",
    "Death  = TransitionClass( [x] -to> [x-1], 'k_d', x[0],    name='d')\n",
    "\n",
    "transitions = [Intake, Exit, Birth, Death]\n",
    "display_transition_classes(transitions)"
   ]
  },
  {
   "cell_type": "markdown",
   "metadata": {},
   "source": [
    "### Example: coagulation-fragmentation system with intake and export"
   ]
  },
  {
   "cell_type": "code",
   "execution_count": 10,
   "metadata": {},
   "outputs": [
    {
     "data": {
      "text/latex": [
       "$\\displaystyle \\begin{align} \\emptyset&\\overset{h_{I}}{\\longrightarrow}\\left[y\\right] && h_{I} = \\pi_{Poiss}(y; \\lambda) k_{I}\\\\\\left[x\\right]&\\overset{h_{E}}{\\longrightarrow}\\emptyset && h_{E} = k_{E} n{\\left(x \\right)}\\\\\\left[x\\right] + \\left[y\\right]&\\overset{h_{C}}{\\longrightarrow}\\left[x + y\\right] && h_{C} = \\frac{k_{C} \\left(n{\\left(y \\right)} - \\delta_{x y}\\right) n{\\left(x \\right)}}{\\delta_{x y} + 1}\\\\\\left[x\\right]&\\overset{h_{F}}{\\longrightarrow}\\left[x - y\\right] + \\left[y\\right] && h_{F} = \\pi_F(y|x) k_{F} n{\\left(x \\right)} {x}_{0} \\end{align}$"
      ],
      "text/plain": [
       "Display.__str__: TODO"
      ]
     },
     "metadata": {},
     "output_type": "display_data"
    }
   ],
   "source": [
    "x = Content('x')\n",
    "y = Content('y')\n",
    "\n",
    "pi_I = OutcomeDistribution.Poisson(Symbol(\"\\pi_{Poiss}(y; \\lambda)\"), y[0], Symbol(\"\\lambda\"))\n",
    "pi_F = OutcomeDistribution.Uniform(Symbol(\"\\pi_F(y|x)\"), y[0], 0, x[0])\n",
    "\n",
    "Intake        = TransitionClass( {}        -to> [y],         'k_I',         pi=pi_I, name='I')\n",
    "Exit          = TransitionClass( [x]       -to> {},          'k_E',                  name='E')\n",
    "Coagulation   = TransitionClass( [x] + [y] -to> [x+y],       'k_C',                  name='C')\n",
    "Fragmentation = TransitionClass( [x]       -to> [y] + [x-y], 'k_F', g=x[0], pi=pi_F, name='F')\n",
    "\n",
    "transitions = [Intake, Exit, Coagulation, Fragmentation]\n",
    "display_transition_classes(transitions)"
   ]
  }
 ],
 "metadata": {
  "kernelspec": {
   "display_name": "Python 3",
   "language": "python",
   "name": "python3"
  },
  "language_info": {
   "codemirror_mode": {
    "name": "ipython",
    "version": 3
   },
   "file_extension": ".py",
   "mimetype": "text/x-python",
   "name": "python",
   "nbconvert_exporter": "python",
   "pygments_lexer": "ipython3",
   "version": "3.7.3"
  }
 },
 "nbformat": 4,
 "nbformat_minor": 2
}
