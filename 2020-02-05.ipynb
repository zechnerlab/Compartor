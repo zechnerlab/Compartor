{
 "cells": [
  {
   "cell_type": "code",
   "execution_count": 1,
   "metadata": {},
   "outputs": [],
   "source": [
    "from sympy import *\n",
    "init_printing()"
   ]
  },
  {
   "cell_type": "code",
   "execution_count": 2,
   "metadata": {},
   "outputs": [],
   "source": [
    "class Compartment(Function):\n",
    "    nargs = 1\n",
    "\n",
    "    def __str__(self):\n",
    "        return f'[{self.args[0]}]'\n",
    "\n",
    "    def _sympystr(self, printer=None):\n",
    "        return f'[{self.args[0]}]'\n",
    "\n",
    "    def _latex(self, printer=None):\n",
    "        return '\\\\left[' + printer.doprint(self.args[0]) + '\\\\right]'\n",
    "\n",
    "class ContentChange(Function):\n",
    "    nargs = 2\n",
    "\n",
    "    def __str__(self):\n",
    "        return f'{self.args}'\n",
    "\n",
    "    def _sympystr(self, printer=None):\n",
    "        return f'{self.args}'\n",
    "\n",
    "    def _latex(self, printer=None):\n",
    "        return printer.doprint(self.args)\n",
    "\n",
    "\n",
    "class Context:\n",
    "\n",
    "    def __init__(self, numSpecies: int):\n",
    "        self.D = numSpecies\n",
    "        self.gamma = IndexedBase('\\gamma', integer=True, shape=self.D)\n",
    "\n",
    "    def compartment(self, *args):\n",
    "        return Compartment(*args)\n",
    "\n",
    "    def change(self, *args):\n",
    "        return ContentChange(*args)\n",
    "\n",
    "    def __str__(self):\n",
    "        return f'Context({self.D})'\n",
    "\n",
    "    def doit(self, transition):\n",
    "        self.deltaM(transition)\n",
    "\n",
    "    def deltaM(self, transition):\n",
    "        expr = transition.lhs\n",
    "        if expr.func == Compartment:\n",
    "            content = expr.args[ 0 ]\n",
    "            species = self.getContentPerSpecies(content);\n",
    "            self.getGamma(species)\n",
    "        else:\n",
    "            print(\"it's not a compartment\")\n",
    "            print(expr.func)\n",
    "            print(type(expr.func))\n",
    "\n",
    "\n",
    "    def getContentPerSpecies(self, content):\n",
    "        \"\"\"Get an array of scalars representing compartment content for species 0..D\"\"\"\n",
    "\n",
    "        if content.func == Add:\n",
    "            xs = [self.getContentPerSpecies(arg) for arg in content.args]\n",
    "            return [Add(*x) for x in zip(*xs)]\n",
    "        elif content.func == Mul:\n",
    "            xs = [self.getContentPerSpecies(arg) for arg in content.args]\n",
    "            return [Mul(*x) for x in zip(*xs)]\n",
    "        elif content.func == IndexedBase:\n",
    "            return [content[i] for i in range(self.D)]\n",
    "        elif content.func == ContentChange:\n",
    "            return [content.args[i] for i in range(self.D)]\n",
    "        elif content.func == Integer:\n",
    "            return [content] * self.D\n",
    "        else:\n",
    "            print(type(content))\n",
    "            print(\"...hrmm\")\n",
    "\n",
    "\n",
    "    def getGamma(self, content):\n",
    "        expr = Mul(*[content[i] ** self.gamma[i] for i in range(self.D)])\n",
    "        display(expr)\n",
    "\n",
    "\n",
    "\n",
    "\n",
    "\n",
    "\n",
    "class Transition(Basic):\n",
    "    def __init__(self, lhs, rhs):\n",
    "        self.lhs = lhs\n",
    "        self.rhs = rhs\n",
    "\n",
    "    def __str__(self):\n",
    "        return f'{self.lhs} ---> {self.rhs})'\n",
    "\n",
    "    def _latex(self, printer=None):\n",
    "        # Always use printer.doprint() otherwise nested expressions won't\n",
    "        # work. See the example of ModOpWrong.\n",
    "        l = printer.doprint(self.lhs)\n",
    "        r = printer.doprint(self.rhs)\n",
    "        return l + '\\longrightarrow{}' + r"
   ]
  },
  {
   "cell_type": "code",
   "execution_count": 3,
   "metadata": {},
   "outputs": [
    {
     "data": {
      "text/latex": [
       "$$\\left[X\\right] + \\left[Y\\right]\\longrightarrow{}\\emptyset$$"
      ],
      "text/plain": [
       "[X] + [Y] ---> EmptySet())"
      ]
     },
     "metadata": {},
     "output_type": "display_data"
    },
    {
     "name": "stdout",
     "output_type": "stream",
     "text": [
      "it's not a compartment\n",
      "<class 'sympy.core.add.Add'>\n",
      "<class 'sympy.core.assumptions.ManagedProperties'>\n"
     ]
    }
   ],
   "source": [
    "C = Context(2)\n",
    "\n",
    "X = IndexedBase('X', integer=True, shape=C.D)\n",
    "Y = IndexedBase('Y', integer=True, shape=C.D)\n",
    "Exit = Transition(C.compartment(Y) + C.compartment(X), EmptySet())\n",
    "display(Exit)\n",
    "C.doit(Exit)"
   ]
  },
  {
   "cell_type": "code",
   "execution_count": null,
   "metadata": {},
   "outputs": [],
   "source": []
  }
 ],
 "metadata": {
  "kernelspec": {
   "display_name": "Python 3",
   "language": "python",
   "name": "python3"
  },
  "language_info": {
   "codemirror_mode": {
    "name": "ipython",
    "version": 3
   },
   "file_extension": ".py",
   "mimetype": "text/x-python",
   "name": "python",
   "nbconvert_exporter": "python",
   "pygments_lexer": "ipython3",
   "version": "3.7.3"
  }
 },
 "nbformat": 4,
 "nbformat_minor": 2
}
