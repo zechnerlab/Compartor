{
 "cells": [
  {
   "cell_type": "code",
   "execution_count": 4,
   "metadata": {},
   "outputs": [
    {
     "data": {
      "image/png": "[encoded data removed]",
      "text/latex": [
       "$${x}_{3}$$"
      ],
      "text/plain": [
       "x[3]"
      ]
     },
     "execution_count": 4,
     "metadata": {},
     "output_type": "execute_result"
    }
   ],
   "source": [
    "from sympy import *\n",
    "init_printing()\n",
    "\n",
    "D = 2\n",
    "g = IndexedBase('\\gamma', integer=True)\n",
    "x = IndexedBase('x', integer=True)\n",
    "i = symbols('i', cls=Idx)\n",
    "x[3]"
   ]
  },
  {
   "cell_type": "code",
   "execution_count": 5,
   "metadata": {},
   "outputs": [
    {
     "data": {
      "image/png": "[encoded data removed]",
      "text/latex": [
       "$$\\prod_{i=1}^{2} {x}_{i}^{{\\gamma}_{i}}$$"
      ],
      "text/plain": [
       "  2                 \n",
       "┬────┬              \n",
       "│    │     \\gamma[i]\n",
       "│    │ x[i]         \n",
       "│    │              \n",
       "i = 1               "
      ]
     },
     "metadata": {},
     "output_type": "display_data"
    }
   ],
   "source": [
    "expr = Product(x[i]**g[i],(i,1,D))\n",
    "display(expr)"
   ]
  },
  {
   "cell_type": "code",
   "execution_count": 8,
   "metadata": {},
   "outputs": [
    {
     "data": {
      "image/png": "[encoded data removed]",
      "text/latex": [
       "$$2$$"
      ],
      "text/plain": [
       "2"
      ]
     },
     "execution_count": 8,
     "metadata": {},
     "output_type": "execute_result"
    }
   ],
   "source": [
    "g[i].subs({g[1]:2, i:1})"
   ]
  },
  {
   "cell_type": "code",
   "execution_count": 9,
   "metadata": {},
   "outputs": [
    {
     "data": {
      "image/png": "[encoded data removed]",
      "text/latex": [
       "$${x}_{1}^{{\\gamma}_{1}} {x}_{2}^{{\\gamma}_{2}}$$"
      ],
      "text/plain": [
       "    \\gamma[1]     \\gamma[2]\n",
       "x[1]         ⋅x[2]         "
      ]
     },
     "execution_count": 9,
     "metadata": {},
     "output_type": "execute_result"
    }
   ],
   "source": [
    "expr.doit()"
   ]
  },
  {
   "cell_type": "code",
   "execution_count": 7,
   "metadata": {},
   "outputs": [
    {
     "data": {
      "image/png": "[encoded data removed]",
      "text/latex": [
       "$${x}_{1} {x}_{2}^{2}$$"
      ],
      "text/plain": [
       "         2\n",
       "x[1]⋅x[2] "
      ]
     },
     "execution_count": 7,
     "metadata": {},
     "output_type": "execute_result"
    }
   ],
   "source": [
    "expr.doit().subs(g, range(3))"
   ]
  },
  {
   "cell_type": "code",
   "execution_count": 26,
   "metadata": {},
   "outputs": [
    {
     "data": {
      "image/png": "[encoded data removed]",
      "text/latex": [
       "$${x}_{2}$$"
      ],
      "text/plain": [
       "x[2]"
      ]
     },
     "execution_count": 26,
     "metadata": {},
     "output_type": "execute_result"
    }
   ],
   "source": [
    "expr.doit().subs({g[1]:0, g[2]:1})"
   ]
  },
  {
   "cell_type": "code",
   "execution_count": 27,
   "metadata": {},
   "outputs": [
    {
     "data": {
      "image/png": "[encoded data removed]",
      "text/latex": [
       "$${x}_{2}^{3}$$"
      ],
      "text/plain": [
       "    3\n",
       "x[2] "
      ]
     },
     "execution_count": 27,
     "metadata": {},
     "output_type": "execute_result"
    }
   ],
   "source": [
    "values = [0,3]\n",
    "expr.doit().subs([(g[i+1], values[i]) for i in range(D)])"
   ]
  },
  {
   "cell_type": "code",
   "execution_count": 61,
   "metadata": {},
   "outputs": [
    {
     "name": "stdout",
     "output_type": "stream",
     "text": [
      "propensity:\n"
     ]
    },
    {
     "data": {
      "image/png": "[encoded data removed]",
      "text/latex": [
       "$$h{\\left (n,{x}_{1},{x}_{2} \\right )} = k_{E} n{\\left ({x}_{1},{x}_{2} \\right )}$$"
      ],
      "text/plain": [
       "h(n, x[1], x[2]) = k_E⋅n(x[1], x[2])"
      ]
     },
     "metadata": {},
     "output_type": "display_data"
    },
    {
     "name": "stdout",
     "output_type": "stream",
     "text": [
      "moment change:\n"
     ]
    },
    {
     "data": {
      "image/png": "[encoded data removed]",
      "text/latex": [
       "$$\\Delta\\mathcal{M}{\\left ({x}_{1},{x}_{2} \\right )} = - {x}_{1}^{{\\gamma}_{1}} {x}_{2}^{{\\gamma}_{2}}$$"
      ],
      "text/plain": [
       "                                     \\gamma[1]     \\gamma[2]\n",
       "\\Delta\\mathcal{M}(x[1], x[2]) = -x[1]         ⋅x[2]         "
      ]
     },
     "metadata": {},
     "output_type": "display_data"
    }
   ],
   "source": [
    "D = 2\n",
    "\n",
    "# x1,x2,...\n",
    "x = IndexedBase('x', integer=True)\n",
    "i = symbols('i', cls=Idx)\n",
    "\n",
    "# h(n,x1,x2] = k_E * n(x1,x2)\n",
    "kE = symbols('k_E')\n",
    "h = Function('h', real=True)\n",
    "n = Function('n', integer=True)\n",
    "propensity = Eq(h(n, x[1], x[2]), kE * n(x[1], x[2]))\n",
    "\n",
    "\n",
    "print('propensity:')\n",
    "display(propensity)\n",
    "\n",
    "\n",
    "\n",
    "g = IndexedBase('\\gamma', integer=True)\n",
    "dn = Function('\\Delta{}n', integer=True)\n",
    "\n",
    "\n",
    "\n",
    "M = Function('\\mathcal{M}', real=True)\n",
    "DM = Function('\\Delta\\mathcal{M}', real=True)\n",
    "mchange = Eq( DM( x[1], x[2] ), x[1]**g[1] * x[2]**g[2] * -1 )\n",
    "\n",
    "print('moment change:')\n",
    "display(mchange)\n",
    "\n"
   ]
  },
  {
   "cell_type": "code",
   "execution_count": 62,
   "metadata": {},
   "outputs": [
    {
     "data": {
      "image/png": "[encoded data removed]",
      "text/latex": [
       "$$\\frac{\\partial}{\\partial t} \\mathcal{M}{\\left ({x}_{1},{x}_{2} \\right )} = \\sum_{\\substack{0 \\leq {x}_{1} \\leq \\infty\\\\0 \\leq {x}_{2} \\leq \\infty}} \\Delta\\mathcal{M}{\\left ({x}_{1},{x}_{2} \\right )}$$"
      ],
      "text/plain": [
       "                                 ∞        ∞                                  \n",
       "                                ___      ___                                 \n",
       "                                ╲        ╲                                   \n",
       "∂                                ╲        ╲     \\Delta\\mathcal{M}(x[1], x[2])\n",
       "──(\\mathcal{M}(x[1], x[2])) =    ╱        ╱                                  \n",
       "∂t                              ╱        ╱                                   \n",
       "                                ‾‾‾      ‾‾‾                                 \n",
       "                              x[2] = 0 x[1] = 0                              "
      ]
     },
     "execution_count": 62,
     "metadata": {},
     "output_type": "execute_result"
    }
   ],
   "source": [
    "t = symbols('t')\n",
    "mdt = Eq( Derivative( M( x[1], x[2] ), t ), Sum( DM( x[1], x[2] ), (x[1], 0, oo),  (x[2], 0, oo) ) )\n",
    "mdt"
   ]
  },
  {
   "cell_type": "code",
   "execution_count": 63,
   "metadata": {},
   "outputs": [
    {
     "data": {
      "image/png": "[encoded data removed]",
      "text/latex": [
       "$$\\frac{\\partial}{\\partial t} \\mathcal{M}{\\left ({x}_{1},{x}_{2} \\right )} = \\sum_{\\substack{0 \\leq {x}_{1} \\leq \\infty\\\\0 \\leq {x}_{2} \\leq \\infty}} - {x}_{1}^{{\\gamma}_{1}} {x}_{2}^{{\\gamma}_{2}}$$"
      ],
      "text/plain": [
       "                                 ∞        ∞                                 \n",
       "                                ___      ___                                \n",
       "                                ╲        ╲                                  \n",
       "∂                                ╲        ╲          \\gamma[1]     \\gamma[2]\n",
       "──(\\mathcal{M}(x[1], x[2])) =    ╱        ╱     -x[1]         ⋅x[2]         \n",
       "∂t                              ╱        ╱                                  \n",
       "                                ‾‾‾      ‾‾‾                                \n",
       "                              x[2] = 0 x[1] = 0                             "
      ]
     },
     "execution_count": 63,
     "metadata": {},
     "output_type": "execute_result"
    }
   ],
   "source": [
    "mdt.subs(DM( x[1], x[2] ), x[1]**g[1] * x[2]**g[2] * -1)"
   ]
  },
  {
   "cell_type": "code",
   "execution_count": 71,
   "metadata": {},
   "outputs": [
    {
     "data": {
      "image/png": "[encoded data removed]",
      "text/latex": [
       "$$\\sum_{\\substack{0 \\leq {x}_{1} \\leq \\infty\\\\0 \\leq {x}_{2} \\leq \\infty}} - k_{E} n{\\left ({x}_{1},{x}_{2} \\right )} {x}_{1}^{{\\gamma}_{1}} {x}_{2}^{{\\gamma}_{2}}$$"
      ],
      "text/plain": [
       "   ∞        ∞                                                   \n",
       "  ___      ___                                                  \n",
       "  ╲        ╲                                                    \n",
       "   ╲        ╲                            \\gamma[1]     \\gamma[2]\n",
       "   ╱        ╱     -k_E⋅n(x[1], x[2])⋅x[1]         ⋅x[2]         \n",
       "  ╱        ╱                                                    \n",
       "  ‾‾‾      ‾‾‾                                                  \n",
       "x[2] = 0 x[1] = 0                                               "
      ]
     },
     "execution_count": 71,
     "metadata": {},
     "output_type": "execute_result"
    }
   ],
   "source": [
    "sm = Sum( DM( x[1], x[2] ) * propensity.args[1], (x[1], 0, oo),  (x[2], 0, oo) )\n",
    "sm = sm.subs(DM( x[1], x[2] ), x[1]**g[1] * x[2]**g[2] * -1)\n",
    "sm"
   ]
  },
  {
   "cell_type": "code",
   "execution_count": 72,
   "metadata": {},
   "outputs": [
    {
     "data": {
      "image/png": "[encoded data removed]",
      "text/latex": [
       "$$- k_{E} \\sum_{{x}_{2}=0}^{\\infty} {x}_{2}^{{\\gamma}_{2}} \\sum_{{x}_{1}=0}^{\\infty} n{\\left ({x}_{1},{x}_{2} \\right )} {x}_{1}^{{\\gamma}_{1}}$$"
      ],
      "text/plain": [
       "        ∞                                                       \n",
       "      ______                                                    \n",
       "      ╲                                                         \n",
       "       ╲                       ∞                                \n",
       "        ╲                     ___                               \n",
       "         ╲                    ╲                                 \n",
       "          ╲       \\gamma[2]    ╲                       \\gamma[1]\n",
       "-k_E⋅     ╱   x[2]         ⋅   ╱     n(x[1], x[2])⋅x[1]         \n",
       "         ╱                    ╱                                 \n",
       "        ╱                     ‾‾‾                               \n",
       "       ╱                    x[1] = 0                            \n",
       "      ╱                                                         \n",
       "      ‾‾‾‾‾‾                                                    \n",
       "     x[2] = 0                                                   "
      ]
     },
     "execution_count": 72,
     "metadata": {},
     "output_type": "execute_result"
    }
   ],
   "source": [
    "sm.combsimp()"
   ]
  },
  {
   "cell_type": "code",
   "execution_count": 73,
   "metadata": {},
   "outputs": [
    {
     "data": {
      "image/png": "[encoded data removed]",
      "text/latex": [
       "$$- k_{E}$$"
      ],
      "text/plain": [
       "-k_E"
      ]
     },
     "execution_count": 73,
     "metadata": {},
     "output_type": "execute_result"
    }
   ],
   "source": [
    "# \n",
    "cancel ( sm / Sum( x[1]**g[1] * x[2]**g[2] * n( x[1], x[2] ), (x[1], 0, oo),  (x[2], 0, oo) ) )\n"
   ]
  },
  {
   "cell_type": "code",
   "execution_count": 69,
   "metadata": {},
   "outputs": [
    {
     "data": {
      "image/png": "[encoded data removed]",
      "text/latex": [
       "$$k_{E} n{\\left ({x}_{1},{x}_{2} \\right )}$$"
      ],
      "text/plain": [
       "k_E⋅n(x[1], x[2])"
      ]
     },
     "execution_count": 69,
     "metadata": {},
     "output_type": "execute_result"
    }
   ],
   "source": [
    "propensity.args[1]"
   ]
  },
  {
   "cell_type": "code",
   "execution_count": null,
   "metadata": {},
   "outputs": [],
   "source": []
  }
 ],
 "metadata": {
  "kernelspec": {
   "display_name": "Python 3",
   "language": "python",
   "name": "python3"
  },
  "language_info": {
   "codemirror_mode": {
    "name": "ipython",
    "version": 3
   },
   "file_extension": ".py",
   "mimetype": "text/x-python",
   "name": "python",
   "nbconvert_exporter": "python",
   "pygments_lexer": "ipython3",
   "version": "3.7.3"
  }
 },
 "nbformat": 4,
 "nbformat_minor": 2
}
