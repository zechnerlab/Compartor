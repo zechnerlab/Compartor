{
 "cells": [
  {
   "cell_type": "markdown",
   "metadata": {},
   "source": [
    "# Implementation details: deriving expected moment dynamics  \n",
    "$$\n",
    "\\def\\n{\\mathbf{n}}\n",
    "\\def\\x{\\mathbf{x}}\n",
    "\\def\\N{\\mathbb{\\mathbb{N}}}\n",
    "\\def\\X{\\mathbb{X}}\n",
    "\\def\\NX{\\mathbb{\\N_0^\\X}}\n",
    "\\def\\C{\\mathcal{C}}\n",
    "\\def\\Jc{\\mathcal{J}_c}\n",
    "\\def\\DM{\\Delta M_{c,j}}\n",
    "\\newcommand\\diff{\\mathop{}\\!\\mathrm{d}}\n",
    "\\def\\Xc{\\mathbf{X}_c}\n",
    "\\newcommand{\\muset}[1]{\\dot{\\{}#1\\dot{\\}}}\n",
    "$$\n",
    "This notebook walks through what happens inside `compute_moment_evolutions()`.\n",
    "We restate the algorithm outline, adding code snippets for each step.\n",
    "This should help to track down issues when, unavoidably, something fails inside `compute_moment_evolutions()`."
   ]
  },
  {
   "cell_type": "code",
   "execution_count": 1,
   "metadata": {},
   "outputs": [
    {
     "data": {
      "image/png": "[encoded data removed]",
      "text/latex": [
       "$\\displaystyle \\left[x\\right] + \\left[y\\right]\\overset{h_C}{\\longrightarrow}\\left[x + y\\right]$"
      ],
      "text/plain": [
       "[x] + [y] ---> [x + y])"
      ]
     },
     "metadata": {},
     "output_type": "display_data"
    },
    {
     "data": {
      "image/png": "[encoded data removed]",
      "text/latex": [
       "$\\displaystyle h_{C} = \\frac{k_{C} \\left(n{\\left(y \\right)} - \\delta_{x y}\\right) n{\\left(x \\right)}}{\\delta_{x y} + 1}$"
      ],
      "text/plain": [
       "        k_C⋅⎛n(y) - δ   ⎞⋅n(x)\n",
       "            ⎝        x,y⎠     \n",
       "h_{C} = ──────────────────────\n",
       "               δ    + 1       \n",
       "                x,y           "
      ]
     },
     "metadata": {},
     "output_type": "display_data"
    }
   ],
   "source": [
    "# initialize sympy printing (for latex output)\n",
    "from sympy import init_printing\n",
    "init_printing()\n",
    "\n",
    "# import functions and classes for compartment models\n",
    "from compartments import *\n",
    "from compartments_display import *\n",
    "\n",
    "\n",
    "\n",
    "\n",
    "# We only need one transition.\n",
    "# We use \"coagulation\" from the coagulation-fragmentation example\n",
    "\n",
    "D = 1 # number of species\n",
    "x = ContentVar('x')\n",
    "y = ContentVar('y')\n",
    "\n",
    "transition_C = Transition(Compartment(x) + Compartment(y), Compartment(x + y), name = 'C')\n",
    "k_C = Constant('k_C')\n",
    "g_C = 1\n",
    "pi_C = pi_c_identity()\n",
    "\n",
    "transitions = [(transition_C, k_C, g_C, pi_C)]\n",
    "display_transitions(transitions)"
   ]
  },
  {
   "cell_type": "markdown",
   "metadata": {},
   "source": [
    "$$\n",
    "\\def\\n{\\mathbf{n}}\n",
    "\\def\\x{\\mathbf{x}}\n",
    "\\def\\N{\\mathbb{\\mathbb{N}}}\n",
    "\\def\\X{\\mathbb{X}}\n",
    "\\def\\NX{\\mathbb{\\N_0^\\X}}\n",
    "\\def\\C{\\mathcal{C}}\n",
    "\\def\\Jc{\\mathcal{J}_c}\n",
    "\\def\\DM{\\Delta M_{c,j}}\n",
    "\\newcommand\\diff{\\mathop{}\\!\\mathrm{d}}\n",
    "\\def\\Xc{\\mathbf{X}_c}\n",
    "\\newcommand{\\muset}[1]{\\dot{\\{}#1\\dot{\\}}}\n",
    "$$\n",
    "\n",
    "\n",
    "For a compartment population $\\n \\in \\NX$ evolving stochastically according to stoichiometric equations from transition classes $\\C$, we want to find an expression for\n",
    "$$\n",
    "\\frac{\\diff}{\\diff t}\\left< f(M^\\gamma, M^{\\gamma'}, \\ldots) \\right>\n",
    "$$\n",
    "in terms of expectations of population moments $M^\\alpha, M^{\\beta}, \\ldots$"
   ]
  },
  {
   "cell_type": "code",
   "execution_count": 2,
   "metadata": {},
   "outputs": [
    {
     "data": {
      "image/png": "[encoded data removed]",
      "text/latex": [
       "$\\displaystyle {\\left(M^{0}\\right)}^{2}$"
      ],
      "text/plain": [
       "      2   \n",
       "Moment (0)"
      ]
     },
     "metadata": {},
     "output_type": "display_data"
    }
   ],
   "source": [
    "fM = Moment(0)**2\n",
    "display(fM)"
   ]
  },
  {
   "cell_type": "markdown",
   "metadata": {},
   "source": [
    "### (1)\n",
    "From the definition of the compartment dynamics, we have\n",
    "$$\n",
    "\\diff M^\\gamma = \\sum_{c \\in \\C} \\sum_{j \\in \\Jc} \\DM^\\gamma \\diff R_{c,j}\n",
    "$$\n",
    "We apply Ito's rule to derive\n",
    "$$\n",
    "\\diff f(M^\\gamma, M^{\\gamma'}, \\ldots) = \\sum_{c \\in \\C} \\sum_{j \\in \\Jc}\n",
    "    \\left(\n",
    "        f(M^\\gamma + \\DM^\\gamma, M^{\\gamma'} + \\DM^{\\gamma'}, \\ldots)\n",
    "        - f(M^\\gamma, M^{\\gamma'}, \\ldots)\n",
    "    \\right) \\diff R_{c,j}\n",
    "$$"
   ]
  },
  {
   "cell_type": "markdown",
   "metadata": {},
   "source": [
    "Assume, that $f(M^\\gamma, M^{\\gamma'}, \\ldots)$ is a polynomial in $M^{\\gamma^i}$ with $\\gamma^i \\in \\N_0^D$.\n",
    "\n",
    "Then $\\diff f(M^\\gamma, M^{\\gamma'}, \\ldots)$ is a polynomial in $M^{\\gamma^k}, \\DM^{\\gamma^l}$ with $\\gamma^k, \\gamma^l \\in \\N_0^D$, that is,\n",
    "$$\n",
    "\\diff f(M^\\gamma, M^{\\gamma'}, \\ldots) = \\sum_{c \\in \\C} \\sum_{j \\in \\Jc}\n",
    "    \\sum_{q=1}^{n_q} Q_q(M^{\\gamma^k}, \\DM^{\\gamma^l})\n",
    "    \\diff R_{c,j}\n",
    "$$\n",
    "where $Q_q(M^{\\gamma^k}, \\DM^{\\gamma^l})$ are monomials in $M^{\\gamma^k}, \\DM^{\\gamma^l}$."
   ]
  },
  {
   "cell_type": "code",
   "execution_count": 3,
   "metadata": {},
   "outputs": [
    {
     "data": {
      "image/png": "[encoded data removed]",
      "text/latex": [
       "$\\displaystyle {\\left(\\Delta{}M^{0}\\right)}^{2} + 2 \\Delta{}M^{0} M^{0}$"
      ],
      "text/plain": [
       "      2                           \n",
       "DeltaM (0) + 2⋅DeltaM(0)⋅Moment(0)"
      ]
     },
     "execution_count": 3,
     "metadata": {},
     "output_type": "execute_result"
    }
   ],
   "source": [
    "dfM = ito(fM)\n",
    "dfM"
   ]
  },
  {
   "cell_type": "markdown",
   "metadata": {},
   "source": [
    "### (2)\n",
    "Let's write $Q_q(M^{\\gamma^k}, \\DM^{\\gamma^l})$ as\n",
    "$$\n",
    "Q_q(M^{\\gamma^k}, \\DM^{\\gamma^l}) = k_q \\cdot \\Pi M^{\\gamma^k} \\cdot \\Pi M^{\\gamma^k}\n",
    "$$\n",
    "where $k_q$ is a constant,\n",
    "  $\\Pi M^{\\gamma^k}$ is a product of powers of $M^{\\gamma^k}$, and\n",
    "  $\\Pi \\DM^{\\gamma^l}$ is a product of powers of $\\DM^{\\gamma^l}$.\n",
    "  \n",
    "Analogous to the derivation in SI Appendix S.3, we arrive at the expected moment dynamics\n",
    "$$\n",
    "\\frac{\\diff\\left< f(M^\\gamma, M^{\\gamma'}, \\ldots) \\right>}{\\diff t} =\n",
    "    \\sum_{c \\in \\C} \\sum_{q=1}^{n_q} \\left<\n",
    "        \\sum_{j \\in \\Jc} k_q \\cdot \\Pi M^{\\gamma^k} \\cdot \\Pi \\DM^{\\gamma^k} \\cdot h_{c,j}(\\n)\n",
    "    \\right>\n",
    "$$"
   ]
  },
  {
   "cell_type": "code",
   "execution_count": 4,
   "metadata": {},
   "outputs": [
    {
     "data": {
      "image/png": "[encoded data removed]",
      "text/latex": [
       "$\\displaystyle \\left[ \\left( 1, \\  1, \\  {\\left(\\Delta{}M^{0}\\right)}^{2}\\right), \\  \\left( 2, \\  M^{0}, \\  \\Delta{}M^{0}\\right)\\right]$"
      ],
      "text/plain": [
       "⎡⎛            2   ⎞                           ⎤\n",
       "⎣⎝1, 1, DeltaM (0)⎠, (2, Moment(0), DeltaM(0))⎦"
      ]
     },
     "execution_count": 4,
     "metadata": {},
     "output_type": "execute_result"
    }
   ],
   "source": [
    "monomials = decomposeMomentsPolynomial(dfM)\n",
    "monomials"
   ]
  },
  {
   "cell_type": "markdown",
   "metadata": {},
   "source": [
    "### (3)\n",
    "Analogous to SI Appendix S.4, the contribution of class $c$, monomial $q$ to the expected dynamics of $f(M^\\gamma, M^{\\gamma'}, \\ldots)$ is\n",
    "$$\n",
    "\\begin{align}\n",
    "\\frac{\\diff\\left< f(M^\\gamma, M^{\\gamma'}, \\ldots) \\right>}{\\diff t}\n",
    "    &= \\left<\n",
    "        {\\large\\sum_{j \\in \\Jc}} k_q \\cdot \\Pi M^{\\gamma^k} \\cdot \\Pi \\DM^{\\gamma^l} \\cdot h_{c,j}(\\n)\n",
    "    \\right>\n",
    "    \\\\\n",
    "    &= \\left<\n",
    "        {\\large\\sum_{\\Xc}} w(\\n; \\Xc) \\cdot k_c \\cdot k_q \\cdot \\Pi M^{\\gamma^k} \\cdot g_c(\\Xc) \\cdot\n",
    "        \\left<\n",
    "            \\Pi \\DM^{\\gamma^l} \\;\\big|\\; \\Xc\n",
    "        \\right>\n",
    "    \\right>\n",
    "\\end{align}\n",
    "$$\n"
   ]
  },
  {
   "cell_type": "code",
   "execution_count": 5,
   "metadata": {},
   "outputs": [],
   "source": [
    "c = 0 # take the first transition class\n",
    "q = 1 # ... and the second monomial\n",
    "\n",
    "(transition, k_c, g_c, pi_c) = transitions[c]\n",
    "(k_q, pM, pDM) = monomials[q]"
   ]
  },
  {
   "cell_type": "markdown",
   "metadata": {},
   "source": [
    "First we compute the expression\n",
    "$$\n",
    "l(\\n; \\Xc) = k_c \\cdot k_q \\cdot \\Pi(M^{\\gamma^k}) \\cdot g_c(\\Xc) \\cdot\n",
    "        \\left<\n",
    "            \\Pi \\DM^{\\gamma^l} \\;\\big|\\; \\Xc\n",
    "        \\right>\n",
    "$$\n",
    "We start by computing the $\\DM^{\\gamma^l}$ from reactants and products of the transition ..."
   ]
  },
  {
   "cell_type": "code",
   "execution_count": 6,
   "metadata": {},
   "outputs": [
    {
     "data": {
      "image/png": "[encoded data removed]",
      "text/latex": [
       "$\\displaystyle \\left({x}_{0} + {y}_{0}\\right)^{{\\gamma}_{0}} - {x}_{0}^{{\\gamma}_{0}} - {y}_{0}^{{\\gamma}_{0}}$"
      ],
      "text/plain": [
       "             \\gamma[0]       \\gamma[0]       \\gamma[0]\n",
       "(x[0] + y[0])          - x[0]          - y[0]         "
      ]
     },
     "execution_count": 6,
     "metadata": {},
     "output_type": "execute_result"
    }
   ],
   "source": [
    "reactants = getCompartments(transition.lhs)\n",
    "products = getCompartments(transition.rhs)\n",
    "DM_cj = getDeltaM(reactants, products, D)\n",
    "DM_cj"
   ]
  },
  {
   "cell_type": "markdown",
   "metadata": {},
   "source": [
    "... and then substituting this expression into every occurence of $\\DM^\\gamma$ in `pDM` (with the $\\gamma$ in `DM_cj` set appropriately)."
   ]
  },
  {
   "cell_type": "code",
   "execution_count": 7,
   "metadata": {},
   "outputs": [
    {
     "name": "stdout",
     "output_type": "stream",
     "text": [
      "pDM = \n"
     ]
    },
    {
     "data": {
      "image/png": "[encoded data removed]",
      "text/latex": [
       "$\\displaystyle \\Delta{}M^{0}$"
      ],
      "text/plain": [
       "DeltaM(0)"
      ]
     },
     "metadata": {},
     "output_type": "display_data"
    },
    {
     "name": "stdout",
     "output_type": "stream",
     "text": [
      "pDMcj = \n"
     ]
    },
    {
     "data": {
      "image/png": "[encoded data removed]",
      "text/latex": [
       "$\\displaystyle -1$"
      ],
      "text/plain": [
       "-1"
      ]
     },
     "metadata": {},
     "output_type": "display_data"
    }
   ],
   "source": [
    "pDMcj = subsDeltaM(pDM, DM_cj)\n",
    "print('pDM = ')\n",
    "display(pDM)\n",
    "print('pDMcj = ')\n",
    "display(pDMcj)"
   ]
  },
  {
   "cell_type": "markdown",
   "metadata": {},
   "source": [
    "Then we compute the conditional expectation of the result."
   ]
  },
  {
   "cell_type": "code",
   "execution_count": 8,
   "metadata": {},
   "outputs": [
    {
     "data": {
      "image/png": "[encoded data removed]",
      "text/latex": [
       "$\\displaystyle -1$"
      ],
      "text/plain": [
       "-1"
      ]
     },
     "execution_count": 8,
     "metadata": {},
     "output_type": "execute_result"
    }
   ],
   "source": [
    "cexp = pi_c.conditional_expectation(pDMcj)\n",
    "cexp"
   ]
  },
  {
   "cell_type": "markdown",
   "metadata": {},
   "source": [
    "Finally we multiply the conditional expectation with the rest of the terms:\n",
    "* $k_c$, and $g_c(\\Xc)$ from the specification of `transition[c]`, and\n",
    "* $k_q$, and $\\Pi(M^{\\gamma^k})$ from `monomials[q]`."
   ]
  },
  {
   "cell_type": "code",
   "execution_count": 9,
   "metadata": {},
   "outputs": [
    {
     "data": {
      "image/png": "[encoded data removed]",
      "text/latex": [
       "$\\displaystyle - 2 k_{C} M^{0}$"
      ],
      "text/plain": [
       "-2⋅k_C⋅Moment(0)"
      ]
     },
     "execution_count": 9,
     "metadata": {},
     "output_type": "execute_result"
    }
   ],
   "source": [
    "l_n_Xc = k_c * k_q * pM * g_c * cexp\n",
    "l_n_Xc"
   ]
  },
  {
   "cell_type": "markdown",
   "metadata": {},
   "source": [
    "### (4)\n",
    "Let's consider the expression $A = \\sum_{\\Xc} w(\\n; \\Xc) \\cdot l(\\n; \\Xc)$ for the following cases of reactant compartments:\n",
    "$\\Xc = \\emptyset$,\n",
    "$\\Xc = \\muset{\\x}$, and\n",
    "$\\Xc = \\muset{\\x, \\x'}$.\n",
    "\n",
    "(1) $\\Xc = \\emptyset$:\n",
    "\n",
    "Then $w(\\n; \\Xc) = 1$, and\n",
    "$$\n",
    "    A = l(\\n)\n",
    "$$\n",
    "\n",
    "(2) $\\Xc = \\muset{\\x}$:\n",
    "\n",
    "Then $w(\\n; \\Xc) = 1$, and\n",
    "$$\n",
    "    A = \\sum_{\\x \\in \\X} \\n(\\x) \\cdot l(\\n; \\muset{\\x})\n",
    "$$\n",
    "\n",
    "(3) $\\Xc = \\muset{\\x, \\x'}$:\n",
    "\n",
    "Then\n",
    "$$\n",
    "    w(\\n; \\Xc) = \\frac{\\n(\\x)\\cdot(\\n(\\x')-\\delta_{\\x,\\x'})}\n",
    "    {1+\\delta_{\\x,\\x'}},\n",
    "$$\n",
    "and\n",
    "$$\n",
    "\\begin{align}\n",
    "    A &= \\sum_{\\x \\in \\X} \\sum_{\\x' \\in \\X}\n",
    "            \\frac{1}{2-\\delta_{\\x,\\x'}}\n",
    "            \\cdot w(\\n; \\Xc) \\cdot l(\\n; \\muset{\\x, \\x'}) \\\\\n",
    "      &= \\sum_{\\x \\in \\X} \\sum_{\\x' \\in \\X}\n",
    "            \\frac{\\n(\\x)\\cdot(\\n(\\x')-\\delta_{\\x,\\x'})}{2}\n",
    "            \\cdot l(\\n; \\muset{\\x, \\x'}) \\\\\n",
    "      &= \\sum_{\\x \\in \\X} \\sum_{\\x' \\in \\X}\n",
    "            \\n(\\x)\\cdot\\n(\\x') \\cdot \\frac{1}{2}l(\\n; \\muset{\\x, \\x'})\n",
    "         \\: - \\:\n",
    "         \\sum_{\\x \\in \\X}\n",
    "            \\n(\\x) \\cdot \\frac{1}{2}l(\\n; \\muset{\\x, \\x})\n",
    "\\end{align}\n",
    "$$"
   ]
  },
  {
   "cell_type": "markdown",
   "metadata": {},
   "source": [
    "### (5)\n",
    "Now let\n",
    "$$\n",
    "l(\\n; \\Xc) = k_c \\cdot k_q \\cdot \\Pi(M^{\\gamma^k}) \\cdot g_c(\\Xc) \\cdot\n",
    "        \\left<\n",
    "            \\Pi \\DM^{\\gamma^l} \\;\\big|\\; \\Xc\n",
    "        \\right>\n",
    "$$\n",
    "\n",
    "Plugging in the concrete $\\gamma^l$ and expanding, $l(\\n; \\Xc)$ is a polynomial in $\\Xc$.\n",
    "\n",
    "Monomials are of the form $k \\x^\\alpha$ or $k \\x^\\alpha \\x'^\\beta$ with $\\alpha, \\beta \\in \\N_0^D$.\n",
    "(Note that occurences of $\\Pi M^{\\gamma^k}$ are part of the constants $k$.)\n",
    "\n",
    "Consider again the different cases of reactant compartments $\\Xc$:\n",
    "\n",
    "(1) $\\Xc = \\emptyset$:\n",
    "$$\n",
    "\\frac{\\diff\\left< f(M^\\gamma, M^{\\gamma'}, \\ldots) \\right>}{\\diff t}\n",
    "    = \\left<l(\\n)\\right>\n",
    "$$\n",
    "\n",
    "(2) $\\Xc = \\muset{\\x}$:\n",
    "$$\n",
    "\\frac{\\diff\\left< f(M^\\gamma, M^{\\gamma'}, \\ldots) \\right>}{\\diff t}\n",
    "    = \\left<R(l(\\n; \\muset{\\x})\\right>\n",
    "$$\n",
    "where $R$ replaces all $k \\x^\\alpha$ by $k M^\\alpha$.\n",
    "\n",
    "(3) $\\Xc = \\muset{\\x, \\x'}$:\n",
    "$$\n",
    "\\frac{\\diff\\left< f(M^\\gamma, M^{\\gamma'}, \\ldots) \\right>}{\\diff t}\n",
    "    = \\frac{1}{2}\\left<R'(l(\\n; \\muset{\\x, \\x'})\\right>\n",
    "    \\: - \\:\n",
    "    \\frac{1}{2}\\left<R(l(\\n; \\muset{\\x, \\x})\\right>\n",
    "$$\n",
    "where $R'$ replaces all $k \\x^\\alpha \\X'^\\beta$ by $k M^\\alpha M^\\beta$,\n",
    "and again $R$ replaces all $k \\x^\\alpha$ by $k M^\\alpha$."
   ]
  },
  {
   "cell_type": "markdown",
   "metadata": {},
   "source": [
    "All this (the case destinction and replacements) is done in the function `get_dfMdt_contrib()`."
   ]
  },
  {
   "cell_type": "code",
   "execution_count": 10,
   "metadata": {},
   "outputs": [
    {
     "data": {
      "image/png": "[encoded data removed]",
      "text/latex": [
       "$\\displaystyle - k_{C} {\\left(M^{0}\\right)}^{3} + k_{C} {\\left(M^{0}\\right)}^{2}$"
      ],
      "text/plain": [
       "            3                2   \n",
       "- k_C⋅Moment (0) + k_C⋅Moment (0)"
      ]
     },
     "execution_count": 10,
     "metadata": {},
     "output_type": "execute_result"
    }
   ],
   "source": [
    "dfMdt = get_dfMdt_contrib(reactants, l_n_Xc, D)\n",
    "dfMdt"
   ]
  },
  {
   "cell_type": "markdown",
   "metadata": {},
   "source": [
    "### (6)\n",
    "Finally, sum over contributions from all $c$, $q$ for the total\n",
    "$$\n",
    "\\frac{\\diff\\left< f(M^\\gamma, M^{\\gamma'}, \\ldots) \\right>}{\\diff t}\n",
    "$$"
   ]
  }
 ],
 "metadata": {
  "kernelspec": {
   "display_name": "Python 3",
   "language": "python",
   "name": "python3"
  },
  "language_info": {
   "codemirror_mode": {
    "name": "ipython",
    "version": 3
   },
   "file_extension": ".py",
   "mimetype": "text/x-python",
   "name": "python",
   "nbconvert_exporter": "python",
   "pygments_lexer": "ipython3",
   "version": "3.7.3"
  }
 },
 "nbformat": 4,
 "nbformat_minor": 2
}
