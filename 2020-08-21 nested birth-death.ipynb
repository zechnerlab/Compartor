{
 "cells": [
  {
   "cell_type": "code",
   "execution_count": 1,
   "metadata": {},
   "outputs": [],
   "source": [
    "from sympy import init_printing, symbols, Eq, Symbol\n",
    "init_printing()\n",
    "\n",
    "\n",
    "# temp helpers \n",
    "def display_hc(k,g,pi,name='c'):\n",
    "    lhs = symbols('k_' + name)\n",
    "    rhs = k\n",
    "    display(Eq(lhs,rhs,evaluate=False))\n",
    "\n",
    "    lhs = symbols('g_' + name)\n",
    "    rhs = g\n",
    "    display(Eq(lhs,rhs,evaluate=False))\n",
    "\n",
    "    lhs = symbols('\\pi_' + name)\n",
    "    rhs = pi.expr\n",
    "    display(Eq(lhs,rhs,evaluate=False))\n"
   ]
  },
  {
   "cell_type": "code",
   "execution_count": 2,
   "metadata": {},
   "outputs": [],
   "source": [
    "from compartments import ContentVar, ContentChange, Transition, Compartment, EmptySet\n",
    "from compartments import Constant, pi_c_poisson, pi_c_identity\n",
    "\n",
    "D = 1 # number of species\n",
    "\n",
    "y = ContentVar('y')\n",
    "x = ContentVar('x')\n",
    "\n",
    "# Intake\n",
    "transition_I = Transition(EmptySet(), Compartment(y))\n",
    "k_I = Constant('k_I')\n",
    "g_I = 1\n",
    "pi_I = pi_c_poisson(\n",
    "    Symbol(\"\\pi_I\", positive=True),\n",
    "    y[0],\n",
    "    Symbol(\"\\lambda\", positive=True))\n",
    "\n",
    "# Exit\n",
    "transition_E = Transition(Compartment(x), EmptySet())\n",
    "k_E = Constant('k_E')\n",
    "g_E = 1\n",
    "pi_E = pi_c_identity()\n",
    "\n",
    "# birth\n",
    "transition_b = Transition(Compartment(x), Compartment(x + ContentChange(1)))\n",
    "k_b = Constant('k_b')\n",
    "g_b = 1\n",
    "pi_b = pi_c_identity()\n",
    "\n",
    "# death\n",
    "transition_d = Transition(Compartment(x), Compartment(x + ContentChange(-1)))\n",
    "k_d = Constant('k_d')\n",
    "g_d = x[0] # TODO x should be enough here, in case D=1.\n",
    "pi_d = pi_c_identity()\n",
    "\n",
    "transitions = [\n",
    "    (transition_I, k_I, g_I, pi_I),\n",
    "    (transition_E, k_E, g_E, pi_E),\n",
    "    (transition_b, k_b, g_b, pi_b),\n",
    "    (transition_d, k_d, g_d, pi_d)\n",
    "]\n",
    "\n",
    "# display(transition_I)\n",
    "# display_hc(k_I, g_I, pi_I, name='I')\n",
    "# display(transition_E)\n",
    "# display_hc(k_E, g_E, pi_E, name='E')\n",
    "# display(transition_b)\n",
    "# display_hc(k_b, g_b, pi_b, name='b')\n",
    "# display(transition_d)\n",
    "# display_hc(k_d, g_d, pi_d, name='d')"
   ]
  },
  {
   "cell_type": "code",
   "execution_count": 3,
   "metadata": {},
   "outputs": [
    {
     "data": {
      "text/latex": [
       "$$- k_{E} M^{0} + k_{I}$$"
      ],
      "text/plain": [
       "-k_E⋅Moment(0) + k_I"
      ]
     },
     "metadata": {},
     "output_type": "display_data"
    }
   ],
   "source": [
    "from compartments import Moment, get_dfMdt\n",
    "\n",
    "display(get_dfMdt(transitions, Moment(0), D))"
   ]
  },
  {
   "cell_type": "code",
   "execution_count": null,
   "metadata": {},
   "outputs": [],
   "source": []
  }
 ],
 "metadata": {
  "kernelspec": {
   "display_name": "Python 3",
   "language": "python",
   "name": "python3"
  },
  "language_info": {
   "codemirror_mode": {
    "name": "ipython",
    "version": 3
   },
   "file_extension": ".py",
   "mimetype": "text/x-python",
   "name": "python",
   "nbconvert_exporter": "python",
   "pygments_lexer": "ipython3",
   "version": "3.7.3"
  }
 },
 "nbformat": 4,
 "nbformat_minor": 2
}
