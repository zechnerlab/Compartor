{
 "cells": [
  {
   "cell_type": "code",
   "execution_count": 1,
   "metadata": {},
   "outputs": [],
   "source": [
    "from sympy import init_printing, symbols, Eq, Symbol\n",
    "init_printing()\n",
    "\n",
    "\n",
    "# temp helpers \n",
    "def display_hc(k,g,pi,name='c'):\n",
    "    lhs = symbols('k_' + name)\n",
    "    rhs = k\n",
    "    display(Eq(lhs,rhs,evaluate=False))\n",
    "\n",
    "    lhs = symbols('g_' + name)\n",
    "    rhs = g\n",
    "    display(Eq(lhs,rhs,evaluate=False))\n",
    "\n",
    "    lhs = symbols('\\pi_' + name)\n",
    "    rhs = pi.expr\n",
    "    display(Eq(lhs,rhs,evaluate=False))\n"
   ]
  },
  {
   "cell_type": "code",
   "execution_count": 2,
   "metadata": {},
   "outputs": [
    {
     "data": {
      "text/latex": [
       "$$\\emptyset\\overset{h_I}{\\longrightarrow}\\left[y\\right]$$"
      ],
      "text/plain": [
       "EmptySet() ---> [y])"
      ]
     },
     "metadata": {},
     "output_type": "display_data"
    },
    {
     "data": {
      "image/png": "[encoded data removed]",
      "text/latex": [
       "$$h_{I} = \\pi_I k_{I}$$"
      ],
      "text/plain": [
       "h_{I} = \\pi_I⋅k_I"
      ]
     },
     "metadata": {},
     "output_type": "display_data"
    },
    {
     "data": {
      "text/latex": [
       "$$\\left[x\\right]\\overset{h_E}{\\longrightarrow}\\emptyset$$"
      ],
      "text/plain": [
       "[x] ---> EmptySet())"
      ]
     },
     "metadata": {},
     "output_type": "display_data"
    },
    {
     "data": {
      "image/png": "[encoded data removed]",
      "text/latex": [
       "$$h_{E} = k_{E} n{\\left (x \\right )}$$"
      ],
      "text/plain": [
       "h_{E} = k_E⋅n(x)"
      ]
     },
     "metadata": {},
     "output_type": "display_data"
    },
    {
     "data": {
      "text/latex": [
       "$$\\left[x\\right]\\overset{h_b}{\\longrightarrow}\\left[\\left ( 1\\right ) + x\\right]$$"
      ],
      "text/plain": [
       "[x] ---> [(1,) + x])"
      ]
     },
     "metadata": {},
     "output_type": "display_data"
    },
    {
     "data": {
      "image/png": "[encoded data removed]",
      "text/latex": [
       "$$h_{b} = k_{b} n{\\left (x \\right )}$$"
      ],
      "text/plain": [
       "h_{b} = k_b⋅n(x)"
      ]
     },
     "metadata": {},
     "output_type": "display_data"
    },
    {
     "data": {
      "text/latex": [
       "$$\\left[x\\right]\\overset{h_d}{\\longrightarrow}\\left[\\left ( -1\\right ) + x\\right]$$"
      ],
      "text/plain": [
       "[x] ---> [(-1,) + x])"
      ]
     },
     "metadata": {},
     "output_type": "display_data"
    },
    {
     "data": {
      "image/png": "[encoded data removed]",
      "text/latex": [
       "$$h_{d} = k_{d} n{\\left (x \\right )} {x}_{0}$$"
      ],
      "text/plain": [
       "h_{d} = k_d⋅n(x)⋅x[0]"
      ]
     },
     "metadata": {},
     "output_type": "display_data"
    }
   ],
   "source": [
    "from compartments import ContentVar, ContentChange, Transition, Compartment, EmptySet\n",
    "from compartments import Constant, pi_c_poisson, pi_c_identity\n",
    "\n",
    "D = 1 # number of species\n",
    "\n",
    "y = ContentVar('y')\n",
    "x = ContentVar('x')\n",
    "\n",
    "# Intake\n",
    "transition_I = Transition(EmptySet(), Compartment(y), name='I')\n",
    "k_I = Constant('k_I')\n",
    "g_I = 1\n",
    "pi_I = pi_c_poisson(\n",
    "    Symbol(\"\\pi_I\", positive=True),\n",
    "    y[0],\n",
    "    Symbol(\"\\lambda\", positive=True))\n",
    "\n",
    "# Exit\n",
    "transition_E = Transition(Compartment(x), EmptySet(), name='E')\n",
    "k_E = Constant('k_E')\n",
    "g_E = 1\n",
    "pi_E = pi_c_identity()\n",
    "\n",
    "# birth\n",
    "transition_b = Transition(Compartment(x), Compartment(x + ContentChange(1)), name='b')\n",
    "k_b = Constant('k_b')\n",
    "g_b = 1\n",
    "pi_b = pi_c_identity()\n",
    "\n",
    "# death\n",
    "transition_d = Transition(Compartment(x), Compartment(x + ContentChange(-1)), name='d')\n",
    "k_d = Constant('k_d')\n",
    "g_d = x[0] # TODO x should be enough here, in case D=1.\n",
    "pi_d = pi_c_identity()\n",
    "\n",
    "transitions = [\n",
    "    (transition_I, k_I, g_I, pi_I),\n",
    "    (transition_E, k_E, g_E, pi_E),\n",
    "    (transition_b, k_b, g_b, pi_b),\n",
    "    (transition_d, k_d, g_d, pi_d)\n",
    "]\n",
    "\n",
    "from compartments_display import display_transitions\n",
    "\n",
    "display_transitions(transitions)"
   ]
  },
  {
   "cell_type": "code",
   "execution_count": 3,
   "metadata": {},
   "outputs": [
    {
     "data": {
      "text/latex": [
       "$$- k_{E} M^{0} + k_{I}$$"
      ],
      "text/plain": [
       "-k_E⋅Moment(0) + k_I"
      ]
     },
     "metadata": {},
     "output_type": "display_data"
    }
   ],
   "source": [
    "from compartments import Moment, get_dfMdt\n",
    "\n",
    "expr_moment = Moment(0)\n",
    "expr_dfMdt = get_dfMdt(transitions, expr_moment, D)\n",
    "display(expr_dfMdt)"
   ]
  },
  {
   "cell_type": "code",
   "execution_count": 4,
   "metadata": {},
   "outputs": [
    {
     "data": {
      "text/latex": [
       "$$\\frac{d}{d t} \\left< N\\right>  = - k_{E} \\left< N\\right>  + k_{I}$$"
      ],
      "text/plain": [
       "d                                             \n",
       "──(Expectation(N)) = -k_E⋅Expectation(N) + k_I\n",
       "dt                                            "
      ]
     },
     "metadata": {},
     "output_type": "display_data"
    }
   ],
   "source": [
    "from compartments_display import display_expected_moment_evolution\n",
    "\n",
    "display_expected_moment_evolution(expr_moment, expr_dfMdt, D=1)"
   ]
  }
 ],
 "metadata": {
  "kernelspec": {
   "display_name": "Python 3",
   "language": "python",
   "name": "python3"
  },
  "language_info": {
   "codemirror_mode": {
    "name": "ipython",
    "version": 3
   },
   "file_extension": ".py",
   "mimetype": "text/x-python",
   "name": "python",
   "nbconvert_exporter": "python",
   "pygments_lexer": "ipython3",
   "version": "3.7.3"
  }
 },
 "nbformat": 4,
 "nbformat_minor": 2
}
