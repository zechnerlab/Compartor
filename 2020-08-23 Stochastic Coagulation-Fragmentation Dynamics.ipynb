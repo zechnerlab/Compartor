{
 "cells": [
  {
   "cell_type": "markdown",
   "metadata": {},
   "source": [
    "# Stochastic Coagulation-Fragmentation Dynamics\n",
    "$$\n",
    "\\def\\n{\\mathbf{n}}\n",
    "\\def\\x{\\mathbf{x}}\n",
    "\\def\\N{\\mathbb{\\mathbb{N}}}\n",
    "\\def\\X{\\mathbb{X}}\n",
    "\\def\\NX{\\mathbb{\\N_0^\\X}}\n",
    "\\def\\C{\\mathcal{C}}\n",
    "\\def\\Jc{\\mathcal{J}_c}\n",
    "\\def\\DM{\\Delta M_{c,j}}\n",
    "\\newcommand\\diff{\\mathop{}\\!\\mathrm{d}}\n",
    "\\def\\Xc{\\mathbf{X}_c}\n",
    "\\def\\Yc{\\mathbf{Y}_c}\n",
    "\\newcommand{\\muset}[1]{\\dot{\\{}#1\\dot{\\}}}\n",
    "$$"
   ]
  },
  {
   "cell_type": "code",
   "execution_count": 1,
   "metadata": {},
   "outputs": [],
   "source": [
    "# initialize sympy printing (for latex output)\n",
    "from sympy import init_printing\n",
    "init_printing()\n",
    "\n",
    "# import functions and classes for compartment models\n",
    "from compartments import *\n",
    "from compartments_display import *"
   ]
  },
  {
   "cell_type": "markdown",
   "metadata": {},
   "source": [
    "## Specifying the reaction network"
   ]
  },
  {
   "cell_type": "code",
   "execution_count": 2,
   "metadata": {},
   "outputs": [
    {
     "data": {
      "text/latex": [
       "$$\\emptyset\\overset{h_I}{\\longrightarrow}\\left[y\\right]$$"
      ],
      "text/plain": [
       "EmptySet() ---> [y])"
      ]
     },
     "metadata": {},
     "output_type": "display_data"
    },
    {
     "data": {
      "image/png": "[encoded data removed]",
      "text/latex": [
       "$$h_{I} = \\pi_I k_{I}$$"
      ],
      "text/plain": [
       "h_{I} = \\pi_I⋅k_I"
      ]
     },
     "metadata": {},
     "output_type": "display_data"
    },
    {
     "data": {
      "text/latex": [
       "$$\\left[x\\right]\\overset{h_E}{\\longrightarrow}\\emptyset$$"
      ],
      "text/plain": [
       "[x] ---> EmptySet())"
      ]
     },
     "metadata": {},
     "output_type": "display_data"
    },
    {
     "data": {
      "image/png": "[encoded data removed]",
      "text/latex": [
       "$$h_{E} = k_{E} n{\\left (x \\right )}$$"
      ],
      "text/plain": [
       "h_{E} = k_E⋅n(x)"
      ]
     },
     "metadata": {},
     "output_type": "display_data"
    },
    {
     "data": {
      "text/latex": [
       "$$\\left[x\\right] + \\left[y\\right]\\overset{h_C}{\\longrightarrow}\\left[x + y\\right]$$"
      ],
      "text/plain": [
       "[x] + [y] ---> [x + y])"
      ]
     },
     "metadata": {},
     "output_type": "display_data"
    },
    {
     "data": {
      "image/png": "[encoded data removed]",
      "text/latex": [
       "$$h_{C} = k_{C} \\left(n{\\left (y \\right )} - \\delta_{x y}\\right) n{\\left (x \\right )}$$"
      ],
      "text/plain": [
       "h_{C} = k_C⋅⎛n(y) - δ   ⎞⋅n(x)\n",
       "            ⎝        x,y⎠     "
      ]
     },
     "metadata": {},
     "output_type": "display_data"
    },
    {
     "data": {
      "text/latex": [
       "$$\\left[x\\right]\\overset{h_F}{\\longrightarrow}\\left[x - y\\right] + \\left[y\\right]$$"
      ],
      "text/plain": [
       "[x] ---> [x - y] + [y])"
      ]
     },
     "metadata": {},
     "output_type": "display_data"
    },
    {
     "data": {
      "image/png": "[encoded data removed]",
      "text/latex": [
       "$$h_{F} = \\pi_F k_{F} n{\\left (x \\right )} {x}_{0}$$"
      ],
      "text/plain": [
       "h_{F} = \\pi_F⋅k_F⋅n(x)⋅x[0]"
      ]
     },
     "metadata": {},
     "output_type": "display_data"
    }
   ],
   "source": [
    "from coagulation_fragmentation import D, transitions\n",
    "display_transitions(transitions)"
   ]
  },
  {
   "cell_type": "markdown",
   "metadata": {},
   "source": [
    "## Deriving expected moment dynamics\n",
    "\n",
    "Next we specify the moments we want to derive, for example, $N$, $N^2$, $M^1$, and $(M^1)^2$.\n",
    "\n",
    "To denote a particular moment, use the `Moment` class. It takes as constructor arguments the integer exponents in each species."
   ]
  },
  {
   "cell_type": "code",
   "execution_count": 3,
   "metadata": {},
   "outputs": [
    {
     "data": {
      "text/latex": [
       "$$\\left\\{M^{0}, {\\left(M^{0}\\right)}^{2}, M^{1}, {\\left(M^{1}\\right)}^{2}\\right\\}$$"
      ],
      "text/plain": [
       "⎧                 2                      2   ⎫\n",
       "⎨Moment(0), Moment (0), Moment(1), Moment (1)⎬\n",
       "⎩                                            ⎭"
      ]
     },
     "metadata": {},
     "output_type": "display_data"
    }
   ],
   "source": [
    "moments = {\n",
    "    Moment(0),\n",
    "    Moment(0)**2,\n",
    "    Moment(1),\n",
    "    Moment(1)**2\n",
    "}\n",
    "display(moments)"
   ]
  },
  {
   "cell_type": "markdown",
   "metadata": {},
   "source": [
    "Then call the function `compute_moment_evolutions()`, giving the reaction network, the desired moment expressions, and the number of species."
   ]
  },
  {
   "cell_type": "code",
   "execution_count": 4,
   "metadata": {},
   "outputs": [],
   "source": [
    "(evolutions, missing) = compute_moment_evolutions(transitions, moments, D)"
   ]
  },
  {
   "cell_type": "markdown",
   "metadata": {},
   "source": [
    "The result is a pair `(evolutions, missing)`.\n",
    "\n",
    "`evolutions` are the expressions for the expectation of the desired moment expressions.\n",
    "`evolutions` is a list of pairs `(fM, dfMdt)`, where each pair consists of the desired moment expression, and the derived expression for its derivative by $t$.\n",
    "\n",
    "`missing` is a set of moment expressions that are reuired in the derivatives, but are not known yet (not listed in desired `moments`).\n",
    "\n",
    "To display the derived evolutions, use the `display_expected_moment_evolutions()` function."
   ]
  },
  {
   "cell_type": "code",
   "execution_count": 5,
   "metadata": {},
   "outputs": [
    {
     "data": {
      "text/latex": [
       "$$\\frac{d}{d t} \\left< N\\right>  = \\frac{k_{C} \\left< N\\right> }{2} - \\frac{k_{C} \\left< N^{2}\\right> }{2} - k_{E} \\left< N\\right>  + k_{F} \\left< M^{1}\\right>  + k_{I}$$"
      ],
      "text/plain": [
       "                                                         ⎛ 2⎞                 \n",
       "d                    k_C⋅Expectation(N)   k_C⋅Expectation⎝N ⎠                 \n",
       "──(Expectation(N)) = ────────────────── - ─────────────────── - k_E⋅Expectatio\n",
       "dt                           2                     2                          \n",
       "\n",
       "                                       \n",
       "                                       \n",
       "n(N) + k_F⋅Expectation(Moment(1)) + k_I\n",
       "                                       "
      ]
     },
     "metadata": {},
     "output_type": "display_data"
    },
    {
     "data": {
      "text/latex": [
       "$$\\frac{d}{d t} \\left< {\\left(M^{1}\\right)}^{2}\\right>  = \\lambda^{2} k_{I} + 2 \\lambda k_{I} \\left< M^{1}\\right>  + \\lambda k_{I} - 2 k_{E} \\left< {\\left(M^{1}\\right)}^{2}\\right>  + k_{E} \\left< M^{2}\\right> $$"
      ],
      "text/plain": [
       "d ⎛           ⎛      2   ⎞⎞          2                                        \n",
       "──⎝Expectation⎝Moment (1)⎠⎠ = \\lambda ⋅k_I + 2⋅\\lambda⋅k_I⋅Expectation(Moment(\n",
       "dt                                                                            \n",
       "\n",
       "                                     ⎛      2   ⎞                             \n",
       "1)) + \\lambda⋅k_I - 2⋅k_E⋅Expectation⎝Moment (1)⎠ + k_E⋅Expectation(Moment(2))\n",
       "                                                                              "
      ]
     },
     "metadata": {},
     "output_type": "display_data"
    },
    {
     "data": {
      "text/latex": [
       "$$\\frac{d}{d t} \\left< M^{1}\\right>  = \\lambda k_{I} - k_{E} \\left< M^{1}\\right> $$"
      ],
      "text/plain": [
       "d                                                                    \n",
       "──(Expectation(Moment(1))) = \\lambda⋅k_I - k_E⋅Expectation(Moment(1))\n",
       "dt                                                                   "
      ]
     },
     "metadata": {},
     "output_type": "display_data"
    },
    {
     "data": {
      "text/latex": [
       "$$\\frac{d}{d t} \\left< N^{2}\\right>  = - \\frac{k_{C} \\left< N\\right> }{2} + \\frac{3 k_{C} \\left< N^{2}\\right> }{2} - k_{C} \\left< N^{3}\\right>  + k_{E} \\left< N\\right>  - 2 k_{E} \\left< N^{2}\\right>  + 2 k_{F} \\left< N M^{1}\\right>  + k_{F} \\left< M^{1}\\right>  + 2 k_{I} \\left< N\\right>  + k_{I}$$"
      ],
      "text/plain": [
       "                                                              ⎛ 2⎞            \n",
       "d ⎛           ⎛ 2⎞⎞     k_C⋅Expectation(N)   3⋅k_C⋅Expectation⎝N ⎠            \n",
       "──⎝Expectation⎝N ⎠⎠ = - ────────────────── + ───────────────────── - k_C⋅Expec\n",
       "dt                              2                      2                      \n",
       "\n",
       "                                                                              \n",
       "      ⎛ 3⎞                                         ⎛ 2⎞                       \n",
       "tation⎝N ⎠ + k_E⋅Expectation(N) - 2⋅k_E⋅Expectation⎝N ⎠ + 2⋅k_F⋅Expectation(N⋅\n",
       "                                                                              \n",
       "\n",
       "                                                                    \n",
       "                                                                    \n",
       "Moment(1)) + k_F⋅Expectation(Moment(1)) + 2⋅k_I⋅Expectation(N) + k_I\n",
       "                                                                    "
      ]
     },
     "metadata": {},
     "output_type": "display_data"
    }
   ],
   "source": [
    "display_expected_moment_evolutions(evolutions, D)"
   ]
  },
  {
   "cell_type": "markdown",
   "metadata": {},
   "source": [
    "The missing moment expressions occuring in these equations are `missing`."
   ]
  },
  {
   "cell_type": "code",
   "execution_count": 6,
   "metadata": {},
   "outputs": [
    {
     "data": {
      "text/latex": [
       "$$\\left\\{M^{0} M^{1}, {\\left(M^{0}\\right)}^{3}, M^{2}\\right\\}$$"
      ],
      "text/plain": [
       "⎧                           3              ⎫\n",
       "⎨Moment(0)⋅Moment(1), Moment (0), Moment(2)⎬\n",
       "⎩                                          ⎭"
      ]
     },
     "execution_count": 6,
     "metadata": {},
     "output_type": "execute_result"
    }
   ],
   "source": [
    "missing"
   ]
  },
  {
   "cell_type": "markdown",
   "metadata": {},
   "source": [
    "Now, we can iterate the process to also get these moments."
   ]
  },
  {
   "cell_type": "code",
   "execution_count": 7,
   "metadata": {},
   "outputs": [
    {
     "data": {
      "text/latex": [
       "$$\\frac{d}{d t} \\left< N^{3}\\right>  = \\frac{k_{C} \\left< N\\right> }{2} - 2 k_{C} \\left< N^{2}\\right>  + 3 k_{C} \\left< N^{3}\\right>  - \\frac{3 k_{C} \\left< N^{4}\\right> }{2} - k_{E} \\left< N\\right>  + 3 k_{E} \\left< N^{2}\\right>  - 3 k_{E} \\left< N^{3}\\right>  + 3 k_{F} \\left< N M^{1}\\right>  + 3 k_{F} \\left< N^{2} M^{1}\\right>  + k_{F} \\left< M^{1}\\right>  + 3 k_{I} \\left< N\\right>  + 3 k_{I} \\left< N^{2}\\right>  + k_{I}$$"
      ],
      "text/plain": [
       "                                                                              \n",
       "d ⎛           ⎛ 3⎞⎞   k_C⋅Expectation(N)                    ⎛ 2⎞              \n",
       "──⎝Expectation⎝N ⎠⎠ = ────────────────── - 2⋅k_C⋅Expectation⎝N ⎠ + 3⋅k_C⋅Expec\n",
       "dt                            2                                               \n",
       "\n",
       "                              ⎛ 4⎞                                            \n",
       "      ⎛ 3⎞   3⋅k_C⋅Expectation⎝N ⎠                                         ⎛ 2\n",
       "tation⎝N ⎠ - ───────────────────── - k_E⋅Expectation(N) + 3⋅k_E⋅Expectation⎝N \n",
       "                       2                                                      \n",
       "\n",
       "                                                                              \n",
       "⎞                    ⎛ 3⎞                                                     \n",
       "⎠ - 3⋅k_E⋅Expectation⎝N ⎠ + 3⋅k_F⋅Expectation(N⋅Moment(1)) + 3⋅k_F⋅Expectation\n",
       "                                                                              \n",
       "\n",
       "                                                                              \n",
       "⎛ 2          ⎞                                                                \n",
       "⎝N ⋅Moment(1)⎠ + k_F⋅Expectation(Moment(1)) + 3⋅k_I⋅Expectation(N) + 3⋅k_I⋅Exp\n",
       "                                                                              \n",
       "\n",
       "                  \n",
       "        ⎛ 2⎞      \n",
       "ectation⎝N ⎠ + k_I\n",
       "                  "
      ]
     },
     "metadata": {},
     "output_type": "display_data"
    },
    {
     "data": {
      "text/latex": [
       "$$\\frac{d}{d t} \\left< N M^{1}\\right>  = \\lambda k_{I} \\left< N\\right>  + \\lambda k_{I} + \\frac{k_{C} \\left< N M^{1}\\right> }{2} - \\frac{k_{C} \\left< N^{2} M^{1}\\right> }{2} - 2 k_{E} \\left< N M^{1}\\right>  + k_{E} \\left< M^{1}\\right>  + k_{F} \\left< {\\left(M^{1}\\right)}^{2}\\right>  + k_{I} \\left< M^{1}\\right> $$"
      ],
      "text/plain": [
       "                                                                              \n",
       "d                                                                         k_C⋅\n",
       "──(Expectation(N⋅Moment(1))) = \\lambda⋅k_I⋅Expectation(N) + \\lambda⋅k_I + ────\n",
       "dt                                                                            \n",
       "\n",
       "                                          ⎛ 2          ⎞                      \n",
       "Expectation(N⋅Moment(1))   k_C⋅Expectation⎝N ⋅Moment(1)⎠                      \n",
       "──────────────────────── - ───────────────────────────── - 2⋅k_E⋅Expectation(N\n",
       "         2                               2                                    \n",
       "\n",
       "                                                                              \n",
       "                                                          ⎛      2   ⎞        \n",
       "⋅Moment(1)) + k_E⋅Expectation(Moment(1)) + k_F⋅Expectation⎝Moment (1)⎠ + k_I⋅E\n",
       "                                                                              \n",
       "\n",
       "                     \n",
       "                     \n",
       "xpectation(Moment(1))\n",
       "                     "
      ]
     },
     "metadata": {},
     "output_type": "display_data"
    },
    {
     "data": {
      "text/latex": [
       "$$\\frac{d}{d t} \\left< M^{2}\\right>  = \\lambda^{2} k_{I} + \\lambda k_{I} - k_{C} \\left< N\\right>  {y}_{0}^{2} + k_{C} \\left< {\\left(M^{1}\\right)}^{2}\\right>  - k_{E} \\left< M^{2}\\right>  + \\frac{k_{F} \\left< M^{2}\\right> }{3} - \\frac{k_{F} \\left< M^{3}\\right> }{3}$$"
      ],
      "text/plain": [
       "d                                   2                                         \n",
       "──(Expectation(Moment(2))) = \\lambda ⋅k_I + \\lambda⋅k_I - k_C⋅Expectation(N)⋅y\n",
       "dt                                                                            \n",
       "\n",
       "   2                  ⎛      2   ⎞                                k_F⋅Expectat\n",
       "[0]  + k_C⋅Expectation⎝Moment (1)⎠ - k_E⋅Expectation(Moment(2)) + ────────────\n",
       "                                                                              \n",
       "\n",
       "ion(Moment(2))   k_F⋅Expectation(Moment(3))\n",
       "────────────── - ──────────────────────────\n",
       "3                            3             "
      ]
     },
     "metadata": {},
     "output_type": "display_data"
    }
   ],
   "source": [
    "(evolutions2, missing2) = compute_moment_evolutions(transitions, missing, D, provided=moments)\n",
    "display_expected_moment_evolutions(evolutions2, D)"
   ]
  },
  {
   "cell_type": "markdown",
   "metadata": {},
   "source": [
    "We get more missing moment expressions"
   ]
  },
  {
   "cell_type": "code",
   "execution_count": 9,
   "metadata": {},
   "outputs": [
    {
     "data": {
      "text/latex": [
       "$$\\left\\{{\\left(M^{0}\\right)}^{2} M^{1}, {\\left(M^{0}\\right)}^{4}, M^{3}\\right\\}$$"
      ],
      "text/plain": [
       "⎧      2                     4              ⎫\n",
       "⎨Moment (0)⋅Moment(1), Moment (0), Moment(3)⎬\n",
       "⎩                                           ⎭"
      ]
     },
     "execution_count": 9,
     "metadata": {},
     "output_type": "execute_result"
    }
   ],
   "source": [
    "missing2"
   ]
  },
  {
   "cell_type": "markdown",
   "metadata": {},
   "source": [
    "We can iterate up to the desired order of moments and then apply moment closure.\n",
    "### TODO"
   ]
  }
 ],
 "metadata": {
  "kernelspec": {
   "display_name": "Python 3",
   "language": "python",
   "name": "python3"
  },
  "language_info": {
   "codemirror_mode": {
    "name": "ipython",
    "version": 3
   },
   "file_extension": ".py",
   "mimetype": "text/x-python",
   "name": "python",
   "nbconvert_exporter": "python",
   "pygments_lexer": "ipython3",
   "version": "3.7.3"
  }
 },
 "nbformat": 4,
 "nbformat_minor": 2
}
